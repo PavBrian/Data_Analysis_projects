{
 "cells": [
  {
   "cell_type": "code",
   "execution_count": 88,
   "metadata": {},
   "outputs": [],
   "source": [
    "import pandas as pd\n",
    "from bs4 import BeautifulSoup\n",
    "import requests\n",
    "import warnings\n",
    "warnings.filterwarnings('ignore')\n",
    "import os\n",
    "import re\n",
    "import numpy as np\n",
    "import plotly.express as px\n",
    "import plotly.graph_objects as go\n",
    "from plotly.subplots import make_subplots"
   ]
  },
  {
   "cell_type": "code",
   "execution_count": 89,
   "metadata": {},
   "outputs": [],
   "source": [
    "pd.set_option('display.float_format', lambda x: '%.3f' % x)\n",
    "pd.set_option('display.max_columns', None)"
   ]
  },
  {
   "cell_type": "markdown",
   "metadata": {},
   "source": [
    "## Creating a merged DataFrame"
   ]
  },
  {
   "cell_type": "code",
   "execution_count": 90,
   "metadata": {},
   "outputs": [],
   "source": [
    "files_dir = '/Users/pavelbryantsev/Desktop/Python/KYRREX/Projects/Tokens By Category/html_files'\n",
    "df = pd.DataFrame()\n",
    "\n",
    "for file in os.listdir(files_dir):\n",
    "\n",
    "    #iterate through all files in the directory that end with .html\n",
    "    if not file.endswith('.html'):\n",
    "        continue\n",
    "\n",
    "    with open(f'{files_dir}/{file}', 'r') as f:\n",
    "        soup = BeautifulSoup(f, 'html.parser')\n",
    "        table = soup.find_all('table')[0]\n",
    "        data = pd.read_html(str(table))[0]\n",
    "        data = data.iloc[1:]\n",
    "        df = pd.concat([df, data], axis=0)\n",
    "\n",
    "def extract_string(input_str):\n",
    "    pattern = r'(\\d+)([A-Za-z]+)(\\d+)([A-Za-z]+)'\n",
    "    match = re.search(pattern, input_str)\n",
    "    if match:\n",
    "        return match.group(2), match.group(4)\n",
    "    else:\n",
    "        return None, None\n",
    "    \n",
    "df['Ticker'] = df['↑#Asset'].apply(lambda x: extract_string(x)[0])\n",
    "df['Name'] = df['↑#Asset'].apply(lambda x: extract_string(x)[1])"
   ]
  },
  {
   "cell_type": "code",
   "execution_count": 91,
   "metadata": {},
   "outputs": [],
   "source": [
    "df.reset_index(drop=True, inplace=True)"
   ]
  },
  {
   "cell_type": "code",
   "execution_count": 92,
   "metadata": {},
   "outputs": [],
   "source": [
    "data = df.copy()"
   ]
  },
  {
   "cell_type": "markdown",
   "metadata": {},
   "source": [
    "## Cleaning the data"
   ]
  },
  {
   "cell_type": "code",
   "execution_count": 93,
   "metadata": {},
   "outputs": [],
   "source": [
    "def split_string(input_str):\n",
    "    for idx, item in enumerate(input_str):\n",
    "        if item == ',':\n",
    "            return input_str[:idx+6]"
   ]
  },
  {
   "cell_type": "code",
   "execution_count": 94,
   "metadata": {},
   "outputs": [],
   "source": [
    "# function to check if the string is a number then convert it to float else nan\n",
    "\n",
    "def convert_to_float(input_str):\n",
    "    try:\n",
    "        input_str = input_str.replace('$', '').replace(',', '')\n",
    "\n",
    "        if input_str.endswith('T'):\n",
    "            input_str = input_str.replace('T', '')\n",
    "            return float(input_str[:-1]) * 10**12\n",
    "        elif input_str.endswith('B'):\n",
    "            input_str = input_str.replace('$', '')\n",
    "            return float(input_str[:-1]) * 10**9\n",
    "        elif input_str.endswith('M'):\n",
    "            input_str = input_str.replace('$', '')\n",
    "            return float(input_str[:-1]) * 10**6\n",
    "        else:\n",
    "            return float(input_str)\n",
    "        \n",
    "    except:\n",
    "        return np.nan"
   ]
  },
  {
   "cell_type": "code",
   "execution_count": 95,
   "metadata": {},
   "outputs": [],
   "source": [
    "def clean_columns(df):\n",
    "    df.columns = df.columns.str.replace('↑', '')\n",
    "    df.columns = df.columns.str.replace('#', '')\n",
    "    df.columns = df.columns.str.replace(' ', '')\n",
    "    df.columns = df.columns.str.replace('Asset', 'Token')\n",
    "    df['Price'] = df['Price'].apply(convert_to_float)\n",
    "    df['MarketCap'] = df['MarketCap'].apply(convert_to_float)\n",
    "    df['24hVolume'] = df['24hVolume'].apply(convert_to_float)\n",
    "    df['7dVolume'] = df['7dVolume'].apply(convert_to_float)\n",
    "    df['1mVolume'] = df['1mVolume'].apply(convert_to_float)\n",
    "    df['FDV'] = df['FDV'].apply(convert_to_float)\n",
    "    df['FundsRaised'] = df['FundsRaised'].apply(convert_to_float)\n",
    "    df['Price'] = df['Price'].to_numpy(dtype='float64')\n",
    "    df['24h%'] = df['24h%'].apply(lambda x: float(x.replace('%', '')))\n",
    "    df['7d%'] = df['7d%'].apply(lambda x: float(x.replace('%', '')))\n",
    "    df['1m%'] = df['1m%'].apply(lambda x: float(x.replace('%', '')) if x != '--' else np.nan)\n",
    "    df['Circ.Supply(%)'] = df['Circ.Supply(%)'].apply(lambda x: float(x.replace('%', '')))\n",
    "    df['ATH'] = df['ATH'].apply(convert_to_float)\n",
    "    df['ATHDate'] = pd.to_datetime(df['ATHDate'])\n",
    "    df['ATLDate'] = pd.to_datetime(df['ATLDate'])\n",
    "    df['%fromATH'] = df['%fromATH'].apply(lambda x: float(x.replace('%', '')))\n",
    "    df['%fromATL'] = df['%fromATL'].apply(lambda x: float(x.replace('%', '')))\n",
    "    df['USDROI'] = df['USDROI'].apply(lambda x: float(x.replace('x', '') if x.endswith('x') else np.nan))\n",
    "    df['ytd'] = df['ytd'].apply(lambda x: int(x) if x != '--' else 0)\n",
    "    df['3y'] = df['3y'].apply(lambda x: int(x) if x != '--' else 0)\n",
    "    df['2y'] = df['2y'].apply(lambda x: int(x) if x != '--' else 0)\n",
    "    df['1y'] = df['1y'].apply(lambda x: int(x) if x != '--' else 0)\n",
    "    df['6m'] = df['6m'].apply(lambda x: int(x) if x != '--' else 0)\n",
    "    df['1m'] = df['1m'].apply(lambda x: int(x) if x != '--' else 0)\n",
    "    df['ICOPlatform'] = df['ICOPlatform'].apply(lambda x: int(x.replace('+', '')) if isinstance(x, str) and x != '--' and x != np.nan else np.nan)\n",
    "    df['Investors'] = df['Investors'].apply(lambda x: int(x.replace('+', '')) if isinstance(x, str) and x != '--' and x != np.nan else np.nan)\n",
    "    df['Exchanges'] = df['Exchanges'].apply(lambda x: int(x.replace('+', '')) if isinstance(x, str) and x != '--' and x != np.nan else np.nan)\n",
    "    df['TwitterPerformance'] = pd.to_numeric(df['TwitterPerformance'], errors='coerce')\n",
    "    df.rename(columns={'Circ.Supply(%)': 'CircSupply(%)', 'USDROI': 'USDROI(x)', }, inplace=True) \n",
    "    df.drop(columns=['Unnamed:0'], inplace=True)\n",
    "    df['TradeLaunchDate'] = df['TradeLaunchDate'].apply(lambda x: split_string(x) if x != '--' else np.nan)\n",
    "    df['TradeLaunchDate'] = pd.to_datetime(df['TradeLaunchDate'], errors='coerce')\n",
    "\n",
    "    df['days_from_TGE'] = (pd.to_datetime('today') - df['TradeLaunchDate']).dt.days\n",
    "\n",
    "    df = df[['Name', 'Ticker', 'Price', '24h%', '7d%', '1m%', 'MarketCap', 'FDV', '24hVolume',\n",
    "             'CircSupply(%)', 'FundsRaised', 'Category', 'ytd', '3y', '2y', '1y',\n",
    "             '6m', '1m', '7dVolume', '1mVolume', 'ATH', 'ATHDate', '%fromATH',\n",
    "             'ATLDate', '%fromATL', 'ICOPlatform', 'Investors', 'USDROI(x)',\n",
    "             'UnlockProgress', 'NextUnlock', 'NextUnlockDate', 'Exchanges',\n",
    "             'TwitterFollowers', 'TwitterPerformance', 'BullishPeriod',\n",
    "             'AccumulationPhase', 'TradeLaunchDate', 'days_from_TGE', 'CertikScore', 'Token']]\n",
    "    \n",
    "    # drop duplicates\n",
    "    df.drop_duplicates(subset='Name', inplace=True)\n",
    "    return df"
   ]
  },
  {
   "cell_type": "code",
   "execution_count": 96,
   "metadata": {},
   "outputs": [],
   "source": [
    "data = clean_columns(data)"
   ]
  },
  {
   "cell_type": "code",
   "execution_count": 97,
   "metadata": {},
   "outputs": [],
   "source": [
    "cols = ['FDV', 'MarketCap', 'FundsRaised', '24hVolume', '7dVolume', '1mVolume']\n",
    "data[cols] = data[cols] / 10**9\n",
    "data.columns = data.columns.str.replace('MarketCap', 'MarketCap(Bln)')"
   ]
  },
  {
   "cell_type": "code",
   "execution_count": 98,
   "metadata": {},
   "outputs": [],
   "source": [
    "data = data.sort_values(by='MarketCap(Bln)', ascending=False).reset_index(drop=True)"
   ]
  },
  {
   "cell_type": "markdown",
   "metadata": {},
   "source": [
    "### Grouping by category"
   ]
  },
  {
   "cell_type": "code",
   "execution_count": 99,
   "metadata": {},
   "outputs": [
    {
     "data": {
      "text/html": [
       "<div>\n",
       "<style scoped>\n",
       "    .dataframe tbody tr th:only-of-type {\n",
       "        vertical-align: middle;\n",
       "    }\n",
       "\n",
       "    .dataframe tbody tr th {\n",
       "        vertical-align: top;\n",
       "    }\n",
       "\n",
       "    .dataframe thead th {\n",
       "        text-align: right;\n",
       "    }\n",
       "</style>\n",
       "<table border=\"1\" class=\"dataframe\">\n",
       "  <thead>\n",
       "    <tr style=\"text-align: right;\">\n",
       "      <th></th>\n",
       "      <th>Category</th>\n",
       "      <th>Price</th>\n",
       "      <th>MarketCap(Bln)</th>\n",
       "      <th>FDV</th>\n",
       "      <th>24hVolume</th>\n",
       "      <th>7dVolume</th>\n",
       "      <th>1mVolume</th>\n",
       "      <th>FundsRaised</th>\n",
       "      <th>ICOPlatform</th>\n",
       "      <th>Investors</th>\n",
       "      <th>USDROI(x)</th>\n",
       "      <th>Exchanges</th>\n",
       "      <th>TwitterPerformance</th>\n",
       "    </tr>\n",
       "    <tr>\n",
       "      <th>Category</th>\n",
       "      <th></th>\n",
       "      <th></th>\n",
       "      <th></th>\n",
       "      <th></th>\n",
       "      <th></th>\n",
       "      <th></th>\n",
       "      <th></th>\n",
       "      <th></th>\n",
       "      <th></th>\n",
       "      <th></th>\n",
       "      <th></th>\n",
       "      <th></th>\n",
       "      <th></th>\n",
       "    </tr>\n",
       "  </thead>\n",
       "  <tbody>\n",
       "    <tr>\n",
       "      <th>Blockchain</th>\n",
       "      <td>96</td>\n",
       "      <td>66.803</td>\n",
       "      <td>230.872</td>\n",
       "      <td>311.955</td>\n",
       "      <td>6.726</td>\n",
       "      <td>45.706</td>\n",
       "      <td>162.733</td>\n",
       "      <td>9.157</td>\n",
       "      <td>2.000</td>\n",
       "      <td>12.237</td>\n",
       "      <td>2.270</td>\n",
       "      <td>22.817</td>\n",
       "      <td>496.000</td>\n",
       "    </tr>\n",
       "    <tr>\n",
       "      <th>Stablecoin</th>\n",
       "      <td>36</td>\n",
       "      <td>0.900</td>\n",
       "      <td>136.485</td>\n",
       "      <td>138.446</td>\n",
       "      <td>52.992</td>\n",
       "      <td>395.606</td>\n",
       "      <td>1289.625</td>\n",
       "      <td>0.040</td>\n",
       "      <td>NaN</td>\n",
       "      <td>6.500</td>\n",
       "      <td>NaN</td>\n",
       "      <td>18.667</td>\n",
       "      <td>430.000</td>\n",
       "    </tr>\n",
       "    <tr>\n",
       "      <th>Cryptocurrency</th>\n",
       "      <td>53</td>\n",
       "      <td>1.913</td>\n",
       "      <td>52.141</td>\n",
       "      <td>78.468</td>\n",
       "      <td>0.896</td>\n",
       "      <td>6.698</td>\n",
       "      <td>23.060</td>\n",
       "      <td>0.390</td>\n",
       "      <td>3.000</td>\n",
       "      <td>10.800</td>\n",
       "      <td>0.210</td>\n",
       "      <td>9.111</td>\n",
       "      <td>143.000</td>\n",
       "    </tr>\n",
       "    <tr>\n",
       "      <th>DeFi</th>\n",
       "      <td>267</td>\n",
       "      <td>119.175</td>\n",
       "      <td>46.587</td>\n",
       "      <td>56.976</td>\n",
       "      <td>0.775</td>\n",
       "      <td>5.544</td>\n",
       "      <td>18.436</td>\n",
       "      <td>1.194</td>\n",
       "      <td>1.000</td>\n",
       "      <td>7.024</td>\n",
       "      <td>0.520</td>\n",
       "      <td>9.928</td>\n",
       "      <td>413.000</td>\n",
       "    </tr>\n",
       "    <tr>\n",
       "      <th>CEX</th>\n",
       "      <td>19</td>\n",
       "      <td>4.203</td>\n",
       "      <td>21.883</td>\n",
       "      <td>30.281</td>\n",
       "      <td>0.058</td>\n",
       "      <td>0.419</td>\n",
       "      <td>1.688</td>\n",
       "      <td>1.398</td>\n",
       "      <td>1.000</td>\n",
       "      <td>6.571</td>\n",
       "      <td>3.820</td>\n",
       "      <td>11.200</td>\n",
       "      <td>476.000</td>\n",
       "    </tr>\n",
       "    <tr>\n",
       "      <th>...</th>\n",
       "      <td>...</td>\n",
       "      <td>...</td>\n",
       "      <td>...</td>\n",
       "      <td>...</td>\n",
       "      <td>...</td>\n",
       "      <td>...</td>\n",
       "      <td>...</td>\n",
       "      <td>...</td>\n",
       "      <td>...</td>\n",
       "      <td>...</td>\n",
       "      <td>...</td>\n",
       "      <td>...</td>\n",
       "      <td>...</td>\n",
       "    </tr>\n",
       "    <tr>\n",
       "      <th>Yearn Ecosystem</th>\n",
       "      <td>1</td>\n",
       "      <td>0.008</td>\n",
       "      <td>0.000</td>\n",
       "      <td>0.000</td>\n",
       "      <td>0.000</td>\n",
       "      <td>0.000</td>\n",
       "      <td>0.000</td>\n",
       "      <td>0.000</td>\n",
       "      <td>NaN</td>\n",
       "      <td>NaN</td>\n",
       "      <td>NaN</td>\n",
       "      <td>1.000</td>\n",
       "      <td>NaN</td>\n",
       "    </tr>\n",
       "    <tr>\n",
       "      <th>Aptos Ecosystem</th>\n",
       "      <td>1</td>\n",
       "      <td>0.001</td>\n",
       "      <td>0.000</td>\n",
       "      <td>0.001</td>\n",
       "      <td>0.000</td>\n",
       "      <td>0.000</td>\n",
       "      <td>0.001</td>\n",
       "      <td>0.000</td>\n",
       "      <td>NaN</td>\n",
       "      <td>NaN</td>\n",
       "      <td>NaN</td>\n",
       "      <td>NaN</td>\n",
       "      <td>131.000</td>\n",
       "    </tr>\n",
       "    <tr>\n",
       "      <th>NFT Index</th>\n",
       "      <td>1</td>\n",
       "      <td>0.544</td>\n",
       "      <td>0.000</td>\n",
       "      <td>0.000</td>\n",
       "      <td>0.000</td>\n",
       "      <td>0.000</td>\n",
       "      <td>0.000</td>\n",
       "      <td>0.000</td>\n",
       "      <td>NaN</td>\n",
       "      <td>NaN</td>\n",
       "      <td>NaN</td>\n",
       "      <td>NaN</td>\n",
       "      <td>34.000</td>\n",
       "    </tr>\n",
       "    <tr>\n",
       "      <th>Marketing</th>\n",
       "      <td>1</td>\n",
       "      <td>0.002</td>\n",
       "      <td>0.000</td>\n",
       "      <td>0.000</td>\n",
       "      <td>0.000</td>\n",
       "      <td>0.000</td>\n",
       "      <td>0.000</td>\n",
       "      <td>0.000</td>\n",
       "      <td>NaN</td>\n",
       "      <td>NaN</td>\n",
       "      <td>0.010</td>\n",
       "      <td>NaN</td>\n",
       "      <td>431.000</td>\n",
       "    </tr>\n",
       "    <tr>\n",
       "      <th>Impossible Finance Launchpad</th>\n",
       "      <td>1</td>\n",
       "      <td>0.002</td>\n",
       "      <td>0.000</td>\n",
       "      <td>0.002</td>\n",
       "      <td>0.000</td>\n",
       "      <td>0.000</td>\n",
       "      <td>0.000</td>\n",
       "      <td>0.002</td>\n",
       "      <td>NaN</td>\n",
       "      <td>11.000</td>\n",
       "      <td>0.060</td>\n",
       "      <td>NaN</td>\n",
       "      <td>142.000</td>\n",
       "    </tr>\n",
       "  </tbody>\n",
       "</table>\n",
       "<p>119 rows × 13 columns</p>\n",
       "</div>"
      ],
      "text/plain": [
       "                              Category   Price  MarketCap(Bln)     FDV  \\\n",
       "Category                                                                 \n",
       "Blockchain                          96  66.803         230.872 311.955   \n",
       "Stablecoin                          36   0.900         136.485 138.446   \n",
       "Cryptocurrency                      53   1.913          52.141  78.468   \n",
       "DeFi                               267 119.175          46.587  56.976   \n",
       "CEX                                 19   4.203          21.883  30.281   \n",
       "...                                ...     ...             ...     ...   \n",
       "Yearn Ecosystem                      1   0.008           0.000   0.000   \n",
       "Aptos Ecosystem                      1   0.001           0.000   0.001   \n",
       "NFT Index                            1   0.544           0.000   0.000   \n",
       "Marketing                            1   0.002           0.000   0.000   \n",
       "Impossible Finance Launchpad         1   0.002           0.000   0.002   \n",
       "\n",
       "                              24hVolume  7dVolume  1mVolume  FundsRaised  \\\n",
       "Category                                                                   \n",
       "Blockchain                        6.726    45.706   162.733        9.157   \n",
       "Stablecoin                       52.992   395.606  1289.625        0.040   \n",
       "Cryptocurrency                    0.896     6.698    23.060        0.390   \n",
       "DeFi                              0.775     5.544    18.436        1.194   \n",
       "CEX                               0.058     0.419     1.688        1.398   \n",
       "...                                 ...       ...       ...          ...   \n",
       "Yearn Ecosystem                   0.000     0.000     0.000        0.000   \n",
       "Aptos Ecosystem                   0.000     0.000     0.001        0.000   \n",
       "NFT Index                         0.000     0.000     0.000        0.000   \n",
       "Marketing                         0.000     0.000     0.000        0.000   \n",
       "Impossible Finance Launchpad      0.000     0.000     0.000        0.002   \n",
       "\n",
       "                              ICOPlatform  Investors  USDROI(x)  Exchanges  \\\n",
       "Category                                                                     \n",
       "Blockchain                          2.000     12.237      2.270     22.817   \n",
       "Stablecoin                            NaN      6.500        NaN     18.667   \n",
       "Cryptocurrency                      3.000     10.800      0.210      9.111   \n",
       "DeFi                                1.000      7.024      0.520      9.928   \n",
       "CEX                                 1.000      6.571      3.820     11.200   \n",
       "...                                   ...        ...        ...        ...   \n",
       "Yearn Ecosystem                       NaN        NaN        NaN      1.000   \n",
       "Aptos Ecosystem                       NaN        NaN        NaN        NaN   \n",
       "NFT Index                             NaN        NaN        NaN        NaN   \n",
       "Marketing                             NaN        NaN      0.010        NaN   \n",
       "Impossible Finance Launchpad          NaN     11.000      0.060        NaN   \n",
       "\n",
       "                              TwitterPerformance  \n",
       "Category                                          \n",
       "Blockchain                               496.000  \n",
       "Stablecoin                               430.000  \n",
       "Cryptocurrency                           143.000  \n",
       "DeFi                                     413.000  \n",
       "CEX                                      476.000  \n",
       "...                                          ...  \n",
       "Yearn Ecosystem                              NaN  \n",
       "Aptos Ecosystem                          131.000  \n",
       "NFT Index                                 34.000  \n",
       "Marketing                                431.000  \n",
       "Impossible Finance Launchpad             142.000  \n",
       "\n",
       "[119 rows x 13 columns]"
      ]
     },
     "execution_count": 99,
     "metadata": {},
     "output_type": "execute_result"
    }
   ],
   "source": [
    "cat_exploring = data.loc[data['Category'] != '--'].groupby('Category').agg({'Category': 'count',\n",
    "                              'Price': 'mean', \n",
    "                              'MarketCap(Bln)': 'sum', \n",
    "                              'FDV': 'sum', \n",
    "                              '24hVolume': 'sum', \n",
    "                              '7dVolume': 'sum', \n",
    "                              '1mVolume': 'sum', \n",
    "                              'FundsRaised': 'sum', \n",
    "                              'ICOPlatform': 'mean', \n",
    "                              'Investors': 'mean', \n",
    "                              'USDROI(x)': 'median', \n",
    "                              'Exchanges': 'mean',  \n",
    "                              'TwitterPerformance': 'median', \n",
    "                              }).sort_values(by='MarketCap(Bln)', ascending=False)\n",
    "cat_exploring"
   ]
  },
  {
   "cell_type": "markdown",
   "metadata": {},
   "source": [
    "## Lets have a look how the ranking of different sectors has changed over the year "
   ]
  },
  {
   "cell_type": "markdown",
   "metadata": {},
   "source": [
    "Will filter tokens that have capitalization over 30 million to minimize shitcoins outlaiers "
   ]
  },
  {
   "cell_type": "code",
   "execution_count": 100,
   "metadata": {},
   "outputs": [
    {
     "data": {
      "text/html": [
       "<style type=\"text/css\">\n",
       "#T_f7234_row0_col4, #T_f7234_row2_col7 {\n",
       "  background-color: #474763;\n",
       "  color: #f1f1f1;\n",
       "}\n",
       "#T_f7234_row0_col5, #T_f7234_row4_col10, #T_f7234_row13_col11 {\n",
       "  background-color: #535473;\n",
       "  color: #f1f1f1;\n",
       "}\n",
       "#T_f7234_row0_col6 {\n",
       "  background-color: #555675;\n",
       "  color: #f1f1f1;\n",
       "}\n",
       "#T_f7234_row0_col7, #T_f7234_row2_col9 {\n",
       "  background-color: #565776;\n",
       "  color: #f1f1f1;\n",
       "}\n",
       "#T_f7234_row0_col8 {\n",
       "  background-color: #575976;\n",
       "  color: #f1f1f1;\n",
       "}\n",
       "#T_f7234_row0_col9 {\n",
       "  background-color: #5b5f7b;\n",
       "  color: #f1f1f1;\n",
       "}\n",
       "#T_f7234_row0_col10 {\n",
       "  background-color: #646b84;\n",
       "  color: #f1f1f1;\n",
       "}\n",
       "#T_f7234_row0_col11, #T_f7234_row1_col11 {\n",
       "  background-color: #748194;\n",
       "  color: #f1f1f1;\n",
       "}\n",
       "#T_f7234_row1_col4, #T_f7234_row6_col5, #T_f7234_row15_col8 {\n",
       "  background-color: #37374d;\n",
       "  color: #f1f1f1;\n",
       "}\n",
       "#T_f7234_row1_col5, #T_f7234_row6_col6, #T_f7234_row12_col8, #T_f7234_row13_col8 {\n",
       "  background-color: #3d3d55;\n",
       "  color: #f1f1f1;\n",
       "}\n",
       "#T_f7234_row1_col6, #T_f7234_row2_col5, #T_f7234_row6_col7, #T_f7234_row7_col7, #T_f7234_row8_col8, #T_f7234_row9_col8, #T_f7234_row12_col9 {\n",
       "  background-color: #42425b;\n",
       "  color: #f1f1f1;\n",
       "}\n",
       "#T_f7234_row1_col7, #T_f7234_row4_col8, #T_f7234_row6_col9 {\n",
       "  background-color: #484864;\n",
       "  color: #f1f1f1;\n",
       "}\n",
       "#T_f7234_row1_col8 {\n",
       "  background-color: #4d4d6b;\n",
       "  color: #f1f1f1;\n",
       "}\n",
       "#T_f7234_row1_col9, #T_f7234_row8_col11 {\n",
       "  background-color: #50506f;\n",
       "  color: #f1f1f1;\n",
       "}\n",
       "#T_f7234_row1_col10, #T_f7234_row6_col11, #T_f7234_row9_col11 {\n",
       "  background-color: #585b78;\n",
       "  color: #f1f1f1;\n",
       "}\n",
       "#T_f7234_row2_col4, #T_f7234_row10_col4 {\n",
       "  background-color: #35354a;\n",
       "  color: #f1f1f1;\n",
       "}\n",
       "#T_f7234_row2_col6, #T_f7234_row4_col7, #T_f7234_row13_col10 {\n",
       "  background-color: #464661;\n",
       "  color: #f1f1f1;\n",
       "}\n",
       "#T_f7234_row2_col8, #T_f7234_row9_col10 {\n",
       "  background-color: #4c4c6a;\n",
       "  color: #f1f1f1;\n",
       "}\n",
       "#T_f7234_row2_col10 {\n",
       "  background-color: #616781;\n",
       "  color: #f1f1f1;\n",
       "}\n",
       "#T_f7234_row2_col11 {\n",
       "  background-color: #6c758b;\n",
       "  color: #f1f1f1;\n",
       "}\n",
       "#T_f7234_row3_col4, #T_f7234_row11_col5, #T_f7234_row14_col7 {\n",
       "  background-color: #3a3a50;\n",
       "  color: #f1f1f1;\n",
       "}\n",
       "#T_f7234_row3_col5, #T_f7234_row10_col7, #T_f7234_row10_col8, #T_f7234_row11_col9, #T_f7234_row13_col9 {\n",
       "  background-color: #3f3f58;\n",
       "  color: #f1f1f1;\n",
       "}\n",
       "#T_f7234_row3_col6, #T_f7234_row4_col5, #T_f7234_row7_col8, #T_f7234_row7_col9, #T_f7234_row8_col9, #T_f7234_row10_col11, #T_f7234_row12_col10, #T_f7234_row14_col9 {\n",
       "  background-color: #42425d;\n",
       "  color: #f1f1f1;\n",
       "}\n",
       "#T_f7234_row3_col7, #T_f7234_row4_col6, #T_f7234_row7_col10, #T_f7234_row8_col10 {\n",
       "  background-color: #43435e;\n",
       "  color: #f1f1f1;\n",
       "}\n",
       "#T_f7234_row3_col8 {\n",
       "  background-color: #4a4966;\n",
       "  color: #f1f1f1;\n",
       "}\n",
       "#T_f7234_row3_col9 {\n",
       "  background-color: #595c79;\n",
       "  color: #f1f1f1;\n",
       "}\n",
       "#T_f7234_row3_col10 {\n",
       "  background-color: #6e798e;\n",
       "  color: #f1f1f1;\n",
       "}\n",
       "#T_f7234_row3_col11 {\n",
       "  background-color: #8192a0;\n",
       "  color: #f1f1f1;\n",
       "}\n",
       "#T_f7234_row4_col4, #T_f7234_row8_col4, #T_f7234_row11_col4, #T_f7234_row13_col7, #T_f7234_row14_col5 {\n",
       "  background-color: #36364b;\n",
       "  color: #f1f1f1;\n",
       "}\n",
       "#T_f7234_row4_col9, #T_f7234_row12_col11 {\n",
       "  background-color: #4a4a67;\n",
       "  color: #f1f1f1;\n",
       "}\n",
       "#T_f7234_row4_col11 {\n",
       "  background-color: #ffffff;\n",
       "  color: #000000;\n",
       "}\n",
       "#T_f7234_row5_col4, #T_f7234_row9_col5 {\n",
       "  background-color: #2e2e41;\n",
       "  color: #f1f1f1;\n",
       "}\n",
       "#T_f7234_row5_col5 {\n",
       "  background-color: #343449;\n",
       "  color: #f1f1f1;\n",
       "}\n",
       "#T_f7234_row5_col6, #T_f7234_row12_col6, #T_f7234_row12_col7, #T_f7234_row14_col6 {\n",
       "  background-color: #38384e;\n",
       "  color: #f1f1f1;\n",
       "}\n",
       "#T_f7234_row5_col7, #T_f7234_row8_col7, #T_f7234_row10_col9 {\n",
       "  background-color: #404059;\n",
       "  color: #f1f1f1;\n",
       "}\n",
       "#T_f7234_row5_col8, #T_f7234_row6_col8 {\n",
       "  background-color: #44445f;\n",
       "  color: #f1f1f1;\n",
       "}\n",
       "#T_f7234_row5_col9 {\n",
       "  background-color: #515171;\n",
       "  color: #f1f1f1;\n",
       "}\n",
       "#T_f7234_row5_col10 {\n",
       "  background-color: #606680;\n",
       "  color: #f1f1f1;\n",
       "}\n",
       "#T_f7234_row5_col11 {\n",
       "  background-color: #666e86;\n",
       "  color: #f1f1f1;\n",
       "}\n",
       "#T_f7234_row6_col4, #T_f7234_row12_col5, #T_f7234_row14_col4 {\n",
       "  background-color: #333347;\n",
       "  color: #f1f1f1;\n",
       "}\n",
       "#T_f7234_row6_col10 {\n",
       "  background-color: #4e4e6c;\n",
       "  color: #f1f1f1;\n",
       "}\n",
       "#T_f7234_row7_col4 {\n",
       "  background-color: #262636;\n",
       "  color: #f1f1f1;\n",
       "}\n",
       "#T_f7234_row7_col5 {\n",
       "  background-color: #343448;\n",
       "  color: #f1f1f1;\n",
       "}\n",
       "#T_f7234_row7_col6, #T_f7234_row9_col6 {\n",
       "  background-color: #39394f;\n",
       "  color: #f1f1f1;\n",
       "}\n",
       "#T_f7234_row7_col11 {\n",
       "  background-color: #636983;\n",
       "  color: #f1f1f1;\n",
       "}\n",
       "#T_f7234_row8_col5, #T_f7234_row10_col5, #T_f7234_row11_col7, #T_f7234_row15_col10 {\n",
       "  background-color: #3c3c54;\n",
       "  color: #f1f1f1;\n",
       "}\n",
       "#T_f7234_row8_col6, #T_f7234_row9_col7, #T_f7234_row10_col6, #T_f7234_row11_col8, #T_f7234_row15_col11 {\n",
       "  background-color: #3e3e56;\n",
       "  color: #f1f1f1;\n",
       "}\n",
       "#T_f7234_row9_col4 {\n",
       "  background-color: #111117;\n",
       "  color: #f1f1f1;\n",
       "}\n",
       "#T_f7234_row9_col9, #T_f7234_row11_col11 {\n",
       "  background-color: #454560;\n",
       "  color: #f1f1f1;\n",
       "}\n",
       "#T_f7234_row10_col10, #T_f7234_row11_col10 {\n",
       "  background-color: #41415a;\n",
       "  color: #f1f1f1;\n",
       "}\n",
       "#T_f7234_row11_col6 {\n",
       "  background-color: #3b3b52;\n",
       "  color: #f1f1f1;\n",
       "}\n",
       "#T_f7234_row12_col4 {\n",
       "  background-color: #2d2d3e;\n",
       "  color: #f1f1f1;\n",
       "}\n",
       "#T_f7234_row13_col4 {\n",
       "  background-color: #000000;\n",
       "  color: #f1f1f1;\n",
       "}\n",
       "#T_f7234_row13_col5, #T_f7234_row15_col4 {\n",
       "  background-color: #22222f;\n",
       "  color: #f1f1f1;\n",
       "}\n",
       "#T_f7234_row13_col6 {\n",
       "  background-color: #2c2c3d;\n",
       "  color: #f1f1f1;\n",
       "}\n",
       "#T_f7234_row14_col8, #T_f7234_row15_col9 {\n",
       "  background-color: #3c3b53;\n",
       "  color: #f1f1f1;\n",
       "}\n",
       "#T_f7234_row14_col10 {\n",
       "  background-color: #4f4f6e;\n",
       "  color: #f1f1f1;\n",
       "}\n",
       "#T_f7234_row14_col11 {\n",
       "  background-color: #676f87;\n",
       "  color: #f1f1f1;\n",
       "}\n",
       "#T_f7234_row15_col5 {\n",
       "  background-color: #2a2a3a;\n",
       "  color: #f1f1f1;\n",
       "}\n",
       "#T_f7234_row15_col6 {\n",
       "  background-color: #2e2d3f;\n",
       "  color: #f1f1f1;\n",
       "}\n",
       "#T_f7234_row15_col7 {\n",
       "  background-color: #313144;\n",
       "  color: #f1f1f1;\n",
       "}\n",
       "</style>\n",
       "<table id=\"T_f7234\">\n",
       "  <thead>\n",
       "    <tr>\n",
       "      <th class=\"blank level0\" >&nbsp;</th>\n",
       "      <th id=\"T_f7234_level0_col0\" class=\"col_heading level0 col0\" >count</th>\n",
       "      <th id=\"T_f7234_level0_col1\" class=\"col_heading level0 col1\" >mean</th>\n",
       "      <th id=\"T_f7234_level0_col2\" class=\"col_heading level0 col2\" >std</th>\n",
       "      <th id=\"T_f7234_level0_col3\" class=\"col_heading level0 col3\" >min</th>\n",
       "      <th id=\"T_f7234_level0_col4\" class=\"col_heading level0 col4\" >10%</th>\n",
       "      <th id=\"T_f7234_level0_col5\" class=\"col_heading level0 col5\" >20%</th>\n",
       "      <th id=\"T_f7234_level0_col6\" class=\"col_heading level0 col6\" >30%</th>\n",
       "      <th id=\"T_f7234_level0_col7\" class=\"col_heading level0 col7\" >40%</th>\n",
       "      <th id=\"T_f7234_level0_col8\" class=\"col_heading level0 col8\" >50%</th>\n",
       "      <th id=\"T_f7234_level0_col9\" class=\"col_heading level0 col9\" >60%</th>\n",
       "      <th id=\"T_f7234_level0_col10\" class=\"col_heading level0 col10\" >70%</th>\n",
       "      <th id=\"T_f7234_level0_col11\" class=\"col_heading level0 col11\" >80%</th>\n",
       "      <th id=\"T_f7234_level0_col12\" class=\"col_heading level0 col12\" >90%</th>\n",
       "      <th id=\"T_f7234_level0_col13\" class=\"col_heading level0 col13\" >max</th>\n",
       "    </tr>\n",
       "    <tr>\n",
       "      <th class=\"index_name level0\" >Category</th>\n",
       "      <th class=\"blank col0\" >&nbsp;</th>\n",
       "      <th class=\"blank col1\" >&nbsp;</th>\n",
       "      <th class=\"blank col2\" >&nbsp;</th>\n",
       "      <th class=\"blank col3\" >&nbsp;</th>\n",
       "      <th class=\"blank col4\" >&nbsp;</th>\n",
       "      <th class=\"blank col5\" >&nbsp;</th>\n",
       "      <th class=\"blank col6\" >&nbsp;</th>\n",
       "      <th class=\"blank col7\" >&nbsp;</th>\n",
       "      <th class=\"blank col8\" >&nbsp;</th>\n",
       "      <th class=\"blank col9\" >&nbsp;</th>\n",
       "      <th class=\"blank col10\" >&nbsp;</th>\n",
       "      <th class=\"blank col11\" >&nbsp;</th>\n",
       "      <th class=\"blank col12\" >&nbsp;</th>\n",
       "      <th class=\"blank col13\" >&nbsp;</th>\n",
       "    </tr>\n",
       "  </thead>\n",
       "  <tbody>\n",
       "    <tr>\n",
       "      <th id=\"T_f7234_level0_row0\" class=\"row_heading level0 row0\" >Artificial Intelligence (AI)</th>\n",
       "      <td id=\"T_f7234_row0_col0\" class=\"data row0 col0\" >7.0</td>\n",
       "      <td id=\"T_f7234_row0_col1\" class=\"data row0 col1\" >175.6</td>\n",
       "      <td id=\"T_f7234_row0_col2\" class=\"data row0 col2\" >321.2</td>\n",
       "      <td id=\"T_f7234_row0_col3\" class=\"data row0 col3\" >-39.0</td>\n",
       "      <td id=\"T_f7234_row0_col4\" class=\"data row0 col4\" >11.4</td>\n",
       "      <td id=\"T_f7234_row0_col5\" class=\"data row0 col5\" >46.0</td>\n",
       "      <td id=\"T_f7234_row0_col6\" class=\"data row0 col6\" >49.0</td>\n",
       "      <td id=\"T_f7234_row0_col7\" class=\"data row0 col7\" >51.6</td>\n",
       "      <td id=\"T_f7234_row0_col8\" class=\"data row0 col8\" >54.0</td>\n",
       "      <td id=\"T_f7234_row0_col9\" class=\"data row0 col9\" >66.6</td>\n",
       "      <td id=\"T_f7234_row0_col10\" class=\"data row0 col10\" >90.2</td>\n",
       "      <td id=\"T_f7234_row0_col11\" class=\"data row0 col11\" >135.8</td>\n",
       "      <td id=\"T_f7234_row0_col12\" class=\"data row0 col12\" >447.8</td>\n",
       "      <td id=\"T_f7234_row0_col13\" class=\"data row0 col13\" >893.0</td>\n",
       "    </tr>\n",
       "    <tr>\n",
       "      <th id=\"T_f7234_level0_row1\" class=\"row_heading level0 row1\" >DEX</th>\n",
       "      <td id=\"T_f7234_row1_col0\" class=\"data row1 col0\" >13.0</td>\n",
       "      <td id=\"T_f7234_row1_col1\" class=\"data row1 col1\" >598.2</td>\n",
       "      <td id=\"T_f7234_row1_col2\" class=\"data row1 col2\" >1912.1</td>\n",
       "      <td id=\"T_f7234_row1_col3\" class=\"data row1 col3\" >-115.0</td>\n",
       "      <td id=\"T_f7234_row1_col4\" class=\"data row1 col4\" >-33.0</td>\n",
       "      <td id=\"T_f7234_row1_col5\" class=\"data row1 col5\" >-14.2</td>\n",
       "      <td id=\"T_f7234_row1_col6\" class=\"data row1 col6\" >-4.0</td>\n",
       "      <td id=\"T_f7234_row1_col7\" class=\"data row1 col7\" >14.4</td>\n",
       "      <td id=\"T_f7234_row1_col8\" class=\"data row1 col8\" >28.0</td>\n",
       "      <td id=\"T_f7234_row1_col9\" class=\"data row1 col9\" >34.6</td>\n",
       "      <td id=\"T_f7234_row1_col10\" class=\"data row1 col10\" >58.6</td>\n",
       "      <td id=\"T_f7234_row1_col11\" class=\"data row1 col11\" >137.2</td>\n",
       "      <td id=\"T_f7234_row1_col12\" class=\"data row1 col12\" >551.2</td>\n",
       "      <td id=\"T_f7234_row1_col13\" class=\"data row1 col13\" >6932.0</td>\n",
       "    </tr>\n",
       "    <tr>\n",
       "      <th id=\"T_f7234_level0_row2\" class=\"row_heading level0 row2\" >Infrastructure</th>\n",
       "      <td id=\"T_f7234_row2_col0\" class=\"data row2 col0\" >11.0</td>\n",
       "      <td id=\"T_f7234_row2_col1\" class=\"data row2 col1\" >50.0</td>\n",
       "      <td id=\"T_f7234_row2_col2\" class=\"data row2 col2\" >76.5</td>\n",
       "      <td id=\"T_f7234_row2_col3\" class=\"data row2 col3\" >-46.0</td>\n",
       "      <td id=\"T_f7234_row2_col4\" class=\"data row2 col4\" >-38.0</td>\n",
       "      <td id=\"T_f7234_row2_col5\" class=\"data row2 col5\" >-4.0</td>\n",
       "      <td id=\"T_f7234_row2_col6\" class=\"data row2 col6\" >9.0</td>\n",
       "      <td id=\"T_f7234_row2_col7\" class=\"data row2 col7\" >11.0</td>\n",
       "      <td id=\"T_f7234_row2_col8\" class=\"data row2 col8\" >26.0</td>\n",
       "      <td id=\"T_f7234_row2_col9\" class=\"data row2 col9\" >52.0</td>\n",
       "      <td id=\"T_f7234_row2_col10\" class=\"data row2 col10\" >84.0</td>\n",
       "      <td id=\"T_f7234_row2_col11\" class=\"data row2 col11\" >113.0</td>\n",
       "      <td id=\"T_f7234_row2_col12\" class=\"data row2 col12\" >162.0</td>\n",
       "      <td id=\"T_f7234_row2_col13\" class=\"data row2 col13\" >181.0</td>\n",
       "    </tr>\n",
       "    <tr>\n",
       "      <th id=\"T_f7234_level0_row3\" class=\"row_heading level0 row3\" >Blockchain Service</th>\n",
       "      <td id=\"T_f7234_row3_col0\" class=\"data row3 col0\" >12.0</td>\n",
       "      <td id=\"T_f7234_row3_col1\" class=\"data row3 col1\" >399.8</td>\n",
       "      <td id=\"T_f7234_row3_col2\" class=\"data row3 col2\" >1175.8</td>\n",
       "      <td id=\"T_f7234_row3_col3\" class=\"data row3 col3\" >-52.0</td>\n",
       "      <td id=\"T_f7234_row3_col4\" class=\"data row3 col4\" >-23.9</td>\n",
       "      <td id=\"T_f7234_row3_col5\" class=\"data row3 col5\" >-11.6</td>\n",
       "      <td id=\"T_f7234_row3_col6\" class=\"data row3 col6\" >-2.0</td>\n",
       "      <td id=\"T_f7234_row3_col7\" class=\"data row3 col7\" >1.6</td>\n",
       "      <td id=\"T_f7234_row3_col8\" class=\"data row3 col8\" >19.5</td>\n",
       "      <td id=\"T_f7234_row3_col9\" class=\"data row3 col9\" >62.6</td>\n",
       "      <td id=\"T_f7234_row3_col10\" class=\"data row3 col10\" >120.1</td>\n",
       "      <td id=\"T_f7234_row3_col11\" class=\"data row3 col11\" >171.2</td>\n",
       "      <td id=\"T_f7234_row3_col12\" class=\"data row3 col12\" >321.3</td>\n",
       "      <td id=\"T_f7234_row3_col13\" class=\"data row3 col13\" >4117.0</td>\n",
       "    </tr>\n",
       "    <tr>\n",
       "      <th id=\"T_f7234_level0_row4\" class=\"row_heading level0 row4\" >Cryptocurrency</th>\n",
       "      <td id=\"T_f7234_row4_col0\" class=\"data row4 col0\" >8.0</td>\n",
       "      <td id=\"T_f7234_row4_col1\" class=\"data row4 col1\" >872.2</td>\n",
       "      <td id=\"T_f7234_row4_col2\" class=\"data row4 col2\" >2220.4</td>\n",
       "      <td id=\"T_f7234_row4_col3\" class=\"data row4 col3\" >-117.0</td>\n",
       "      <td id=\"T_f7234_row4_col4\" class=\"data row4 col4\" >-35.1</td>\n",
       "      <td id=\"T_f7234_row4_col5\" class=\"data row4 col5\" >0.0</td>\n",
       "      <td id=\"T_f7234_row4_col6\" class=\"data row4 col6\" >1.1</td>\n",
       "      <td id=\"T_f7234_row4_col7\" class=\"data row4 col7\" >8.8</td>\n",
       "      <td id=\"T_f7234_row4_col8\" class=\"data row4 col8\" >12.5</td>\n",
       "      <td id=\"T_f7234_row4_col9\" class=\"data row4 col9\" >20.8</td>\n",
       "      <td id=\"T_f7234_row4_col10\" class=\"data row4 col10\" >44.6</td>\n",
       "      <td id=\"T_f7234_row4_col11\" class=\"data row4 col11\" >432.6</td>\n",
       "      <td id=\"T_f7234_row4_col12\" class=\"data row4 col12\" >2382.2</td>\n",
       "      <td id=\"T_f7234_row4_col13\" class=\"data row4 col13\" >6333.0</td>\n",
       "    </tr>\n",
       "    <tr>\n",
       "      <th id=\"T_f7234_level0_row5\" class=\"row_heading level0 row5\" >Gaming</th>\n",
       "      <td id=\"T_f7234_row5_col0\" class=\"data row5 col0\" >39.0</td>\n",
       "      <td id=\"T_f7234_row5_col1\" class=\"data row5 col1\" >411.7</td>\n",
       "      <td id=\"T_f7234_row5_col2\" class=\"data row5 col2\" >1644.1</td>\n",
       "      <td id=\"T_f7234_row5_col3\" class=\"data row5 col3\" >-242.0</td>\n",
       "      <td id=\"T_f7234_row5_col4\" class=\"data row5 col4\" >-57.0</td>\n",
       "      <td id=\"T_f7234_row5_col5\" class=\"data row5 col5\" >-39.4</td>\n",
       "      <td id=\"T_f7234_row5_col6\" class=\"data row5 col6\" >-30.0</td>\n",
       "      <td id=\"T_f7234_row5_col7\" class=\"data row5 col7\" >-7.0</td>\n",
       "      <td id=\"T_f7234_row5_col8\" class=\"data row5 col8\" >5.0</td>\n",
       "      <td id=\"T_f7234_row5_col9\" class=\"data row5 col9\" >39.4</td>\n",
       "      <td id=\"T_f7234_row5_col10\" class=\"data row5 col10\" >82.2</td>\n",
       "      <td id=\"T_f7234_row5_col11\" class=\"data row5 col11\" >98.8</td>\n",
       "      <td id=\"T_f7234_row5_col12\" class=\"data row5 col12\" >337.0</td>\n",
       "      <td id=\"T_f7234_row5_col13\" class=\"data row5 col13\" >8710.0</td>\n",
       "    </tr>\n",
       "    <tr>\n",
       "      <th id=\"T_f7234_level0_row6\" class=\"row_heading level0 row6\" >NFT</th>\n",
       "      <td id=\"T_f7234_row6_col0\" class=\"data row6 col0\" >20.0</td>\n",
       "      <td id=\"T_f7234_row6_col1\" class=\"data row6 col1\" >23.6</td>\n",
       "      <td id=\"T_f7234_row6_col2\" class=\"data row6 col2\" >113.4</td>\n",
       "      <td id=\"T_f7234_row6_col3\" class=\"data row6 col3\" >-242.0</td>\n",
       "      <td id=\"T_f7234_row6_col4\" class=\"data row6 col4\" >-43.8</td>\n",
       "      <td id=\"T_f7234_row6_col5\" class=\"data row6 col5\" >-33.4</td>\n",
       "      <td id=\"T_f7234_row6_col6\" class=\"data row6 col6\" >-15.7</td>\n",
       "      <td id=\"T_f7234_row6_col7\" class=\"data row6 col7\" >-4.2</td>\n",
       "      <td id=\"T_f7234_row6_col8\" class=\"data row6 col8\" >3.0</td>\n",
       "      <td id=\"T_f7234_row6_col9\" class=\"data row6 col9\" >14.6</td>\n",
       "      <td id=\"T_f7234_row6_col10\" class=\"data row6 col10\" >30.4</td>\n",
       "      <td id=\"T_f7234_row6_col11\" class=\"data row6 col11\" >59.2</td>\n",
       "      <td id=\"T_f7234_row6_col12\" class=\"data row6 col12\" >150.7</td>\n",
       "      <td id=\"T_f7234_row6_col13\" class=\"data row6 col13\" >304.0</td>\n",
       "    </tr>\n",
       "    <tr>\n",
       "      <th id=\"T_f7234_level0_row7\" class=\"row_heading level0 row7\" >Stablecoin</th>\n",
       "      <td id=\"T_f7234_row7_col0\" class=\"data row7 col0\" >16.0</td>\n",
       "      <td id=\"T_f7234_row7_col1\" class=\"data row7 col1\" >632.0</td>\n",
       "      <td id=\"T_f7234_row7_col2\" class=\"data row7 col2\" >2553.6</td>\n",
       "      <td id=\"T_f7234_row7_col3\" class=\"data row7 col3\" >-366.0</td>\n",
       "      <td id=\"T_f7234_row7_col4\" class=\"data row7 col4\" >-77.0</td>\n",
       "      <td id=\"T_f7234_row7_col5\" class=\"data row7 col5\" >-41.0</td>\n",
       "      <td id=\"T_f7234_row7_col6\" class=\"data row7 col6\" >-27.0</td>\n",
       "      <td id=\"T_f7234_row7_col7\" class=\"data row7 col7\" >-4.0</td>\n",
       "      <td id=\"T_f7234_row7_col8\" class=\"data row7 col8\" >0.0</td>\n",
       "      <td id=\"T_f7234_row7_col9\" class=\"data row7 col9\" >0.0</td>\n",
       "      <td id=\"T_f7234_row7_col10\" class=\"data row7 col10\" >2.5</td>\n",
       "      <td id=\"T_f7234_row7_col11\" class=\"data row7 col11\" >88.0</td>\n",
       "      <td id=\"T_f7234_row7_col12\" class=\"data row7 col12\" >221.5</td>\n",
       "      <td id=\"T_f7234_row7_col13\" class=\"data row7 col13\" >10195.0</td>\n",
       "    </tr>\n",
       "    <tr>\n",
       "      <th id=\"T_f7234_level0_row8\" class=\"row_heading level0 row8\" >Blockchain</th>\n",
       "      <td id=\"T_f7234_row8_col0\" class=\"data row8 col0\" >64.0</td>\n",
       "      <td id=\"T_f7234_row8_col1\" class=\"data row8 col1\" >223.3</td>\n",
       "      <td id=\"T_f7234_row8_col2\" class=\"data row8 col2\" >1005.1</td>\n",
       "      <td id=\"T_f7234_row8_col3\" class=\"data row8 col3\" >-111.0</td>\n",
       "      <td id=\"T_f7234_row8_col4\" class=\"data row8 col4\" >-34.1</td>\n",
       "      <td id=\"T_f7234_row8_col5\" class=\"data row8 col5\" >-18.0</td>\n",
       "      <td id=\"T_f7234_row8_col6\" class=\"data row8 col6\" >-14.1</td>\n",
       "      <td id=\"T_f7234_row8_col7\" class=\"data row8 col7\" >-8.8</td>\n",
       "      <td id=\"T_f7234_row8_col8\" class=\"data row8 col8\" >-2.5</td>\n",
       "      <td id=\"T_f7234_row8_col9\" class=\"data row8 col9\" >-0.2</td>\n",
       "      <td id=\"T_f7234_row8_col10\" class=\"data row8 col10\" >1.0</td>\n",
       "      <td id=\"T_f7234_row8_col11\" class=\"data row8 col11\" >34.8</td>\n",
       "      <td id=\"T_f7234_row8_col12\" class=\"data row8 col12\" >79.3</td>\n",
       "      <td id=\"T_f7234_row8_col13\" class=\"data row8 col13\" >6160.0</td>\n",
       "    </tr>\n",
       "    <tr>\n",
       "      <th id=\"T_f7234_level0_row9\" class=\"row_heading level0 row9\" >DeFi</th>\n",
       "      <td id=\"T_f7234_row9_col0\" class=\"data row9 col0\" >55.0</td>\n",
       "      <td id=\"T_f7234_row9_col1\" class=\"data row9 col1\" >431.6</td>\n",
       "      <td id=\"T_f7234_row9_col2\" class=\"data row9 col2\" >1751.0</td>\n",
       "      <td id=\"T_f7234_row9_col3\" class=\"data row9 col3\" >-465.0</td>\n",
       "      <td id=\"T_f7234_row9_col4\" class=\"data row9 col4\" >-139.4</td>\n",
       "      <td id=\"T_f7234_row9_col5\" class=\"data row9 col5\" >-56.2</td>\n",
       "      <td id=\"T_f7234_row9_col6\" class=\"data row9 col6\" >-28.4</td>\n",
       "      <td id=\"T_f7234_row9_col7\" class=\"data row9 col7\" >-13.4</td>\n",
       "      <td id=\"T_f7234_row9_col8\" class=\"data row9 col8\" >-4.0</td>\n",
       "      <td id=\"T_f7234_row9_col9\" class=\"data row9 col9\" >5.4</td>\n",
       "      <td id=\"T_f7234_row9_col10\" class=\"data row9 col10\" >26.8</td>\n",
       "      <td id=\"T_f7234_row9_col11\" class=\"data row9 col11\" >58.8</td>\n",
       "      <td id=\"T_f7234_row9_col12\" class=\"data row9 col12\" >199.6</td>\n",
       "      <td id=\"T_f7234_row9_col13\" class=\"data row9 col13\" >9678.0</td>\n",
       "    </tr>\n",
       "    <tr>\n",
       "      <th id=\"T_f7234_level0_row10\" class=\"row_heading level0 row10\" >CEX</th>\n",
       "      <td id=\"T_f7234_row10_col0\" class=\"data row10 col0\" >12.0</td>\n",
       "      <td id=\"T_f7234_row10_col1\" class=\"data row10 col1\" >-4.8</td>\n",
       "      <td id=\"T_f7234_row10_col2\" class=\"data row10 col2\" >35.0</td>\n",
       "      <td id=\"T_f7234_row10_col3\" class=\"data row10 col3\" >-57.0</td>\n",
       "      <td id=\"T_f7234_row10_col4\" class=\"data row10 col4\" >-36.1</td>\n",
       "      <td id=\"T_f7234_row10_col5\" class=\"data row10 col5\" >-17.6</td>\n",
       "      <td id=\"T_f7234_row10_col6\" class=\"data row10 col6\" >-12.0</td>\n",
       "      <td id=\"T_f7234_row10_col7\" class=\"data row10 col7\" >-11.6</td>\n",
       "      <td id=\"T_f7234_row10_col8\" class=\"data row10 col8\" >-10.5</td>\n",
       "      <td id=\"T_f7234_row10_col9\" class=\"data row10 col9\" >-8.2</td>\n",
       "      <td id=\"T_f7234_row10_col10\" class=\"data row10 col10\" >-5.6</td>\n",
       "      <td id=\"T_f7234_row10_col11\" class=\"data row10 col11\" >-1.0</td>\n",
       "      <td id=\"T_f7234_row10_col12\" class=\"data row10 col12\" >24.3</td>\n",
       "      <td id=\"T_f7234_row10_col13\" class=\"data row10 col13\" >86.0</td>\n",
       "    </tr>\n",
       "    <tr>\n",
       "      <th id=\"T_f7234_level0_row11\" class=\"row_heading level0 row11\" >Protocol</th>\n",
       "      <td id=\"T_f7234_row11_col0\" class=\"data row11 col0\" >7.0</td>\n",
       "      <td id=\"T_f7234_row11_col1\" class=\"data row11 col1\" >1469.4</td>\n",
       "      <td id=\"T_f7234_row11_col2\" class=\"data row11 col2\" >3935.8</td>\n",
       "      <td id=\"T_f7234_row11_col3\" class=\"data row11 col3\" >-49.0</td>\n",
       "      <td id=\"T_f7234_row11_col4\" class=\"data row11 col4\" >-35.2</td>\n",
       "      <td id=\"T_f7234_row11_col5\" class=\"data row11 col5\" >-25.2</td>\n",
       "      <td id=\"T_f7234_row11_col6\" class=\"data row11 col6\" >-22.8</td>\n",
       "      <td id=\"T_f7234_row11_col7\" class=\"data row11 col7\" >-18.4</td>\n",
       "      <td id=\"T_f7234_row11_col8\" class=\"data row11 col8\" >-13.0</td>\n",
       "      <td id=\"T_f7234_row11_col9\" class=\"data row11 col9\" >-10.0</td>\n",
       "      <td id=\"T_f7234_row11_col10\" class=\"data row11 col10\" >-4.6</td>\n",
       "      <td id=\"T_f7234_row11_col11\" class=\"data row11 col11\" >5.6</td>\n",
       "      <td id=\"T_f7234_row11_col12\" class=\"data row11 col12\" >4163.4</td>\n",
       "      <td id=\"T_f7234_row11_col13\" class=\"data row11 col13\" >10395.0</td>\n",
       "    </tr>\n",
       "    <tr>\n",
       "      <th id=\"T_f7234_level0_row12\" class=\"row_heading level0 row12\" >Media</th>\n",
       "      <td id=\"T_f7234_row12_col0\" class=\"data row12 col0\" >8.0</td>\n",
       "      <td id=\"T_f7234_row12_col1\" class=\"data row12 col1\" >1.9</td>\n",
       "      <td id=\"T_f7234_row12_col2\" class=\"data row12 col2\" >76.6</td>\n",
       "      <td id=\"T_f7234_row12_col3\" class=\"data row12 col3\" >-74.0</td>\n",
       "      <td id=\"T_f7234_row12_col4\" class=\"data row12 col4\" >-60.7</td>\n",
       "      <td id=\"T_f7234_row12_col5\" class=\"data row12 col5\" >-45.0</td>\n",
       "      <td id=\"T_f7234_row12_col6\" class=\"data row12 col6\" >-29.9</td>\n",
       "      <td id=\"T_f7234_row12_col7\" class=\"data row12 col7\" >-29.2</td>\n",
       "      <td id=\"T_f7234_row12_col8\" class=\"data row12 col8\" >-16.0</td>\n",
       "      <td id=\"T_f7234_row12_col9\" class=\"data row12 col9\" >-2.6</td>\n",
       "      <td id=\"T_f7234_row12_col10\" class=\"data row12 col10\" >-1.2</td>\n",
       "      <td id=\"T_f7234_row12_col11\" class=\"data row12 col11\" >20.6</td>\n",
       "      <td id=\"T_f7234_row12_col12\" class=\"data row12 col12\" >76.1</td>\n",
       "      <td id=\"T_f7234_row12_col13\" class=\"data row12 col13\" >172.0</td>\n",
       "    </tr>\n",
       "    <tr>\n",
       "      <th id=\"T_f7234_level0_row13\" class=\"row_heading level0 row13\" >Meme</th>\n",
       "      <td id=\"T_f7234_row13_col0\" class=\"data row13 col0\" >17.0</td>\n",
       "      <td id=\"T_f7234_row13_col1\" class=\"data row13 col1\" >1178.8</td>\n",
       "      <td id=\"T_f7234_row13_col2\" class=\"data row13 col2\" >3487.3</td>\n",
       "      <td id=\"T_f7234_row13_col3\" class=\"data row13 col3\" >-420.0</td>\n",
       "      <td id=\"T_f7234_row13_col4\" class=\"data row13 col4\" >-185.6</td>\n",
       "      <td id=\"T_f7234_row13_col5\" class=\"data row13 col5\" >-89.2</td>\n",
       "      <td id=\"T_f7234_row13_col6\" class=\"data row13 col6\" >-62.8</td>\n",
       "      <td id=\"T_f7234_row13_col7\" class=\"data row13 col7\" >-33.6</td>\n",
       "      <td id=\"T_f7234_row13_col8\" class=\"data row13 col8\" >-16.0</td>\n",
       "      <td id=\"T_f7234_row13_col9\" class=\"data row13 col9\" >-9.6</td>\n",
       "      <td id=\"T_f7234_row13_col10\" class=\"data row13 col10\" >8.8</td>\n",
       "      <td id=\"T_f7234_row13_col11\" class=\"data row13 col11\" >44.8</td>\n",
       "      <td id=\"T_f7234_row13_col12\" class=\"data row13 col12\" >4228.0</td>\n",
       "      <td id=\"T_f7234_row13_col13\" class=\"data row13 col13\" >10594.0</td>\n",
       "    </tr>\n",
       "    <tr>\n",
       "      <th id=\"T_f7234_level0_row14\" class=\"row_heading level0 row14\" >Finance</th>\n",
       "      <td id=\"T_f7234_row14_col0\" class=\"data row14 col0\" >7.0</td>\n",
       "      <td id=\"T_f7234_row14_col1\" class=\"data row14 col1\" >24.9</td>\n",
       "      <td id=\"T_f7234_row14_col2\" class=\"data row14 col2\" >91.6</td>\n",
       "      <td id=\"T_f7234_row14_col3\" class=\"data row14 col3\" >-57.0</td>\n",
       "      <td id=\"T_f7234_row14_col4\" class=\"data row14 col4\" >-45.0</td>\n",
       "      <td id=\"T_f7234_row14_col5\" class=\"data row14 col5\" >-35.4</td>\n",
       "      <td id=\"T_f7234_row14_col6\" class=\"data row14 col6\" >-30.6</td>\n",
       "      <td id=\"T_f7234_row14_col7\" class=\"data row14 col7\" >-25.4</td>\n",
       "      <td id=\"T_f7234_row14_col8\" class=\"data row14 col8\" >-20.0</td>\n",
       "      <td id=\"T_f7234_row14_col9\" class=\"data row14 col9\" >-1.4</td>\n",
       "      <td id=\"T_f7234_row14_col10\" class=\"data row14 col10\" >33.2</td>\n",
       "      <td id=\"T_f7234_row14_col11\" class=\"data row14 col11\" >99.8</td>\n",
       "      <td id=\"T_f7234_row14_col12\" class=\"data row14 col12\" >146.8</td>\n",
       "      <td id=\"T_f7234_row14_col13\" class=\"data row14 col13\" >184.0</td>\n",
       "    </tr>\n",
       "    <tr>\n",
       "      <th id=\"T_f7234_level0_row15\" class=\"row_heading level0 row15\" >Privacy Coin</th>\n",
       "      <td id=\"T_f7234_row15_col0\" class=\"data row15 col0\" >12.0</td>\n",
       "      <td id=\"T_f7234_row15_col1\" class=\"data row15 col1\" >-41.3</td>\n",
       "      <td id=\"T_f7234_row15_col2\" class=\"data row15 col2\" >44.0</td>\n",
       "      <td id=\"T_f7234_row15_col3\" class=\"data row15 col3\" >-136.0</td>\n",
       "      <td id=\"T_f7234_row15_col4\" class=\"data row15 col4\" >-89.8</td>\n",
       "      <td id=\"T_f7234_row15_col5\" class=\"data row15 col5\" >-67.8</td>\n",
       "      <td id=\"T_f7234_row15_col6\" class=\"data row15 col6\" >-57.8</td>\n",
       "      <td id=\"T_f7234_row15_col7\" class=\"data row15 col7\" >-49.0</td>\n",
       "      <td id=\"T_f7234_row15_col8\" class=\"data row15 col8\" >-31.5</td>\n",
       "      <td id=\"T_f7234_row15_col9\" class=\"data row15 col9\" >-20.6</td>\n",
       "      <td id=\"T_f7234_row15_col10\" class=\"data row15 col10\" >-17.6</td>\n",
       "      <td id=\"T_f7234_row15_col11\" class=\"data row15 col11\" >-12.2</td>\n",
       "      <td id=\"T_f7234_row15_col12\" class=\"data row15 col12\" >2.5</td>\n",
       "      <td id=\"T_f7234_row15_col13\" class=\"data row15 col13\" >22.0</td>\n",
       "    </tr>\n",
       "  </tbody>\n",
       "</table>\n"
      ],
      "text/plain": [
       "<pandas.io.formats.style.Styler at 0x14b7dcbb0>"
      ]
     },
     "execution_count": 100,
     "metadata": {},
     "output_type": "execute_result"
    }
   ],
   "source": [
    "rank_change = data.loc[(data['MarketCap(Bln)'] > 0.030) & (data['Category'] != '--'), ['Category', 'ytd', 'MarketCap(Bln)']].sort_values(by='MarketCap(Bln)', ascending=False)\n",
    "rank_change = rank_change.groupby('Category')['ytd'].describe(percentiles=[.10, .20, .30, .40, .50, .60, .70, .80, .90]).sort_values(by='50%', ascending=False)\n",
    "rank_change_top = rank_change[(rank_change['count'] > 6) & (rank_change.index != '--')]\n",
    "rank_change_top.style.background_gradient(axis=None, cmap='bone', subset=['10%', '20%', '30%', '40%', '50%', '60%',\t'70%', '80%']).format(\"{:.1f}\")"
   ]
  },
  {
   "cell_type": "markdown",
   "metadata": {},
   "source": [
    "Looks like the hype over AI and Big data influenced capitalization of the tokens that AI related "
   ]
  },
  {
   "cell_type": "code",
   "execution_count": 101,
   "metadata": {},
   "outputs": [
    {
     "data": {
      "application/vnd.plotly.v1+json": {
       "config": {
        "plotlyServerURL": "https://plot.ly"
       },
       "data": [
        {
         "alignmentgroup": "True",
         "hovertemplate": "Rank Change=%{marker.color}<br>Category=%{y}<extra></extra>",
         "legendgroup": "",
         "marker": {
          "color": [
           54,
           28,
           26,
           19.5,
           12.5,
           5,
           3,
           0,
           -2.5,
           -4,
           -10.5,
           -13,
           -16,
           -16,
           -20,
           -31.5
          ],
          "coloraxis": "coloraxis",
          "pattern": {
           "shape": ""
          }
         },
         "name": "",
         "offsetgroup": "",
         "orientation": "h",
         "showlegend": false,
         "textposition": "auto",
         "type": "bar",
         "x": [
          54,
          28,
          26,
          19.5,
          12.5,
          5,
          3,
          0,
          -2.5,
          -4,
          -10.5,
          -13,
          -16,
          -16,
          -20,
          -31.5
         ],
         "xaxis": "x",
         "y": [
          "Artificial Intelligence (AI)",
          "DEX",
          "Infrastructure",
          "Blockchain Service",
          "Cryptocurrency",
          "Gaming",
          "NFT",
          "Stablecoin",
          "Blockchain",
          "DeFi",
          "CEX",
          "Protocol",
          "Media",
          "Meme",
          "Finance",
          "Privacy Coin"
         ],
         "yaxis": "y"
        }
       ],
       "layout": {
        "annotations": [
         {
          "font": {
           "color": "white",
           "size": 11
          },
          "showarrow": false,
          "text": "54",
          "x": 54,
          "xshift": 11,
          "y": "Artificial Intelligence (AI)"
         },
         {
          "font": {
           "color": "white",
           "size": 11
          },
          "showarrow": false,
          "text": "28",
          "x": 28,
          "xshift": 11,
          "y": "DEX"
         },
         {
          "font": {
           "color": "white",
           "size": 11
          },
          "showarrow": false,
          "text": "26",
          "x": 26,
          "xshift": 11,
          "y": "Infrastructure"
         },
         {
          "font": {
           "color": "white",
           "size": 11
          },
          "showarrow": false,
          "text": "20",
          "x": 19.5,
          "xshift": 11,
          "y": "Blockchain Service"
         },
         {
          "font": {
           "color": "white",
           "size": 11
          },
          "showarrow": false,
          "text": "12",
          "x": 12.5,
          "xshift": 11,
          "y": "Cryptocurrency"
         },
         {
          "font": {
           "color": "white",
           "size": 11
          },
          "showarrow": false,
          "text": "5",
          "x": 5,
          "xshift": 11,
          "y": "Gaming"
         },
         {
          "font": {
           "color": "white",
           "size": 11
          },
          "showarrow": false,
          "text": "3",
          "x": 3,
          "xshift": 11,
          "y": "NFT"
         },
         {
          "font": {
           "color": "white",
           "size": 11
          },
          "showarrow": false,
          "text": "0",
          "x": 0,
          "xshift": 11,
          "y": "Stablecoin"
         },
         {
          "font": {
           "color": "white",
           "size": 11
          },
          "showarrow": false,
          "text": "-2",
          "x": -2.5,
          "xshift": 11,
          "y": "Blockchain"
         },
         {
          "font": {
           "color": "white",
           "size": 11
          },
          "showarrow": false,
          "text": "-4",
          "x": -4,
          "xshift": 11,
          "y": "DeFi"
         },
         {
          "font": {
           "color": "white",
           "size": 11
          },
          "showarrow": false,
          "text": "-10",
          "x": -10.5,
          "xshift": 11,
          "y": "CEX"
         },
         {
          "font": {
           "color": "white",
           "size": 11
          },
          "showarrow": false,
          "text": "-13",
          "x": -13,
          "xshift": 11,
          "y": "Protocol"
         },
         {
          "font": {
           "color": "white",
           "size": 11
          },
          "showarrow": false,
          "text": "-16",
          "x": -16,
          "xshift": 11,
          "y": "Media"
         },
         {
          "font": {
           "color": "white",
           "size": 11
          },
          "showarrow": false,
          "text": "-16",
          "x": -16,
          "xshift": 11,
          "y": "Meme"
         },
         {
          "font": {
           "color": "white",
           "size": 11
          },
          "showarrow": false,
          "text": "-20",
          "x": -20,
          "xshift": 11,
          "y": "Finance"
         },
         {
          "font": {
           "color": "white",
           "size": 11
          },
          "showarrow": false,
          "text": "-32",
          "x": -31.5,
          "xshift": 11,
          "y": "Privacy Coin"
         }
        ],
        "autosize": false,
        "barmode": "relative",
        "coloraxis": {
         "colorbar": {
          "title": {
           "text": "Rank Change"
          }
         },
         "colorscale": [
          [
           0,
           "#0d0887"
          ],
          [
           0.1111111111111111,
           "#46039f"
          ],
          [
           0.2222222222222222,
           "#7201a8"
          ],
          [
           0.3333333333333333,
           "#9c179e"
          ],
          [
           0.4444444444444444,
           "#bd3786"
          ],
          [
           0.5555555555555556,
           "#d8576b"
          ],
          [
           0.6666666666666666,
           "#ed7953"
          ],
          [
           0.7777777777777778,
           "#fb9f3a"
          ],
          [
           0.8888888888888888,
           "#fdca26"
          ],
          [
           1,
           "#f0f921"
          ]
         ],
         "showscale": false
        },
        "height": 400,
        "legend": {
         "tracegroupgap": 0
        },
        "margin": {
         "b": 0,
         "l": 0,
         "r": 50,
         "t": 50
        },
        "template": {
         "data": {
          "bar": [
           {
            "error_x": {
             "color": "#f2f5fa"
            },
            "error_y": {
             "color": "#f2f5fa"
            },
            "marker": {
             "line": {
              "color": "rgb(17,17,17)",
              "width": 0.5
             },
             "pattern": {
              "fillmode": "overlay",
              "size": 10,
              "solidity": 0.2
             }
            },
            "type": "bar"
           }
          ],
          "barpolar": [
           {
            "marker": {
             "line": {
              "color": "rgb(17,17,17)",
              "width": 0.5
             },
             "pattern": {
              "fillmode": "overlay",
              "size": 10,
              "solidity": 0.2
             }
            },
            "type": "barpolar"
           }
          ],
          "carpet": [
           {
            "aaxis": {
             "endlinecolor": "#A2B1C6",
             "gridcolor": "#506784",
             "linecolor": "#506784",
             "minorgridcolor": "#506784",
             "startlinecolor": "#A2B1C6"
            },
            "baxis": {
             "endlinecolor": "#A2B1C6",
             "gridcolor": "#506784",
             "linecolor": "#506784",
             "minorgridcolor": "#506784",
             "startlinecolor": "#A2B1C6"
            },
            "type": "carpet"
           }
          ],
          "choropleth": [
           {
            "colorbar": {
             "outlinewidth": 0,
             "ticks": ""
            },
            "type": "choropleth"
           }
          ],
          "contour": [
           {
            "colorbar": {
             "outlinewidth": 0,
             "ticks": ""
            },
            "colorscale": [
             [
              0,
              "#0d0887"
             ],
             [
              0.1111111111111111,
              "#46039f"
             ],
             [
              0.2222222222222222,
              "#7201a8"
             ],
             [
              0.3333333333333333,
              "#9c179e"
             ],
             [
              0.4444444444444444,
              "#bd3786"
             ],
             [
              0.5555555555555556,
              "#d8576b"
             ],
             [
              0.6666666666666666,
              "#ed7953"
             ],
             [
              0.7777777777777778,
              "#fb9f3a"
             ],
             [
              0.8888888888888888,
              "#fdca26"
             ],
             [
              1,
              "#f0f921"
             ]
            ],
            "type": "contour"
           }
          ],
          "contourcarpet": [
           {
            "colorbar": {
             "outlinewidth": 0,
             "ticks": ""
            },
            "type": "contourcarpet"
           }
          ],
          "heatmap": [
           {
            "colorbar": {
             "outlinewidth": 0,
             "ticks": ""
            },
            "colorscale": [
             [
              0,
              "#0d0887"
             ],
             [
              0.1111111111111111,
              "#46039f"
             ],
             [
              0.2222222222222222,
              "#7201a8"
             ],
             [
              0.3333333333333333,
              "#9c179e"
             ],
             [
              0.4444444444444444,
              "#bd3786"
             ],
             [
              0.5555555555555556,
              "#d8576b"
             ],
             [
              0.6666666666666666,
              "#ed7953"
             ],
             [
              0.7777777777777778,
              "#fb9f3a"
             ],
             [
              0.8888888888888888,
              "#fdca26"
             ],
             [
              1,
              "#f0f921"
             ]
            ],
            "type": "heatmap"
           }
          ],
          "heatmapgl": [
           {
            "colorbar": {
             "outlinewidth": 0,
             "ticks": ""
            },
            "colorscale": [
             [
              0,
              "#0d0887"
             ],
             [
              0.1111111111111111,
              "#46039f"
             ],
             [
              0.2222222222222222,
              "#7201a8"
             ],
             [
              0.3333333333333333,
              "#9c179e"
             ],
             [
              0.4444444444444444,
              "#bd3786"
             ],
             [
              0.5555555555555556,
              "#d8576b"
             ],
             [
              0.6666666666666666,
              "#ed7953"
             ],
             [
              0.7777777777777778,
              "#fb9f3a"
             ],
             [
              0.8888888888888888,
              "#fdca26"
             ],
             [
              1,
              "#f0f921"
             ]
            ],
            "type": "heatmapgl"
           }
          ],
          "histogram": [
           {
            "marker": {
             "pattern": {
              "fillmode": "overlay",
              "size": 10,
              "solidity": 0.2
             }
            },
            "type": "histogram"
           }
          ],
          "histogram2d": [
           {
            "colorbar": {
             "outlinewidth": 0,
             "ticks": ""
            },
            "colorscale": [
             [
              0,
              "#0d0887"
             ],
             [
              0.1111111111111111,
              "#46039f"
             ],
             [
              0.2222222222222222,
              "#7201a8"
             ],
             [
              0.3333333333333333,
              "#9c179e"
             ],
             [
              0.4444444444444444,
              "#bd3786"
             ],
             [
              0.5555555555555556,
              "#d8576b"
             ],
             [
              0.6666666666666666,
              "#ed7953"
             ],
             [
              0.7777777777777778,
              "#fb9f3a"
             ],
             [
              0.8888888888888888,
              "#fdca26"
             ],
             [
              1,
              "#f0f921"
             ]
            ],
            "type": "histogram2d"
           }
          ],
          "histogram2dcontour": [
           {
            "colorbar": {
             "outlinewidth": 0,
             "ticks": ""
            },
            "colorscale": [
             [
              0,
              "#0d0887"
             ],
             [
              0.1111111111111111,
              "#46039f"
             ],
             [
              0.2222222222222222,
              "#7201a8"
             ],
             [
              0.3333333333333333,
              "#9c179e"
             ],
             [
              0.4444444444444444,
              "#bd3786"
             ],
             [
              0.5555555555555556,
              "#d8576b"
             ],
             [
              0.6666666666666666,
              "#ed7953"
             ],
             [
              0.7777777777777778,
              "#fb9f3a"
             ],
             [
              0.8888888888888888,
              "#fdca26"
             ],
             [
              1,
              "#f0f921"
             ]
            ],
            "type": "histogram2dcontour"
           }
          ],
          "mesh3d": [
           {
            "colorbar": {
             "outlinewidth": 0,
             "ticks": ""
            },
            "type": "mesh3d"
           }
          ],
          "parcoords": [
           {
            "line": {
             "colorbar": {
              "outlinewidth": 0,
              "ticks": ""
             }
            },
            "type": "parcoords"
           }
          ],
          "pie": [
           {
            "automargin": true,
            "type": "pie"
           }
          ],
          "scatter": [
           {
            "marker": {
             "line": {
              "color": "#283442"
             }
            },
            "type": "scatter"
           }
          ],
          "scatter3d": [
           {
            "line": {
             "colorbar": {
              "outlinewidth": 0,
              "ticks": ""
             }
            },
            "marker": {
             "colorbar": {
              "outlinewidth": 0,
              "ticks": ""
             }
            },
            "type": "scatter3d"
           }
          ],
          "scattercarpet": [
           {
            "marker": {
             "colorbar": {
              "outlinewidth": 0,
              "ticks": ""
             }
            },
            "type": "scattercarpet"
           }
          ],
          "scattergeo": [
           {
            "marker": {
             "colorbar": {
              "outlinewidth": 0,
              "ticks": ""
             }
            },
            "type": "scattergeo"
           }
          ],
          "scattergl": [
           {
            "marker": {
             "line": {
              "color": "#283442"
             }
            },
            "type": "scattergl"
           }
          ],
          "scattermapbox": [
           {
            "marker": {
             "colorbar": {
              "outlinewidth": 0,
              "ticks": ""
             }
            },
            "type": "scattermapbox"
           }
          ],
          "scatterpolar": [
           {
            "marker": {
             "colorbar": {
              "outlinewidth": 0,
              "ticks": ""
             }
            },
            "type": "scatterpolar"
           }
          ],
          "scatterpolargl": [
           {
            "marker": {
             "colorbar": {
              "outlinewidth": 0,
              "ticks": ""
             }
            },
            "type": "scatterpolargl"
           }
          ],
          "scatterternary": [
           {
            "marker": {
             "colorbar": {
              "outlinewidth": 0,
              "ticks": ""
             }
            },
            "type": "scatterternary"
           }
          ],
          "surface": [
           {
            "colorbar": {
             "outlinewidth": 0,
             "ticks": ""
            },
            "colorscale": [
             [
              0,
              "#0d0887"
             ],
             [
              0.1111111111111111,
              "#46039f"
             ],
             [
              0.2222222222222222,
              "#7201a8"
             ],
             [
              0.3333333333333333,
              "#9c179e"
             ],
             [
              0.4444444444444444,
              "#bd3786"
             ],
             [
              0.5555555555555556,
              "#d8576b"
             ],
             [
              0.6666666666666666,
              "#ed7953"
             ],
             [
              0.7777777777777778,
              "#fb9f3a"
             ],
             [
              0.8888888888888888,
              "#fdca26"
             ],
             [
              1,
              "#f0f921"
             ]
            ],
            "type": "surface"
           }
          ],
          "table": [
           {
            "cells": {
             "fill": {
              "color": "#506784"
             },
             "line": {
              "color": "rgb(17,17,17)"
             }
            },
            "header": {
             "fill": {
              "color": "#2a3f5f"
             },
             "line": {
              "color": "rgb(17,17,17)"
             }
            },
            "type": "table"
           }
          ]
         },
         "layout": {
          "annotationdefaults": {
           "arrowcolor": "#f2f5fa",
           "arrowhead": 0,
           "arrowwidth": 1
          },
          "autotypenumbers": "strict",
          "coloraxis": {
           "colorbar": {
            "outlinewidth": 0,
            "ticks": ""
           }
          },
          "colorscale": {
           "diverging": [
            [
             0,
             "#8e0152"
            ],
            [
             0.1,
             "#c51b7d"
            ],
            [
             0.2,
             "#de77ae"
            ],
            [
             0.3,
             "#f1b6da"
            ],
            [
             0.4,
             "#fde0ef"
            ],
            [
             0.5,
             "#f7f7f7"
            ],
            [
             0.6,
             "#e6f5d0"
            ],
            [
             0.7,
             "#b8e186"
            ],
            [
             0.8,
             "#7fbc41"
            ],
            [
             0.9,
             "#4d9221"
            ],
            [
             1,
             "#276419"
            ]
           ],
           "sequential": [
            [
             0,
             "#0d0887"
            ],
            [
             0.1111111111111111,
             "#46039f"
            ],
            [
             0.2222222222222222,
             "#7201a8"
            ],
            [
             0.3333333333333333,
             "#9c179e"
            ],
            [
             0.4444444444444444,
             "#bd3786"
            ],
            [
             0.5555555555555556,
             "#d8576b"
            ],
            [
             0.6666666666666666,
             "#ed7953"
            ],
            [
             0.7777777777777778,
             "#fb9f3a"
            ],
            [
             0.8888888888888888,
             "#fdca26"
            ],
            [
             1,
             "#f0f921"
            ]
           ],
           "sequentialminus": [
            [
             0,
             "#0d0887"
            ],
            [
             0.1111111111111111,
             "#46039f"
            ],
            [
             0.2222222222222222,
             "#7201a8"
            ],
            [
             0.3333333333333333,
             "#9c179e"
            ],
            [
             0.4444444444444444,
             "#bd3786"
            ],
            [
             0.5555555555555556,
             "#d8576b"
            ],
            [
             0.6666666666666666,
             "#ed7953"
            ],
            [
             0.7777777777777778,
             "#fb9f3a"
            ],
            [
             0.8888888888888888,
             "#fdca26"
            ],
            [
             1,
             "#f0f921"
            ]
           ]
          },
          "colorway": [
           "#636efa",
           "#EF553B",
           "#00cc96",
           "#ab63fa",
           "#FFA15A",
           "#19d3f3",
           "#FF6692",
           "#B6E880",
           "#FF97FF",
           "#FECB52"
          ],
          "font": {
           "color": "#f2f5fa"
          },
          "geo": {
           "bgcolor": "rgb(17,17,17)",
           "lakecolor": "rgb(17,17,17)",
           "landcolor": "rgb(17,17,17)",
           "showlakes": true,
           "showland": true,
           "subunitcolor": "#506784"
          },
          "hoverlabel": {
           "align": "left"
          },
          "hovermode": "closest",
          "mapbox": {
           "style": "dark"
          },
          "paper_bgcolor": "rgb(17,17,17)",
          "plot_bgcolor": "rgb(17,17,17)",
          "polar": {
           "angularaxis": {
            "gridcolor": "#506784",
            "linecolor": "#506784",
            "ticks": ""
           },
           "bgcolor": "rgb(17,17,17)",
           "radialaxis": {
            "gridcolor": "#506784",
            "linecolor": "#506784",
            "ticks": ""
           }
          },
          "scene": {
           "xaxis": {
            "backgroundcolor": "rgb(17,17,17)",
            "gridcolor": "#506784",
            "gridwidth": 2,
            "linecolor": "#506784",
            "showbackground": true,
            "ticks": "",
            "zerolinecolor": "#C8D4E3"
           },
           "yaxis": {
            "backgroundcolor": "rgb(17,17,17)",
            "gridcolor": "#506784",
            "gridwidth": 2,
            "linecolor": "#506784",
            "showbackground": true,
            "ticks": "",
            "zerolinecolor": "#C8D4E3"
           },
           "zaxis": {
            "backgroundcolor": "rgb(17,17,17)",
            "gridcolor": "#506784",
            "gridwidth": 2,
            "linecolor": "#506784",
            "showbackground": true,
            "ticks": "",
            "zerolinecolor": "#C8D4E3"
           }
          },
          "shapedefaults": {
           "line": {
            "color": "#f2f5fa"
           }
          },
          "sliderdefaults": {
           "bgcolor": "#C8D4E3",
           "bordercolor": "rgb(17,17,17)",
           "borderwidth": 1,
           "tickwidth": 0
          },
          "ternary": {
           "aaxis": {
            "gridcolor": "#506784",
            "linecolor": "#506784",
            "ticks": ""
           },
           "baxis": {
            "gridcolor": "#506784",
            "linecolor": "#506784",
            "ticks": ""
           },
           "bgcolor": "rgb(17,17,17)",
           "caxis": {
            "gridcolor": "#506784",
            "linecolor": "#506784",
            "ticks": ""
           }
          },
          "title": {
           "x": 0.05
          },
          "updatemenudefaults": {
           "bgcolor": "#506784",
           "borderwidth": 0
          },
          "xaxis": {
           "automargin": true,
           "gridcolor": "#283442",
           "linecolor": "#506784",
           "ticks": "",
           "title": {
            "standoff": 15
           },
           "zerolinecolor": "#283442",
           "zerolinewidth": 2
          },
          "yaxis": {
           "automargin": true,
           "gridcolor": "#283442",
           "linecolor": "#506784",
           "ticks": "",
           "title": {
            "standoff": 15
           },
           "zerolinecolor": "#283442",
           "zerolinewidth": 2
          }
         }
        },
        "title": {
         "text": "Median Rank Change by Category"
        },
        "width": 800,
        "xaxis": {
         "anchor": "y",
         "domain": [
          0,
          1
         ],
         "showgrid": false,
         "showticklabels": false,
         "title": {
          "text": ""
         }
        },
        "yaxis": {
         "anchor": "x",
         "categoryorder": "total ascending",
         "domain": [
          0,
          1
         ],
         "title": {
          "text": ""
         }
        }
       }
      }
     },
     "metadata": {},
     "output_type": "display_data"
    }
   ],
   "source": [
    "px.defaults.template = 'plotly_dark'\n",
    "\n",
    "fig = px.bar(rank_change_top, \n",
    "             y=rank_change_top.index, \n",
    "             x='50%', \n",
    "             color='50%', \n",
    "             title='Median Rank Change by Category', \n",
    "             labels={'50%': 'Rank Change', 'index': 'Category'})\n",
    "\n",
    "# add annotations to the bars\n",
    "for i in range(len(rank_change_top)):\n",
    "    fig.add_annotation(x=rank_change_top['50%'][i], y=rank_change_top.index[i], \n",
    "                       text=f'{rank_change_top[\"50%\"][i]:.0f}', \n",
    "                       showarrow=False, \n",
    "                       font=dict(size=11, color='white'),\n",
    "                       xshift=11)\n",
    "# remove x axis labels\n",
    "\n",
    "fig.update_xaxes(showgrid=False, showticklabels=False, title='')\n",
    "fig.update_yaxes(title='')\n",
    "fig.update_layout(coloraxis_showscale=False,\n",
    "                  yaxis={'categoryorder':'total ascending'},\n",
    "                  autosize=False, width=800, height=400,\n",
    "                  margin=dict(l=0, r=50, t=50, b=0))\n",
    "\n",
    "fig.show()"
   ]
  },
  {
   "cell_type": "markdown",
   "metadata": {},
   "source": [
    "## Exploring new tokens "
   ]
  },
  {
   "cell_type": "markdown",
   "metadata": {},
   "source": [
    "Lets take a look to tokens that are younger then one year "
   ]
  },
  {
   "cell_type": "code",
   "execution_count": 102,
   "metadata": {},
   "outputs": [
    {
     "data": {
      "text/html": [
       "<style type=\"text/css\">\n",
       "#T_36ce9_row0_col0, #T_36ce9_row8_col1 {\n",
       "  background-color: #474763;\n",
       "  color: #f1f1f1;\n",
       "}\n",
       "#T_36ce9_row0_col1, #T_36ce9_row5_col0 {\n",
       "  background-color: #ffffff;\n",
       "  color: #000000;\n",
       "}\n",
       "#T_36ce9_row1_col0, #T_36ce9_row10_col0, #T_36ce9_row10_col1, #T_36ce9_row14_col0 {\n",
       "  background-color: #41415a;\n",
       "  color: #f1f1f1;\n",
       "}\n",
       "#T_36ce9_row1_col1 {\n",
       "  background-color: #ccdfdf;\n",
       "  color: #000000;\n",
       "}\n",
       "#T_36ce9_row2_col0, #T_36ce9_row4_col1 {\n",
       "  background-color: #727e92;\n",
       "  color: #f1f1f1;\n",
       "}\n",
       "#T_36ce9_row2_col1 {\n",
       "  background-color: #b5d0d0;\n",
       "  color: #000000;\n",
       "}\n",
       "#T_36ce9_row3_col0 {\n",
       "  background-color: #4a4966;\n",
       "  color: #f1f1f1;\n",
       "}\n",
       "#T_36ce9_row3_col1 {\n",
       "  background-color: #9fbcbf;\n",
       "  color: #000000;\n",
       "}\n",
       "#T_36ce9_row4_col0, #T_36ce9_row8_col0 {\n",
       "  background-color: #4e4e6c;\n",
       "  color: #f1f1f1;\n",
       "}\n",
       "#T_36ce9_row5_col1 {\n",
       "  background-color: #626882;\n",
       "  color: #f1f1f1;\n",
       "}\n",
       "#T_36ce9_row6_col0, #T_36ce9_row12_col0 {\n",
       "  background-color: #3e3e56;\n",
       "  color: #f1f1f1;\n",
       "}\n",
       "#T_36ce9_row6_col1 {\n",
       "  background-color: #50506f;\n",
       "  color: #f1f1f1;\n",
       "}\n",
       "#T_36ce9_row7_col0 {\n",
       "  background-color: #6d788d;\n",
       "  color: #f1f1f1;\n",
       "}\n",
       "#T_36ce9_row7_col1 {\n",
       "  background-color: #4a4a67;\n",
       "  color: #f1f1f1;\n",
       "}\n",
       "#T_36ce9_row9_col0 {\n",
       "  background-color: #656c84;\n",
       "  color: #f1f1f1;\n",
       "}\n",
       "#T_36ce9_row9_col1, #T_36ce9_row11_col0, #T_36ce9_row17_col0 {\n",
       "  background-color: #42425d;\n",
       "  color: #f1f1f1;\n",
       "}\n",
       "#T_36ce9_row11_col1, #T_36ce9_row12_col1 {\n",
       "  background-color: #404059;\n",
       "  color: #f1f1f1;\n",
       "}\n",
       "#T_36ce9_row13_col0 {\n",
       "  background-color: #4c4c6a;\n",
       "  color: #f1f1f1;\n",
       "}\n",
       "#T_36ce9_row13_col1, #T_36ce9_row14_col1 {\n",
       "  background-color: #3f3f58;\n",
       "  color: #f1f1f1;\n",
       "}\n",
       "#T_36ce9_row15_col0, #T_36ce9_row16_col0, #T_36ce9_row16_col1, #T_36ce9_row17_col1 {\n",
       "  background-color: #3c3c54;\n",
       "  color: #f1f1f1;\n",
       "}\n",
       "#T_36ce9_row15_col1 {\n",
       "  background-color: #3d3d55;\n",
       "  color: #f1f1f1;\n",
       "}\n",
       "</style>\n",
       "<table id=\"T_36ce9\">\n",
       "  <thead>\n",
       "    <tr>\n",
       "      <th class=\"blank level0\" >&nbsp;</th>\n",
       "      <th id=\"T_36ce9_level0_col0\" class=\"col_heading level0 col0\" colspan=\"2\">MarketCap(Bln)</th>\n",
       "    </tr>\n",
       "    <tr>\n",
       "      <th class=\"blank level1\" >&nbsp;</th>\n",
       "      <th id=\"T_36ce9_level1_col0\" class=\"col_heading level1 col0\" >count</th>\n",
       "      <th id=\"T_36ce9_level1_col1\" class=\"col_heading level1 col1\" >sum</th>\n",
       "    </tr>\n",
       "    <tr>\n",
       "      <th class=\"index_name level0\" >Category</th>\n",
       "      <th class=\"blank col0\" >&nbsp;</th>\n",
       "      <th class=\"blank col1\" >&nbsp;</th>\n",
       "    </tr>\n",
       "  </thead>\n",
       "  <tbody>\n",
       "    <tr>\n",
       "      <th id=\"T_36ce9_level0_row0\" class=\"row_heading level0 row0\" >Blockchain</th>\n",
       "      <td id=\"T_36ce9_row0_col0\" class=\"data row0 col0\" >12.000</td>\n",
       "      <td id=\"T_36ce9_row0_col1\" class=\"data row0 col1\" >4.322</td>\n",
       "    </tr>\n",
       "    <tr>\n",
       "      <th id=\"T_36ce9_level0_row1\" class=\"row_heading level0 row1\" >Stablecoin</th>\n",
       "      <td id=\"T_36ce9_row1_col0\" class=\"data row1 col0\" >9.000</td>\n",
       "      <td id=\"T_36ce9_row1_col1\" class=\"data row1 col1\" >3.453</td>\n",
       "    </tr>\n",
       "    <tr>\n",
       "      <th id=\"T_36ce9_level0_row2\" class=\"row_heading level0 row2\" >Gaming</th>\n",
       "      <td id=\"T_36ce9_row2_col0\" class=\"data row2 col0\" >31.000</td>\n",
       "      <td id=\"T_36ce9_row2_col1\" class=\"data row2 col1\" >3.060</td>\n",
       "    </tr>\n",
       "    <tr>\n",
       "      <th id=\"T_36ce9_level0_row3\" class=\"row_heading level0 row3\" >Bitcoin Ecosystem</th>\n",
       "      <td id=\"T_36ce9_row3_col0\" class=\"data row3 col0\" >13.000</td>\n",
       "      <td id=\"T_36ce9_row3_col1\" class=\"data row3 col1\" >2.626</td>\n",
       "    </tr>\n",
       "    <tr>\n",
       "      <th id=\"T_36ce9_level0_row4\" class=\"row_heading level0 row4\" >Artificial Intelligence (AI)</th>\n",
       "      <td id=\"T_36ce9_row4_col0\" class=\"data row4 col0\" >15.000</td>\n",
       "      <td id=\"T_36ce9_row4_col1\" class=\"data row4 col1\" >1.434</td>\n",
       "    </tr>\n",
       "    <tr>\n",
       "      <th id=\"T_36ce9_level0_row5\" class=\"row_heading level0 row5\" >Meme</th>\n",
       "      <td id=\"T_36ce9_row5_col0\" class=\"data row5 col0\" >80.000</td>\n",
       "      <td id=\"T_36ce9_row5_col1\" class=\"data row5 col1\" >1.019</td>\n",
       "    </tr>\n",
       "    <tr>\n",
       "      <th id=\"T_36ce9_level0_row6\" class=\"row_heading level0 row6\" >Blockchain Service</th>\n",
       "      <td id=\"T_36ce9_row6_col0\" class=\"data row6 col0\" >8.000</td>\n",
       "      <td id=\"T_36ce9_row6_col1\" class=\"data row6 col1\" >0.526</td>\n",
       "    </tr>\n",
       "    <tr>\n",
       "      <th id=\"T_36ce9_level0_row7\" class=\"row_heading level0 row7\" >DeFi</th>\n",
       "      <td id=\"T_36ce9_row7_col0\" class=\"data row7 col0\" >29.000</td>\n",
       "      <td id=\"T_36ce9_row7_col1\" class=\"data row7 col1\" >0.386</td>\n",
       "    </tr>\n",
       "    <tr>\n",
       "      <th id=\"T_36ce9_level0_row8\" class=\"row_heading level0 row8\" >DEX</th>\n",
       "      <td id=\"T_36ce9_row8_col0\" class=\"data row8 col0\" >15.000</td>\n",
       "      <td id=\"T_36ce9_row8_col1\" class=\"data row8 col1\" >0.295</td>\n",
       "    </tr>\n",
       "    <tr>\n",
       "      <th id=\"T_36ce9_level0_row9\" class=\"row_heading level0 row9\" >Ethereum Ecosystem</th>\n",
       "      <td id=\"T_36ce9_row9_col0\" class=\"data row9 col0\" >25.000</td>\n",
       "      <td id=\"T_36ce9_row9_col1\" class=\"data row9 col1\" >0.180</td>\n",
       "    </tr>\n",
       "    <tr>\n",
       "      <th id=\"T_36ce9_level0_row10\" class=\"row_heading level0 row10\" >Trading Bot</th>\n",
       "      <td id=\"T_36ce9_row10_col0\" class=\"data row10 col0\" >9.000</td>\n",
       "      <td id=\"T_36ce9_row10_col1\" class=\"data row10 col1\" >0.124</td>\n",
       "    </tr>\n",
       "    <tr>\n",
       "      <th id=\"T_36ce9_level0_row11\" class=\"row_heading level0 row11\" >Social</th>\n",
       "      <td id=\"T_36ce9_row11_col0\" class=\"data row11 col0\" >10.000</td>\n",
       "      <td id=\"T_36ce9_row11_col1\" class=\"data row11 col1\" >0.116</td>\n",
       "    </tr>\n",
       "    <tr>\n",
       "      <th id=\"T_36ce9_level0_row12\" class=\"row_heading level0 row12\" >Launchpad</th>\n",
       "      <td id=\"T_36ce9_row12_col0\" class=\"data row12 col0\" >8.000</td>\n",
       "      <td id=\"T_36ce9_row12_col1\" class=\"data row12 col1\" >0.102</td>\n",
       "    </tr>\n",
       "    <tr>\n",
       "      <th id=\"T_36ce9_level0_row13\" class=\"row_heading level0 row13\" >NFT</th>\n",
       "      <td id=\"T_36ce9_row13_col0\" class=\"data row13 col0\" >14.000</td>\n",
       "      <td id=\"T_36ce9_row13_col1\" class=\"data row13 col1\" >0.093</td>\n",
       "    </tr>\n",
       "    <tr>\n",
       "      <th id=\"T_36ce9_level0_row14\" class=\"row_heading level0 row14\" >Web 3.0</th>\n",
       "      <td id=\"T_36ce9_row14_col0\" class=\"data row14 col0\" >9.000</td>\n",
       "      <td id=\"T_36ce9_row14_col1\" class=\"data row14 col1\" >0.081</td>\n",
       "    </tr>\n",
       "    <tr>\n",
       "      <th id=\"T_36ce9_level0_row15\" class=\"row_heading level0 row15\" >Polygon Ecosystem</th>\n",
       "      <td id=\"T_36ce9_row15_col0\" class=\"data row15 col0\" >7.000</td>\n",
       "      <td id=\"T_36ce9_row15_col1\" class=\"data row15 col1\" >0.030</td>\n",
       "    </tr>\n",
       "    <tr>\n",
       "      <th id=\"T_36ce9_level0_row16\" class=\"row_heading level0 row16\" >Cryptocurrency</th>\n",
       "      <td id=\"T_36ce9_row16_col0\" class=\"data row16 col0\" >7.000</td>\n",
       "      <td id=\"T_36ce9_row16_col1\" class=\"data row16 col1\" >0.014</td>\n",
       "    </tr>\n",
       "    <tr>\n",
       "      <th id=\"T_36ce9_level0_row17\" class=\"row_heading level0 row17\" >ERC-404</th>\n",
       "      <td id=\"T_36ce9_row17_col0\" class=\"data row17 col0\" >10.000</td>\n",
       "      <td id=\"T_36ce9_row17_col1\" class=\"data row17 col1\" >0.006</td>\n",
       "    </tr>\n",
       "  </tbody>\n",
       "</table>\n"
      ],
      "text/plain": [
       "<pandas.io.formats.style.Styler at 0x168f6c6d0>"
      ]
     },
     "execution_count": 102,
     "metadata": {},
     "output_type": "execute_result"
    }
   ],
   "source": [
    "new_tokens = data.loc[(data['days_from_TGE'] < 365) & (data['Category'] != '--'), ['Category', 'days_from_TGE', 'MarketCap(Bln)']].sort_values(by='MarketCap(Bln)', ascending=False)\n",
    "new_tokens = new_tokens.groupby('Category').agg({'MarketCap(Bln)': ['count', 'sum']}).sort_values(by=('MarketCap(Bln)', 'sum'), ascending=False)\n",
    "new_tokens_top = new_tokens[(new_tokens[('MarketCap(Bln)', 'count')] > 6)]\n",
    "new_tokens_top.style.background_gradient(axis=0, low=0.37, cmap='bone').format(\"{:.3f}\")"
   ]
  },
  {
   "cell_type": "code",
   "execution_count": 103,
   "metadata": {},
   "outputs": [
    {
     "data": {
      "application/vnd.plotly.v1+json": {
       "config": {
        "plotlyServerURL": "https://plot.ly"
       },
       "data": [
        {
         "alignmentgroup": "True",
         "cliponaxis": false,
         "hovertemplate": "%{x:.3f} B",
         "legendgroup": "",
         "marker": {
          "color": [
           4.32215,
           3.4526420570100003,
           3.05961184401,
           2.6258471858,
           1.43425519802,
           1.01914702454,
           0.52635,
           0.38630058126,
           0.29450794532,
           0.17952783545,
           0.12393746455,
           0.11618278265,
           0.10202845705000001,
           0.09262639220999999,
           0.08092113738000001,
           0.02952951351,
           0.01427832421,
           0.00638708492
          ],
          "coloraxis": "coloraxis",
          "pattern": {
           "shape": ""
          }
         },
         "name": "",
         "offsetgroup": "",
         "orientation": "h",
         "showlegend": false,
         "textangle": 0,
         "textfont": {
          "size": 12
         },
         "textposition": "outside",
         "texttemplate": "%{x:.3f} B",
         "type": "bar",
         "x": [
          4.32215,
          3.4526420570100003,
          3.05961184401,
          2.6258471858,
          1.43425519802,
          1.01914702454,
          0.52635,
          0.38630058126,
          0.29450794532,
          0.17952783545,
          0.12393746455,
          0.11618278265,
          0.10202845705000001,
          0.09262639220999999,
          0.08092113738000001,
          0.02952951351,
          0.01427832421,
          0.00638708492
         ],
         "xaxis": "x",
         "y": [
          "Blockchain",
          "Stablecoin",
          "Gaming",
          "Bitcoin Ecosystem",
          "Artificial Intelligence (AI)",
          "Meme",
          "Blockchain Service",
          "DeFi",
          "DEX",
          "Ethereum Ecosystem",
          "Trading Bot",
          "Social",
          "Launchpad",
          "NFT",
          "Web 3.0",
          "Polygon Ecosystem",
          "Cryptocurrency",
          "ERC-404"
         ],
         "yaxis": "y"
        }
       ],
       "layout": {
        "autosize": false,
        "barmode": "relative",
        "coloraxis": {
         "colorbar": {
          "title": {
           "text": "color"
          }
         },
         "colorscale": [
          [
           0,
           "rgb(255,0,0)"
          ],
          [
           1,
           "rgb(0,0,255)"
          ]
         ],
         "showscale": false
        },
        "height": 500,
        "legend": {
         "tracegroupgap": 0
        },
        "margin": {
         "b": 0,
         "l": 0,
         "r": 50,
         "t": 50
        },
        "template": {
         "data": {
          "bar": [
           {
            "error_x": {
             "color": "#f2f5fa"
            },
            "error_y": {
             "color": "#f2f5fa"
            },
            "marker": {
             "line": {
              "color": "rgb(17,17,17)",
              "width": 0.5
             },
             "pattern": {
              "fillmode": "overlay",
              "size": 10,
              "solidity": 0.2
             }
            },
            "type": "bar"
           }
          ],
          "barpolar": [
           {
            "marker": {
             "line": {
              "color": "rgb(17,17,17)",
              "width": 0.5
             },
             "pattern": {
              "fillmode": "overlay",
              "size": 10,
              "solidity": 0.2
             }
            },
            "type": "barpolar"
           }
          ],
          "carpet": [
           {
            "aaxis": {
             "endlinecolor": "#A2B1C6",
             "gridcolor": "#506784",
             "linecolor": "#506784",
             "minorgridcolor": "#506784",
             "startlinecolor": "#A2B1C6"
            },
            "baxis": {
             "endlinecolor": "#A2B1C6",
             "gridcolor": "#506784",
             "linecolor": "#506784",
             "minorgridcolor": "#506784",
             "startlinecolor": "#A2B1C6"
            },
            "type": "carpet"
           }
          ],
          "choropleth": [
           {
            "colorbar": {
             "outlinewidth": 0,
             "ticks": ""
            },
            "type": "choropleth"
           }
          ],
          "contour": [
           {
            "colorbar": {
             "outlinewidth": 0,
             "ticks": ""
            },
            "colorscale": [
             [
              0,
              "#0d0887"
             ],
             [
              0.1111111111111111,
              "#46039f"
             ],
             [
              0.2222222222222222,
              "#7201a8"
             ],
             [
              0.3333333333333333,
              "#9c179e"
             ],
             [
              0.4444444444444444,
              "#bd3786"
             ],
             [
              0.5555555555555556,
              "#d8576b"
             ],
             [
              0.6666666666666666,
              "#ed7953"
             ],
             [
              0.7777777777777778,
              "#fb9f3a"
             ],
             [
              0.8888888888888888,
              "#fdca26"
             ],
             [
              1,
              "#f0f921"
             ]
            ],
            "type": "contour"
           }
          ],
          "contourcarpet": [
           {
            "colorbar": {
             "outlinewidth": 0,
             "ticks": ""
            },
            "type": "contourcarpet"
           }
          ],
          "heatmap": [
           {
            "colorbar": {
             "outlinewidth": 0,
             "ticks": ""
            },
            "colorscale": [
             [
              0,
              "#0d0887"
             ],
             [
              0.1111111111111111,
              "#46039f"
             ],
             [
              0.2222222222222222,
              "#7201a8"
             ],
             [
              0.3333333333333333,
              "#9c179e"
             ],
             [
              0.4444444444444444,
              "#bd3786"
             ],
             [
              0.5555555555555556,
              "#d8576b"
             ],
             [
              0.6666666666666666,
              "#ed7953"
             ],
             [
              0.7777777777777778,
              "#fb9f3a"
             ],
             [
              0.8888888888888888,
              "#fdca26"
             ],
             [
              1,
              "#f0f921"
             ]
            ],
            "type": "heatmap"
           }
          ],
          "heatmapgl": [
           {
            "colorbar": {
             "outlinewidth": 0,
             "ticks": ""
            },
            "colorscale": [
             [
              0,
              "#0d0887"
             ],
             [
              0.1111111111111111,
              "#46039f"
             ],
             [
              0.2222222222222222,
              "#7201a8"
             ],
             [
              0.3333333333333333,
              "#9c179e"
             ],
             [
              0.4444444444444444,
              "#bd3786"
             ],
             [
              0.5555555555555556,
              "#d8576b"
             ],
             [
              0.6666666666666666,
              "#ed7953"
             ],
             [
              0.7777777777777778,
              "#fb9f3a"
             ],
             [
              0.8888888888888888,
              "#fdca26"
             ],
             [
              1,
              "#f0f921"
             ]
            ],
            "type": "heatmapgl"
           }
          ],
          "histogram": [
           {
            "marker": {
             "pattern": {
              "fillmode": "overlay",
              "size": 10,
              "solidity": 0.2
             }
            },
            "type": "histogram"
           }
          ],
          "histogram2d": [
           {
            "colorbar": {
             "outlinewidth": 0,
             "ticks": ""
            },
            "colorscale": [
             [
              0,
              "#0d0887"
             ],
             [
              0.1111111111111111,
              "#46039f"
             ],
             [
              0.2222222222222222,
              "#7201a8"
             ],
             [
              0.3333333333333333,
              "#9c179e"
             ],
             [
              0.4444444444444444,
              "#bd3786"
             ],
             [
              0.5555555555555556,
              "#d8576b"
             ],
             [
              0.6666666666666666,
              "#ed7953"
             ],
             [
              0.7777777777777778,
              "#fb9f3a"
             ],
             [
              0.8888888888888888,
              "#fdca26"
             ],
             [
              1,
              "#f0f921"
             ]
            ],
            "type": "histogram2d"
           }
          ],
          "histogram2dcontour": [
           {
            "colorbar": {
             "outlinewidth": 0,
             "ticks": ""
            },
            "colorscale": [
             [
              0,
              "#0d0887"
             ],
             [
              0.1111111111111111,
              "#46039f"
             ],
             [
              0.2222222222222222,
              "#7201a8"
             ],
             [
              0.3333333333333333,
              "#9c179e"
             ],
             [
              0.4444444444444444,
              "#bd3786"
             ],
             [
              0.5555555555555556,
              "#d8576b"
             ],
             [
              0.6666666666666666,
              "#ed7953"
             ],
             [
              0.7777777777777778,
              "#fb9f3a"
             ],
             [
              0.8888888888888888,
              "#fdca26"
             ],
             [
              1,
              "#f0f921"
             ]
            ],
            "type": "histogram2dcontour"
           }
          ],
          "mesh3d": [
           {
            "colorbar": {
             "outlinewidth": 0,
             "ticks": ""
            },
            "type": "mesh3d"
           }
          ],
          "parcoords": [
           {
            "line": {
             "colorbar": {
              "outlinewidth": 0,
              "ticks": ""
             }
            },
            "type": "parcoords"
           }
          ],
          "pie": [
           {
            "automargin": true,
            "type": "pie"
           }
          ],
          "scatter": [
           {
            "marker": {
             "line": {
              "color": "#283442"
             }
            },
            "type": "scatter"
           }
          ],
          "scatter3d": [
           {
            "line": {
             "colorbar": {
              "outlinewidth": 0,
              "ticks": ""
             }
            },
            "marker": {
             "colorbar": {
              "outlinewidth": 0,
              "ticks": ""
             }
            },
            "type": "scatter3d"
           }
          ],
          "scattercarpet": [
           {
            "marker": {
             "colorbar": {
              "outlinewidth": 0,
              "ticks": ""
             }
            },
            "type": "scattercarpet"
           }
          ],
          "scattergeo": [
           {
            "marker": {
             "colorbar": {
              "outlinewidth": 0,
              "ticks": ""
             }
            },
            "type": "scattergeo"
           }
          ],
          "scattergl": [
           {
            "marker": {
             "line": {
              "color": "#283442"
             }
            },
            "type": "scattergl"
           }
          ],
          "scattermapbox": [
           {
            "marker": {
             "colorbar": {
              "outlinewidth": 0,
              "ticks": ""
             }
            },
            "type": "scattermapbox"
           }
          ],
          "scatterpolar": [
           {
            "marker": {
             "colorbar": {
              "outlinewidth": 0,
              "ticks": ""
             }
            },
            "type": "scatterpolar"
           }
          ],
          "scatterpolargl": [
           {
            "marker": {
             "colorbar": {
              "outlinewidth": 0,
              "ticks": ""
             }
            },
            "type": "scatterpolargl"
           }
          ],
          "scatterternary": [
           {
            "marker": {
             "colorbar": {
              "outlinewidth": 0,
              "ticks": ""
             }
            },
            "type": "scatterternary"
           }
          ],
          "surface": [
           {
            "colorbar": {
             "outlinewidth": 0,
             "ticks": ""
            },
            "colorscale": [
             [
              0,
              "#0d0887"
             ],
             [
              0.1111111111111111,
              "#46039f"
             ],
             [
              0.2222222222222222,
              "#7201a8"
             ],
             [
              0.3333333333333333,
              "#9c179e"
             ],
             [
              0.4444444444444444,
              "#bd3786"
             ],
             [
              0.5555555555555556,
              "#d8576b"
             ],
             [
              0.6666666666666666,
              "#ed7953"
             ],
             [
              0.7777777777777778,
              "#fb9f3a"
             ],
             [
              0.8888888888888888,
              "#fdca26"
             ],
             [
              1,
              "#f0f921"
             ]
            ],
            "type": "surface"
           }
          ],
          "table": [
           {
            "cells": {
             "fill": {
              "color": "#506784"
             },
             "line": {
              "color": "rgb(17,17,17)"
             }
            },
            "header": {
             "fill": {
              "color": "#2a3f5f"
             },
             "line": {
              "color": "rgb(17,17,17)"
             }
            },
            "type": "table"
           }
          ]
         },
         "layout": {
          "annotationdefaults": {
           "arrowcolor": "#f2f5fa",
           "arrowhead": 0,
           "arrowwidth": 1
          },
          "autotypenumbers": "strict",
          "coloraxis": {
           "colorbar": {
            "outlinewidth": 0,
            "ticks": ""
           }
          },
          "colorscale": {
           "diverging": [
            [
             0,
             "#8e0152"
            ],
            [
             0.1,
             "#c51b7d"
            ],
            [
             0.2,
             "#de77ae"
            ],
            [
             0.3,
             "#f1b6da"
            ],
            [
             0.4,
             "#fde0ef"
            ],
            [
             0.5,
             "#f7f7f7"
            ],
            [
             0.6,
             "#e6f5d0"
            ],
            [
             0.7,
             "#b8e186"
            ],
            [
             0.8,
             "#7fbc41"
            ],
            [
             0.9,
             "#4d9221"
            ],
            [
             1,
             "#276419"
            ]
           ],
           "sequential": [
            [
             0,
             "#0d0887"
            ],
            [
             0.1111111111111111,
             "#46039f"
            ],
            [
             0.2222222222222222,
             "#7201a8"
            ],
            [
             0.3333333333333333,
             "#9c179e"
            ],
            [
             0.4444444444444444,
             "#bd3786"
            ],
            [
             0.5555555555555556,
             "#d8576b"
            ],
            [
             0.6666666666666666,
             "#ed7953"
            ],
            [
             0.7777777777777778,
             "#fb9f3a"
            ],
            [
             0.8888888888888888,
             "#fdca26"
            ],
            [
             1,
             "#f0f921"
            ]
           ],
           "sequentialminus": [
            [
             0,
             "#0d0887"
            ],
            [
             0.1111111111111111,
             "#46039f"
            ],
            [
             0.2222222222222222,
             "#7201a8"
            ],
            [
             0.3333333333333333,
             "#9c179e"
            ],
            [
             0.4444444444444444,
             "#bd3786"
            ],
            [
             0.5555555555555556,
             "#d8576b"
            ],
            [
             0.6666666666666666,
             "#ed7953"
            ],
            [
             0.7777777777777778,
             "#fb9f3a"
            ],
            [
             0.8888888888888888,
             "#fdca26"
            ],
            [
             1,
             "#f0f921"
            ]
           ]
          },
          "colorway": [
           "#636efa",
           "#EF553B",
           "#00cc96",
           "#ab63fa",
           "#FFA15A",
           "#19d3f3",
           "#FF6692",
           "#B6E880",
           "#FF97FF",
           "#FECB52"
          ],
          "font": {
           "color": "#f2f5fa"
          },
          "geo": {
           "bgcolor": "rgb(17,17,17)",
           "lakecolor": "rgb(17,17,17)",
           "landcolor": "rgb(17,17,17)",
           "showlakes": true,
           "showland": true,
           "subunitcolor": "#506784"
          },
          "hoverlabel": {
           "align": "left"
          },
          "hovermode": "closest",
          "mapbox": {
           "style": "dark"
          },
          "paper_bgcolor": "rgb(17,17,17)",
          "plot_bgcolor": "rgb(17,17,17)",
          "polar": {
           "angularaxis": {
            "gridcolor": "#506784",
            "linecolor": "#506784",
            "ticks": ""
           },
           "bgcolor": "rgb(17,17,17)",
           "radialaxis": {
            "gridcolor": "#506784",
            "linecolor": "#506784",
            "ticks": ""
           }
          },
          "scene": {
           "xaxis": {
            "backgroundcolor": "rgb(17,17,17)",
            "gridcolor": "#506784",
            "gridwidth": 2,
            "linecolor": "#506784",
            "showbackground": true,
            "ticks": "",
            "zerolinecolor": "#C8D4E3"
           },
           "yaxis": {
            "backgroundcolor": "rgb(17,17,17)",
            "gridcolor": "#506784",
            "gridwidth": 2,
            "linecolor": "#506784",
            "showbackground": true,
            "ticks": "",
            "zerolinecolor": "#C8D4E3"
           },
           "zaxis": {
            "backgroundcolor": "rgb(17,17,17)",
            "gridcolor": "#506784",
            "gridwidth": 2,
            "linecolor": "#506784",
            "showbackground": true,
            "ticks": "",
            "zerolinecolor": "#C8D4E3"
           }
          },
          "shapedefaults": {
           "line": {
            "color": "#f2f5fa"
           }
          },
          "sliderdefaults": {
           "bgcolor": "#C8D4E3",
           "bordercolor": "rgb(17,17,17)",
           "borderwidth": 1,
           "tickwidth": 0
          },
          "ternary": {
           "aaxis": {
            "gridcolor": "#506784",
            "linecolor": "#506784",
            "ticks": ""
           },
           "baxis": {
            "gridcolor": "#506784",
            "linecolor": "#506784",
            "ticks": ""
           },
           "bgcolor": "rgb(17,17,17)",
           "caxis": {
            "gridcolor": "#506784",
            "linecolor": "#506784",
            "ticks": ""
           }
          },
          "title": {
           "x": 0.05
          },
          "updatemenudefaults": {
           "bgcolor": "#506784",
           "borderwidth": 0
          },
          "xaxis": {
           "automargin": true,
           "gridcolor": "#283442",
           "linecolor": "#506784",
           "ticks": "",
           "title": {
            "standoff": 15
           },
           "zerolinecolor": "#283442",
           "zerolinewidth": 2
          },
          "yaxis": {
           "automargin": true,
           "gridcolor": "#283442",
           "linecolor": "#506784",
           "ticks": "",
           "title": {
            "standoff": 15
           },
           "zerolinecolor": "#283442",
           "zerolinewidth": 2
          }
         }
        },
        "title": {
         "text": "Market Cap Tokens Launched in the Last Year by Category"
        },
        "width": 800,
        "xaxis": {
         "anchor": "y",
         "domain": [
          0,
          1
         ],
         "showgrid": false,
         "showticklabels": false,
         "title": {
          "text": ""
         },
         "zeroline": false
        },
        "yaxis": {
         "anchor": "x",
         "categoryorder": "total ascending",
         "domain": [
          0,
          1
         ],
         "title": {
          "text": ""
         }
        }
       }
      }
     },
     "metadata": {},
     "output_type": "display_data"
    }
   ],
   "source": [
    "fig = px.bar(new_tokens_top,\n",
    "                y=new_tokens_top.index,\n",
    "                x=new_tokens_top['MarketCap(Bln)']['sum'].values,\n",
    "                color=new_tokens_top['MarketCap(Bln)']['sum'].values,\n",
    "                color_continuous_scale='Bluered_r',\n",
    "                title='Market Cap Tokens Launched in the Last Year by Category',\n",
    "                labels={'y': 'Category', 'x': 'Market Cap (Bln)'},\n",
    "                text_auto=True)\n",
    "    \n",
    "fig.update_traces(textfont_size=12, \n",
    "                  textangle=0, \n",
    "                  textposition=\"outside\", \n",
    "                  cliponaxis=False,\n",
    "                  hovertemplate='%{x:.3f} B', \n",
    "                #   marker=dict(line=dict(color='white', width=0.5)),\n",
    "                  texttemplate='%{x:.3f} B')\n",
    "\n",
    "fig.update_xaxes(showgrid=False, zeroline=False, showticklabels=False, title='')\n",
    "fig.update_yaxes(title='')\n",
    "fig.update_layout(coloraxis_showscale=False,\n",
    "                  yaxis={'categoryorder':'total ascending'},\n",
    "                  autosize=False, width=800, height=500,\n",
    "                  margin=dict(l=0, r=50, t=50, b=0))\n",
    "fig.show()"
   ]
  },
  {
   "cell_type": "code",
   "execution_count": 104,
   "metadata": {},
   "outputs": [
    {
     "data": {
      "application/vnd.plotly.v1+json": {
       "config": {
        "plotlyServerURL": "https://plot.ly"
       },
       "data": [
        {
         "type": "bar",
         "x": [
          "Blockchain",
          "Stablecoin",
          "Gaming",
          "Bitcoin Ecosystem",
          "Artificial Intelligence (AI)",
          "Meme",
          "Blockchain Service",
          "DeFi",
          "DEX",
          "Ethereum Ecosystem",
          "Trading Bot",
          "Social",
          "Launchpad",
          "NFT",
          "Web 3.0",
          "Polygon Ecosystem",
          "Cryptocurrency",
          "ERC-404"
         ],
         "xaxis": "x",
         "y": [
          4.32215,
          3.4526420570100003,
          3.05961184401,
          2.6258471858,
          1.43425519802,
          1.01914702454,
          0.52635,
          0.38630058126,
          0.29450794532,
          0.17952783545,
          0.12393746455,
          0.11618278265,
          0.10202845705000001,
          0.09262639220999999,
          0.08092113738000001,
          0.02952951351,
          0.01427832421,
          0.00638708492
         ],
         "yaxis": "y"
        },
        {
         "type": "bar",
         "x": [
          "Blockchain",
          "Stablecoin",
          "Gaming",
          "Bitcoin Ecosystem",
          "Artificial Intelligence (AI)",
          "Meme",
          "Blockchain Service",
          "DeFi",
          "DEX",
          "Ethereum Ecosystem",
          "Trading Bot",
          "Social",
          "Launchpad",
          "NFT",
          "Web 3.0",
          "Polygon Ecosystem",
          "Cryptocurrency",
          "ERC-404"
         ],
         "xaxis": "x",
         "y": [
          12,
          9,
          31,
          13,
          15,
          80,
          8,
          29,
          15,
          25,
          9,
          10,
          8,
          14,
          9,
          7,
          7,
          10
         ],
         "yaxis": "y2"
        }
       ],
       "layout": {
        "autosize": false,
        "bargap": 0.15,
        "bargroupgap": 0.1,
        "barmode": "group",
        "height": 500,
        "margin": {
         "b": 0,
         "l": 80,
         "r": 50,
         "t": 50
        },
        "template": {
         "data": {
          "bar": [
           {
            "error_x": {
             "color": "#f2f5fa"
            },
            "error_y": {
             "color": "#f2f5fa"
            },
            "marker": {
             "line": {
              "color": "rgb(17,17,17)",
              "width": 0.5
             },
             "pattern": {
              "fillmode": "overlay",
              "size": 10,
              "solidity": 0.2
             }
            },
            "type": "bar"
           }
          ],
          "barpolar": [
           {
            "marker": {
             "line": {
              "color": "rgb(17,17,17)",
              "width": 0.5
             },
             "pattern": {
              "fillmode": "overlay",
              "size": 10,
              "solidity": 0.2
             }
            },
            "type": "barpolar"
           }
          ],
          "carpet": [
           {
            "aaxis": {
             "endlinecolor": "#A2B1C6",
             "gridcolor": "#506784",
             "linecolor": "#506784",
             "minorgridcolor": "#506784",
             "startlinecolor": "#A2B1C6"
            },
            "baxis": {
             "endlinecolor": "#A2B1C6",
             "gridcolor": "#506784",
             "linecolor": "#506784",
             "minorgridcolor": "#506784",
             "startlinecolor": "#A2B1C6"
            },
            "type": "carpet"
           }
          ],
          "choropleth": [
           {
            "colorbar": {
             "outlinewidth": 0,
             "ticks": ""
            },
            "type": "choropleth"
           }
          ],
          "contour": [
           {
            "colorbar": {
             "outlinewidth": 0,
             "ticks": ""
            },
            "colorscale": [
             [
              0,
              "#0d0887"
             ],
             [
              0.1111111111111111,
              "#46039f"
             ],
             [
              0.2222222222222222,
              "#7201a8"
             ],
             [
              0.3333333333333333,
              "#9c179e"
             ],
             [
              0.4444444444444444,
              "#bd3786"
             ],
             [
              0.5555555555555556,
              "#d8576b"
             ],
             [
              0.6666666666666666,
              "#ed7953"
             ],
             [
              0.7777777777777778,
              "#fb9f3a"
             ],
             [
              0.8888888888888888,
              "#fdca26"
             ],
             [
              1,
              "#f0f921"
             ]
            ],
            "type": "contour"
           }
          ],
          "contourcarpet": [
           {
            "colorbar": {
             "outlinewidth": 0,
             "ticks": ""
            },
            "type": "contourcarpet"
           }
          ],
          "heatmap": [
           {
            "colorbar": {
             "outlinewidth": 0,
             "ticks": ""
            },
            "colorscale": [
             [
              0,
              "#0d0887"
             ],
             [
              0.1111111111111111,
              "#46039f"
             ],
             [
              0.2222222222222222,
              "#7201a8"
             ],
             [
              0.3333333333333333,
              "#9c179e"
             ],
             [
              0.4444444444444444,
              "#bd3786"
             ],
             [
              0.5555555555555556,
              "#d8576b"
             ],
             [
              0.6666666666666666,
              "#ed7953"
             ],
             [
              0.7777777777777778,
              "#fb9f3a"
             ],
             [
              0.8888888888888888,
              "#fdca26"
             ],
             [
              1,
              "#f0f921"
             ]
            ],
            "type": "heatmap"
           }
          ],
          "heatmapgl": [
           {
            "colorbar": {
             "outlinewidth": 0,
             "ticks": ""
            },
            "colorscale": [
             [
              0,
              "#0d0887"
             ],
             [
              0.1111111111111111,
              "#46039f"
             ],
             [
              0.2222222222222222,
              "#7201a8"
             ],
             [
              0.3333333333333333,
              "#9c179e"
             ],
             [
              0.4444444444444444,
              "#bd3786"
             ],
             [
              0.5555555555555556,
              "#d8576b"
             ],
             [
              0.6666666666666666,
              "#ed7953"
             ],
             [
              0.7777777777777778,
              "#fb9f3a"
             ],
             [
              0.8888888888888888,
              "#fdca26"
             ],
             [
              1,
              "#f0f921"
             ]
            ],
            "type": "heatmapgl"
           }
          ],
          "histogram": [
           {
            "marker": {
             "pattern": {
              "fillmode": "overlay",
              "size": 10,
              "solidity": 0.2
             }
            },
            "type": "histogram"
           }
          ],
          "histogram2d": [
           {
            "colorbar": {
             "outlinewidth": 0,
             "ticks": ""
            },
            "colorscale": [
             [
              0,
              "#0d0887"
             ],
             [
              0.1111111111111111,
              "#46039f"
             ],
             [
              0.2222222222222222,
              "#7201a8"
             ],
             [
              0.3333333333333333,
              "#9c179e"
             ],
             [
              0.4444444444444444,
              "#bd3786"
             ],
             [
              0.5555555555555556,
              "#d8576b"
             ],
             [
              0.6666666666666666,
              "#ed7953"
             ],
             [
              0.7777777777777778,
              "#fb9f3a"
             ],
             [
              0.8888888888888888,
              "#fdca26"
             ],
             [
              1,
              "#f0f921"
             ]
            ],
            "type": "histogram2d"
           }
          ],
          "histogram2dcontour": [
           {
            "colorbar": {
             "outlinewidth": 0,
             "ticks": ""
            },
            "colorscale": [
             [
              0,
              "#0d0887"
             ],
             [
              0.1111111111111111,
              "#46039f"
             ],
             [
              0.2222222222222222,
              "#7201a8"
             ],
             [
              0.3333333333333333,
              "#9c179e"
             ],
             [
              0.4444444444444444,
              "#bd3786"
             ],
             [
              0.5555555555555556,
              "#d8576b"
             ],
             [
              0.6666666666666666,
              "#ed7953"
             ],
             [
              0.7777777777777778,
              "#fb9f3a"
             ],
             [
              0.8888888888888888,
              "#fdca26"
             ],
             [
              1,
              "#f0f921"
             ]
            ],
            "type": "histogram2dcontour"
           }
          ],
          "mesh3d": [
           {
            "colorbar": {
             "outlinewidth": 0,
             "ticks": ""
            },
            "type": "mesh3d"
           }
          ],
          "parcoords": [
           {
            "line": {
             "colorbar": {
              "outlinewidth": 0,
              "ticks": ""
             }
            },
            "type": "parcoords"
           }
          ],
          "pie": [
           {
            "automargin": true,
            "type": "pie"
           }
          ],
          "scatter": [
           {
            "marker": {
             "line": {
              "color": "#283442"
             }
            },
            "type": "scatter"
           }
          ],
          "scatter3d": [
           {
            "line": {
             "colorbar": {
              "outlinewidth": 0,
              "ticks": ""
             }
            },
            "marker": {
             "colorbar": {
              "outlinewidth": 0,
              "ticks": ""
             }
            },
            "type": "scatter3d"
           }
          ],
          "scattercarpet": [
           {
            "marker": {
             "colorbar": {
              "outlinewidth": 0,
              "ticks": ""
             }
            },
            "type": "scattercarpet"
           }
          ],
          "scattergeo": [
           {
            "marker": {
             "colorbar": {
              "outlinewidth": 0,
              "ticks": ""
             }
            },
            "type": "scattergeo"
           }
          ],
          "scattergl": [
           {
            "marker": {
             "line": {
              "color": "#283442"
             }
            },
            "type": "scattergl"
           }
          ],
          "scattermapbox": [
           {
            "marker": {
             "colorbar": {
              "outlinewidth": 0,
              "ticks": ""
             }
            },
            "type": "scattermapbox"
           }
          ],
          "scatterpolar": [
           {
            "marker": {
             "colorbar": {
              "outlinewidth": 0,
              "ticks": ""
             }
            },
            "type": "scatterpolar"
           }
          ],
          "scatterpolargl": [
           {
            "marker": {
             "colorbar": {
              "outlinewidth": 0,
              "ticks": ""
             }
            },
            "type": "scatterpolargl"
           }
          ],
          "scatterternary": [
           {
            "marker": {
             "colorbar": {
              "outlinewidth": 0,
              "ticks": ""
             }
            },
            "type": "scatterternary"
           }
          ],
          "surface": [
           {
            "colorbar": {
             "outlinewidth": 0,
             "ticks": ""
            },
            "colorscale": [
             [
              0,
              "#0d0887"
             ],
             [
              0.1111111111111111,
              "#46039f"
             ],
             [
              0.2222222222222222,
              "#7201a8"
             ],
             [
              0.3333333333333333,
              "#9c179e"
             ],
             [
              0.4444444444444444,
              "#bd3786"
             ],
             [
              0.5555555555555556,
              "#d8576b"
             ],
             [
              0.6666666666666666,
              "#ed7953"
             ],
             [
              0.7777777777777778,
              "#fb9f3a"
             ],
             [
              0.8888888888888888,
              "#fdca26"
             ],
             [
              1,
              "#f0f921"
             ]
            ],
            "type": "surface"
           }
          ],
          "table": [
           {
            "cells": {
             "fill": {
              "color": "#506784"
             },
             "line": {
              "color": "rgb(17,17,17)"
             }
            },
            "header": {
             "fill": {
              "color": "#2a3f5f"
             },
             "line": {
              "color": "rgb(17,17,17)"
             }
            },
            "type": "table"
           }
          ]
         },
         "layout": {
          "annotationdefaults": {
           "arrowcolor": "#f2f5fa",
           "arrowhead": 0,
           "arrowwidth": 1
          },
          "autotypenumbers": "strict",
          "coloraxis": {
           "colorbar": {
            "outlinewidth": 0,
            "ticks": ""
           }
          },
          "colorscale": {
           "diverging": [
            [
             0,
             "#8e0152"
            ],
            [
             0.1,
             "#c51b7d"
            ],
            [
             0.2,
             "#de77ae"
            ],
            [
             0.3,
             "#f1b6da"
            ],
            [
             0.4,
             "#fde0ef"
            ],
            [
             0.5,
             "#f7f7f7"
            ],
            [
             0.6,
             "#e6f5d0"
            ],
            [
             0.7,
             "#b8e186"
            ],
            [
             0.8,
             "#7fbc41"
            ],
            [
             0.9,
             "#4d9221"
            ],
            [
             1,
             "#276419"
            ]
           ],
           "sequential": [
            [
             0,
             "#0d0887"
            ],
            [
             0.1111111111111111,
             "#46039f"
            ],
            [
             0.2222222222222222,
             "#7201a8"
            ],
            [
             0.3333333333333333,
             "#9c179e"
            ],
            [
             0.4444444444444444,
             "#bd3786"
            ],
            [
             0.5555555555555556,
             "#d8576b"
            ],
            [
             0.6666666666666666,
             "#ed7953"
            ],
            [
             0.7777777777777778,
             "#fb9f3a"
            ],
            [
             0.8888888888888888,
             "#fdca26"
            ],
            [
             1,
             "#f0f921"
            ]
           ],
           "sequentialminus": [
            [
             0,
             "#0d0887"
            ],
            [
             0.1111111111111111,
             "#46039f"
            ],
            [
             0.2222222222222222,
             "#7201a8"
            ],
            [
             0.3333333333333333,
             "#9c179e"
            ],
            [
             0.4444444444444444,
             "#bd3786"
            ],
            [
             0.5555555555555556,
             "#d8576b"
            ],
            [
             0.6666666666666666,
             "#ed7953"
            ],
            [
             0.7777777777777778,
             "#fb9f3a"
            ],
            [
             0.8888888888888888,
             "#fdca26"
            ],
            [
             1,
             "#f0f921"
            ]
           ]
          },
          "colorway": [
           "#636efa",
           "#EF553B",
           "#00cc96",
           "#ab63fa",
           "#FFA15A",
           "#19d3f3",
           "#FF6692",
           "#B6E880",
           "#FF97FF",
           "#FECB52"
          ],
          "font": {
           "color": "#f2f5fa"
          },
          "geo": {
           "bgcolor": "rgb(17,17,17)",
           "lakecolor": "rgb(17,17,17)",
           "landcolor": "rgb(17,17,17)",
           "showlakes": true,
           "showland": true,
           "subunitcolor": "#506784"
          },
          "hoverlabel": {
           "align": "left"
          },
          "hovermode": "closest",
          "mapbox": {
           "style": "dark"
          },
          "paper_bgcolor": "rgb(17,17,17)",
          "plot_bgcolor": "rgb(17,17,17)",
          "polar": {
           "angularaxis": {
            "gridcolor": "#506784",
            "linecolor": "#506784",
            "ticks": ""
           },
           "bgcolor": "rgb(17,17,17)",
           "radialaxis": {
            "gridcolor": "#506784",
            "linecolor": "#506784",
            "ticks": ""
           }
          },
          "scene": {
           "xaxis": {
            "backgroundcolor": "rgb(17,17,17)",
            "gridcolor": "#506784",
            "gridwidth": 2,
            "linecolor": "#506784",
            "showbackground": true,
            "ticks": "",
            "zerolinecolor": "#C8D4E3"
           },
           "yaxis": {
            "backgroundcolor": "rgb(17,17,17)",
            "gridcolor": "#506784",
            "gridwidth": 2,
            "linecolor": "#506784",
            "showbackground": true,
            "ticks": "",
            "zerolinecolor": "#C8D4E3"
           },
           "zaxis": {
            "backgroundcolor": "rgb(17,17,17)",
            "gridcolor": "#506784",
            "gridwidth": 2,
            "linecolor": "#506784",
            "showbackground": true,
            "ticks": "",
            "zerolinecolor": "#C8D4E3"
           }
          },
          "shapedefaults": {
           "line": {
            "color": "#f2f5fa"
           }
          },
          "sliderdefaults": {
           "bgcolor": "#C8D4E3",
           "bordercolor": "rgb(17,17,17)",
           "borderwidth": 1,
           "tickwidth": 0
          },
          "ternary": {
           "aaxis": {
            "gridcolor": "#506784",
            "linecolor": "#506784",
            "ticks": ""
           },
           "baxis": {
            "gridcolor": "#506784",
            "linecolor": "#506784",
            "ticks": ""
           },
           "bgcolor": "rgb(17,17,17)",
           "caxis": {
            "gridcolor": "#506784",
            "linecolor": "#506784",
            "ticks": ""
           }
          },
          "title": {
           "x": 0.05
          },
          "updatemenudefaults": {
           "bgcolor": "#506784",
           "borderwidth": 0
          },
          "xaxis": {
           "automargin": true,
           "gridcolor": "#283442",
           "linecolor": "#506784",
           "ticks": "",
           "title": {
            "standoff": 15
           },
           "zerolinecolor": "#283442",
           "zerolinewidth": 2
          },
          "yaxis": {
           "automargin": true,
           "gridcolor": "#283442",
           "linecolor": "#506784",
           "ticks": "",
           "title": {
            "standoff": 15
           },
           "zerolinecolor": "#283442",
           "zerolinewidth": 2
          }
         }
        },
        "title": {
         "text": "Market Cap Tokens Launched in the Last Year by Category"
        },
        "width": 800,
        "xaxis": {
         "anchor": "y",
         "domain": [
          0,
          0.94
         ],
         "tickangle": -45,
         "title": {
          "text": "Category"
         }
        },
        "yaxis": {
         "anchor": "x",
         "domain": [
          0,
          1
         ],
         "title": {
          "text": "Market Cap (Bln)"
         }
        },
        "yaxis2": {
         "anchor": "x",
         "overlaying": "y",
         "side": "right"
        }
       }
      }
     },
     "metadata": {},
     "output_type": "display_data"
    }
   ],
   "source": [
    "fig = make_subplots(specs=[[{\"secondary_y\": True}]])\n",
    "fig.add_trace(go.Bar(\n",
    "    x=new_tokens_top.index,\n",
    "    y=new_tokens_top['MarketCap(Bln)']['sum'].values),   \n",
    "    # name='Primary Product',\n",
    "\n",
    "    secondary_y=False\n",
    ")\n",
    "fig.add_trace(go.Bar(\n",
    "    x=new_tokens_top.index,\n",
    "    y=new_tokens_top['MarketCap(Bln)']['count'].values),\n",
    "    # name='Secondary Product',\n",
    "\n",
    "    secondary_y=True\n",
    ")\n",
    "# add secondary y-axis for 'count'\n",
    "fig.update_layout(\n",
    "    title='Market Cap Tokens Launched in the Last Year by Category',\n",
    "    xaxis_tickangle=-45,\n",
    "    xaxis_title='Category',\n",
    "    yaxis_title='Market Cap (Bln)',\n",
    "    barmode='group',\n",
    "    bargap=0.15, # gap between bars of adjacent location coordinates.\n",
    "    bargroupgap=0.1, # gap between bars of the same location coordinates.\n",
    "    autosize=False, width=800, height=500,\n",
    "    margin=dict(l=80, r=50, t=50, b=0)\n",
    ")\n",
    "fig.layout.template = 'plotly_dark'\n",
    "# fig.update_layout(barmode='group', xaxis_tickangle=-45)\n",
    "fig.show()"
   ]
  },
  {
   "cell_type": "markdown",
   "metadata": {},
   "source": [
    "## FDV exploting by category"
   ]
  },
  {
   "cell_type": "markdown",
   "metadata": {},
   "source": [
    "Lets also create a few new ratios"
   ]
  },
  {
   "cell_type": "code",
   "execution_count": 105,
   "metadata": {},
   "outputs": [],
   "source": [
    "data['FDV/MarketCap'] = data['FDV'] / data['MarketCap(Bln)']\n",
    "data['Raised/Cap'] = data['FundsRaised'] / data['MarketCap(Bln)']"
   ]
  },
  {
   "cell_type": "code",
   "execution_count": 106,
   "metadata": {},
   "outputs": [
    {
     "data": {
      "text/html": [
       "<style type=\"text/css\">\n",
       "#T_facf3_row0_col0, #T_facf3_row4_col1, #T_facf3_row27_col4, #T_facf3_row28_col0, #T_facf3_row45_col5, #T_facf3_row46_col5 {\n",
       "  background-color: #42425d;\n",
       "  color: #f1f1f1;\n",
       "}\n",
       "#T_facf3_row0_col1, #T_facf3_row37_col0, #T_facf3_row50_col0, #T_facf3_row53_col6 {\n",
       "  background-color: #404059;\n",
       "  color: #f1f1f1;\n",
       "}\n",
       "#T_facf3_row0_col2, #T_facf3_row0_col7, #T_facf3_row1_col0, #T_facf3_row1_col1, #T_facf3_row2_col2, #T_facf3_row3_col2, #T_facf3_row3_col7, #T_facf3_row5_col0, #T_facf3_row6_col1, #T_facf3_row7_col0, #T_facf3_row8_col1, #T_facf3_row12_col1, #T_facf3_row12_col7, #T_facf3_row14_col1, #T_facf3_row16_col1, #T_facf3_row19_col1, #T_facf3_row27_col1, #T_facf3_row27_col7, #T_facf3_row28_col1, #T_facf3_row28_col2, #T_facf3_row28_col7, #T_facf3_row30_col1, #T_facf3_row32_col1, #T_facf3_row33_col0, #T_facf3_row38_col0, #T_facf3_row40_col1 {\n",
       "  background-color: #3d3d55;\n",
       "  color: #f1f1f1;\n",
       "}\n",
       "#T_facf3_row0_col3, #T_facf3_row1_col3, #T_facf3_row2_col3, #T_facf3_row3_col3, #T_facf3_row4_col3, #T_facf3_row5_col3, #T_facf3_row6_col3, #T_facf3_row7_col3, #T_facf3_row8_col3, #T_facf3_row9_col3, #T_facf3_row10_col3, #T_facf3_row11_col3, #T_facf3_row12_col3, #T_facf3_row13_col3, #T_facf3_row14_col3, #T_facf3_row15_col3, #T_facf3_row18_col3, #T_facf3_row19_col3, #T_facf3_row20_col3, #T_facf3_row23_col3, #T_facf3_row24_col3, #T_facf3_row26_col3, #T_facf3_row30_col3, #T_facf3_row32_col3, #T_facf3_row34_col3, #T_facf3_row35_col3, #T_facf3_row36_col3, #T_facf3_row37_col3, #T_facf3_row38_col3, #T_facf3_row39_col3, #T_facf3_row40_col3, #T_facf3_row41_col3, #T_facf3_row43_col3, #T_facf3_row45_col3, #T_facf3_row46_col3, #T_facf3_row47_col3, #T_facf3_row48_col3, #T_facf3_row49_col3, #T_facf3_row50_col3, #T_facf3_row51_col3, #T_facf3_row52_col3, #T_facf3_row53_col3, #T_facf3_row54_col3, #T_facf3_row55_col3 {\n",
       "  background-color: #e6efef;\n",
       "  color: #000000;\n",
       "}\n",
       "#T_facf3_row0_col4 {\n",
       "  background-color: #8aa0aa;\n",
       "  color: #f1f1f1;\n",
       "}\n",
       "#T_facf3_row0_col5, #T_facf3_row2_col4, #T_facf3_row13_col1, #T_facf3_row13_col2, #T_facf3_row13_col7, #T_facf3_row18_col6, #T_facf3_row27_col0, #T_facf3_row29_col3 {\n",
       "  background-color: #ffffff;\n",
       "  color: #000000;\n",
       "}\n",
       "#T_facf3_row0_col6 {\n",
       "  background-color: #f1f6f6;\n",
       "  color: #000000;\n",
       "}\n",
       "#T_facf3_row1_col2, #T_facf3_row1_col7, #T_facf3_row2_col7, #T_facf3_row5_col1, #T_facf3_row5_col2, #T_facf3_row5_col7, #T_facf3_row6_col0, #T_facf3_row6_col2, #T_facf3_row6_col7, #T_facf3_row7_col1, #T_facf3_row7_col2, #T_facf3_row7_col7, #T_facf3_row8_col2, #T_facf3_row8_col7, #T_facf3_row9_col1, #T_facf3_row9_col2, #T_facf3_row9_col7, #T_facf3_row11_col1, #T_facf3_row11_col2, #T_facf3_row11_col7, #T_facf3_row12_col2, #T_facf3_row14_col2, #T_facf3_row14_col7, #T_facf3_row15_col0, #T_facf3_row15_col1, #T_facf3_row15_col2, #T_facf3_row15_col7, #T_facf3_row16_col2, #T_facf3_row16_col7, #T_facf3_row19_col2, #T_facf3_row19_col7, #T_facf3_row20_col1, #T_facf3_row20_col2, #T_facf3_row20_col7, #T_facf3_row21_col1, #T_facf3_row21_col2, #T_facf3_row21_col7, #T_facf3_row22_col1, #T_facf3_row22_col2, #T_facf3_row22_col7, #T_facf3_row24_col0, #T_facf3_row24_col1, #T_facf3_row24_col2, #T_facf3_row24_col7, #T_facf3_row25_col1, #T_facf3_row25_col2, #T_facf3_row25_col7, #T_facf3_row26_col0, #T_facf3_row26_col1, #T_facf3_row26_col2, #T_facf3_row26_col7, #T_facf3_row27_col2, #T_facf3_row27_col3, #T_facf3_row28_col4, #T_facf3_row29_col0, #T_facf3_row29_col1, #T_facf3_row29_col2, #T_facf3_row29_col7, #T_facf3_row30_col2, #T_facf3_row30_col7, #T_facf3_row31_col4, #T_facf3_row32_col2, #T_facf3_row32_col7, #T_facf3_row33_col1, #T_facf3_row33_col2, #T_facf3_row33_col7, #T_facf3_row34_col1, #T_facf3_row34_col2, #T_facf3_row34_col7, #T_facf3_row35_col4, #T_facf3_row36_col1, #T_facf3_row36_col2, #T_facf3_row36_col7, #T_facf3_row37_col1, #T_facf3_row37_col2, #T_facf3_row37_col7, #T_facf3_row38_col1, #T_facf3_row38_col2, #T_facf3_row38_col7, #T_facf3_row39_col1, #T_facf3_row39_col2, #T_facf3_row39_col7, #T_facf3_row40_col2, #T_facf3_row40_col7, #T_facf3_row43_col1, #T_facf3_row43_col2, #T_facf3_row43_col7, #T_facf3_row44_col1, #T_facf3_row44_col2, #T_facf3_row44_col4, #T_facf3_row44_col7, #T_facf3_row45_col4, #T_facf3_row46_col1, #T_facf3_row46_col2, #T_facf3_row46_col4, #T_facf3_row46_col7, #T_facf3_row47_col1, #T_facf3_row47_col2, #T_facf3_row47_col4, #T_facf3_row47_col5, #T_facf3_row47_col7, #T_facf3_row48_col1, #T_facf3_row48_col2, #T_facf3_row48_col4, #T_facf3_row48_col5, #T_facf3_row48_col7, #T_facf3_row49_col1, #T_facf3_row49_col2, #T_facf3_row49_col4, #T_facf3_row49_col5, #T_facf3_row49_col7, #T_facf3_row50_col1, #T_facf3_row50_col2, #T_facf3_row50_col4, #T_facf3_row50_col5, #T_facf3_row50_col6, #T_facf3_row50_col7, #T_facf3_row51_col1, #T_facf3_row51_col2, #T_facf3_row51_col4, #T_facf3_row51_col5, #T_facf3_row51_col6, #T_facf3_row51_col7, #T_facf3_row52_col1, #T_facf3_row52_col2, #T_facf3_row52_col4, #T_facf3_row52_col5, #T_facf3_row52_col6, #T_facf3_row52_col7, #T_facf3_row53_col0, #T_facf3_row53_col1, #T_facf3_row53_col2, #T_facf3_row53_col4, #T_facf3_row53_col5, #T_facf3_row53_col7, #T_facf3_row54_col0, #T_facf3_row54_col1, #T_facf3_row54_col2, #T_facf3_row54_col4, #T_facf3_row54_col5, #T_facf3_row54_col7, #T_facf3_row55_col1, #T_facf3_row55_col2, #T_facf3_row55_col4, #T_facf3_row55_col5, #T_facf3_row55_col6, #T_facf3_row55_col7 {\n",
       "  background-color: #3c3c54;\n",
       "  color: #f1f1f1;\n",
       "}\n",
       "#T_facf3_row1_col4 {\n",
       "  background-color: #778597;\n",
       "  color: #f1f1f1;\n",
       "}\n",
       "#T_facf3_row1_col5, #T_facf3_row2_col5 {\n",
       "  background-color: #ccdfdf;\n",
       "  color: #000000;\n",
       "}\n",
       "#T_facf3_row1_col6 {\n",
       "  background-color: #90a8b0;\n",
       "  color: #f1f1f1;\n",
       "}\n",
       "#T_facf3_row2_col0, #T_facf3_row2_col1, #T_facf3_row3_col0, #T_facf3_row4_col7, #T_facf3_row17_col1, #T_facf3_row17_col2, #T_facf3_row31_col1, #T_facf3_row31_col2, #T_facf3_row31_col3, #T_facf3_row40_col4, #T_facf3_row41_col1, #T_facf3_row41_col2, #T_facf3_row41_col4, #T_facf3_row41_col7, #T_facf3_row52_col0 {\n",
       "  background-color: #3e3e56;\n",
       "  color: #f1f1f1;\n",
       "}\n",
       "#T_facf3_row2_col6 {\n",
       "  background-color: #7a8a9a;\n",
       "  color: #f1f1f1;\n",
       "}\n",
       "#T_facf3_row3_col1, #T_facf3_row4_col2, #T_facf3_row11_col0, #T_facf3_row20_col0, #T_facf3_row31_col7, #T_facf3_row35_col1, #T_facf3_row35_col2, #T_facf3_row35_col7, #T_facf3_row39_col4, #T_facf3_row43_col0, #T_facf3_row46_col0, #T_facf3_row49_col6, #T_facf3_row51_col0 {\n",
       "  background-color: #3f3f58;\n",
       "  color: #f1f1f1;\n",
       "}\n",
       "#T_facf3_row3_col4 {\n",
       "  background-color: #c8dcdc;\n",
       "  color: #000000;\n",
       "}\n",
       "#T_facf3_row3_col5 {\n",
       "  background-color: #9ab5ba;\n",
       "  color: #000000;\n",
       "}\n",
       "#T_facf3_row3_col6 {\n",
       "  background-color: #727e92;\n",
       "  color: #f1f1f1;\n",
       "}\n",
       "#T_facf3_row4_col0, #T_facf3_row36_col0, #T_facf3_row42_col4 {\n",
       "  background-color: #43435e;\n",
       "  color: #f1f1f1;\n",
       "}\n",
       "#T_facf3_row4_col4, #T_facf3_row10_col5 {\n",
       "  background-color: #788698;\n",
       "  color: #f1f1f1;\n",
       "}\n",
       "#T_facf3_row4_col5 {\n",
       "  background-color: #92aab2;\n",
       "  color: #f1f1f1;\n",
       "}\n",
       "#T_facf3_row4_col6 {\n",
       "  background-color: #a5c5c5;\n",
       "  color: #000000;\n",
       "}\n",
       "#T_facf3_row5_col4, #T_facf3_row28_col5 {\n",
       "  background-color: #515171;\n",
       "  color: #f1f1f1;\n",
       "}\n",
       "#T_facf3_row5_col5 {\n",
       "  background-color: #8da3ad;\n",
       "  color: #f1f1f1;\n",
       "}\n",
       "#T_facf3_row5_col6, #T_facf3_row7_col6 {\n",
       "  background-color: #697289;\n",
       "  color: #f1f1f1;\n",
       "}\n",
       "#T_facf3_row6_col4 {\n",
       "  background-color: #f4f8f8;\n",
       "  color: #000000;\n",
       "}\n",
       "#T_facf3_row6_col5 {\n",
       "  background-color: #8ca2ac;\n",
       "  color: #f1f1f1;\n",
       "}\n",
       "#T_facf3_row6_col6 {\n",
       "  background-color: #737f92;\n",
       "  color: #f1f1f1;\n",
       "}\n",
       "#T_facf3_row7_col4, #T_facf3_row42_col3 {\n",
       "  background-color: #a2c0c2;\n",
       "  color: #000000;\n",
       "}\n",
       "#T_facf3_row7_col5 {\n",
       "  background-color: #8497a4;\n",
       "  color: #f1f1f1;\n",
       "}\n",
       "#T_facf3_row8_col0, #T_facf3_row23_col4, #T_facf3_row28_col3, #T_facf3_row30_col0, #T_facf3_row36_col6, #T_facf3_row55_col0 {\n",
       "  background-color: #4e4e6c;\n",
       "  color: #f1f1f1;\n",
       "}\n",
       "#T_facf3_row8_col4 {\n",
       "  background-color: #869aa6;\n",
       "  color: #f1f1f1;\n",
       "}\n",
       "#T_facf3_row8_col5, #T_facf3_row12_col4 {\n",
       "  background-color: #7c8c9c;\n",
       "  color: #f1f1f1;\n",
       "}\n",
       "#T_facf3_row8_col6, #T_facf3_row22_col4, #T_facf3_row22_col6 {\n",
       "  background-color: #616781;\n",
       "  color: #f1f1f1;\n",
       "}\n",
       "#T_facf3_row9_col0, #T_facf3_row32_col4, #T_facf3_row33_col6, #T_facf3_row41_col5 {\n",
       "  background-color: #494965;\n",
       "  color: #f1f1f1;\n",
       "}\n",
       "#T_facf3_row9_col4 {\n",
       "  background-color: #a7c7c7;\n",
       "  color: #000000;\n",
       "}\n",
       "#T_facf3_row9_col5 {\n",
       "  background-color: #7a8999;\n",
       "  color: #f1f1f1;\n",
       "}\n",
       "#T_facf3_row9_col6, #T_facf3_row16_col6, #T_facf3_row19_col5 {\n",
       "  background-color: #606680;\n",
       "  color: #f1f1f1;\n",
       "}\n",
       "#T_facf3_row10_col0, #T_facf3_row25_col0, #T_facf3_row47_col6, #T_facf3_row48_col6 {\n",
       "  background-color: #42425b;\n",
       "  color: #f1f1f1;\n",
       "}\n",
       "#T_facf3_row10_col1, #T_facf3_row21_col4, #T_facf3_row23_col7, #T_facf3_row39_col0, #T_facf3_row45_col6 {\n",
       "  background-color: #4a4a67;\n",
       "  color: #f1f1f1;\n",
       "}\n",
       "#T_facf3_row10_col2, #T_facf3_row18_col2, #T_facf3_row19_col0, #T_facf3_row42_col1, #T_facf3_row46_col6 {\n",
       "  background-color: #484864;\n",
       "  color: #f1f1f1;\n",
       "}\n",
       "#T_facf3_row10_col4, #T_facf3_row13_col6 {\n",
       "  background-color: #798799;\n",
       "  color: #f1f1f1;\n",
       "}\n",
       "#T_facf3_row10_col6, #T_facf3_row20_col5, #T_facf3_row35_col6, #T_facf3_row42_col6 {\n",
       "  background-color: #5f657f;\n",
       "  color: #f1f1f1;\n",
       "}\n",
       "#T_facf3_row10_col7, #T_facf3_row13_col0, #T_facf3_row16_col0, #T_facf3_row47_col0 {\n",
       "  background-color: #464661;\n",
       "  color: #f1f1f1;\n",
       "}\n",
       "#T_facf3_row11_col4 {\n",
       "  background-color: #95aeb5;\n",
       "  color: #f1f1f1;\n",
       "}\n",
       "#T_facf3_row11_col5 {\n",
       "  background-color: #758395;\n",
       "  color: #f1f1f1;\n",
       "}\n",
       "#T_facf3_row11_col6, #T_facf3_row30_col6 {\n",
       "  background-color: #5b5f7b;\n",
       "  color: #f1f1f1;\n",
       "}\n",
       "#T_facf3_row12_col0 {\n",
       "  background-color: #98b3b8;\n",
       "  color: #000000;\n",
       "}\n",
       "#T_facf3_row12_col5, #T_facf3_row44_col0, #T_facf3_row44_col3 {\n",
       "  background-color: #748194;\n",
       "  color: #f1f1f1;\n",
       "}\n",
       "#T_facf3_row12_col6 {\n",
       "  background-color: #7d8d9d;\n",
       "  color: #f1f1f1;\n",
       "}\n",
       "#T_facf3_row13_col4 {\n",
       "  background-color: #8598a5;\n",
       "  color: #f1f1f1;\n",
       "}\n",
       "#T_facf3_row13_col5 {\n",
       "  background-color: #717d91;\n",
       "  color: #f1f1f1;\n",
       "}\n",
       "#T_facf3_row14_col0, #T_facf3_row34_col6, #T_facf3_row41_col6, #T_facf3_row44_col5 {\n",
       "  background-color: #44445f;\n",
       "  color: #f1f1f1;\n",
       "}\n",
       "#T_facf3_row14_col4, #T_facf3_row17_col5, #T_facf3_row20_col6, #T_facf3_row29_col4 {\n",
       "  background-color: #676f87;\n",
       "  color: #f1f1f1;\n",
       "}\n",
       "#T_facf3_row14_col5, #T_facf3_row15_col5 {\n",
       "  background-color: #6f7a8f;\n",
       "  color: #f1f1f1;\n",
       "}\n",
       "#T_facf3_row14_col6, #T_facf3_row16_col4 {\n",
       "  background-color: #7b8b9b;\n",
       "  color: #f1f1f1;\n",
       "}\n",
       "#T_facf3_row15_col4, #T_facf3_row26_col4, #T_facf3_row32_col6 {\n",
       "  background-color: #646b84;\n",
       "  color: #f1f1f1;\n",
       "}\n",
       "#T_facf3_row15_col6, #T_facf3_row21_col5, #T_facf3_row29_col6 {\n",
       "  background-color: #5e637e;\n",
       "  color: #f1f1f1;\n",
       "}\n",
       "#T_facf3_row16_col3 {\n",
       "  background-color: #889da8;\n",
       "  color: #f1f1f1;\n",
       "}\n",
       "#T_facf3_row16_col5, #T_facf3_row19_col6 {\n",
       "  background-color: #6a738a;\n",
       "  color: #f1f1f1;\n",
       "}\n",
       "#T_facf3_row17_col0 {\n",
       "  background-color: #8194a1;\n",
       "  color: #f1f1f1;\n",
       "}\n",
       "#T_facf3_row17_col3 {\n",
       "  background-color: #c7dbdb;\n",
       "  color: #000000;\n",
       "}\n",
       "#T_facf3_row17_col4, #T_facf3_row26_col5, #T_facf3_row27_col6, #T_facf3_row40_col6, #T_facf3_row45_col1 {\n",
       "  background-color: #545574;\n",
       "  color: #f1f1f1;\n",
       "}\n",
       "#T_facf3_row17_col6 {\n",
       "  background-color: #6d788d;\n",
       "  color: #f1f1f1;\n",
       "}\n",
       "#T_facf3_row17_col7, #T_facf3_row34_col0, #T_facf3_row43_col6, #T_facf3_row54_col6 {\n",
       "  background-color: #41415a;\n",
       "  color: #f1f1f1;\n",
       "}\n",
       "#T_facf3_row18_col0, #T_facf3_row23_col0, #T_facf3_row44_col6 {\n",
       "  background-color: #454560;\n",
       "  color: #f1f1f1;\n",
       "}\n",
       "#T_facf3_row18_col1, #T_facf3_row32_col0, #T_facf3_row42_col2, #T_facf3_row43_col4, #T_facf3_row45_col0 {\n",
       "  background-color: #4a4966;\n",
       "  color: #f1f1f1;\n",
       "}\n",
       "#T_facf3_row18_col4, #T_facf3_row20_col4, #T_facf3_row26_col6 {\n",
       "  background-color: #585b78;\n",
       "  color: #f1f1f1;\n",
       "}\n",
       "#T_facf3_row18_col5 {\n",
       "  background-color: #626882;\n",
       "  color: #f1f1f1;\n",
       "}\n",
       "#T_facf3_row18_col7, #T_facf3_row22_col0, #T_facf3_row37_col4, #T_facf3_row41_col0, #T_facf3_row42_col5, #T_facf3_row43_col5 {\n",
       "  background-color: #474763;\n",
       "  color: #f1f1f1;\n",
       "}\n",
       "#T_facf3_row19_col4, #T_facf3_row36_col4, #T_facf3_row40_col0 {\n",
       "  background-color: #505070;\n",
       "  color: #f1f1f1;\n",
       "}\n",
       "#T_facf3_row21_col0, #T_facf3_row24_col4, #T_facf3_row30_col4 {\n",
       "  background-color: #5e627d;\n",
       "  color: #f1f1f1;\n",
       "}\n",
       "#T_facf3_row21_col3 {\n",
       "  background-color: #91a9b1;\n",
       "  color: #f1f1f1;\n",
       "}\n",
       "#T_facf3_row21_col6 {\n",
       "  background-color: #636983;\n",
       "  color: #f1f1f1;\n",
       "}\n",
       "#T_facf3_row22_col3 {\n",
       "  background-color: #edf4f4;\n",
       "  color: #000000;\n",
       "}\n",
       "#T_facf3_row22_col5, #T_facf3_row23_col5, #T_facf3_row24_col5 {\n",
       "  background-color: #5c607c;\n",
       "  color: #f1f1f1;\n",
       "}\n",
       "#T_facf3_row23_col1, #T_facf3_row34_col4, #T_facf3_row34_col5, #T_facf3_row35_col5, #T_facf3_row36_col5 {\n",
       "  background-color: #4c4c6a;\n",
       "  color: #f1f1f1;\n",
       "}\n",
       "#T_facf3_row23_col2, #T_facf3_row37_col5, #T_facf3_row38_col5, #T_facf3_row39_col5, #T_facf3_row40_col5, #T_facf3_row42_col0, #T_facf3_row42_col7 {\n",
       "  background-color: #4b4b69;\n",
       "  color: #f1f1f1;\n",
       "}\n",
       "#T_facf3_row23_col6, #T_facf3_row31_col5, #T_facf3_row35_col0 {\n",
       "  background-color: #4f4f6e;\n",
       "  color: #f1f1f1;\n",
       "}\n",
       "#T_facf3_row24_col6 {\n",
       "  background-color: #555675;\n",
       "  color: #f1f1f1;\n",
       "}\n",
       "#T_facf3_row25_col3 {\n",
       "  background-color: #8ba1ab;\n",
       "  color: #f1f1f1;\n",
       "}\n",
       "#T_facf3_row25_col4, #T_facf3_row27_col5 {\n",
       "  background-color: #535473;\n",
       "  color: #f1f1f1;\n",
       "}\n",
       "#T_facf3_row25_col5, #T_facf3_row31_col0, #T_facf3_row38_col6, #T_facf3_row45_col7 {\n",
       "  background-color: #595c79;\n",
       "  color: #f1f1f1;\n",
       "}\n",
       "#T_facf3_row25_col6, #T_facf3_row28_col6, #T_facf3_row38_col4 {\n",
       "  background-color: #525372;\n",
       "  color: #f1f1f1;\n",
       "}\n",
       "#T_facf3_row29_col5, #T_facf3_row30_col5, #T_facf3_row33_col4, #T_facf3_row39_col6 {\n",
       "  background-color: #50506f;\n",
       "  color: #f1f1f1;\n",
       "}\n",
       "#T_facf3_row31_col6 {\n",
       "  background-color: #687188;\n",
       "  color: #f1f1f1;\n",
       "}\n",
       "#T_facf3_row32_col5, #T_facf3_row33_col5, #T_facf3_row49_col0 {\n",
       "  background-color: #4d4d6b;\n",
       "  color: #f1f1f1;\n",
       "}\n",
       "#T_facf3_row33_col3 {\n",
       "  background-color: #e8f0f0;\n",
       "  color: #000000;\n",
       "}\n",
       "#T_facf3_row37_col6 {\n",
       "  background-color: #575a77;\n",
       "  color: #f1f1f1;\n",
       "}\n",
       "#T_facf3_row45_col2 {\n",
       "  background-color: #575976;\n",
       "  color: #f1f1f1;\n",
       "}\n",
       "#T_facf3_row48_col0 {\n",
       "  background-color: #8091a0;\n",
       "  color: #f1f1f1;\n",
       "}\n",
       "</style>\n",
       "<table id=\"T_facf3\">\n",
       "  <thead>\n",
       "    <tr>\n",
       "      <th class=\"blank level0\" >&nbsp;</th>\n",
       "      <th id=\"T_facf3_level0_col0\" class=\"col_heading level0 col0\" >count</th>\n",
       "      <th id=\"T_facf3_level0_col1\" class=\"col_heading level0 col1\" >mean</th>\n",
       "      <th id=\"T_facf3_level0_col2\" class=\"col_heading level0 col2\" >std</th>\n",
       "      <th id=\"T_facf3_level0_col3\" class=\"col_heading level0 col3\" >min</th>\n",
       "      <th id=\"T_facf3_level0_col4\" class=\"col_heading level0 col4\" >25%</th>\n",
       "      <th id=\"T_facf3_level0_col5\" class=\"col_heading level0 col5\" >50%</th>\n",
       "      <th id=\"T_facf3_level0_col6\" class=\"col_heading level0 col6\" >75%</th>\n",
       "      <th id=\"T_facf3_level0_col7\" class=\"col_heading level0 col7\" >max</th>\n",
       "    </tr>\n",
       "    <tr>\n",
       "      <th class=\"index_name level0\" >Category</th>\n",
       "      <th class=\"blank col0\" >&nbsp;</th>\n",
       "      <th class=\"blank col1\" >&nbsp;</th>\n",
       "      <th class=\"blank col2\" >&nbsp;</th>\n",
       "      <th class=\"blank col3\" >&nbsp;</th>\n",
       "      <th class=\"blank col4\" >&nbsp;</th>\n",
       "      <th class=\"blank col5\" >&nbsp;</th>\n",
       "      <th class=\"blank col6\" >&nbsp;</th>\n",
       "      <th class=\"blank col7\" >&nbsp;</th>\n",
       "    </tr>\n",
       "  </thead>\n",
       "  <tbody>\n",
       "    <tr>\n",
       "      <th id=\"T_facf3_level0_row0\" class=\"row_heading level0 row0\" >Web 3.0</th>\n",
       "      <td id=\"T_facf3_row0_col0\" class=\"data row0 col0\" >17.00</td>\n",
       "      <td id=\"T_facf3_row0_col1\" class=\"data row0 col1\" >18.82</td>\n",
       "      <td id=\"T_facf3_row0_col2\" class=\"data row0 col2\" >30.87</td>\n",
       "      <td id=\"T_facf3_row0_col3\" class=\"data row0 col3\" >1.00</td>\n",
       "      <td id=\"T_facf3_row0_col4\" class=\"data row0 col4\" >1.72</td>\n",
       "      <td id=\"T_facf3_row0_col5\" class=\"data row0 col5\" >6.22</td>\n",
       "      <td id=\"T_facf3_row0_col6\" class=\"data row0 col6\" >16.07</td>\n",
       "      <td id=\"T_facf3_row0_col7\" class=\"data row0 col7\" >100.00</td>\n",
       "    </tr>\n",
       "    <tr>\n",
       "      <th id=\"T_facf3_level0_row1\" class=\"row_heading level0 row1\" >BSCPad IDO</th>\n",
       "      <td id=\"T_facf3_row1_col0\" class=\"data row1 col0\" >9.00</td>\n",
       "      <td id=\"T_facf3_row1_col1\" class=\"data row1 col1\" >7.87</td>\n",
       "      <td id=\"T_facf3_row1_col2\" class=\"data row1 col2\" >9.07</td>\n",
       "      <td id=\"T_facf3_row1_col3\" class=\"data row1 col3\" >1.00</td>\n",
       "      <td id=\"T_facf3_row1_col4\" class=\"data row1 col4\" >1.54</td>\n",
       "      <td id=\"T_facf3_row1_col5\" class=\"data row1 col5\" >5.17</td>\n",
       "      <td id=\"T_facf3_row1_col6\" class=\"data row1 col6\" >9.23</td>\n",
       "      <td id=\"T_facf3_row1_col7\" class=\"data row1 col7\" >30.03</td>\n",
       "    </tr>\n",
       "    <tr>\n",
       "      <th id=\"T_facf3_level0_row2\" class=\"row_heading level0 row2\" >Avalanche Ecosystem</th>\n",
       "      <td id=\"T_facf3_row2_col0\" class=\"data row2 col0\" >10.00</td>\n",
       "      <td id=\"T_facf3_row2_col1\" class=\"data row2 col1\" >11.71</td>\n",
       "      <td id=\"T_facf3_row2_col2\" class=\"data row2 col2\" >17.88</td>\n",
       "      <td id=\"T_facf3_row2_col3\" class=\"data row2 col3\" >1.00</td>\n",
       "      <td id=\"T_facf3_row2_col4\" class=\"data row2 col4\" >2.51</td>\n",
       "      <td id=\"T_facf3_row2_col5\" class=\"data row2 col5\" >5.17</td>\n",
       "      <td id=\"T_facf3_row2_col6\" class=\"data row2 col6\" >7.13</td>\n",
       "      <td id=\"T_facf3_row2_col7\" class=\"data row2 col7\" >57.70</td>\n",
       "    </tr>\n",
       "    <tr>\n",
       "      <th id=\"T_facf3_level0_row3\" class=\"row_heading level0 row3\" >Arbitrum Ecosystem</th>\n",
       "      <td id=\"T_facf3_row3_col0\" class=\"data row3 col0\" >10.00</td>\n",
       "      <td id=\"T_facf3_row3_col1\" class=\"data row3 col1\" >14.09</td>\n",
       "      <td id=\"T_facf3_row3_col2\" class=\"data row3 col2\" >30.41</td>\n",
       "      <td id=\"T_facf3_row3_col3\" class=\"data row3 col3\" >1.00</td>\n",
       "      <td id=\"T_facf3_row3_col4\" class=\"data row3 col4\" >2.18</td>\n",
       "      <td id=\"T_facf3_row3_col5\" class=\"data row3 col5\" >4.00</td>\n",
       "      <td id=\"T_facf3_row3_col6\" class=\"data row3 col6\" >6.25</td>\n",
       "      <td id=\"T_facf3_row3_col7\" class=\"data row3 col7\" >99.94</td>\n",
       "    </tr>\n",
       "    <tr>\n",
       "      <th id=\"T_facf3_level0_row4\" class=\"row_heading level0 row4\" >Solana Ecosystem</th>\n",
       "      <td id=\"T_facf3_row4_col0\" class=\"data row4 col0\" >18.00</td>\n",
       "      <td id=\"T_facf3_row4_col1\" class=\"data row4 col1\" >30.66</td>\n",
       "      <td id=\"T_facf3_row4_col2\" class=\"data row4 col2\" >73.84</td>\n",
       "      <td id=\"T_facf3_row4_col3\" class=\"data row4 col3\" >1.00</td>\n",
       "      <td id=\"T_facf3_row4_col4\" class=\"data row4 col4\" >1.55</td>\n",
       "      <td id=\"T_facf3_row4_col5\" class=\"data row4 col5\" >3.76</td>\n",
       "      <td id=\"T_facf3_row4_col6\" class=\"data row4 col6\" >11.33</td>\n",
       "      <td id=\"T_facf3_row4_col7\" class=\"data row4 col7\" >245.76</td>\n",
       "    </tr>\n",
       "    <tr>\n",
       "      <th id=\"T_facf3_level0_row5\" class=\"row_heading level0 row5\" >AMM</th>\n",
       "      <td id=\"T_facf3_row5_col0\" class=\"data row5 col0\" >9.00</td>\n",
       "      <td id=\"T_facf3_row5_col1\" class=\"data row5 col1\" >3.90</td>\n",
       "      <td id=\"T_facf3_row5_col2\" class=\"data row5 col2\" >3.25</td>\n",
       "      <td id=\"T_facf3_row5_col3\" class=\"data row5 col3\" >1.00</td>\n",
       "      <td id=\"T_facf3_row5_col4\" class=\"data row5 col4\" >1.19</td>\n",
       "      <td id=\"T_facf3_row5_col5\" class=\"data row5 col5\" >3.57</td>\n",
       "      <td id=\"T_facf3_row5_col6\" class=\"data row5 col6\" >5.37</td>\n",
       "      <td id=\"T_facf3_row5_col7\" class=\"data row5 col7\" >10.27</td>\n",
       "    </tr>\n",
       "    <tr>\n",
       "      <th id=\"T_facf3_level0_row6\" class=\"row_heading level0 row6\" >Entertainment</th>\n",
       "      <td id=\"T_facf3_row6_col0\" class=\"data row6 col0\" >8.00</td>\n",
       "      <td id=\"T_facf3_row6_col1\" class=\"data row6 col1\" >5.12</td>\n",
       "      <td id=\"T_facf3_row6_col2\" class=\"data row6 col2\" >4.48</td>\n",
       "      <td id=\"T_facf3_row6_col3\" class=\"data row6 col3\" >1.00</td>\n",
       "      <td id=\"T_facf3_row6_col4\" class=\"data row6 col4\" >2.44</td>\n",
       "      <td id=\"T_facf3_row6_col5\" class=\"data row6 col5\" >3.55</td>\n",
       "      <td id=\"T_facf3_row6_col6\" class=\"data row6 col6\" >6.36</td>\n",
       "      <td id=\"T_facf3_row6_col7\" class=\"data row6 col7\" >14.16</td>\n",
       "    </tr>\n",
       "    <tr>\n",
       "      <th id=\"T_facf3_level0_row7\" class=\"row_heading level0 row7\" >Ignition IDO</th>\n",
       "      <td id=\"T_facf3_row7_col0\" class=\"data row7 col0\" >9.00</td>\n",
       "      <td id=\"T_facf3_row7_col1\" class=\"data row7 col1\" >4.49</td>\n",
       "      <td id=\"T_facf3_row7_col2\" class=\"data row7 col2\" >3.68</td>\n",
       "      <td id=\"T_facf3_row7_col3\" class=\"data row7 col3\" >1.00</td>\n",
       "      <td id=\"T_facf3_row7_col4\" class=\"data row7 col4\" >1.94</td>\n",
       "      <td id=\"T_facf3_row7_col5\" class=\"data row7 col5\" >3.29</td>\n",
       "      <td id=\"T_facf3_row7_col6\" class=\"data row7 col6\" >5.40</td>\n",
       "      <td id=\"T_facf3_row7_col7\" class=\"data row7 col7\" >11.28</td>\n",
       "    </tr>\n",
       "    <tr>\n",
       "      <th id=\"T_facf3_level0_row8\" class=\"row_heading level0 row8\" >Sport</th>\n",
       "      <td id=\"T_facf3_row8_col0\" class=\"data row8 col0\" >35.00</td>\n",
       "      <td id=\"T_facf3_row8_col1\" class=\"data row8 col1\" >4.86</td>\n",
       "      <td id=\"T_facf3_row8_col2\" class=\"data row8 col2\" >7.24</td>\n",
       "      <td id=\"T_facf3_row8_col3\" class=\"data row8 col3\" >1.00</td>\n",
       "      <td id=\"T_facf3_row8_col4\" class=\"data row8 col4\" >1.68</td>\n",
       "      <td id=\"T_facf3_row8_col5\" class=\"data row8 col5\" >3.06</td>\n",
       "      <td id=\"T_facf3_row8_col6\" class=\"data row8 col6\" >4.61</td>\n",
       "      <td id=\"T_facf3_row8_col7\" class=\"data row8 col7\" >42.68</td>\n",
       "    </tr>\n",
       "    <tr>\n",
       "      <th id=\"T_facf3_level0_row9\" class=\"row_heading level0 row9\" >Fan Token</th>\n",
       "      <td id=\"T_facf3_row9_col0\" class=\"data row9 col0\" >27.00</td>\n",
       "      <td id=\"T_facf3_row9_col1\" class=\"data row9 col1\" >3.99</td>\n",
       "      <td id=\"T_facf3_row9_col2\" class=\"data row9 col2\" >4.00</td>\n",
       "      <td id=\"T_facf3_row9_col3\" class=\"data row9 col3\" >1.00</td>\n",
       "      <td id=\"T_facf3_row9_col4\" class=\"data row9 col4\" >1.99</td>\n",
       "      <td id=\"T_facf3_row9_col5\" class=\"data row9 col5\" >2.97</td>\n",
       "      <td id=\"T_facf3_row9_col6\" class=\"data row9 col6\" >4.53</td>\n",
       "      <td id=\"T_facf3_row9_col7\" class=\"data row9 col7\" >18.31</td>\n",
       "    </tr>\n",
       "    <tr>\n",
       "      <th id=\"T_facf3_level0_row10\" class=\"row_heading level0 row10\" >Lending Platform</th>\n",
       "      <td id=\"T_facf3_row10_col0\" class=\"data row10 col0\" >16.00</td>\n",
       "      <td id=\"T_facf3_row10_col1\" class=\"data row10 col1\" >68.02</td>\n",
       "      <td id=\"T_facf3_row10_col2\" class=\"data row10 col2\" >256.73</td>\n",
       "      <td id=\"T_facf3_row10_col3\" class=\"data row10 col3\" >1.00</td>\n",
       "      <td id=\"T_facf3_row10_col4\" class=\"data row10 col4\" >1.56</td>\n",
       "      <td id=\"T_facf3_row10_col5\" class=\"data row10 col5\" >2.90</td>\n",
       "      <td id=\"T_facf3_row10_col6\" class=\"data row10 col6\" >4.46</td>\n",
       "      <td id=\"T_facf3_row10_col7\" class=\"data row10 col7\" >1030.67</td>\n",
       "    </tr>\n",
       "    <tr>\n",
       "      <th id=\"T_facf3_level0_row11\" class=\"row_heading level0 row11\" >Gate.io Launchpad</th>\n",
       "      <td id=\"T_facf3_row11_col0\" class=\"data row11 col0\" >11.00</td>\n",
       "      <td id=\"T_facf3_row11_col1\" class=\"data row11 col1\" >2.93</td>\n",
       "      <td id=\"T_facf3_row11_col2\" class=\"data row11 col2\" >1.30</td>\n",
       "      <td id=\"T_facf3_row11_col3\" class=\"data row11 col3\" >1.00</td>\n",
       "      <td id=\"T_facf3_row11_col4\" class=\"data row11 col4\" >1.82</td>\n",
       "      <td id=\"T_facf3_row11_col5\" class=\"data row11 col5\" >2.81</td>\n",
       "      <td id=\"T_facf3_row11_col6\" class=\"data row11 col6\" >4.02</td>\n",
       "      <td id=\"T_facf3_row11_col7\" class=\"data row11 col7\" >4.93</td>\n",
       "    </tr>\n",
       "    <tr>\n",
       "      <th id=\"T_facf3_level0_row12\" class=\"row_heading level0 row12\" >Gaming</th>\n",
       "      <td id=\"T_facf3_row12_col0\" class=\"data row12 col0\" >154.00</td>\n",
       "      <td id=\"T_facf3_row12_col1\" class=\"data row12 col1\" >8.24</td>\n",
       "      <td id=\"T_facf3_row12_col2\" class=\"data row12 col2\" >16.46</td>\n",
       "      <td id=\"T_facf3_row12_col3\" class=\"data row12 col3\" >1.00</td>\n",
       "      <td id=\"T_facf3_row12_col4\" class=\"data row12 col4\" >1.59</td>\n",
       "      <td id=\"T_facf3_row12_col5\" class=\"data row12 col5\" >2.79</td>\n",
       "      <td id=\"T_facf3_row12_col6\" class=\"data row12 col6\" >7.39</td>\n",
       "      <td id=\"T_facf3_row12_col7\" class=\"data row12 col7\" >112.77</td>\n",
       "    </tr>\n",
       "    <tr>\n",
       "      <th id=\"T_facf3_level0_row13\" class=\"row_heading level0 row13\" >Social</th>\n",
       "      <td id=\"T_facf3_row13_col0\" class=\"data row13 col0\" >23.00</td>\n",
       "      <td id=\"T_facf3_row13_col1\" class=\"data row13 col1\" >789.88</td>\n",
       "      <td id=\"T_facf3_row13_col2\" class=\"data row13 col2\" >3635.97</td>\n",
       "      <td id=\"T_facf3_row13_col3\" class=\"data row13 col3\" >1.00</td>\n",
       "      <td id=\"T_facf3_row13_col4\" class=\"data row13 col4\" >1.67</td>\n",
       "      <td id=\"T_facf3_row13_col5\" class=\"data row13 col5\" >2.67</td>\n",
       "      <td id=\"T_facf3_row13_col6\" class=\"data row13 col6\" >6.90</td>\n",
       "      <td id=\"T_facf3_row13_col7\" class=\"data row13 col7\" >17461.50</td>\n",
       "    </tr>\n",
       "    <tr>\n",
       "      <th id=\"T_facf3_level0_row14\" class=\"row_heading level0 row14\" >Blockchain Service</th>\n",
       "      <td id=\"T_facf3_row14_col0\" class=\"data row14 col0\" >20.00</td>\n",
       "      <td id=\"T_facf3_row14_col1\" class=\"data row14 col1\" >7.69</td>\n",
       "      <td id=\"T_facf3_row14_col2\" class=\"data row14 col2\" >11.31</td>\n",
       "      <td id=\"T_facf3_row14_col3\" class=\"data row14 col3\" >1.00</td>\n",
       "      <td id=\"T_facf3_row14_col4\" class=\"data row14 col4\" >1.40</td>\n",
       "      <td id=\"T_facf3_row14_col5\" class=\"data row14 col5\" >2.64</td>\n",
       "      <td id=\"T_facf3_row14_col6\" class=\"data row14 col6\" >7.22</td>\n",
       "      <td id=\"T_facf3_row14_col7\" class=\"data row14 col7\" >46.58</td>\n",
       "    </tr>\n",
       "    <tr>\n",
       "      <th id=\"T_facf3_level0_row15\" class=\"row_heading level0 row15\" >Liquid Staking</th>\n",
       "      <td id=\"T_facf3_row15_col0\" class=\"data row15 col0\" >7.00</td>\n",
       "      <td id=\"T_facf3_row15_col1\" class=\"data row15 col1\" >3.37</td>\n",
       "      <td id=\"T_facf3_row15_col2\" class=\"data row15 col2\" >2.73</td>\n",
       "      <td id=\"T_facf3_row15_col3\" class=\"data row15 col3\" >1.00</td>\n",
       "      <td id=\"T_facf3_row15_col4\" class=\"data row15 col4\" >1.37</td>\n",
       "      <td id=\"T_facf3_row15_col5\" class=\"data row15 col5\" >2.62</td>\n",
       "      <td id=\"T_facf3_row15_col6\" class=\"data row15 col6\" >4.36</td>\n",
       "      <td id=\"T_facf3_row15_col7\" class=\"data row15 col7\" >8.53</td>\n",
       "    </tr>\n",
       "    <tr>\n",
       "      <th id=\"T_facf3_level0_row16\" class=\"row_heading level0 row16\" >Play to Earn</th>\n",
       "      <td id=\"T_facf3_row16_col0\" class=\"data row16 col0\" >23.00</td>\n",
       "      <td id=\"T_facf3_row16_col1\" class=\"data row16 col1\" >5.60</td>\n",
       "      <td id=\"T_facf3_row16_col2\" class=\"data row16 col2\" >8.51</td>\n",
       "      <td id=\"T_facf3_row16_col3\" class=\"data row16 col3\" >0.53</td>\n",
       "      <td id=\"T_facf3_row16_col4\" class=\"data row16 col4\" >1.58</td>\n",
       "      <td id=\"T_facf3_row16_col5\" class=\"data row16 col5\" >2.47</td>\n",
       "      <td id=\"T_facf3_row16_col6\" class=\"data row16 col6\" >4.53</td>\n",
       "      <td id=\"T_facf3_row16_col7\" class=\"data row16 col7\" >35.17</td>\n",
       "    </tr>\n",
       "    <tr>\n",
       "      <th id=\"T_facf3_level0_row17\" class=\"row_heading level0 row17\" >NFT</th>\n",
       "      <td id=\"T_facf3_row17_col0\" class=\"data row17 col0\" >118.00</td>\n",
       "      <td id=\"T_facf3_row17_col1\" class=\"data row17 col1\" >11.73</td>\n",
       "      <td id=\"T_facf3_row17_col2\" class=\"data row17 col2\" >53.05</td>\n",
       "      <td id=\"T_facf3_row17_col3\" class=\"data row17 col3\" >0.87</td>\n",
       "      <td id=\"T_facf3_row17_col4\" class=\"data row17 col4\" >1.22</td>\n",
       "      <td id=\"T_facf3_row17_col5\" class=\"data row17 col5\" >2.38</td>\n",
       "      <td id=\"T_facf3_row17_col6\" class=\"data row17 col6\" >5.85</td>\n",
       "      <td id=\"T_facf3_row17_col7\" class=\"data row17 col7\" >476.19</td>\n",
       "    </tr>\n",
       "    <tr>\n",
       "      <th id=\"T_facf3_level0_row18\" class=\"row_heading level0 row18\" >Artificial Intelligence (AI)</th>\n",
       "      <td id=\"T_facf3_row18_col0\" class=\"data row18 col0\" >22.00</td>\n",
       "      <td id=\"T_facf3_row18_col1\" class=\"data row18 col1\" >66.84</td>\n",
       "      <td id=\"T_facf3_row18_col2\" class=\"data row18 col2\" >250.32</td>\n",
       "      <td id=\"T_facf3_row18_col3\" class=\"data row18 col3\" >1.00</td>\n",
       "      <td id=\"T_facf3_row18_col4\" class=\"data row18 col4\" >1.26</td>\n",
       "      <td id=\"T_facf3_row18_col5\" class=\"data row18 col5\" >2.21</td>\n",
       "      <td id=\"T_facf3_row18_col6\" class=\"data row18 col6\" >17.01</td>\n",
       "      <td id=\"T_facf3_row18_col7\" class=\"data row18 col7\" >1182.68</td>\n",
       "    </tr>\n",
       "    <tr>\n",
       "      <th id=\"T_facf3_level0_row19\" class=\"row_heading level0 row19\" >Protocol</th>\n",
       "      <td id=\"T_facf3_row19_col0\" class=\"data row19 col0\" >26.00</td>\n",
       "      <td id=\"T_facf3_row19_col1\" class=\"data row19 col1\" >5.46</td>\n",
       "      <td id=\"T_facf3_row19_col2\" class=\"data row19 col2\" >9.78</td>\n",
       "      <td id=\"T_facf3_row19_col3\" class=\"data row19 col3\" >1.00</td>\n",
       "      <td id=\"T_facf3_row19_col4\" class=\"data row19 col4\" >1.19</td>\n",
       "      <td id=\"T_facf3_row19_col5\" class=\"data row19 col5\" >2.16</td>\n",
       "      <td id=\"T_facf3_row19_col6\" class=\"data row19 col6\" >5.52</td>\n",
       "      <td id=\"T_facf3_row19_col7\" class=\"data row19 col7\" >50.30</td>\n",
       "    </tr>\n",
       "    <tr>\n",
       "      <th id=\"T_facf3_level0_row20\" class=\"row_heading level0 row20\" >Polkastarter IDO</th>\n",
       "      <td id=\"T_facf3_row20_col0\" class=\"data row20 col0\" >11.00</td>\n",
       "      <td id=\"T_facf3_row20_col1\" class=\"data row20 col1\" >3.78</td>\n",
       "      <td id=\"T_facf3_row20_col2\" class=\"data row20 col2\" >3.58</td>\n",
       "      <td id=\"T_facf3_row20_col3\" class=\"data row20 col3\" >1.00</td>\n",
       "      <td id=\"T_facf3_row20_col4\" class=\"data row20 col4\" >1.26</td>\n",
       "      <td id=\"T_facf3_row20_col5\" class=\"data row20 col5\" >2.14</td>\n",
       "      <td id=\"T_facf3_row20_col6\" class=\"data row20 col6\" >5.19</td>\n",
       "      <td id=\"T_facf3_row20_col7\" class=\"data row20 col7\" >12.79</td>\n",
       "    </tr>\n",
       "    <tr>\n",
       "      <th id=\"T_facf3_level0_row21\" class=\"row_heading level0 row21\" >DEX</th>\n",
       "      <td id=\"T_facf3_row21_col0\" class=\"data row21 col0\" >61.00</td>\n",
       "      <td id=\"T_facf3_row21_col1\" class=\"data row21 col1\" >4.15</td>\n",
       "      <td id=\"T_facf3_row21_col2\" class=\"data row21 col2\" >5.18</td>\n",
       "      <td id=\"T_facf3_row21_col3\" class=\"data row21 col3\" >0.59</td>\n",
       "      <td id=\"T_facf3_row21_col4\" class=\"data row21 col4\" >1.13</td>\n",
       "      <td id=\"T_facf3_row21_col5\" class=\"data row21 col5\" >2.10</td>\n",
       "      <td id=\"T_facf3_row21_col6\" class=\"data row21 col6\" >4.82</td>\n",
       "      <td id=\"T_facf3_row21_col7\" class=\"data row21 col7\" >28.89</td>\n",
       "    </tr>\n",
       "    <tr>\n",
       "      <th id=\"T_facf3_level0_row22\" class=\"row_heading level0 row22\" >Oracle</th>\n",
       "      <td id=\"T_facf3_row22_col0\" class=\"data row22 col0\" >24.00</td>\n",
       "      <td id=\"T_facf3_row22_col1\" class=\"data row22 col1\" >4.23</td>\n",
       "      <td id=\"T_facf3_row22_col2\" class=\"data row22 col2\" >5.42</td>\n",
       "      <td id=\"T_facf3_row22_col3\" class=\"data row22 col3\" >1.03</td>\n",
       "      <td id=\"T_facf3_row22_col4\" class=\"data row22 col4\" >1.35</td>\n",
       "      <td id=\"T_facf3_row22_col5\" class=\"data row22 col5\" >2.02</td>\n",
       "      <td id=\"T_facf3_row22_col6\" class=\"data row22 col6\" >4.62</td>\n",
       "      <td id=\"T_facf3_row22_col7\" class=\"data row22 col7\" >25.38</td>\n",
       "    </tr>\n",
       "    <tr>\n",
       "      <th id=\"T_facf3_level0_row23\" class=\"row_heading level0 row23\" >Metaverse</th>\n",
       "      <td id=\"T_facf3_row23_col0\" class=\"data row23 col0\" >21.00</td>\n",
       "      <td id=\"T_facf3_row23_col1\" class=\"data row23 col1\" >76.81</td>\n",
       "      <td id=\"T_facf3_row23_col2\" class=\"data row23 col2\" >334.59</td>\n",
       "      <td id=\"T_facf3_row23_col3\" class=\"data row23 col3\" >1.00</td>\n",
       "      <td id=\"T_facf3_row23_col4\" class=\"data row23 col4\" >1.16</td>\n",
       "      <td id=\"T_facf3_row23_col5\" class=\"data row23 col5\" >2.01</td>\n",
       "      <td id=\"T_facf3_row23_col6\" class=\"data row23 col6\" >2.82</td>\n",
       "      <td id=\"T_facf3_row23_col7\" class=\"data row23 col7\" >1536.82</td>\n",
       "    </tr>\n",
       "    <tr>\n",
       "      <th id=\"T_facf3_level0_row24\" class=\"row_heading level0 row24\" >Governance</th>\n",
       "      <td id=\"T_facf3_row24_col0\" class=\"data row24 col0\" >7.00</td>\n",
       "      <td id=\"T_facf3_row24_col1\" class=\"data row24 col1\" >2.47</td>\n",
       "      <td id=\"T_facf3_row24_col2\" class=\"data row24 col2\" >1.62</td>\n",
       "      <td id=\"T_facf3_row24_col3\" class=\"data row24 col3\" >1.00</td>\n",
       "      <td id=\"T_facf3_row24_col4\" class=\"data row24 col4\" >1.31</td>\n",
       "      <td id=\"T_facf3_row24_col5\" class=\"data row24 col5\" >2.00</td>\n",
       "      <td id=\"T_facf3_row24_col6\" class=\"data row24 col6\" >3.43</td>\n",
       "      <td id=\"T_facf3_row24_col7\" class=\"data row24 col7\" >4.78</td>\n",
       "    </tr>\n",
       "    <tr>\n",
       "      <th id=\"T_facf3_level0_row25\" class=\"row_heading level0 row25\" >Wallet</th>\n",
       "      <td id=\"T_facf3_row25_col0\" class=\"data row25 col0\" >16.00</td>\n",
       "      <td id=\"T_facf3_row25_col1\" class=\"data row25 col1\" >2.43</td>\n",
       "      <td id=\"T_facf3_row25_col2\" class=\"data row25 col2\" >1.68</td>\n",
       "      <td id=\"T_facf3_row25_col3\" class=\"data row25 col3\" >0.55</td>\n",
       "      <td id=\"T_facf3_row25_col4\" class=\"data row25 col4\" >1.21</td>\n",
       "      <td id=\"T_facf3_row25_col5\" class=\"data row25 col5\" >1.92</td>\n",
       "      <td id=\"T_facf3_row25_col6\" class=\"data row25 col6\" >3.19</td>\n",
       "      <td id=\"T_facf3_row25_col7\" class=\"data row25 col7\" >6.45</td>\n",
       "    </tr>\n",
       "    <tr>\n",
       "      <th id=\"T_facf3_level0_row26\" class=\"row_heading level0 row26\" >Layer-2</th>\n",
       "      <td id=\"T_facf3_row26_col0\" class=\"data row26 col0\" >8.00</td>\n",
       "      <td id=\"T_facf3_row26_col1\" class=\"data row26 col1\" >3.02</td>\n",
       "      <td id=\"T_facf3_row26_col2\" class=\"data row26 col2\" >2.57</td>\n",
       "      <td id=\"T_facf3_row26_col3\" class=\"data row26 col3\" >1.00</td>\n",
       "      <td id=\"T_facf3_row26_col4\" class=\"data row26 col4\" >1.37</td>\n",
       "      <td id=\"T_facf3_row26_col5\" class=\"data row26 col5\" >1.77</td>\n",
       "      <td id=\"T_facf3_row26_col6\" class=\"data row26 col6\" >3.74</td>\n",
       "      <td id=\"T_facf3_row26_col7\" class=\"data row26 col7\" >7.83</td>\n",
       "    </tr>\n",
       "    <tr>\n",
       "      <th id=\"T_facf3_level0_row27\" class=\"row_heading level0 row27\" >DeFi</th>\n",
       "      <td id=\"T_facf3_row27_col0\" class=\"data row27 col0\" >267.00</td>\n",
       "      <td id=\"T_facf3_row27_col1\" class=\"data row27 col1\" >5.36</td>\n",
       "      <td id=\"T_facf3_row27_col2\" class=\"data row27 col2\" >12.01</td>\n",
       "      <td id=\"T_facf3_row27_col3\" class=\"data row27 col3\" >0.03</td>\n",
       "      <td id=\"T_facf3_row27_col4\" class=\"data row27 col4\" >1.06</td>\n",
       "      <td id=\"T_facf3_row27_col5\" class=\"data row27 col5\" >1.74</td>\n",
       "      <td id=\"T_facf3_row27_col6\" class=\"data row27 col6\" >3.34</td>\n",
       "      <td id=\"T_facf3_row27_col7\" class=\"data row27 col7\" >100.00</td>\n",
       "    </tr>\n",
       "    <tr>\n",
       "      <th id=\"T_facf3_level0_row28\" class=\"row_heading level0 row28\" >DAO</th>\n",
       "      <td id=\"T_facf3_row28_col0\" class=\"data row28 col0\" >17.00</td>\n",
       "      <td id=\"T_facf3_row28_col1\" class=\"data row28 col1\" >8.43</td>\n",
       "      <td id=\"T_facf3_row28_col2\" class=\"data row28 col2\" >26.51</td>\n",
       "      <td id=\"T_facf3_row28_col3\" class=\"data row28 col3\" >0.15</td>\n",
       "      <td id=\"T_facf3_row28_col4\" class=\"data row28 col4\" >1.00</td>\n",
       "      <td id=\"T_facf3_row28_col5\" class=\"data row28 col5\" >1.69</td>\n",
       "      <td id=\"T_facf3_row28_col6\" class=\"data row28 col6\" >3.17</td>\n",
       "      <td id=\"T_facf3_row28_col7\" class=\"data row28 col7\" >111.15</td>\n",
       "    </tr>\n",
       "    <tr>\n",
       "      <th id=\"T_facf3_level0_row29\" class=\"row_heading level0 row29\" >DuckStarter IDO</th>\n",
       "      <td id=\"T_facf3_row29_col0\" class=\"data row29 col0\" >7.00</td>\n",
       "      <td id=\"T_facf3_row29_col1\" class=\"data row29 col1\" >2.85</td>\n",
       "      <td id=\"T_facf3_row29_col2\" class=\"data row29 col2\" >1.92</td>\n",
       "      <td id=\"T_facf3_row29_col3\" class=\"data row29 col3\" >1.10</td>\n",
       "      <td id=\"T_facf3_row29_col4\" class=\"data row29 col4\" >1.40</td>\n",
       "      <td id=\"T_facf3_row29_col5\" class=\"data row29 col5\" >1.64</td>\n",
       "      <td id=\"T_facf3_row29_col6\" class=\"data row29 col6\" >4.38</td>\n",
       "      <td id=\"T_facf3_row29_col7\" class=\"data row29 col7\" >5.61</td>\n",
       "    </tr>\n",
       "    <tr>\n",
       "      <th id=\"T_facf3_level0_row30\" class=\"row_heading level0 row30\" >Infrastructure</th>\n",
       "      <td id=\"T_facf3_row30_col0\" class=\"data row30 col0\" >35.00</td>\n",
       "      <td id=\"T_facf3_row30_col1\" class=\"data row30 col1\" >5.54</td>\n",
       "      <td id=\"T_facf3_row30_col2\" class=\"data row30 col2\" >9.18</td>\n",
       "      <td id=\"T_facf3_row30_col3\" class=\"data row30 col3\" >1.00</td>\n",
       "      <td id=\"T_facf3_row30_col4\" class=\"data row30 col4\" >1.31</td>\n",
       "      <td id=\"T_facf3_row30_col5\" class=\"data row30 col5\" >1.64</td>\n",
       "      <td id=\"T_facf3_row30_col6\" class=\"data row30 col6\" >4.04</td>\n",
       "      <td id=\"T_facf3_row30_col7\" class=\"data row30 col7\" >37.15</td>\n",
       "    </tr>\n",
       "    <tr>\n",
       "      <th id=\"T_facf3_level0_row31\" class=\"row_heading level0 row31\" >Cryptocurrency</th>\n",
       "      <td id=\"T_facf3_row31_col0\" class=\"data row31 col0\" >53.00</td>\n",
       "      <td id=\"T_facf3_row31_col1\" class=\"data row31 col1\" >10.82</td>\n",
       "      <td id=\"T_facf3_row31_col2\" class=\"data row31 col2\" >47.78</td>\n",
       "      <td id=\"T_facf3_row31_col3\" class=\"data row31 col3\" >0.05</td>\n",
       "      <td id=\"T_facf3_row31_col4\" class=\"data row31 col4\" >1.00</td>\n",
       "      <td id=\"T_facf3_row31_col5\" class=\"data row31 col5\" >1.60</td>\n",
       "      <td id=\"T_facf3_row31_col6\" class=\"data row31 col6\" >5.32</td>\n",
       "      <td id=\"T_facf3_row31_col7\" class=\"data row31 col7\" >350.07</td>\n",
       "    </tr>\n",
       "    <tr>\n",
       "      <th id=\"T_facf3_level0_row32\" class=\"row_heading level0 row32\" >Launchpad</th>\n",
       "      <td id=\"T_facf3_row32_col0\" class=\"data row32 col0\" >29.00</td>\n",
       "      <td id=\"T_facf3_row32_col1\" class=\"data row32 col1\" >4.90</td>\n",
       "      <td id=\"T_facf3_row32_col2\" class=\"data row32 col2\" >9.59</td>\n",
       "      <td id=\"T_facf3_row32_col3\" class=\"data row32 col3\" >1.00</td>\n",
       "      <td id=\"T_facf3_row32_col4\" class=\"data row32 col4\" >1.12</td>\n",
       "      <td id=\"T_facf3_row32_col5\" class=\"data row32 col5\" >1.54</td>\n",
       "      <td id=\"T_facf3_row32_col6\" class=\"data row32 col6\" >4.86</td>\n",
       "      <td id=\"T_facf3_row32_col7\" class=\"data row32 col7\" >51.20</td>\n",
       "    </tr>\n",
       "    <tr>\n",
       "      <th id=\"T_facf3_level0_row33\" class=\"row_heading level0 row33\" >Gambling</th>\n",
       "      <td id=\"T_facf3_row33_col0\" class=\"data row33 col0\" >9.00</td>\n",
       "      <td id=\"T_facf3_row33_col1\" class=\"data row33 col1\" >2.30</td>\n",
       "      <td id=\"T_facf3_row33_col2\" class=\"data row33 col2\" >1.65</td>\n",
       "      <td id=\"T_facf3_row33_col3\" class=\"data row33 col3\" >1.00</td>\n",
       "      <td id=\"T_facf3_row33_col4\" class=\"data row33 col4\" >1.18</td>\n",
       "      <td id=\"T_facf3_row33_col5\" class=\"data row33 col5\" >1.53</td>\n",
       "      <td id=\"T_facf3_row33_col6\" class=\"data row33 col6\" >2.19</td>\n",
       "      <td id=\"T_facf3_row33_col7\" class=\"data row33 col7\" >5.15</td>\n",
       "    </tr>\n",
       "    <tr>\n",
       "      <th id=\"T_facf3_level0_row34\" class=\"row_heading level0 row34\" >Big Data</th>\n",
       "      <td id=\"T_facf3_row34_col0\" class=\"data row34 col0\" >14.00</td>\n",
       "      <td id=\"T_facf3_row34_col1\" class=\"data row34 col1\" >1.83</td>\n",
       "      <td id=\"T_facf3_row34_col2\" class=\"data row34 col2\" >1.44</td>\n",
       "      <td id=\"T_facf3_row34_col3\" class=\"data row34 col3\" >1.00</td>\n",
       "      <td id=\"T_facf3_row34_col4\" class=\"data row34 col4\" >1.14</td>\n",
       "      <td id=\"T_facf3_row34_col5\" class=\"data row34 col5\" >1.52</td>\n",
       "      <td id=\"T_facf3_row34_col6\" class=\"data row34 col6\" >1.78</td>\n",
       "      <td id=\"T_facf3_row34_col7\" class=\"data row34 col7\" >6.66</td>\n",
       "    </tr>\n",
       "    <tr>\n",
       "      <th id=\"T_facf3_level0_row35\" class=\"row_heading level0 row35\" >Ethereum Ecosystem</th>\n",
       "      <td id=\"T_facf3_row35_col0\" class=\"data row35 col0\" >37.00</td>\n",
       "      <td id=\"T_facf3_row35_col1\" class=\"data row35 col1\" >13.94</td>\n",
       "      <td id=\"T_facf3_row35_col2\" class=\"data row35 col2\" >56.93</td>\n",
       "      <td id=\"T_facf3_row35_col3\" class=\"data row35 col3\" >1.00</td>\n",
       "      <td id=\"T_facf3_row35_col4\" class=\"data row35 col4\" >1.01</td>\n",
       "      <td id=\"T_facf3_row35_col5\" class=\"data row35 col5\" >1.50</td>\n",
       "      <td id=\"T_facf3_row35_col6\" class=\"data row35 col6\" >4.48</td>\n",
       "      <td id=\"T_facf3_row35_col7\" class=\"data row35 col7\" >346.83</td>\n",
       "    </tr>\n",
       "    <tr>\n",
       "      <th id=\"T_facf3_level0_row36\" class=\"row_heading level0 row36\" >CEX</th>\n",
       "      <td id=\"T_facf3_row36_col0\" class=\"data row36 col0\" >19.00</td>\n",
       "      <td id=\"T_facf3_row36_col1\" class=\"data row36 col1\" >2.52</td>\n",
       "      <td id=\"T_facf3_row36_col2\" class=\"data row36 col2\" >2.07</td>\n",
       "      <td id=\"T_facf3_row36_col3\" class=\"data row36 col3\" >1.00</td>\n",
       "      <td id=\"T_facf3_row36_col4\" class=\"data row36 col4\" >1.19</td>\n",
       "      <td id=\"T_facf3_row36_col5\" class=\"data row36 col5\" >1.50</td>\n",
       "      <td id=\"T_facf3_row36_col6\" class=\"data row36 col6\" >2.73</td>\n",
       "      <td id=\"T_facf3_row36_col7\" class=\"data row36 col7\" >9.24</td>\n",
       "    </tr>\n",
       "    <tr>\n",
       "      <th id=\"T_facf3_level0_row37\" class=\"row_heading level0 row37\" >Polkadot Ecosystem</th>\n",
       "      <td id=\"T_facf3_row37_col0\" class=\"data row37 col0\" >13.00</td>\n",
       "      <td id=\"T_facf3_row37_col1\" class=\"data row37 col1\" >3.41</td>\n",
       "      <td id=\"T_facf3_row37_col2\" class=\"data row37 col2\" >4.64</td>\n",
       "      <td id=\"T_facf3_row37_col3\" class=\"data row37 col3\" >1.00</td>\n",
       "      <td id=\"T_facf3_row37_col4\" class=\"data row37 col4\" >1.10</td>\n",
       "      <td id=\"T_facf3_row37_col5\" class=\"data row37 col5\" >1.49</td>\n",
       "      <td id=\"T_facf3_row37_col6\" class=\"data row37 col6\" >3.70</td>\n",
       "      <td id=\"T_facf3_row37_col7\" class=\"data row37 col7\" >17.97</td>\n",
       "    </tr>\n",
       "    <tr>\n",
       "      <th id=\"T_facf3_level0_row38\" class=\"row_heading level0 row38\" >Healthcare</th>\n",
       "      <td id=\"T_facf3_row38_col0\" class=\"data row38 col0\" >9.00</td>\n",
       "      <td id=\"T_facf3_row38_col1\" class=\"data row38 col1\" >3.11</td>\n",
       "      <td id=\"T_facf3_row38_col2\" class=\"data row38 col2\" >3.67</td>\n",
       "      <td id=\"T_facf3_row38_col3\" class=\"data row38 col3\" >1.00</td>\n",
       "      <td id=\"T_facf3_row38_col4\" class=\"data row38 col4\" >1.21</td>\n",
       "      <td id=\"T_facf3_row38_col5\" class=\"data row38 col5\" >1.49</td>\n",
       "      <td id=\"T_facf3_row38_col6\" class=\"data row38 col6\" >3.85</td>\n",
       "      <td id=\"T_facf3_row38_col7\" class=\"data row38 col7\" >12.40</td>\n",
       "    </tr>\n",
       "    <tr>\n",
       "      <th id=\"T_facf3_level0_row39\" class=\"row_heading level0 row39\" >Yield Farming</th>\n",
       "      <td id=\"T_facf3_row39_col0\" class=\"data row39 col0\" >30.00</td>\n",
       "      <td id=\"T_facf3_row39_col1\" class=\"data row39 col1\" >4.48</td>\n",
       "      <td id=\"T_facf3_row39_col2\" class=\"data row39 col2\" >11.92</td>\n",
       "      <td id=\"T_facf3_row39_col3\" class=\"data row39 col3\" >1.00</td>\n",
       "      <td id=\"T_facf3_row39_col4\" class=\"data row39 col4\" >1.03</td>\n",
       "      <td id=\"T_facf3_row39_col5\" class=\"data row39 col5\" >1.48</td>\n",
       "      <td id=\"T_facf3_row39_col6\" class=\"data row39 col6\" >2.88</td>\n",
       "      <td id=\"T_facf3_row39_col7\" class=\"data row39 col7\" >66.67</td>\n",
       "    </tr>\n",
       "    <tr>\n",
       "      <th id=\"T_facf3_level0_row40\" class=\"row_heading level0 row40\" >Polygon Ecosystem</th>\n",
       "      <td id=\"T_facf3_row40_col0\" class=\"data row40 col0\" >39.00</td>\n",
       "      <td id=\"T_facf3_row40_col1\" class=\"data row40 col1\" >6.04</td>\n",
       "      <td id=\"T_facf3_row40_col2\" class=\"data row40 col2\" >14.28</td>\n",
       "      <td id=\"T_facf3_row40_col3\" class=\"data row40 col3\" >1.00</td>\n",
       "      <td id=\"T_facf3_row40_col4\" class=\"data row40 col4\" >1.02</td>\n",
       "      <td id=\"T_facf3_row40_col5\" class=\"data row40 col5\" >1.47</td>\n",
       "      <td id=\"T_facf3_row40_col6\" class=\"data row40 col6\" >3.33</td>\n",
       "      <td id=\"T_facf3_row40_col7\" class=\"data row40 col7\" >75.06</td>\n",
       "    </tr>\n",
       "    <tr>\n",
       "      <th id=\"T_facf3_level0_row41\" class=\"row_heading level0 row41\" >Media</th>\n",
       "      <td id=\"T_facf3_row41_col0\" class=\"data row41 col0\" >24.00</td>\n",
       "      <td id=\"T_facf3_row41_col1\" class=\"data row41 col1\" >11.13</td>\n",
       "      <td id=\"T_facf3_row41_col2\" class=\"data row41 col2\" >43.22</td>\n",
       "      <td id=\"T_facf3_row41_col3\" class=\"data row41 col3\" >1.00</td>\n",
       "      <td id=\"T_facf3_row41_col4\" class=\"data row41 col4\" >1.02</td>\n",
       "      <td id=\"T_facf3_row41_col5\" class=\"data row41 col5\" >1.39</td>\n",
       "      <td id=\"T_facf3_row41_col6\" class=\"data row41 col6\" >1.80</td>\n",
       "      <td id=\"T_facf3_row41_col7\" class=\"data row41 col7\" >213.32</td>\n",
       "    </tr>\n",
       "    <tr>\n",
       "      <th id=\"T_facf3_level0_row42\" class=\"row_heading level0 row42\" >BNB Chain Ecosystem</th>\n",
       "      <td id=\"T_facf3_row42_col0\" class=\"data row42 col0\" >31.00</td>\n",
       "      <td id=\"T_facf3_row42_col1\" class=\"data row42 col1\" >57.75</td>\n",
       "      <td id=\"T_facf3_row42_col2\" class=\"data row42 col2\" >298.66</td>\n",
       "      <td id=\"T_facf3_row42_col3\" class=\"data row42 col3\" >0.70</td>\n",
       "      <td id=\"T_facf3_row42_col4\" class=\"data row42 col4\" >1.06</td>\n",
       "      <td id=\"T_facf3_row42_col5\" class=\"data row42 col5\" >1.35</td>\n",
       "      <td id=\"T_facf3_row42_col6\" class=\"data row42 col6\" >4.43</td>\n",
       "      <td id=\"T_facf3_row42_col7\" class=\"data row42 col7\" >1666.67</td>\n",
       "    </tr>\n",
       "    <tr>\n",
       "      <th id=\"T_facf3_level0_row43\" class=\"row_heading level0 row43\" >Cosmos Ecosystem</th>\n",
       "      <td id=\"T_facf3_row43_col0\" class=\"data row43 col0\" >11.00</td>\n",
       "      <td id=\"T_facf3_row43_col1\" class=\"data row43 col1\" >1.75</td>\n",
       "      <td id=\"T_facf3_row43_col2\" class=\"data row43 col2\" >1.42</td>\n",
       "      <td id=\"T_facf3_row43_col3\" class=\"data row43 col3\" >1.00</td>\n",
       "      <td id=\"T_facf3_row43_col4\" class=\"data row43 col4\" >1.12</td>\n",
       "      <td id=\"T_facf3_row43_col5\" class=\"data row43 col5\" >1.34</td>\n",
       "      <td id=\"T_facf3_row43_col6\" class=\"data row43 col6\" >1.49</td>\n",
       "      <td id=\"T_facf3_row43_col7\" class=\"data row43 col7\" >5.93</td>\n",
       "    </tr>\n",
       "    <tr>\n",
       "      <th id=\"T_facf3_level0_row44\" class=\"row_heading level0 row44\" >Blockchain</th>\n",
       "      <td id=\"T_facf3_row44_col0\" class=\"data row44 col0\" >96.00</td>\n",
       "      <td id=\"T_facf3_row44_col1\" class=\"data row44 col1\" >2.27</td>\n",
       "      <td id=\"T_facf3_row44_col2\" class=\"data row44 col2\" >3.48</td>\n",
       "      <td id=\"T_facf3_row44_col3\" class=\"data row44 col3\" >0.40</td>\n",
       "      <td id=\"T_facf3_row44_col4\" class=\"data row44 col4\" >1.01</td>\n",
       "      <td id=\"T_facf3_row44_col5\" class=\"data row44 col5\" >1.27</td>\n",
       "      <td id=\"T_facf3_row44_col6\" class=\"data row44 col6\" >1.90</td>\n",
       "      <td id=\"T_facf3_row44_col7\" class=\"data row44 col7\" >29.79</td>\n",
       "    </tr>\n",
       "    <tr>\n",
       "      <th id=\"T_facf3_level0_row45\" class=\"row_heading level0 row45\" >Finance</th>\n",
       "      <td id=\"T_facf3_row45_col0\" class=\"data row45 col0\" >28.00</td>\n",
       "      <td id=\"T_facf3_row45_col1\" class=\"data row45 col1\" >114.52</td>\n",
       "      <td id=\"T_facf3_row45_col2\" class=\"data row45 col2\" >595.77</td>\n",
       "      <td id=\"T_facf3_row45_col3\" class=\"data row45 col3\" >1.00</td>\n",
       "      <td id=\"T_facf3_row45_col4\" class=\"data row45 col4\" >1.00</td>\n",
       "      <td id=\"T_facf3_row45_col5\" class=\"data row45 col5\" >1.22</td>\n",
       "      <td id=\"T_facf3_row45_col6\" class=\"data row45 col6\" >2.39</td>\n",
       "      <td id=\"T_facf3_row45_col7\" class=\"data row45 col7\" >3154.41</td>\n",
       "    </tr>\n",
       "    <tr>\n",
       "      <th id=\"T_facf3_level0_row46\" class=\"row_heading level0 row46\" >Trading Bot</th>\n",
       "      <td id=\"T_facf3_row46_col0\" class=\"data row46 col0\" >12.00</td>\n",
       "      <td id=\"T_facf3_row46_col1\" class=\"data row46 col1\" >1.96</td>\n",
       "      <td id=\"T_facf3_row46_col2\" class=\"data row46 col2\" >1.42</td>\n",
       "      <td id=\"T_facf3_row46_col3\" class=\"data row46 col3\" >1.00</td>\n",
       "      <td id=\"T_facf3_row46_col4\" class=\"data row46 col4\" >1.01</td>\n",
       "      <td id=\"T_facf3_row46_col5\" class=\"data row46 col5\" >1.20</td>\n",
       "      <td id=\"T_facf3_row46_col6\" class=\"data row46 col6\" >2.18</td>\n",
       "      <td id=\"T_facf3_row46_col7\" class=\"data row46 col7\" >5.00</td>\n",
       "    </tr>\n",
       "    <tr>\n",
       "      <th id=\"T_facf3_level0_row47\" class=\"row_heading level0 row47\" >Nodes</th>\n",
       "      <td id=\"T_facf3_row47_col0\" class=\"data row47 col0\" >23.00</td>\n",
       "      <td id=\"T_facf3_row47_col1\" class=\"data row47 col1\" >2.24</td>\n",
       "      <td id=\"T_facf3_row47_col2\" class=\"data row47 col2\" >3.96</td>\n",
       "      <td id=\"T_facf3_row47_col3\" class=\"data row47 col3\" >1.00</td>\n",
       "      <td id=\"T_facf3_row47_col4\" class=\"data row47 col4\" >1.00</td>\n",
       "      <td id=\"T_facf3_row47_col5\" class=\"data row47 col5\" >1.02</td>\n",
       "      <td id=\"T_facf3_row47_col6\" class=\"data row47 col6\" >1.51</td>\n",
       "      <td id=\"T_facf3_row47_col7\" class=\"data row47 col7\" >20.00</td>\n",
       "    </tr>\n",
       "    <tr>\n",
       "      <th id=\"T_facf3_level0_row48\" class=\"row_heading level0 row48\" >Meme</th>\n",
       "      <td id=\"T_facf3_row48_col0\" class=\"data row48 col0\" >114.00</td>\n",
       "      <td id=\"T_facf3_row48_col1\" class=\"data row48 col1\" >1.80</td>\n",
       "      <td id=\"T_facf3_row48_col2\" class=\"data row48 col2\" >2.53</td>\n",
       "      <td id=\"T_facf3_row48_col3\" class=\"data row48 col3\" >1.00</td>\n",
       "      <td id=\"T_facf3_row48_col4\" class=\"data row48 col4\" >1.00</td>\n",
       "      <td id=\"T_facf3_row48_col5\" class=\"data row48 col5\" >1.02</td>\n",
       "      <td id=\"T_facf3_row48_col6\" class=\"data row48 col6\" >1.52</td>\n",
       "      <td id=\"T_facf3_row48_col7\" class=\"data row48 col7\" >23.28</td>\n",
       "    </tr>\n",
       "    <tr>\n",
       "      <th id=\"T_facf3_level0_row49\" class=\"row_heading level0 row49\" >Privacy Coin</th>\n",
       "      <td id=\"T_facf3_row49_col0\" class=\"data row49 col0\" >34.00</td>\n",
       "      <td id=\"T_facf3_row49_col1\" class=\"data row49 col1\" >1.50</td>\n",
       "      <td id=\"T_facf3_row49_col2\" class=\"data row49 col2\" >1.60</td>\n",
       "      <td id=\"T_facf3_row49_col3\" class=\"data row49 col3\" >1.00</td>\n",
       "      <td id=\"T_facf3_row49_col4\" class=\"data row49 col4\" >1.00</td>\n",
       "      <td id=\"T_facf3_row49_col5\" class=\"data row49 col5\" >1.02</td>\n",
       "      <td id=\"T_facf3_row49_col6\" class=\"data row49 col6\" >1.28</td>\n",
       "      <td id=\"T_facf3_row49_col7\" class=\"data row49 col7\" >9.93</td>\n",
       "    </tr>\n",
       "    <tr>\n",
       "      <th id=\"T_facf3_level0_row50\" class=\"row_heading level0 row50\" >Bitcoin Ecosystem</th>\n",
       "      <td id=\"T_facf3_row50_col0\" class=\"data row50 col0\" >13.00</td>\n",
       "      <td id=\"T_facf3_row50_col1\" class=\"data row50 col1\" >1.00</td>\n",
       "      <td id=\"T_facf3_row50_col2\" class=\"data row50 col2\" >0.00</td>\n",
       "      <td id=\"T_facf3_row50_col3\" class=\"data row50 col3\" >1.00</td>\n",
       "      <td id=\"T_facf3_row50_col4\" class=\"data row50 col4\" >1.00</td>\n",
       "      <td id=\"T_facf3_row50_col5\" class=\"data row50 col5\" >1.00</td>\n",
       "      <td id=\"T_facf3_row50_col6\" class=\"data row50 col6\" >1.00</td>\n",
       "      <td id=\"T_facf3_row50_col7\" class=\"data row50 col7\" >1.00</td>\n",
       "    </tr>\n",
       "    <tr>\n",
       "      <th id=\"T_facf3_level0_row51\" class=\"row_heading level0 row51\" >Backed Tokens</th>\n",
       "      <td id=\"T_facf3_row51_col0\" class=\"data row51 col0\" >11.00</td>\n",
       "      <td id=\"T_facf3_row51_col1\" class=\"data row51 col1\" >1.00</td>\n",
       "      <td id=\"T_facf3_row51_col2\" class=\"data row51 col2\" >0.00</td>\n",
       "      <td id=\"T_facf3_row51_col3\" class=\"data row51 col3\" >1.00</td>\n",
       "      <td id=\"T_facf3_row51_col4\" class=\"data row51 col4\" >1.00</td>\n",
       "      <td id=\"T_facf3_row51_col5\" class=\"data row51 col5\" >1.00</td>\n",
       "      <td id=\"T_facf3_row51_col6\" class=\"data row51 col6\" >1.00</td>\n",
       "      <td id=\"T_facf3_row51_col7\" class=\"data row51 col7\" >1.00</td>\n",
       "    </tr>\n",
       "    <tr>\n",
       "      <th id=\"T_facf3_level0_row52\" class=\"row_heading level0 row52\" >ERC-404</th>\n",
       "      <td id=\"T_facf3_row52_col0\" class=\"data row52 col0\" >10.00</td>\n",
       "      <td id=\"T_facf3_row52_col1\" class=\"data row52 col1\" >1.00</td>\n",
       "      <td id=\"T_facf3_row52_col2\" class=\"data row52 col2\" >0.00</td>\n",
       "      <td id=\"T_facf3_row52_col3\" class=\"data row52 col3\" >1.00</td>\n",
       "      <td id=\"T_facf3_row52_col4\" class=\"data row52 col4\" >1.00</td>\n",
       "      <td id=\"T_facf3_row52_col5\" class=\"data row52 col5\" >1.00</td>\n",
       "      <td id=\"T_facf3_row52_col6\" class=\"data row52 col6\" >1.00</td>\n",
       "      <td id=\"T_facf3_row52_col7\" class=\"data row52 col7\" >1.00</td>\n",
       "    </tr>\n",
       "    <tr>\n",
       "      <th id=\"T_facf3_level0_row53\" class=\"row_heading level0 row53\" >IOT</th>\n",
       "      <td id=\"T_facf3_row53_col0\" class=\"data row53 col0\" >7.00</td>\n",
       "      <td id=\"T_facf3_row53_col1\" class=\"data row53 col1\" >1.24</td>\n",
       "      <td id=\"T_facf3_row53_col2\" class=\"data row53 col2\" >0.41</td>\n",
       "      <td id=\"T_facf3_row53_col3\" class=\"data row53 col3\" >1.00</td>\n",
       "      <td id=\"T_facf3_row53_col4\" class=\"data row53 col4\" >1.00</td>\n",
       "      <td id=\"T_facf3_row53_col5\" class=\"data row53 col5\" >1.00</td>\n",
       "      <td id=\"T_facf3_row53_col6\" class=\"data row53 col6\" >1.34</td>\n",
       "      <td id=\"T_facf3_row53_col7\" class=\"data row53 col7\" >2.00</td>\n",
       "    </tr>\n",
       "    <tr>\n",
       "      <th id=\"T_facf3_level0_row54\" class=\"row_heading level0 row54\" >Storage</th>\n",
       "      <td id=\"T_facf3_row54_col0\" class=\"data row54 col0\" >7.00</td>\n",
       "      <td id=\"T_facf3_row54_col1\" class=\"data row54 col1\" >1.54</td>\n",
       "      <td id=\"T_facf3_row54_col2\" class=\"data row54 col2\" >1.04</td>\n",
       "      <td id=\"T_facf3_row54_col3\" class=\"data row54 col3\" >1.00</td>\n",
       "      <td id=\"T_facf3_row54_col4\" class=\"data row54 col4\" >1.00</td>\n",
       "      <td id=\"T_facf3_row54_col5\" class=\"data row54 col5\" >1.00</td>\n",
       "      <td id=\"T_facf3_row54_col6\" class=\"data row54 col6\" >1.46</td>\n",
       "      <td id=\"T_facf3_row54_col7\" class=\"data row54 col7\" >3.84</td>\n",
       "    </tr>\n",
       "    <tr>\n",
       "      <th id=\"T_facf3_level0_row55\" class=\"row_heading level0 row55\" >Stablecoin</th>\n",
       "      <td id=\"T_facf3_row55_col0\" class=\"data row55 col0\" >36.00</td>\n",
       "      <td id=\"T_facf3_row55_col1\" class=\"data row55 col1\" >1.26</td>\n",
       "      <td id=\"T_facf3_row55_col2\" class=\"data row55 col2\" >1.12</td>\n",
       "      <td id=\"T_facf3_row55_col3\" class=\"data row55 col3\" >1.00</td>\n",
       "      <td id=\"T_facf3_row55_col4\" class=\"data row55 col4\" >1.00</td>\n",
       "      <td id=\"T_facf3_row55_col5\" class=\"data row55 col5\" >1.00</td>\n",
       "      <td id=\"T_facf3_row55_col6\" class=\"data row55 col6\" >1.00</td>\n",
       "      <td id=\"T_facf3_row55_col7\" class=\"data row55 col7\" >7.60</td>\n",
       "    </tr>\n",
       "  </tbody>\n",
       "</table>\n"
      ],
      "text/plain": [
       "<pandas.io.formats.style.Styler at 0x17afa53f0>"
      ]
     },
     "execution_count": 106,
     "metadata": {},
     "output_type": "execute_result"
    }
   ],
   "source": [
    "fdv_tab = data.loc[data['Category'] != '--'].groupby('Category')['FDV/MarketCap'].describe().sort_values(by='50%', ascending=False)\n",
    "fdv_tab = fdv_tab[(fdv_tab['count'] > 6)]\n",
    "fdv_tab.style.background_gradient(axis=0, low=0.37, cmap='bone').format(\"{:.2f}\")"
   ]
  },
  {
   "cell_type": "markdown",
   "metadata": {},
   "source": [
    "## Tokens that drops from ATH the most "
   ]
  },
  {
   "cell_type": "code",
   "execution_count": 107,
   "metadata": {},
   "outputs": [
    {
     "data": {
      "text/html": [
       "<style type=\"text/css\">\n",
       "#T_b5ee2_row0_col0, #T_b5ee2_row10_col0, #T_b5ee2_row16_col0, #T_b5ee2_row22_col4, #T_b5ee2_row23_col4, #T_b5ee2_row27_col1 {\n",
       "  background-color: #44445f;\n",
       "  color: #f1f1f1;\n",
       "}\n",
       "#T_b5ee2_row0_col1, #T_b5ee2_row0_col4 {\n",
       "  background-color: #f8fbfb;\n",
       "  color: #000000;\n",
       "}\n",
       "#T_b5ee2_row0_col2 {\n",
       "  background-color: #ccdfdf;\n",
       "  color: #000000;\n",
       "}\n",
       "#T_b5ee2_row0_col3, #T_b5ee2_row27_col7 {\n",
       "  background-color: #6a738a;\n",
       "  color: #f1f1f1;\n",
       "}\n",
       "#T_b5ee2_row0_col5, #T_b5ee2_row0_col6, #T_b5ee2_row1_col1, #T_b5ee2_row1_col3, #T_b5ee2_row1_col4, #T_b5ee2_row4_col2, #T_b5ee2_row11_col0, #T_b5ee2_row22_col7 {\n",
       "  background-color: #ffffff;\n",
       "  color: #000000;\n",
       "}\n",
       "#T_b5ee2_row0_col7 {\n",
       "  background-color: #fcfdfd;\n",
       "  color: #000000;\n",
       "}\n",
       "#T_b5ee2_row1_col0, #T_b5ee2_row9_col5 {\n",
       "  background-color: #5d617d;\n",
       "  color: #f1f1f1;\n",
       "}\n",
       "#T_b5ee2_row1_col2 {\n",
       "  background-color: #8aa0aa;\n",
       "  color: #f1f1f1;\n",
       "}\n",
       "#T_b5ee2_row1_col5, #T_b5ee2_row4_col6 {\n",
       "  background-color: #e1ecec;\n",
       "  color: #000000;\n",
       "}\n",
       "#T_b5ee2_row1_col6, #T_b5ee2_row3_col6 {\n",
       "  background-color: #edf4f4;\n",
       "  color: #000000;\n",
       "}\n",
       "#T_b5ee2_row1_col7, #T_b5ee2_row11_col7 {\n",
       "  background-color: #fbfcfc;\n",
       "  color: #000000;\n",
       "}\n",
       "#T_b5ee2_row2_col0, #T_b5ee2_row17_col0, #T_b5ee2_row23_col1, #T_b5ee2_row23_col2, #T_b5ee2_row24_col0, #T_b5ee2_row27_col0 {\n",
       "  background-color: #3f3f58;\n",
       "  color: #f1f1f1;\n",
       "}\n",
       "#T_b5ee2_row2_col1, #T_b5ee2_row2_col5 {\n",
       "  background-color: #a6c6c6;\n",
       "  color: #000000;\n",
       "}\n",
       "#T_b5ee2_row2_col2, #T_b5ee2_row3_col1 {\n",
       "  background-color: #accaca;\n",
       "  color: #000000;\n",
       "}\n",
       "#T_b5ee2_row2_col3, #T_b5ee2_row3_col3, #T_b5ee2_row14_col0, #T_b5ee2_row18_col1, #T_b5ee2_row26_col3 {\n",
       "  background-color: #4f4f6e;\n",
       "  color: #f1f1f1;\n",
       "}\n",
       "#T_b5ee2_row2_col4, #T_b5ee2_row8_col2, #T_b5ee2_row12_col2 {\n",
       "  background-color: #a4c2c3;\n",
       "  color: #000000;\n",
       "}\n",
       "#T_b5ee2_row2_col6, #T_b5ee2_row2_col7 {\n",
       "  background-color: #bcd4d4;\n",
       "  color: #000000;\n",
       "}\n",
       "#T_b5ee2_row3_col0, #T_b5ee2_row11_col5 {\n",
       "  background-color: #555675;\n",
       "  color: #f1f1f1;\n",
       "}\n",
       "#T_b5ee2_row3_col2 {\n",
       "  background-color: #e0ebeb;\n",
       "  color: #000000;\n",
       "}\n",
       "#T_b5ee2_row3_col4 {\n",
       "  background-color: #4c4c6a;\n",
       "  color: #f1f1f1;\n",
       "}\n",
       "#T_b5ee2_row3_col5, #T_b5ee2_row7_col2 {\n",
       "  background-color: #a1bfc1;\n",
       "  color: #000000;\n",
       "}\n",
       "#T_b5ee2_row3_col7 {\n",
       "  background-color: #e2eded;\n",
       "  color: #000000;\n",
       "}\n",
       "#T_b5ee2_row4_col0, #T_b5ee2_row9_col0, #T_b5ee2_row11_col3, #T_b5ee2_row18_col0, #T_b5ee2_row21_col0, #T_b5ee2_row21_col4, #T_b5ee2_row23_col0, #T_b5ee2_row23_col7, #T_b5ee2_row24_col5, #T_b5ee2_row26_col6 {\n",
       "  background-color: #42425b;\n",
       "  color: #f1f1f1;\n",
       "}\n",
       "#T_b5ee2_row4_col1, #T_b5ee2_row10_col2 {\n",
       "  background-color: #9bb6bb;\n",
       "  color: #000000;\n",
       "}\n",
       "#T_b5ee2_row4_col3, #T_b5ee2_row16_col3, #T_b5ee2_row16_col4 {\n",
       "  background-color: #3e3e56;\n",
       "  color: #f1f1f1;\n",
       "}\n",
       "#T_b5ee2_row4_col4, #T_b5ee2_row5_col3, #T_b5ee2_row17_col4 {\n",
       "  background-color: #4a4966;\n",
       "  color: #f1f1f1;\n",
       "}\n",
       "#T_b5ee2_row4_col5, #T_b5ee2_row6_col1 {\n",
       "  background-color: #869aa6;\n",
       "  color: #f1f1f1;\n",
       "}\n",
       "#T_b5ee2_row4_col7 {\n",
       "  background-color: #e6efef;\n",
       "  color: #000000;\n",
       "}\n",
       "#T_b5ee2_row5_col0, #T_b5ee2_row8_col0, #T_b5ee2_row16_col1, #T_b5ee2_row19_col3, #T_b5ee2_row20_col0 {\n",
       "  background-color: #525372;\n",
       "  color: #f1f1f1;\n",
       "}\n",
       "#T_b5ee2_row5_col1 {\n",
       "  background-color: #8295a2;\n",
       "  color: #f1f1f1;\n",
       "}\n",
       "#T_b5ee2_row5_col2 {\n",
       "  background-color: #9dbabd;\n",
       "  color: #000000;\n",
       "}\n",
       "#T_b5ee2_row5_col4, #T_b5ee2_row13_col1, #T_b5ee2_row16_col6 {\n",
       "  background-color: #545574;\n",
       "  color: #f1f1f1;\n",
       "}\n",
       "#T_b5ee2_row5_col5, #T_b5ee2_row17_col7 {\n",
       "  background-color: #758395;\n",
       "  color: #f1f1f1;\n",
       "}\n",
       "#T_b5ee2_row5_col6 {\n",
       "  background-color: #90a8b0;\n",
       "  color: #f1f1f1;\n",
       "}\n",
       "#T_b5ee2_row5_col7 {\n",
       "  background-color: #cee0df;\n",
       "  color: #000000;\n",
       "}\n",
       "#T_b5ee2_row6_col0, #T_b5ee2_row7_col3, #T_b5ee2_row15_col0, #T_b5ee2_row18_col3, #T_b5ee2_row20_col3, #T_b5ee2_row20_col4, #T_b5ee2_row22_col3, #T_b5ee2_row26_col0, #T_b5ee2_row26_col1, #T_b5ee2_row26_col2, #T_b5ee2_row26_col7, #T_b5ee2_row27_col5, #T_b5ee2_row27_col6 {\n",
       "  background-color: #3c3c54;\n",
       "  color: #f1f1f1;\n",
       "}\n",
       "#T_b5ee2_row6_col2, #T_b5ee2_row6_col7 {\n",
       "  background-color: #d2e2e2;\n",
       "  color: #000000;\n",
       "}\n",
       "#T_b5ee2_row6_col3, #T_b5ee2_row17_col5 {\n",
       "  background-color: #494965;\n",
       "  color: #f1f1f1;\n",
       "}\n",
       "#T_b5ee2_row6_col4 {\n",
       "  background-color: #5b5f7b;\n",
       "  color: #f1f1f1;\n",
       "}\n",
       "#T_b5ee2_row6_col5, #T_b5ee2_row15_col6 {\n",
       "  background-color: #6d788d;\n",
       "  color: #f1f1f1;\n",
       "}\n",
       "#T_b5ee2_row6_col6 {\n",
       "  background-color: #96afb5;\n",
       "  color: #f1f1f1;\n",
       "}\n",
       "#T_b5ee2_row7_col0, #T_b5ee2_row20_col6 {\n",
       "  background-color: #5f657f;\n",
       "  color: #f1f1f1;\n",
       "}\n",
       "#T_b5ee2_row7_col1 {\n",
       "  background-color: #7c8c9c;\n",
       "  color: #f1f1f1;\n",
       "}\n",
       "#T_b5ee2_row7_col4, #T_b5ee2_row10_col5, #T_b5ee2_row19_col1 {\n",
       "  background-color: #5c607c;\n",
       "  color: #f1f1f1;\n",
       "}\n",
       "#T_b5ee2_row7_col5 {\n",
       "  background-color: #616781;\n",
       "  color: #f1f1f1;\n",
       "}\n",
       "#T_b5ee2_row7_col6 {\n",
       "  background-color: #899ea9;\n",
       "  color: #f1f1f1;\n",
       "}\n",
       "#T_b5ee2_row7_col7 {\n",
       "  background-color: #f0f5f5;\n",
       "  color: #000000;\n",
       "}\n",
       "#T_b5ee2_row8_col1 {\n",
       "  background-color: #7d8d9d;\n",
       "  color: #f1f1f1;\n",
       "}\n",
       "#T_b5ee2_row8_col3 {\n",
       "  background-color: #585b78;\n",
       "  color: #f1f1f1;\n",
       "}\n",
       "#T_b5ee2_row8_col4 {\n",
       "  background-color: #666d85;\n",
       "  color: #f1f1f1;\n",
       "}\n",
       "#T_b5ee2_row8_col5, #T_b5ee2_row20_col2, #T_b5ee2_row24_col7, #T_b5ee2_row25_col6 {\n",
       "  background-color: #606680;\n",
       "  color: #f1f1f1;\n",
       "}\n",
       "#T_b5ee2_row8_col6 {\n",
       "  background-color: #7e8f9e;\n",
       "  color: #f1f1f1;\n",
       "}\n",
       "#T_b5ee2_row8_col7, #T_b5ee2_row25_col7 {\n",
       "  background-color: #f4f8f8;\n",
       "  color: #000000;\n",
       "}\n",
       "#T_b5ee2_row9_col1 {\n",
       "  background-color: #7a8999;\n",
       "  color: #f1f1f1;\n",
       "}\n",
       "#T_b5ee2_row9_col2, #T_b5ee2_row14_col2 {\n",
       "  background-color: #a9c8c8;\n",
       "  color: #000000;\n",
       "}\n",
       "#T_b5ee2_row9_col3 {\n",
       "  background-color: #8da3ad;\n",
       "  color: #f1f1f1;\n",
       "}\n",
       "#T_b5ee2_row9_col4, #T_b5ee2_row21_col7 {\n",
       "  background-color: #5a5d7a;\n",
       "  color: #f1f1f1;\n",
       "}\n",
       "#T_b5ee2_row9_col6, #T_b5ee2_row12_col1 {\n",
       "  background-color: #738093;\n",
       "  color: #f1f1f1;\n",
       "}\n",
       "#T_b5ee2_row9_col7 {\n",
       "  background-color: #dbe8e8;\n",
       "  color: #000000;\n",
       "}\n",
       "#T_b5ee2_row10_col1 {\n",
       "  background-color: #737f92;\n",
       "  color: #f1f1f1;\n",
       "}\n",
       "#T_b5ee2_row10_col3, #T_b5ee2_row17_col1, #T_b5ee2_row18_col6, #T_b5ee2_row24_col1 {\n",
       "  background-color: #505070;\n",
       "  color: #f1f1f1;\n",
       "}\n",
       "#T_b5ee2_row10_col4 {\n",
       "  background-color: #515171;\n",
       "  color: #f1f1f1;\n",
       "}\n",
       "#T_b5ee2_row10_col6 {\n",
       "  background-color: #8598a5;\n",
       "  color: #f1f1f1;\n",
       "}\n",
       "#T_b5ee2_row10_col7, #T_b5ee2_row15_col7, #T_b5ee2_row22_col2 {\n",
       "  background-color: #a5c5c5;\n",
       "  color: #000000;\n",
       "}\n",
       "#T_b5ee2_row11_col1, #T_b5ee2_row14_col1 {\n",
       "  background-color: #707b90;\n",
       "  color: #f1f1f1;\n",
       "}\n",
       "#T_b5ee2_row11_col2 {\n",
       "  background-color: #a3c1c3;\n",
       "  color: #000000;\n",
       "}\n",
       "#T_b5ee2_row11_col4, #T_b5ee2_row12_col4, #T_b5ee2_row13_col0, #T_b5ee2_row17_col3, #T_b5ee2_row18_col5, #T_b5ee2_row19_col0, #T_b5ee2_row19_col5, #T_b5ee2_row19_col6, #T_b5ee2_row20_col5, #T_b5ee2_row21_col5 {\n",
       "  background-color: #474763;\n",
       "  color: #f1f1f1;\n",
       "}\n",
       "#T_b5ee2_row11_col6 {\n",
       "  background-color: #7f909f;\n",
       "  color: #f1f1f1;\n",
       "}\n",
       "#T_b5ee2_row12_col0 {\n",
       "  background-color: #9cb8bc;\n",
       "  color: #000000;\n",
       "}\n",
       "#T_b5ee2_row12_col3, #T_b5ee2_row25_col4, #T_b5ee2_row26_col5, #T_b5ee2_row27_col3 {\n",
       "  background-color: #404059;\n",
       "  color: #f1f1f1;\n",
       "}\n",
       "#T_b5ee2_row12_col5 {\n",
       "  background-color: #535473;\n",
       "  color: #f1f1f1;\n",
       "}\n",
       "#T_b5ee2_row12_col6, #T_b5ee2_row25_col2 {\n",
       "  background-color: #8fa6ae;\n",
       "  color: #f1f1f1;\n",
       "}\n",
       "#T_b5ee2_row12_col7 {\n",
       "  background-color: #f5f9f9;\n",
       "  color: #000000;\n",
       "}\n",
       "#T_b5ee2_row13_col2, #T_b5ee2_row15_col1, #T_b5ee2_row25_col0 {\n",
       "  background-color: #676f87;\n",
       "  color: #f1f1f1;\n",
       "}\n",
       "#T_b5ee2_row13_col3, #T_b5ee2_row15_col4, #T_b5ee2_row23_col6 {\n",
       "  background-color: #454560;\n",
       "  color: #f1f1f1;\n",
       "}\n",
       "#T_b5ee2_row13_col4, #T_b5ee2_row18_col4, #T_b5ee2_row26_col4 {\n",
       "  background-color: #42425d;\n",
       "  color: #f1f1f1;\n",
       "}\n",
       "#T_b5ee2_row13_col5, #T_b5ee2_row14_col5, #T_b5ee2_row15_col5 {\n",
       "  background-color: #4e4e6c;\n",
       "  color: #f1f1f1;\n",
       "}\n",
       "#T_b5ee2_row13_col6 {\n",
       "  background-color: #626882;\n",
       "  color: #f1f1f1;\n",
       "}\n",
       "#T_b5ee2_row13_col7 {\n",
       "  background-color: #697289;\n",
       "  color: #f1f1f1;\n",
       "}\n",
       "#T_b5ee2_row14_col3 {\n",
       "  background-color: #656c84;\n",
       "  color: #f1f1f1;\n",
       "}\n",
       "#T_b5ee2_row14_col4, #T_b5ee2_row17_col6 {\n",
       "  background-color: #4b4b69;\n",
       "  color: #f1f1f1;\n",
       "}\n",
       "#T_b5ee2_row14_col6 {\n",
       "  background-color: #798799;\n",
       "  color: #f1f1f1;\n",
       "}\n",
       "#T_b5ee2_row14_col7 {\n",
       "  background-color: #cadddd;\n",
       "  color: #000000;\n",
       "}\n",
       "#T_b5ee2_row15_col2 {\n",
       "  background-color: #aecbcb;\n",
       "  color: #000000;\n",
       "}\n",
       "#T_b5ee2_row15_col3 {\n",
       "  background-color: #484864;\n",
       "  color: #f1f1f1;\n",
       "}\n",
       "#T_b5ee2_row16_col2, #T_b5ee2_row22_col6 {\n",
       "  background-color: #788698;\n",
       "  color: #f1f1f1;\n",
       "}\n",
       "#T_b5ee2_row16_col5, #T_b5ee2_row20_col1, #T_b5ee2_row23_col3 {\n",
       "  background-color: #4d4d6b;\n",
       "  color: #f1f1f1;\n",
       "}\n",
       "#T_b5ee2_row16_col7 {\n",
       "  background-color: #889ca7;\n",
       "  color: #f1f1f1;\n",
       "}\n",
       "#T_b5ee2_row17_col2 {\n",
       "  background-color: #6f7a8f;\n",
       "  color: #f1f1f1;\n",
       "}\n",
       "#T_b5ee2_row18_col2 {\n",
       "  background-color: #6e798e;\n",
       "  color: #f1f1f1;\n",
       "}\n",
       "#T_b5ee2_row18_col7 {\n",
       "  background-color: #778597;\n",
       "  color: #f1f1f1;\n",
       "}\n",
       "#T_b5ee2_row19_col2 {\n",
       "  background-color: #b8d2d1;\n",
       "  color: #000000;\n",
       "}\n",
       "#T_b5ee2_row19_col4, #T_b5ee2_row21_col1 {\n",
       "  background-color: #4a4a67;\n",
       "  color: #f1f1f1;\n",
       "}\n",
       "#T_b5ee2_row19_col7 {\n",
       "  background-color: #fafcfb;\n",
       "  color: #000000;\n",
       "}\n",
       "#T_b5ee2_row20_col7, #T_b5ee2_row24_col2, #T_b5ee2_row24_col6 {\n",
       "  background-color: #636983;\n",
       "  color: #f1f1f1;\n",
       "}\n",
       "#T_b5ee2_row21_col2, #T_b5ee2_row25_col1 {\n",
       "  background-color: #575a77;\n",
       "  color: #f1f1f1;\n",
       "}\n",
       "#T_b5ee2_row21_col3 {\n",
       "  background-color: #50506f;\n",
       "  color: #f1f1f1;\n",
       "}\n",
       "#T_b5ee2_row21_col6 {\n",
       "  background-color: #565776;\n",
       "  color: #f1f1f1;\n",
       "}\n",
       "#T_b5ee2_row22_col0 {\n",
       "  background-color: #d9e6e6;\n",
       "  color: #000000;\n",
       "}\n",
       "#T_b5ee2_row22_col1 {\n",
       "  background-color: #687188;\n",
       "  color: #f1f1f1;\n",
       "}\n",
       "#T_b5ee2_row22_col5, #T_b5ee2_row24_col4, #T_b5ee2_row25_col3 {\n",
       "  background-color: #464661;\n",
       "  color: #f1f1f1;\n",
       "}\n",
       "#T_b5ee2_row23_col5 {\n",
       "  background-color: #43435e;\n",
       "  color: #f1f1f1;\n",
       "}\n",
       "#T_b5ee2_row24_col3 {\n",
       "  background-color: #595c79;\n",
       "  color: #f1f1f1;\n",
       "}\n",
       "#T_b5ee2_row25_col5 {\n",
       "  background-color: #41415a;\n",
       "  color: #f1f1f1;\n",
       "}\n",
       "#T_b5ee2_row27_col2 {\n",
       "  background-color: #6c758b;\n",
       "  color: #f1f1f1;\n",
       "}\n",
       "#T_b5ee2_row27_col4 {\n",
       "  background-color: #3d3d55;\n",
       "  color: #f1f1f1;\n",
       "}\n",
       "</style>\n",
       "<table id=\"T_b5ee2\">\n",
       "  <thead>\n",
       "    <tr>\n",
       "      <th class=\"blank level0\" >&nbsp;</th>\n",
       "      <th id=\"T_b5ee2_level0_col0\" class=\"col_heading level0 col0\" >count</th>\n",
       "      <th id=\"T_b5ee2_level0_col1\" class=\"col_heading level0 col1\" >mean</th>\n",
       "      <th id=\"T_b5ee2_level0_col2\" class=\"col_heading level0 col2\" >std</th>\n",
       "      <th id=\"T_b5ee2_level0_col3\" class=\"col_heading level0 col3\" >min</th>\n",
       "      <th id=\"T_b5ee2_level0_col4\" class=\"col_heading level0 col4\" >25%</th>\n",
       "      <th id=\"T_b5ee2_level0_col5\" class=\"col_heading level0 col5\" >50%</th>\n",
       "      <th id=\"T_b5ee2_level0_col6\" class=\"col_heading level0 col6\" >75%</th>\n",
       "      <th id=\"T_b5ee2_level0_col7\" class=\"col_heading level0 col7\" >max</th>\n",
       "    </tr>\n",
       "    <tr>\n",
       "      <th class=\"index_name level0\" >Category</th>\n",
       "      <th class=\"blank col0\" >&nbsp;</th>\n",
       "      <th class=\"blank col1\" >&nbsp;</th>\n",
       "      <th class=\"blank col2\" >&nbsp;</th>\n",
       "      <th class=\"blank col3\" >&nbsp;</th>\n",
       "      <th class=\"blank col4\" >&nbsp;</th>\n",
       "      <th class=\"blank col5\" >&nbsp;</th>\n",
       "      <th class=\"blank col6\" >&nbsp;</th>\n",
       "      <th class=\"blank col7\" >&nbsp;</th>\n",
       "    </tr>\n",
       "  </thead>\n",
       "  <tbody>\n",
       "    <tr>\n",
       "      <th id=\"T_b5ee2_level0_row0\" class=\"row_heading level0 row0\" >Artificial Intelligence (AI)</th>\n",
       "      <td id=\"T_b5ee2_row0_col0\" class=\"data row0 col0\" >7.00</td>\n",
       "      <td id=\"T_b5ee2_row0_col1\" class=\"data row0 col1\" >-28.77</td>\n",
       "      <td id=\"T_b5ee2_row0_col2\" class=\"data row0 col2\" >35.22</td>\n",
       "      <td id=\"T_b5ee2_row0_col3\" class=\"data row0 col3\" >-94.63</td>\n",
       "      <td id=\"T_b5ee2_row0_col4\" class=\"data row0 col4\" >-42.48</td>\n",
       "      <td id=\"T_b5ee2_row0_col5\" class=\"data row0 col5\" >-8.57</td>\n",
       "      <td id=\"T_b5ee2_row0_col6\" class=\"data row0 col6\" >-5.86</td>\n",
       "      <td id=\"T_b5ee2_row0_col7\" class=\"data row0 col7\" >-1.53</td>\n",
       "    </tr>\n",
       "    <tr>\n",
       "      <th id=\"T_b5ee2_level0_row1\" class=\"row_heading level0 row1\" >Stablecoin</th>\n",
       "      <td id=\"T_b5ee2_row1_col0\" class=\"data row1 col0\" >16.00</td>\n",
       "      <td id=\"T_b5ee2_row1_col1\" class=\"data row1 col1\" >-26.89</td>\n",
       "      <td id=\"T_b5ee2_row1_col2\" class=\"data row1 col2\" >22.11</td>\n",
       "      <td id=\"T_b5ee2_row1_col3\" class=\"data row1 col3\" >-80.88</td>\n",
       "      <td id=\"T_b5ee2_row1_col4\" class=\"data row1 col4\" >-40.79</td>\n",
       "      <td id=\"T_b5ee2_row1_col5\" class=\"data row1 col5\" >-19.32</td>\n",
       "      <td id=\"T_b5ee2_row1_col6\" class=\"data row1 col6\" >-12.32</td>\n",
       "      <td id=\"T_b5ee2_row1_col7\" class=\"data row1 col7\" >-2.34</td>\n",
       "    </tr>\n",
       "    <tr>\n",
       "      <th id=\"T_b5ee2_level0_row2\" class=\"row_heading level0 row2\" >Backed Tokens</th>\n",
       "      <td id=\"T_b5ee2_row2_col0\" class=\"data row2 col0\" >5.00</td>\n",
       "      <td id=\"T_b5ee2_row2_col1\" class=\"data row2 col1\" >-50.88</td>\n",
       "      <td id=\"T_b5ee2_row2_col2\" class=\"data row2 col2\" >29.95</td>\n",
       "      <td id=\"T_b5ee2_row2_col3\" class=\"data row2 col3\" >-97.82</td>\n",
       "      <td id=\"T_b5ee2_row2_col4\" class=\"data row2 col4\" >-62.26</td>\n",
       "      <td id=\"T_b5ee2_row2_col5\" class=\"data row2 col5\" >-39.79</td>\n",
       "      <td id=\"T_b5ee2_row2_col6\" class=\"data row2 col6\" >-30.15</td>\n",
       "      <td id=\"T_b5ee2_row2_col7\" class=\"data row2 col7\" >-24.39</td>\n",
       "    </tr>\n",
       "    <tr>\n",
       "      <th id=\"T_b5ee2_level0_row3\" class=\"row_heading level0 row3\" >DEX</th>\n",
       "      <td id=\"T_b5ee2_row3_col0\" class=\"data row3 col0\" >13.00</td>\n",
       "      <td id=\"T_b5ee2_row3_col1\" class=\"data row3 col1\" >-49.47</td>\n",
       "      <td id=\"T_b5ee2_row3_col2\" class=\"data row3 col2\" >38.10</td>\n",
       "      <td id=\"T_b5ee2_row3_col3\" class=\"data row3 col3\" >-97.82</td>\n",
       "      <td id=\"T_b5ee2_row3_col4\" class=\"data row3 col4\" >-93.47</td>\n",
       "      <td id=\"T_b5ee2_row3_col5\" class=\"data row3 col5\" >-42.89</td>\n",
       "      <td id=\"T_b5ee2_row3_col6\" class=\"data row3 col6\" >-12.33</td>\n",
       "      <td id=\"T_b5ee2_row3_col7\" class=\"data row3 col7\" >-10.74</td>\n",
       "    </tr>\n",
       "    <tr>\n",
       "      <th id=\"T_b5ee2_level0_row4\" class=\"row_heading level0 row4\" >Layer-2</th>\n",
       "      <td id=\"T_b5ee2_row4_col0\" class=\"data row4 col0\" >6.00</td>\n",
       "      <td id=\"T_b5ee2_row4_col1\" class=\"data row4 col1\" >-55.77</td>\n",
       "      <td id=\"T_b5ee2_row4_col2\" class=\"data row4 col2\" >43.26</td>\n",
       "      <td id=\"T_b5ee2_row4_col3\" class=\"data row4 col3\" >-99.79</td>\n",
       "      <td id=\"T_b5ee2_row4_col4\" class=\"data row4 col4\" >-94.40</td>\n",
       "      <td id=\"T_b5ee2_row4_col5\" class=\"data row4 col5\" >-57.66</td>\n",
       "      <td id=\"T_b5ee2_row4_col6\" class=\"data row4 col6\" >-16.88</td>\n",
       "      <td id=\"T_b5ee2_row4_col7\" class=\"data row4 col7\" >-9.60</td>\n",
       "    </tr>\n",
       "    <tr>\n",
       "      <th id=\"T_b5ee2_level0_row5\" class=\"row_heading level0 row5\" >CEX</th>\n",
       "      <td id=\"T_b5ee2_row5_col0\" class=\"data row5 col0\" >12.00</td>\n",
       "      <td id=\"T_b5ee2_row5_col1\" class=\"data row5 col1\" >-65.69</td>\n",
       "      <td id=\"T_b5ee2_row5_col2\" class=\"data row5 col2\" >26.89</td>\n",
       "      <td id=\"T_b5ee2_row5_col3\" class=\"data row5 col3\" >-98.41</td>\n",
       "      <td id=\"T_b5ee2_row5_col4\" class=\"data row5 col4\" >-90.62</td>\n",
       "      <td id=\"T_b5ee2_row5_col5\" class=\"data row5 col5\" >-66.84</td>\n",
       "      <td id=\"T_b5ee2_row5_col6\" class=\"data row5 col6\" >-50.10</td>\n",
       "      <td id=\"T_b5ee2_row5_col7\" class=\"data row5 col7\" >-18.39</td>\n",
       "    </tr>\n",
       "    <tr>\n",
       "      <th id=\"T_b5ee2_level0_row6\" class=\"row_heading level0 row6\" >Big Data</th>\n",
       "      <td id=\"T_b5ee2_row6_col0\" class=\"data row6 col0\" >4.00</td>\n",
       "      <td id=\"T_b5ee2_row6_col1\" class=\"data row6 col1\" >-64.29</td>\n",
       "      <td id=\"T_b5ee2_row6_col2\" class=\"data row6 col2\" >36.07</td>\n",
       "      <td id=\"T_b5ee2_row6_col3\" class=\"data row6 col3\" >-98.55</td>\n",
       "      <td id=\"T_b5ee2_row6_col4\" class=\"data row6 col4\" >-88.15</td>\n",
       "      <td id=\"T_b5ee2_row6_col5\" class=\"data row6 col5\" >-70.95</td>\n",
       "      <td id=\"T_b5ee2_row6_col6\" class=\"data row6 col6\" >-47.09</td>\n",
       "      <td id=\"T_b5ee2_row6_col7\" class=\"data row6 col7\" >-16.72</td>\n",
       "    </tr>\n",
       "    <tr>\n",
       "      <th id=\"T_b5ee2_level0_row7\" class=\"row_heading level0 row7\" >Meme</th>\n",
       "      <td id=\"T_b5ee2_row7_col0\" class=\"data row7 col0\" >17.00</td>\n",
       "      <td id=\"T_b5ee2_row7_col1\" class=\"data row7 col1\" >-68.38</td>\n",
       "      <td id=\"T_b5ee2_row7_col2\" class=\"data row7 col2\" >27.89</td>\n",
       "      <td id=\"T_b5ee2_row7_col3\" class=\"data row7 col3\" >-100.00</td>\n",
       "      <td id=\"T_b5ee2_row7_col4\" class=\"data row7 col4\" >-87.65</td>\n",
       "      <td id=\"T_b5ee2_row7_col5\" class=\"data row7 col5\" >-77.83</td>\n",
       "      <td id=\"T_b5ee2_row7_col6\" class=\"data row7 col6\" >-54.18</td>\n",
       "      <td id=\"T_b5ee2_row7_col7\" class=\"data row7 col7\" >-5.87</td>\n",
       "    </tr>\n",
       "    <tr>\n",
       "      <th id=\"T_b5ee2_level0_row8\" class=\"row_heading level0 row8\" >Blockchain Service</th>\n",
       "      <td id=\"T_b5ee2_row8_col0\" class=\"data row8 col0\" >12.00</td>\n",
       "      <td id=\"T_b5ee2_row8_col1\" class=\"data row8 col1\" >-67.96</td>\n",
       "      <td id=\"T_b5ee2_row8_col2\" class=\"data row8 col2\" >28.48</td>\n",
       "      <td id=\"T_b5ee2_row8_col3\" class=\"data row8 col3\" >-96.71</td>\n",
       "      <td id=\"T_b5ee2_row8_col4\" class=\"data row8 col4\" >-84.30</td>\n",
       "      <td id=\"T_b5ee2_row8_col5\" class=\"data row8 col5\" >-78.28</td>\n",
       "      <td id=\"T_b5ee2_row8_col6\" class=\"data row8 col6\" >-60.52</td>\n",
       "      <td id=\"T_b5ee2_row8_col7\" class=\"data row8 col7\" >-4.70</td>\n",
       "    </tr>\n",
       "    <tr>\n",
       "      <th id=\"T_b5ee2_level0_row9\" class=\"row_heading level0 row9\" >Oracle</th>\n",
       "      <td id=\"T_b5ee2_row9_col0\" class=\"data row9 col0\" >6.00</td>\n",
       "      <td id=\"T_b5ee2_row9_col1\" class=\"data row9 col1\" >-69.47</td>\n",
       "      <td id=\"T_b5ee2_row9_col2\" class=\"data row9 col2\" >29.50</td>\n",
       "      <td id=\"T_b5ee2_row9_col3\" class=\"data row9 col3\" >-90.55</td>\n",
       "      <td id=\"T_b5ee2_row9_col4\" class=\"data row9 col4\" >-88.20</td>\n",
       "      <td id=\"T_b5ee2_row9_col5\" class=\"data row9 col5\" >-80.42</td>\n",
       "      <td id=\"T_b5ee2_row9_col6\" class=\"data row9 col6\" >-66.24</td>\n",
       "      <td id=\"T_b5ee2_row9_col7\" class=\"data row9 col7\" >-13.09</td>\n",
       "    </tr>\n",
       "    <tr>\n",
       "      <th id=\"T_b5ee2_level0_row10\" class=\"row_heading level0 row10\" >Protocol</th>\n",
       "      <td id=\"T_b5ee2_row10_col0\" class=\"data row10 col0\" >7.00</td>\n",
       "      <td id=\"T_b5ee2_row10_col1\" class=\"data row10 col1\" >-72.43</td>\n",
       "      <td id=\"T_b5ee2_row10_col2\" class=\"data row10 col2\" >26.25</td>\n",
       "      <td id=\"T_b5ee2_row10_col3\" class=\"data row10 col3\" >-97.66</td>\n",
       "      <td id=\"T_b5ee2_row10_col4\" class=\"data row10 col4\" >-91.57</td>\n",
       "      <td id=\"T_b5ee2_row10_col5\" class=\"data row10 col5\" >-80.68</td>\n",
       "      <td id=\"T_b5ee2_row10_col6\" class=\"data row10 col6\" >-56.43</td>\n",
       "      <td id=\"T_b5ee2_row10_col7\" class=\"data row10 col7\" >-32.68</td>\n",
       "    </tr>\n",
       "    <tr>\n",
       "      <th id=\"T_b5ee2_level0_row11\" class=\"row_heading level0 row11\" >Blockchain</th>\n",
       "      <td id=\"T_b5ee2_row11_col0\" class=\"data row11 col0\" >64.00</td>\n",
       "      <td id=\"T_b5ee2_row11_col1\" class=\"data row11 col1\" >-73.59</td>\n",
       "      <td id=\"T_b5ee2_row11_col2\" class=\"data row11 col2\" >28.30</td>\n",
       "      <td id=\"T_b5ee2_row11_col3\" class=\"data row11 col3\" >-99.38</td>\n",
       "      <td id=\"T_b5ee2_row11_col4\" class=\"data row11 col4\" >-95.16</td>\n",
       "      <td id=\"T_b5ee2_row11_col5\" class=\"data row11 col5\" >-84.40</td>\n",
       "      <td id=\"T_b5ee2_row11_col6\" class=\"data row11 col6\" >-60.14</td>\n",
       "      <td id=\"T_b5ee2_row11_col7\" class=\"data row11 col7\" >-2.05</td>\n",
       "    </tr>\n",
       "    <tr>\n",
       "      <th id=\"T_b5ee2_level0_row12\" class=\"row_heading level0 row12\" >Gaming</th>\n",
       "      <td id=\"T_b5ee2_row12_col0\" class=\"data row12 col0\" >39.00</td>\n",
       "      <td id=\"T_b5ee2_row12_col1\" class=\"data row12 col1\" >-71.95</td>\n",
       "      <td id=\"T_b5ee2_row12_col2\" class=\"data row12 col2\" >28.48</td>\n",
       "      <td id=\"T_b5ee2_row12_col3\" class=\"data row12 col3\" >-99.57</td>\n",
       "      <td id=\"T_b5ee2_row12_col4\" class=\"data row12 col4\" >-95.28</td>\n",
       "      <td id=\"T_b5ee2_row12_col5\" class=\"data row12 col5\" >-85.64</td>\n",
       "      <td id=\"T_b5ee2_row12_col6\" class=\"data row12 col6\" >-51.14</td>\n",
       "      <td id=\"T_b5ee2_row12_col7\" class=\"data row12 col7\" >-4.26</td>\n",
       "    </tr>\n",
       "    <tr>\n",
       "      <th id=\"T_b5ee2_level0_row13\" class=\"row_heading level0 row13\" >Cryptocurrency</th>\n",
       "      <td id=\"T_b5ee2_row13_col0\" class=\"data row13 col0\" >8.00</td>\n",
       "      <td id=\"T_b5ee2_row13_col1\" class=\"data row13 col1\" >-85.38</td>\n",
       "      <td id=\"T_b5ee2_row13_col2\" class=\"data row13 col2\" >13.56</td>\n",
       "      <td id=\"T_b5ee2_row13_col3\" class=\"data row13 col3\" >-98.96</td>\n",
       "      <td id=\"T_b5ee2_row13_col4\" class=\"data row13 col4\" >-96.75</td>\n",
       "      <td id=\"T_b5ee2_row13_col5\" class=\"data row13 col5\" >-88.31</td>\n",
       "      <td id=\"T_b5ee2_row13_col6\" class=\"data row13 col6\" >-76.38</td>\n",
       "      <td id=\"T_b5ee2_row13_col7\" class=\"data row13 col7\" >-66.28</td>\n",
       "    </tr>\n",
       "    <tr>\n",
       "      <th id=\"T_b5ee2_level0_row14\" class=\"row_heading level0 row14\" >Infrastructure</th>\n",
       "      <td id=\"T_b5ee2_row14_col0\" class=\"data row14 col0\" >11.00</td>\n",
       "      <td id=\"T_b5ee2_row14_col1\" class=\"data row14 col1\" >-73.54</td>\n",
       "      <td id=\"T_b5ee2_row14_col2\" class=\"data row14 col2\" >29.50</td>\n",
       "      <td id=\"T_b5ee2_row14_col3\" class=\"data row14 col3\" >-95.30</td>\n",
       "      <td id=\"T_b5ee2_row14_col4\" class=\"data row14 col4\" >-93.52</td>\n",
       "      <td id=\"T_b5ee2_row14_col5\" class=\"data row14 col5\" >-88.32</td>\n",
       "      <td id=\"T_b5ee2_row14_col6\" class=\"data row14 col6\" >-63.65</td>\n",
       "      <td id=\"T_b5ee2_row14_col7\" class=\"data row14 col7\" >-19.55</td>\n",
       "    </tr>\n",
       "    <tr>\n",
       "      <th id=\"T_b5ee2_level0_row15\" class=\"row_heading level0 row15\" >Social</th>\n",
       "      <td id=\"T_b5ee2_row15_col0\" class=\"data row15 col0\" >4.00</td>\n",
       "      <td id=\"T_b5ee2_row15_col1\" class=\"data row15 col1\" >-77.16</td>\n",
       "      <td id=\"T_b5ee2_row15_col2\" class=\"data row15 col2\" >30.36</td>\n",
       "      <td id=\"T_b5ee2_row15_col3\" class=\"data row15 col3\" >-98.68</td>\n",
       "      <td id=\"T_b5ee2_row15_col4\" class=\"data row15 col4\" >-95.81</td>\n",
       "      <td id=\"T_b5ee2_row15_col5\" class=\"data row15 col5\" >-88.55</td>\n",
       "      <td id=\"T_b5ee2_row15_col6\" class=\"data row15 col6\" >-69.90</td>\n",
       "      <td id=\"T_b5ee2_row15_col7\" class=\"data row15 col7\" >-32.85</td>\n",
       "    </tr>\n",
       "    <tr>\n",
       "      <th id=\"T_b5ee2_level0_row16\" class=\"row_heading level0 row16\" >Finance</th>\n",
       "      <td id=\"T_b5ee2_row16_col0\" class=\"data row16 col0\" >7.00</td>\n",
       "      <td id=\"T_b5ee2_row16_col1\" class=\"data row16 col1\" >-86.10</td>\n",
       "      <td id=\"T_b5ee2_row16_col2\" class=\"data row16 col2\" >17.63</td>\n",
       "      <td id=\"T_b5ee2_row16_col3\" class=\"data row16 col3\" >-99.76</td>\n",
       "      <td id=\"T_b5ee2_row16_col4\" class=\"data row16 col4\" >-98.28</td>\n",
       "      <td id=\"T_b5ee2_row16_col5\" class=\"data row16 col5\" >-89.13</td>\n",
       "      <td id=\"T_b5ee2_row16_col6\" class=\"data row16 col6\" >-83.91</td>\n",
       "      <td id=\"T_b5ee2_row16_col7\" class=\"data row16 col7\" >-49.43</td>\n",
       "    </tr>\n",
       "    <tr>\n",
       "      <th id=\"T_b5ee2_level0_row17\" class=\"row_heading level0 row17\" >Cosmos Ecosystem</th>\n",
       "      <td id=\"T_b5ee2_row17_col0\" class=\"data row17 col0\" >5.00</td>\n",
       "      <td id=\"T_b5ee2_row17_col1\" class=\"data row17 col1\" >-86.63</td>\n",
       "      <td id=\"T_b5ee2_row17_col2\" class=\"data row17 col2\" >15.54</td>\n",
       "      <td id=\"T_b5ee2_row17_col3\" class=\"data row17 col3\" >-98.77</td>\n",
       "      <td id=\"T_b5ee2_row17_col4\" class=\"data row17 col4\" >-94.40</td>\n",
       "      <td id=\"T_b5ee2_row17_col5\" class=\"data row17 col5\" >-91.30</td>\n",
       "      <td id=\"T_b5ee2_row17_col6\" class=\"data row17 col6\" >-89.08</td>\n",
       "      <td id=\"T_b5ee2_row17_col7\" class=\"data row17 col7\" >-59.60</td>\n",
       "    </tr>\n",
       "    <tr>\n",
       "      <th id=\"T_b5ee2_level0_row18\" class=\"row_heading level0 row18\" >Web 3.0</th>\n",
       "      <td id=\"T_b5ee2_row18_col0\" class=\"data row18 col0\" >6.00</td>\n",
       "      <td id=\"T_b5ee2_row18_col1\" class=\"data row18 col1\" >-87.47</td>\n",
       "      <td id=\"T_b5ee2_row18_col2\" class=\"data row18 col2\" >15.20</td>\n",
       "      <td id=\"T_b5ee2_row18_col3\" class=\"data row18 col3\" >-100.00</td>\n",
       "      <td id=\"T_b5ee2_row18_col4\" class=\"data row18 col4\" >-96.77</td>\n",
       "      <td id=\"T_b5ee2_row18_col5\" class=\"data row18 col5\" >-92.06</td>\n",
       "      <td id=\"T_b5ee2_row18_col6\" class=\"data row18 col6\" >-85.79</td>\n",
       "      <td id=\"T_b5ee2_row18_col7\" class=\"data row18 col7\" >-58.65</td>\n",
       "    </tr>\n",
       "    <tr>\n",
       "      <th id=\"T_b5ee2_level0_row19\" class=\"row_heading level0 row19\" >Media</th>\n",
       "      <td id=\"T_b5ee2_row19_col0\" class=\"data row19 col0\" >8.00</td>\n",
       "      <td id=\"T_b5ee2_row19_col1\" class=\"data row19 col1\" >-81.82</td>\n",
       "      <td id=\"T_b5ee2_row19_col2\" class=\"data row19 col2\" >32.02</td>\n",
       "      <td id=\"T_b5ee2_row19_col3\" class=\"data row19 col3\" >-97.39</td>\n",
       "      <td id=\"T_b5ee2_row19_col4\" class=\"data row19 col4\" >-93.96</td>\n",
       "      <td id=\"T_b5ee2_row19_col5\" class=\"data row19 col5\" >-92.12</td>\n",
       "      <td id=\"T_b5ee2_row19_col6\" class=\"data row19 col6\" >-91.17</td>\n",
       "      <td id=\"T_b5ee2_row19_col7\" class=\"data row19 col7\" >-2.80</td>\n",
       "    </tr>\n",
       "    <tr>\n",
       "      <th id=\"T_b5ee2_level0_row20\" class=\"row_heading level0 row20\" >Privacy Coin</th>\n",
       "      <td id=\"T_b5ee2_row20_col0\" class=\"data row20 col0\" >12.00</td>\n",
       "      <td id=\"T_b5ee2_row20_col1\" class=\"data row20 col1\" >-88.12</td>\n",
       "      <td id=\"T_b5ee2_row20_col2\" class=\"data row20 col2\" >11.83</td>\n",
       "      <td id=\"T_b5ee2_row20_col3\" class=\"data row20 col3\" >-99.97</td>\n",
       "      <td id=\"T_b5ee2_row20_col4\" class=\"data row20 col4\" >-99.08</td>\n",
       "      <td id=\"T_b5ee2_row20_col5\" class=\"data row20 col5\" >-92.15</td>\n",
       "      <td id=\"T_b5ee2_row20_col6\" class=\"data row20 col6\" >-77.48</td>\n",
       "      <td id=\"T_b5ee2_row20_col7\" class=\"data row20 col7\" >-69.55</td>\n",
       "    </tr>\n",
       "    <tr>\n",
       "      <th id=\"T_b5ee2_level0_row21\" class=\"row_heading level0 row21\" >Lending Platform</th>\n",
       "      <td id=\"T_b5ee2_row21_col0\" class=\"data row21 col0\" >6.00</td>\n",
       "      <td id=\"T_b5ee2_row21_col1\" class=\"data row21 col1\" >-89.27</td>\n",
       "      <td id=\"T_b5ee2_row21_col2\" class=\"data row21 col2\" >9.58</td>\n",
       "      <td id=\"T_b5ee2_row21_col3\" class=\"data row21 col3\" >-97.70</td>\n",
       "      <td id=\"T_b5ee2_row21_col4\" class=\"data row21 col4\" >-96.99</td>\n",
       "      <td id=\"T_b5ee2_row21_col5\" class=\"data row21 col5\" >-92.28</td>\n",
       "      <td id=\"T_b5ee2_row21_col6\" class=\"data row21 col6\" >-83.27</td>\n",
       "      <td id=\"T_b5ee2_row21_col7\" class=\"data row21 col7\" >-74.55</td>\n",
       "    </tr>\n",
       "    <tr>\n",
       "      <th id=\"T_b5ee2_level0_row22\" class=\"row_heading level0 row22\" >DeFi</th>\n",
       "      <td id=\"T_b5ee2_row22_col0\" class=\"data row22 col0\" >55.00</td>\n",
       "      <td id=\"T_b5ee2_row22_col1\" class=\"data row22 col1\" >-76.93</td>\n",
       "      <td id=\"T_b5ee2_row22_col2\" class=\"data row22 col2\" >28.83</td>\n",
       "      <td id=\"T_b5ee2_row22_col3\" class=\"data row22 col3\" >-99.99</td>\n",
       "      <td id=\"T_b5ee2_row22_col4\" class=\"data row22 col4\" >-96.06</td>\n",
       "      <td id=\"T_b5ee2_row22_col5\" class=\"data row22 col5\" >-92.80</td>\n",
       "      <td id=\"T_b5ee2_row22_col6\" class=\"data row22 col6\" >-64.02</td>\n",
       "      <td id=\"T_b5ee2_row22_col7\" class=\"data row22 col7\" >-0.45</td>\n",
       "    </tr>\n",
       "    <tr>\n",
       "      <th id=\"T_b5ee2_level0_row23\" class=\"row_heading level0 row23\" >Wallet</th>\n",
       "      <td id=\"T_b5ee2_row23_col0\" class=\"data row23 col0\" >6.00</td>\n",
       "      <td id=\"T_b5ee2_row23_col1\" class=\"data row23 col1\" >-93.89</td>\n",
       "      <td id=\"T_b5ee2_row23_col2\" class=\"data row23 col2\" >3.53</td>\n",
       "      <td id=\"T_b5ee2_row23_col3\" class=\"data row23 col3\" >-97.97</td>\n",
       "      <td id=\"T_b5ee2_row23_col4\" class=\"data row23 col4\" >-96.24</td>\n",
       "      <td id=\"T_b5ee2_row23_col5\" class=\"data row23 col5\" >-94.16</td>\n",
       "      <td id=\"T_b5ee2_row23_col6\" class=\"data row23 col6\" >-92.53</td>\n",
       "      <td id=\"T_b5ee2_row23_col7\" class=\"data row23 col7\" >-88.11</td>\n",
       "    </tr>\n",
       "    <tr>\n",
       "      <th id=\"T_b5ee2_level0_row24\" class=\"row_heading level0 row24\" >Play to Earn</th>\n",
       "      <td id=\"T_b5ee2_row24_col0\" class=\"data row24 col0\" >5.00</td>\n",
       "      <td id=\"T_b5ee2_row24_col1\" class=\"data row24 col1\" >-86.65</td>\n",
       "      <td id=\"T_b5ee2_row24_col2\" class=\"data row24 col2\" >12.46</td>\n",
       "      <td id=\"T_b5ee2_row24_col3\" class=\"data row24 col3\" >-96.57</td>\n",
       "      <td id=\"T_b5ee2_row24_col4\" class=\"data row24 col4\" >-95.47</td>\n",
       "      <td id=\"T_b5ee2_row24_col5\" class=\"data row24 col5\" >-94.95</td>\n",
       "      <td id=\"T_b5ee2_row24_col6\" class=\"data row24 col6\" >-75.48</td>\n",
       "      <td id=\"T_b5ee2_row24_col7\" class=\"data row24 col7\" >-70.79</td>\n",
       "    </tr>\n",
       "    <tr>\n",
       "      <th id=\"T_b5ee2_level0_row25\" class=\"row_heading level0 row25\" >NFT</th>\n",
       "      <td id=\"T_b5ee2_row25_col0\" class=\"data row25 col0\" >20.00</td>\n",
       "      <td id=\"T_b5ee2_row25_col1\" class=\"data row25 col1\" >-83.75</td>\n",
       "      <td id=\"T_b5ee2_row25_col2\" class=\"data row25 col2\" >23.21</td>\n",
       "      <td id=\"T_b5ee2_row25_col3\" class=\"data row25 col3\" >-98.83</td>\n",
       "      <td id=\"T_b5ee2_row25_col4\" class=\"data row25 col4\" >-97.83</td>\n",
       "      <td id=\"T_b5ee2_row25_col5\" class=\"data row25 col5\" >-95.47</td>\n",
       "      <td id=\"T_b5ee2_row25_col6\" class=\"data row25 col6\" >-77.24</td>\n",
       "      <td id=\"T_b5ee2_row25_col7\" class=\"data row25 col7\" >-4.47</td>\n",
       "    </tr>\n",
       "    <tr>\n",
       "      <th id=\"T_b5ee2_level0_row26\" class=\"row_heading level0 row26\" >Metaverse</th>\n",
       "      <td id=\"T_b5ee2_row26_col0\" class=\"data row26 col0\" >4.00</td>\n",
       "      <td id=\"T_b5ee2_row26_col1\" class=\"data row26 col1\" >-95.23</td>\n",
       "      <td id=\"T_b5ee2_row26_col2\" class=\"data row26 col2\" >2.91</td>\n",
       "      <td id=\"T_b5ee2_row26_col3\" class=\"data row26 col3\" >-97.82</td>\n",
       "      <td id=\"T_b5ee2_row26_col4\" class=\"data row26 col4\" >-96.72</td>\n",
       "      <td id=\"T_b5ee2_row26_col5\" class=\"data row26 col5\" >-96.00</td>\n",
       "      <td id=\"T_b5ee2_row26_col6\" class=\"data row26 col6\" >-94.51</td>\n",
       "      <td id=\"T_b5ee2_row26_col7\" class=\"data row26 col7\" >-91.08</td>\n",
       "    </tr>\n",
       "    <tr>\n",
       "      <th id=\"T_b5ee2_level0_row27\" class=\"row_heading level0 row27\" >Yield Farming</th>\n",
       "      <td id=\"T_b5ee2_row27_col0\" class=\"data row27 col0\" >5.00</td>\n",
       "      <td id=\"T_b5ee2_row27_col1\" class=\"data row27 col1\" >-91.91</td>\n",
       "      <td id=\"T_b5ee2_row27_col2\" class=\"data row27 col2\" >14.62</td>\n",
       "      <td id=\"T_b5ee2_row27_col3\" class=\"data row27 col3\" >-99.51</td>\n",
       "      <td id=\"T_b5ee2_row27_col4\" class=\"data row27 col4\" >-98.61</td>\n",
       "      <td id=\"T_b5ee2_row27_col5\" class=\"data row27 col5\" >-98.18</td>\n",
       "      <td id=\"T_b5ee2_row27_col6\" class=\"data row27 col6\" >-97.46</td>\n",
       "      <td id=\"T_b5ee2_row27_col7\" class=\"data row27 col7\" >-65.80</td>\n",
       "    </tr>\n",
       "  </tbody>\n",
       "</table>\n"
      ],
      "text/plain": [
       "<pandas.io.formats.style.Styler at 0x17c4a1cf0>"
      ]
     },
     "execution_count": 107,
     "metadata": {},
     "output_type": "execute_result"
    }
   ],
   "source": [
    "drop_cat = data.loc[(data['Category'] != '--') & (data['MarketCap(Bln)'] > 0.030)]\n",
    "drop_cat = drop_cat.groupby('Category')['%fromATH'].describe().sort_values(by='50%', ascending=False)\n",
    "drop_cat = drop_cat[(drop_cat['count'] > 3)]\n",
    "drop_cat_gradient = drop_cat.style.background_gradient(axis=0, low=0.37, cmap='bone').format(\"{:.2f}\")\n",
    "drop_cat_gradient"
   ]
  },
  {
   "cell_type": "markdown",
   "metadata": {},
   "source": [
    "### Average age of the token in each category."
   ]
  },
  {
   "cell_type": "code",
   "execution_count": 108,
   "metadata": {},
   "outputs": [
    {
     "data": {
      "text/html": [
       "<style type=\"text/css\">\n",
       "#T_f1a2e_row0_col0, #T_f1a2e_row10_col3, #T_f1a2e_row28_col2, #T_f1a2e_row34_col0, #T_f1a2e_row41_col0, #T_f1a2e_row50_col4, #T_f1a2e_row51_col5 {\n",
       "  background-color: #464661;\n",
       "  color: #f1f1f1;\n",
       "}\n",
       "#T_f1a2e_row0_col1, #T_f1a2e_row0_col4, #T_f1a2e_row0_col5, #T_f1a2e_row1_col6, #T_f1a2e_row2_col3, #T_f1a2e_row23_col2, #T_f1a2e_row25_col0, #T_f1a2e_row38_col7 {\n",
       "  background-color: #ffffff;\n",
       "  color: #000000;\n",
       "}\n",
       "#T_f1a2e_row0_col2, #T_f1a2e_row5_col7, #T_f1a2e_row9_col1, #T_f1a2e_row11_col2, #T_f1a2e_row26_col3, #T_f1a2e_row48_col2, #T_f1a2e_row50_col2 {\n",
       "  background-color: #a4c2c3;\n",
       "  color: #000000;\n",
       "}\n",
       "#T_f1a2e_row0_col3, #T_f1a2e_row25_col6 {\n",
       "  background-color: #8ba1ab;\n",
       "  color: #f1f1f1;\n",
       "}\n",
       "#T_f1a2e_row0_col6 {\n",
       "  background-color: #fafcfb;\n",
       "  color: #000000;\n",
       "}\n",
       "#T_f1a2e_row0_col7 {\n",
       "  background-color: #e9f1f1;\n",
       "  color: #000000;\n",
       "}\n",
       "#T_f1a2e_row1_col0 {\n",
       "  background-color: #4d4d6b;\n",
       "  color: #f1f1f1;\n",
       "}\n",
       "#T_f1a2e_row1_col1 {\n",
       "  background-color: #f8fbfb;\n",
       "  color: #000000;\n",
       "}\n",
       "#T_f1a2e_row1_col2, #T_f1a2e_row3_col1 {\n",
       "  background-color: #cadddd;\n",
       "  color: #000000;\n",
       "}\n",
       "#T_f1a2e_row1_col3 {\n",
       "  background-color: #e0ebeb;\n",
       "  color: #000000;\n",
       "}\n",
       "#T_f1a2e_row1_col4, #T_f1a2e_row3_col5, #T_f1a2e_row10_col2, #T_f1a2e_row17_col2, #T_f1a2e_row17_col7 {\n",
       "  background-color: #d9e6e6;\n",
       "  color: #000000;\n",
       "}\n",
       "#T_f1a2e_row1_col5 {\n",
       "  background-color: #e4eeed;\n",
       "  color: #000000;\n",
       "}\n",
       "#T_f1a2e_row1_col7, #T_f1a2e_row2_col6, #T_f1a2e_row8_col2 {\n",
       "  background-color: #eff4f4;\n",
       "  color: #000000;\n",
       "}\n",
       "#T_f1a2e_row2_col0, #T_f1a2e_row3_col0, #T_f1a2e_row15_col3, #T_f1a2e_row16_col0, #T_f1a2e_row18_col3, #T_f1a2e_row20_col0, #T_f1a2e_row20_col2, #T_f1a2e_row23_col0, #T_f1a2e_row25_col3, #T_f1a2e_row42_col3, #T_f1a2e_row43_col3, #T_f1a2e_row46_col0, #T_f1a2e_row47_col0, #T_f1a2e_row55_col1, #T_f1a2e_row55_col3, #T_f1a2e_row55_col4, #T_f1a2e_row55_col5, #T_f1a2e_row55_col6, #T_f1a2e_row55_col7 {\n",
       "  background-color: #3c3c54;\n",
       "  color: #f1f1f1;\n",
       "}\n",
       "#T_f1a2e_row2_col1, #T_f1a2e_row25_col7 {\n",
       "  background-color: #dbe8e8;\n",
       "  color: #000000;\n",
       "}\n",
       "#T_f1a2e_row2_col2, #T_f1a2e_row20_col4 {\n",
       "  background-color: #96b0b6;\n",
       "  color: #000000;\n",
       "}\n",
       "#T_f1a2e_row2_col4 {\n",
       "  background-color: #d3e3e3;\n",
       "  color: #000000;\n",
       "}\n",
       "#T_f1a2e_row2_col5 {\n",
       "  background-color: #dae7e7;\n",
       "  color: #000000;\n",
       "}\n",
       "#T_f1a2e_row2_col7, #T_f1a2e_row3_col7, #T_f1a2e_row10_col1, #T_f1a2e_row40_col7 {\n",
       "  background-color: #a2c0c2;\n",
       "  color: #000000;\n",
       "}\n",
       "#T_f1a2e_row3_col2, #T_f1a2e_row12_col3 {\n",
       "  background-color: #c7dbdb;\n",
       "  color: #000000;\n",
       "}\n",
       "#T_f1a2e_row3_col3 {\n",
       "  background-color: #565776;\n",
       "  color: #f1f1f1;\n",
       "}\n",
       "#T_f1a2e_row3_col4 {\n",
       "  background-color: #eaf2f2;\n",
       "  color: #000000;\n",
       "}\n",
       "#T_f1a2e_row3_col6 {\n",
       "  background-color: #d6e5e5;\n",
       "  color: #000000;\n",
       "}\n",
       "#T_f1a2e_row4_col0, #T_f1a2e_row13_col0, #T_f1a2e_row41_col3, #T_f1a2e_row46_col3, #T_f1a2e_row54_col5 {\n",
       "  background-color: #474763;\n",
       "  color: #f1f1f1;\n",
       "}\n",
       "#T_f1a2e_row4_col1, #T_f1a2e_row10_col6 {\n",
       "  background-color: #c4d9d9;\n",
       "  color: #000000;\n",
       "}\n",
       "#T_f1a2e_row4_col2, #T_f1a2e_row10_col7 {\n",
       "  background-color: #9fbcbf;\n",
       "  color: #000000;\n",
       "}\n",
       "#T_f1a2e_row4_col3, #T_f1a2e_row18_col4 {\n",
       "  background-color: #727e92;\n",
       "  color: #f1f1f1;\n",
       "}\n",
       "#T_f1a2e_row4_col4, #T_f1a2e_row6_col5, #T_f1a2e_row10_col5, #T_f1a2e_row11_col5, #T_f1a2e_row27_col7 {\n",
       "  background-color: #aecbcb;\n",
       "  color: #000000;\n",
       "}\n",
       "#T_f1a2e_row4_col5 {\n",
       "  background-color: #c3d8d8;\n",
       "  color: #000000;\n",
       "}\n",
       "#T_f1a2e_row4_col6 {\n",
       "  background-color: #dde9e9;\n",
       "  color: #000000;\n",
       "}\n",
       "#T_f1a2e_row4_col7 {\n",
       "  background-color: #b1cdcd;\n",
       "  color: #000000;\n",
       "}\n",
       "#T_f1a2e_row5_col0, #T_f1a2e_row40_col4, #T_f1a2e_row42_col0 {\n",
       "  background-color: #4a4966;\n",
       "  color: #f1f1f1;\n",
       "}\n",
       "#T_f1a2e_row5_col1 {\n",
       "  background-color: #b8d2d1;\n",
       "  color: #000000;\n",
       "}\n",
       "#T_f1a2e_row5_col2, #T_f1a2e_row13_col5 {\n",
       "  background-color: #8da3ad;\n",
       "  color: #f1f1f1;\n",
       "}\n",
       "#T_f1a2e_row5_col3, #T_f1a2e_row11_col6, #T_f1a2e_row32_col2 {\n",
       "  background-color: #adcaca;\n",
       "  color: #000000;\n",
       "}\n",
       "#T_f1a2e_row5_col4, #T_f1a2e_row49_col2 {\n",
       "  background-color: #b4cfcf;\n",
       "  color: #000000;\n",
       "}\n",
       "#T_f1a2e_row5_col5 {\n",
       "  background-color: #b0cccc;\n",
       "  color: #000000;\n",
       "}\n",
       "#T_f1a2e_row5_col6, #T_f1a2e_row36_col2 {\n",
       "  background-color: #b9d2d2;\n",
       "  color: #000000;\n",
       "}\n",
       "#T_f1a2e_row6_col0, #T_f1a2e_row50_col3, #T_f1a2e_row51_col4, #T_f1a2e_row53_col3 {\n",
       "  background-color: #41415a;\n",
       "  color: #f1f1f1;\n",
       "}\n",
       "#T_f1a2e_row6_col1, #T_f1a2e_row38_col2 {\n",
       "  background-color: #aac9c9;\n",
       "  color: #000000;\n",
       "}\n",
       "#T_f1a2e_row6_col2, #T_f1a2e_row11_col1, #T_f1a2e_row15_col2 {\n",
       "  background-color: #a1bfc1;\n",
       "  color: #000000;\n",
       "}\n",
       "#T_f1a2e_row6_col3, #T_f1a2e_row52_col6 {\n",
       "  background-color: #5a5d7a;\n",
       "  color: #f1f1f1;\n",
       "}\n",
       "#T_f1a2e_row6_col4 {\n",
       "  background-color: #97b2b7;\n",
       "  color: #000000;\n",
       "}\n",
       "#T_f1a2e_row6_col6 {\n",
       "  background-color: #cbdede;\n",
       "  color: #000000;\n",
       "}\n",
       "#T_f1a2e_row6_col7, #T_f1a2e_row12_col4, #T_f1a2e_row18_col7, #T_f1a2e_row30_col7, #T_f1a2e_row36_col7, #T_f1a2e_row48_col7, #T_f1a2e_row49_col7 {\n",
       "  background-color: #99b4b9;\n",
       "  color: #000000;\n",
       "}\n",
       "#T_f1a2e_row7_col0, #T_f1a2e_row9_col0, #T_f1a2e_row14_col0, #T_f1a2e_row21_col0, #T_f1a2e_row37_col3, #T_f1a2e_row39_col3, #T_f1a2e_row54_col0 {\n",
       "  background-color: #3f3f58;\n",
       "  color: #f1f1f1;\n",
       "}\n",
       "#T_f1a2e_row7_col1, #T_f1a2e_row9_col5, #T_f1a2e_row24_col7 {\n",
       "  background-color: #a7c7c7;\n",
       "  color: #000000;\n",
       "}\n",
       "#T_f1a2e_row7_col2, #T_f1a2e_row21_col4 {\n",
       "  background-color: #95aeb5;\n",
       "  color: #f1f1f1;\n",
       "}\n",
       "#T_f1a2e_row7_col3, #T_f1a2e_row8_col5, #T_f1a2e_row11_col7, #T_f1a2e_row51_col2 {\n",
       "  background-color: #9db9bc;\n",
       "  color: #000000;\n",
       "}\n",
       "#T_f1a2e_row7_col4, #T_f1a2e_row7_col5, #T_f1a2e_row9_col6, #T_f1a2e_row15_col6, #T_f1a2e_row41_col7 {\n",
       "  background-color: #9dbabd;\n",
       "  color: #000000;\n",
       "}\n",
       "#T_f1a2e_row7_col6 {\n",
       "  background-color: #bdd5d5;\n",
       "  color: #000000;\n",
       "}\n",
       "#T_f1a2e_row7_col7, #T_f1a2e_row52_col7 {\n",
       "  background-color: #a0bec0;\n",
       "  color: #000000;\n",
       "}\n",
       "#T_f1a2e_row8_col0, #T_f1a2e_row42_col1, #T_f1a2e_row45_col5, #T_f1a2e_row47_col2 {\n",
       "  background-color: #748194;\n",
       "  color: #f1f1f1;\n",
       "}\n",
       "#T_f1a2e_row8_col1, #T_f1a2e_row24_col2 {\n",
       "  background-color: #a6c6c6;\n",
       "  color: #000000;\n",
       "}\n",
       "#T_f1a2e_row8_col3, #T_f1a2e_row30_col0, #T_f1a2e_row31_col0, #T_f1a2e_row38_col3, #T_f1a2e_row48_col4, #T_f1a2e_row48_col5 {\n",
       "  background-color: #42425b;\n",
       "  color: #f1f1f1;\n",
       "}\n",
       "#T_f1a2e_row8_col4, #T_f1a2e_row19_col6, #T_f1a2e_row24_col6, #T_f1a2e_row31_col1, #T_f1a2e_row37_col5, #T_f1a2e_row42_col2, #T_f1a2e_row46_col6 {\n",
       "  background-color: #7f909f;\n",
       "  color: #f1f1f1;\n",
       "}\n",
       "#T_f1a2e_row8_col6 {\n",
       "  background-color: #d7e6e6;\n",
       "  color: #000000;\n",
       "}\n",
       "#T_f1a2e_row8_col7 {\n",
       "  background-color: #f3f7f7;\n",
       "  color: #000000;\n",
       "}\n",
       "#T_f1a2e_row9_col2 {\n",
       "  background-color: #555675;\n",
       "  color: #f1f1f1;\n",
       "}\n",
       "#T_f1a2e_row9_col3 {\n",
       "  background-color: #fcfdfd;\n",
       "  color: #000000;\n",
       "}\n",
       "#T_f1a2e_row9_col4, #T_f1a2e_row15_col7, #T_f1a2e_row46_col2 {\n",
       "  background-color: #b7d1d1;\n",
       "  color: #000000;\n",
       "}\n",
       "#T_f1a2e_row9_col7, #T_f1a2e_row14_col7, #T_f1a2e_row19_col7, #T_f1a2e_row29_col2, #T_f1a2e_row32_col6, #T_f1a2e_row34_col5, #T_f1a2e_row36_col1, #T_f1a2e_row37_col1, #T_f1a2e_row39_col5, #T_f1a2e_row40_col6 {\n",
       "  background-color: #7a8a9a;\n",
       "  color: #f1f1f1;\n",
       "}\n",
       "#T_f1a2e_row10_col0, #T_f1a2e_row17_col3, #T_f1a2e_row19_col0, #T_f1a2e_row27_col3, #T_f1a2e_row28_col0, #T_f1a2e_row29_col3, #T_f1a2e_row36_col3, #T_f1a2e_row40_col0, #T_f1a2e_row44_col0, #T_f1a2e_row51_col3, #T_f1a2e_row55_col2 {\n",
       "  background-color: #3d3d55;\n",
       "  color: #f1f1f1;\n",
       "}\n",
       "#T_f1a2e_row10_col4, #T_f1a2e_row20_col1, #T_f1a2e_row21_col1, #T_f1a2e_row22_col1, #T_f1a2e_row22_col4, #T_f1a2e_row25_col2 {\n",
       "  background-color: #889da8;\n",
       "  color: #f1f1f1;\n",
       "}\n",
       "#T_f1a2e_row11_col0, #T_f1a2e_row37_col0 {\n",
       "  background-color: #43435e;\n",
       "  color: #f1f1f1;\n",
       "}\n",
       "#T_f1a2e_row11_col3, #T_f1a2e_row33_col2, #T_f1a2e_row44_col3, #T_f1a2e_row50_col5, #T_f1a2e_row53_col4 {\n",
       "  background-color: #535473;\n",
       "  color: #f1f1f1;\n",
       "}\n",
       "#T_f1a2e_row11_col4, #T_f1a2e_row12_col7, #T_f1a2e_row14_col6, #T_f1a2e_row30_col2, #T_f1a2e_row45_col7 {\n",
       "  background-color: #90a8b0;\n",
       "  color: #f1f1f1;\n",
       "}\n",
       "#T_f1a2e_row12_col0, #T_f1a2e_row40_col3, #T_f1a2e_row48_col3, #T_f1a2e_row53_col0 {\n",
       "  background-color: #404059;\n",
       "  color: #f1f1f1;\n",
       "}\n",
       "#T_f1a2e_row12_col1, #T_f1a2e_row16_col6, #T_f1a2e_row18_col6, #T_f1a2e_row27_col2 {\n",
       "  background-color: #9cb8bc;\n",
       "  color: #000000;\n",
       "}\n",
       "#T_f1a2e_row12_col2, #T_f1a2e_row46_col1, #T_f1a2e_row48_col6 {\n",
       "  background-color: #6e798e;\n",
       "  color: #f1f1f1;\n",
       "}\n",
       "#T_f1a2e_row12_col5, #T_f1a2e_row14_col4, #T_f1a2e_row35_col7 {\n",
       "  background-color: #9ab5ba;\n",
       "  color: #000000;\n",
       "}\n",
       "#T_f1a2e_row12_col6, #T_f1a2e_row13_col1, #T_f1a2e_row13_col4, #T_f1a2e_row22_col3, #T_f1a2e_row39_col7, #T_f1a2e_row43_col0 {\n",
       "  background-color: #98b3b8;\n",
       "  color: #000000;\n",
       "}\n",
       "#T_f1a2e_row13_col2, #T_f1a2e_row19_col4, #T_f1a2e_row39_col2, #T_f1a2e_row50_col7 {\n",
       "  background-color: #93acb3;\n",
       "  color: #f1f1f1;\n",
       "}\n",
       "#T_f1a2e_row13_col3, #T_f1a2e_row18_col0, #T_f1a2e_row23_col3, #T_f1a2e_row35_col3, #T_f1a2e_row52_col5 {\n",
       "  background-color: #484864;\n",
       "  color: #f1f1f1;\n",
       "}\n",
       "#T_f1a2e_row13_col6, #T_f1a2e_row52_col2 {\n",
       "  background-color: #92aab2;\n",
       "  color: #f1f1f1;\n",
       "}\n",
       "#T_f1a2e_row13_col7 {\n",
       "  background-color: #a4c4c4;\n",
       "  color: #000000;\n",
       "}\n",
       "#T_f1a2e_row14_col1, #T_f1a2e_row31_col7 {\n",
       "  background-color: #94adb4;\n",
       "  color: #f1f1f1;\n",
       "}\n",
       "#T_f1a2e_row14_col2 {\n",
       "  background-color: #5d617d;\n",
       "  color: #f1f1f1;\n",
       "}\n",
       "#T_f1a2e_row14_col3, #T_f1a2e_row21_col3 {\n",
       "  background-color: #cfe0e0;\n",
       "  color: #000000;\n",
       "}\n",
       "#T_f1a2e_row14_col5, #T_f1a2e_row17_col1, #T_f1a2e_row18_col1 {\n",
       "  background-color: #8ca2ac;\n",
       "  color: #f1f1f1;\n",
       "}\n",
       "#T_f1a2e_row15_col0, #T_f1a2e_row17_col0, #T_f1a2e_row22_col0, #T_f1a2e_row36_col4, #T_f1a2e_row49_col5, #T_f1a2e_row53_col6 {\n",
       "  background-color: #4e4e6c;\n",
       "  color: #f1f1f1;\n",
       "}\n",
       "#T_f1a2e_row15_col1 {\n",
       "  background-color: #8fa6ae;\n",
       "  color: #f1f1f1;\n",
       "}\n",
       "#T_f1a2e_row15_col4, #T_f1a2e_row16_col2, #T_f1a2e_row27_col6, #T_f1a2e_row30_col6, #T_f1a2e_row45_col2 {\n",
       "  background-color: #8598a5;\n",
       "  color: #f1f1f1;\n",
       "}\n",
       "#T_f1a2e_row15_col5, #T_f1a2e_row17_col5, #T_f1a2e_row29_col4, #T_f1a2e_row43_col2 {\n",
       "  background-color: #899ea9;\n",
       "  color: #f1f1f1;\n",
       "}\n",
       "#T_f1a2e_row16_col1 {\n",
       "  background-color: #8ea4ae;\n",
       "  color: #f1f1f1;\n",
       "}\n",
       "#T_f1a2e_row16_col3, #T_f1a2e_row16_col5, #T_f1a2e_row25_col4, #T_f1a2e_row27_col1, #T_f1a2e_row28_col1, #T_f1a2e_row33_col4, #T_f1a2e_row34_col4 {\n",
       "  background-color: #8295a2;\n",
       "  color: #f1f1f1;\n",
       "}\n",
       "#T_f1a2e_row16_col4, #T_f1a2e_row26_col1, #T_f1a2e_row34_col7 {\n",
       "  background-color: #8497a4;\n",
       "  color: #f1f1f1;\n",
       "}\n",
       "#T_f1a2e_row16_col7, #T_f1a2e_row21_col6, #T_f1a2e_row22_col5, #T_f1a2e_row22_col7, #T_f1a2e_row23_col5, #T_f1a2e_row26_col4, #T_f1a2e_row26_col7, #T_f1a2e_row28_col5, #T_f1a2e_row29_col1, #T_f1a2e_row30_col1, #T_f1a2e_row30_col5, #T_f1a2e_row35_col0 {\n",
       "  background-color: #8194a1;\n",
       "  color: #f1f1f1;\n",
       "}\n",
       "#T_f1a2e_row17_col4, #T_f1a2e_row40_col5, #T_f1a2e_row44_col2, #T_f1a2e_row47_col1 {\n",
       "  background-color: #666d85;\n",
       "  color: #f1f1f1;\n",
       "}\n",
       "#T_f1a2e_row17_col6 {\n",
       "  background-color: #a5c5c5;\n",
       "  color: #000000;\n",
       "}\n",
       "#T_f1a2e_row18_col2, #T_f1a2e_row41_col2 {\n",
       "  background-color: #b2cece;\n",
       "  color: #000000;\n",
       "}\n",
       "#T_f1a2e_row18_col5, #T_f1a2e_row33_col6, #T_f1a2e_row39_col1, #T_f1a2e_row44_col4 {\n",
       "  background-color: #788698;\n",
       "  color: #f1f1f1;\n",
       "}\n",
       "#T_f1a2e_row19_col1, #T_f1a2e_row28_col4, #T_f1a2e_row29_col5, #T_f1a2e_row29_col6 {\n",
       "  background-color: #8aa0aa;\n",
       "  color: #f1f1f1;\n",
       "}\n",
       "#T_f1a2e_row19_col2, #T_f1a2e_row38_col0 {\n",
       "  background-color: #595c79;\n",
       "  color: #f1f1f1;\n",
       "}\n",
       "#T_f1a2e_row19_col3 {\n",
       "  background-color: #c6dada;\n",
       "  color: #000000;\n",
       "}\n",
       "#T_f1a2e_row19_col5, #T_f1a2e_row22_col6, #T_f1a2e_row23_col1, #T_f1a2e_row23_col6, #T_f1a2e_row25_col5, #T_f1a2e_row37_col4 {\n",
       "  background-color: #879ba7;\n",
       "  color: #f1f1f1;\n",
       "}\n",
       "#T_f1a2e_row20_col3 {\n",
       "  background-color: #e8f0f0;\n",
       "  color: #000000;\n",
       "}\n",
       "#T_f1a2e_row20_col5, #T_f1a2e_row21_col5, #T_f1a2e_row24_col4, #T_f1a2e_row27_col5 {\n",
       "  background-color: #889ca7;\n",
       "  color: #f1f1f1;\n",
       "}\n",
       "#T_f1a2e_row20_col6, #T_f1a2e_row26_col6, #T_f1a2e_row35_col4, #T_f1a2e_row51_col0 {\n",
       "  background-color: #8091a0;\n",
       "  color: #f1f1f1;\n",
       "}\n",
       "#T_f1a2e_row20_col7, #T_f1a2e_row28_col7 {\n",
       "  background-color: #666e86;\n",
       "  color: #f1f1f1;\n",
       "}\n",
       "#T_f1a2e_row21_col2, #T_f1a2e_row26_col0, #T_f1a2e_row48_col0, #T_f1a2e_row52_col4 {\n",
       "  background-color: #42425d;\n",
       "  color: #f1f1f1;\n",
       "}\n",
       "#T_f1a2e_row21_col7, #T_f1a2e_row32_col4, #T_f1a2e_row37_col7, #T_f1a2e_row41_col5 {\n",
       "  background-color: #687188;\n",
       "  color: #f1f1f1;\n",
       "}\n",
       "#T_f1a2e_row22_col2, #T_f1a2e_row48_col1 {\n",
       "  background-color: #626882;\n",
       "  color: #f1f1f1;\n",
       "}\n",
       "#T_f1a2e_row23_col4 {\n",
       "  background-color: #606680;\n",
       "  color: #f1f1f1;\n",
       "}\n",
       "#T_f1a2e_row23_col7 {\n",
       "  background-color: #c1d8d8;\n",
       "  color: #000000;\n",
       "}\n",
       "#T_f1a2e_row24_col0, #T_f1a2e_row24_col3, #T_f1a2e_row49_col3, #T_f1a2e_row50_col0, #T_f1a2e_row52_col3, #T_f1a2e_row55_col0 {\n",
       "  background-color: #3e3e56;\n",
       "  color: #f1f1f1;\n",
       "}\n",
       "#T_f1a2e_row24_col1, #T_f1a2e_row25_col1, #T_f1a2e_row33_col3, #T_f1a2e_row46_col7 {\n",
       "  background-color: #869aa6;\n",
       "  color: #f1f1f1;\n",
       "}\n",
       "#T_f1a2e_row24_col5, #T_f1a2e_row37_col6, #T_f1a2e_row45_col6 {\n",
       "  background-color: #7d8d9d;\n",
       "  color: #f1f1f1;\n",
       "}\n",
       "#T_f1a2e_row26_col2, #T_f1a2e_row34_col2, #T_f1a2e_row44_col7 {\n",
       "  background-color: #656c84;\n",
       "  color: #f1f1f1;\n",
       "}\n",
       "#T_f1a2e_row26_col5, #T_f1a2e_row28_col6, #T_f1a2e_row32_col1 {\n",
       "  background-color: #7e8f9e;\n",
       "  color: #f1f1f1;\n",
       "}\n",
       "#T_f1a2e_row27_col0, #T_f1a2e_row53_col5 {\n",
       "  background-color: #505070;\n",
       "  color: #f1f1f1;\n",
       "}\n",
       "#T_f1a2e_row27_col4, #T_f1a2e_row31_col2, #T_f1a2e_row33_col1, #T_f1a2e_row34_col1, #T_f1a2e_row35_col5, #T_f1a2e_row38_col4, #T_f1a2e_row42_col6 {\n",
       "  background-color: #7c8c9c;\n",
       "  color: #f1f1f1;\n",
       "}\n",
       "#T_f1a2e_row28_col3 {\n",
       "  background-color: #bfd6d6;\n",
       "  color: #000000;\n",
       "}\n",
       "#T_f1a2e_row29_col0, #T_f1a2e_row30_col3, #T_f1a2e_row41_col4 {\n",
       "  background-color: #4a4a67;\n",
       "  color: #f1f1f1;\n",
       "}\n",
       "#T_f1a2e_row29_col7, #T_f1a2e_row34_col3, #T_f1a2e_row36_col5, #T_f1a2e_row45_col1 {\n",
       "  background-color: #737f92;\n",
       "  color: #f1f1f1;\n",
       "}\n",
       "#T_f1a2e_row30_col4, #T_f1a2e_row31_col5, #T_f1a2e_row33_col5, #T_f1a2e_row35_col1 {\n",
       "  background-color: #7b8b9b;\n",
       "  color: #f1f1f1;\n",
       "}\n",
       "#T_f1a2e_row31_col3 {\n",
       "  background-color: #707b90;\n",
       "  color: #f1f1f1;\n",
       "}\n",
       "#T_f1a2e_row31_col4, #T_f1a2e_row39_col6 {\n",
       "  background-color: #8396a3;\n",
       "  color: #f1f1f1;\n",
       "}\n",
       "#T_f1a2e_row31_col6 {\n",
       "  background-color: #798799;\n",
       "  color: #f1f1f1;\n",
       "}\n",
       "#T_f1a2e_row32_col0, #T_f1a2e_row45_col3, #T_f1a2e_row47_col3, #T_f1a2e_row49_col0, #T_f1a2e_row54_col3, #T_f1a2e_row54_col4 {\n",
       "  background-color: #454560;\n",
       "  color: #f1f1f1;\n",
       "}\n",
       "#T_f1a2e_row32_col3, #T_f1a2e_row39_col0, #T_f1a2e_row54_col1 {\n",
       "  background-color: #4b4b69;\n",
       "  color: #f1f1f1;\n",
       "}\n",
       "#T_f1a2e_row32_col5, #T_f1a2e_row34_col6, #T_f1a2e_row40_col1 {\n",
       "  background-color: #768496;\n",
       "  color: #f1f1f1;\n",
       "}\n",
       "#T_f1a2e_row32_col7 {\n",
       "  background-color: #9ebbbe;\n",
       "  color: #000000;\n",
       "}\n",
       "#T_f1a2e_row33_col0, #T_f1a2e_row53_col2 {\n",
       "  background-color: #494965;\n",
       "  color: #f1f1f1;\n",
       "}\n",
       "#T_f1a2e_row33_col7, #T_f1a2e_row37_col2 {\n",
       "  background-color: #6c758b;\n",
       "  color: #f1f1f1;\n",
       "}\n",
       "#T_f1a2e_row35_col2, #T_f1a2e_row43_col6 {\n",
       "  background-color: #778597;\n",
       "  color: #f1f1f1;\n",
       "}\n",
       "#T_f1a2e_row35_col6, #T_f1a2e_row42_col5 {\n",
       "  background-color: #8192a0;\n",
       "  color: #f1f1f1;\n",
       "}\n",
       "#T_f1a2e_row36_col0, #T_f1a2e_row49_col4, #T_f1a2e_row53_col7 {\n",
       "  background-color: #44445f;\n",
       "  color: #f1f1f1;\n",
       "}\n",
       "#T_f1a2e_row36_col6 {\n",
       "  background-color: #8fa7af;\n",
       "  color: #f1f1f1;\n",
       "}\n",
       "#T_f1a2e_row38_col1, #T_f1a2e_row44_col6 {\n",
       "  background-color: #7a8999;\n",
       "  color: #f1f1f1;\n",
       "}\n",
       "#T_f1a2e_row38_col5, #T_f1a2e_row41_col1, #T_f1a2e_row43_col5, #T_f1a2e_row44_col5 {\n",
       "  background-color: #758395;\n",
       "  color: #f1f1f1;\n",
       "}\n",
       "#T_f1a2e_row38_col6 {\n",
       "  background-color: #717d91;\n",
       "  color: #f1f1f1;\n",
       "}\n",
       "#T_f1a2e_row39_col4 {\n",
       "  background-color: #676f87;\n",
       "  color: #f1f1f1;\n",
       "}\n",
       "#T_f1a2e_row40_col2 {\n",
       "  background-color: #d5e4e4;\n",
       "  color: #000000;\n",
       "}\n",
       "#T_f1a2e_row41_col6 {\n",
       "  background-color: #96afb5;\n",
       "  color: #f1f1f1;\n",
       "}\n",
       "#T_f1a2e_row42_col4 {\n",
       "  background-color: #5b5f7b;\n",
       "  color: #f1f1f1;\n",
       "}\n",
       "#T_f1a2e_row42_col7, #T_f1a2e_row47_col5, #T_f1a2e_row47_col6 {\n",
       "  background-color: #6f7a8f;\n",
       "  color: #f1f1f1;\n",
       "}\n",
       "#T_f1a2e_row43_col1, #T_f1a2e_row44_col1 {\n",
       "  background-color: #738093;\n",
       "  color: #f1f1f1;\n",
       "}\n",
       "#T_f1a2e_row43_col4 {\n",
       "  background-color: #6c778c;\n",
       "  color: #f1f1f1;\n",
       "}\n",
       "#T_f1a2e_row43_col7 {\n",
       "  background-color: #e5eeee;\n",
       "  color: #000000;\n",
       "}\n",
       "#T_f1a2e_row45_col0 {\n",
       "  background-color: #5e627d;\n",
       "  color: #f1f1f1;\n",
       "}\n",
       "#T_f1a2e_row45_col4, #T_f1a2e_row47_col4, #T_f1a2e_row50_col6 {\n",
       "  background-color: #5c607c;\n",
       "  color: #f1f1f1;\n",
       "}\n",
       "#T_f1a2e_row46_col4, #T_f1a2e_row52_col0, #T_f1a2e_row54_col7 {\n",
       "  background-color: #4f4f6e;\n",
       "  color: #f1f1f1;\n",
       "}\n",
       "#T_f1a2e_row46_col5, #T_f1a2e_row49_col6, #T_f1a2e_row54_col2 {\n",
       "  background-color: #545574;\n",
       "  color: #f1f1f1;\n",
       "}\n",
       "#T_f1a2e_row47_col7, #T_f1a2e_row50_col1 {\n",
       "  background-color: #5f657f;\n",
       "  color: #f1f1f1;\n",
       "}\n",
       "#T_f1a2e_row49_col1 {\n",
       "  background-color: #616781;\n",
       "  color: #f1f1f1;\n",
       "}\n",
       "#T_f1a2e_row51_col1 {\n",
       "  background-color: #585b78;\n",
       "  color: #f1f1f1;\n",
       "}\n",
       "#T_f1a2e_row51_col6 {\n",
       "  background-color: #697289;\n",
       "  color: #f1f1f1;\n",
       "}\n",
       "#T_f1a2e_row51_col7 {\n",
       "  background-color: #f7fafa;\n",
       "  color: #000000;\n",
       "}\n",
       "#T_f1a2e_row52_col1 {\n",
       "  background-color: #575a77;\n",
       "  color: #f1f1f1;\n",
       "}\n",
       "#T_f1a2e_row53_col1 {\n",
       "  background-color: #4c4c6a;\n",
       "  color: #f1f1f1;\n",
       "}\n",
       "#T_f1a2e_row54_col6 {\n",
       "  background-color: #50506f;\n",
       "  color: #f1f1f1;\n",
       "}\n",
       "</style>\n",
       "<table id=\"T_f1a2e\">\n",
       "  <thead>\n",
       "    <tr>\n",
       "      <th class=\"blank level0\" >&nbsp;</th>\n",
       "      <th id=\"T_f1a2e_level0_col0\" class=\"col_heading level0 col0\" >count</th>\n",
       "      <th id=\"T_f1a2e_level0_col1\" class=\"col_heading level0 col1\" >mean</th>\n",
       "      <th id=\"T_f1a2e_level0_col2\" class=\"col_heading level0 col2\" >std</th>\n",
       "      <th id=\"T_f1a2e_level0_col3\" class=\"col_heading level0 col3\" >min</th>\n",
       "      <th id=\"T_f1a2e_level0_col4\" class=\"col_heading level0 col4\" >25%</th>\n",
       "      <th id=\"T_f1a2e_level0_col5\" class=\"col_heading level0 col5\" >50%</th>\n",
       "      <th id=\"T_f1a2e_level0_col6\" class=\"col_heading level0 col6\" >75%</th>\n",
       "      <th id=\"T_f1a2e_level0_col7\" class=\"col_heading level0 col7\" >max</th>\n",
       "    </tr>\n",
       "    <tr>\n",
       "      <th class=\"index_name level0\" >Category</th>\n",
       "      <th class=\"blank col0\" >&nbsp;</th>\n",
       "      <th class=\"blank col1\" >&nbsp;</th>\n",
       "      <th class=\"blank col2\" >&nbsp;</th>\n",
       "      <th class=\"blank col3\" >&nbsp;</th>\n",
       "      <th class=\"blank col4\" >&nbsp;</th>\n",
       "      <th class=\"blank col5\" >&nbsp;</th>\n",
       "      <th class=\"blank col6\" >&nbsp;</th>\n",
       "      <th class=\"blank col7\" >&nbsp;</th>\n",
       "    </tr>\n",
       "  </thead>\n",
       "  <tbody>\n",
       "    <tr>\n",
       "      <th id=\"T_f1a2e_level0_row0\" class=\"row_heading level0 row0\" >Nodes</th>\n",
       "      <td id=\"T_f1a2e_row0_col0\" class=\"data row0 col0\" >23</td>\n",
       "      <td id=\"T_f1a2e_row0_col1\" class=\"data row0 col1\" >2197</td>\n",
       "      <td id=\"T_f1a2e_row0_col2\" class=\"data row0 col2\" >607</td>\n",
       "      <td id=\"T_f1a2e_row0_col3\" class=\"data row0 col3\" >549</td>\n",
       "      <td id=\"T_f1a2e_row0_col4\" class=\"data row0 col4\" >1856</td>\n",
       "      <td id=\"T_f1a2e_row0_col5\" class=\"data row0 col5\" >2237</td>\n",
       "      <td id=\"T_f1a2e_row0_col6\" class=\"data row0 col6\" >2454</td>\n",
       "      <td id=\"T_f1a2e_row0_col7\" class=\"data row0 col7\" >3530</td>\n",
       "    </tr>\n",
       "    <tr>\n",
       "      <th id=\"T_f1a2e_level0_row1\" class=\"row_heading level0 row1\" >Privacy Coin</th>\n",
       "      <td id=\"T_f1a2e_row1_col0\" class=\"data row1 col0\" >34</td>\n",
       "      <td id=\"T_f1a2e_row1_col1\" class=\"data row1 col1\" >2136</td>\n",
       "      <td id=\"T_f1a2e_row1_col2\" class=\"data row1 col2\" >752</td>\n",
       "      <td id=\"T_f1a2e_row1_col3\" class=\"data row1 col3\" >980</td>\n",
       "      <td id=\"T_f1a2e_row1_col4\" class=\"data row1 col4\" >1581</td>\n",
       "      <td id=\"T_f1a2e_row1_col5\" class=\"data row1 col5\" >1996</td>\n",
       "      <td id=\"T_f1a2e_row1_col6\" class=\"data row1 col6\" >2516</td>\n",
       "      <td id=\"T_f1a2e_row1_col7\" class=\"data row1 col7\" >3608</td>\n",
       "    </tr>\n",
       "    <tr>\n",
       "      <th id=\"T_f1a2e_level0_row2\" class=\"row_heading level0 row2\" >IOT</th>\n",
       "      <td id=\"T_f1a2e_row2_col0\" class=\"data row2 col0\" >7</td>\n",
       "      <td id=\"T_f1a2e_row2_col1\" class=\"data row2 col1\" >1892</td>\n",
       "      <td id=\"T_f1a2e_row2_col2\" class=\"data row2 col2\" >531</td>\n",
       "      <td id=\"T_f1a2e_row2_col3\" class=\"data row2 col3\" >1117</td>\n",
       "      <td id=\"T_f1a2e_row2_col4\" class=\"data row2 col4\" >1534</td>\n",
       "      <td id=\"T_f1a2e_row2_col5\" class=\"data row2 col5\" >1907</td>\n",
       "      <td id=\"T_f1a2e_row2_col6\" class=\"data row2 col6\" >2354</td>\n",
       "      <td id=\"T_f1a2e_row2_col7\" class=\"data row2 col7\" >2449</td>\n",
       "    </tr>\n",
       "    <tr>\n",
       "      <th id=\"T_f1a2e_level0_row3\" class=\"row_heading level0 row3\" >Storage</th>\n",
       "      <td id=\"T_f1a2e_row3_col0\" class=\"data row3 col0\" >7</td>\n",
       "      <td id=\"T_f1a2e_row3_col1\" class=\"data row3 col1\" >1735</td>\n",
       "      <td id=\"T_f1a2e_row3_col2\" class=\"data row3 col2\" >742</td>\n",
       "      <td id=\"T_f1a2e_row3_col3\" class=\"data row3 col3\" >189</td>\n",
       "      <td id=\"T_f1a2e_row3_col4\" class=\"data row3 col4\" >1700</td>\n",
       "      <td id=\"T_f1a2e_row3_col5\" class=\"data row3 col5\" >1902</td>\n",
       "      <td id=\"T_f1a2e_row3_col6\" class=\"data row3 col6\" >2106</td>\n",
       "      <td id=\"T_f1a2e_row3_col7\" class=\"data row3 col7\" >2446</td>\n",
       "    </tr>\n",
       "    <tr>\n",
       "      <th id=\"T_f1a2e_level0_row4\" class=\"row_heading level0 row4\" >Media</th>\n",
       "      <td id=\"T_f1a2e_row4_col0\" class=\"data row4 col0\" >24</td>\n",
       "      <td id=\"T_f1a2e_row4_col1\" class=\"data row4 col1\" >1688</td>\n",
       "      <td id=\"T_f1a2e_row4_col2\" class=\"data row4 col2\" >585</td>\n",
       "      <td id=\"T_f1a2e_row4_col3\" class=\"data row4 col3\" >378</td>\n",
       "      <td id=\"T_f1a2e_row4_col4\" class=\"data row4 col4\" >1272</td>\n",
       "      <td id=\"T_f1a2e_row4_col5\" class=\"data row4 col5\" >1712</td>\n",
       "      <td id=\"T_f1a2e_row4_col6\" class=\"data row4 col6\" >2171</td>\n",
       "      <td id=\"T_f1a2e_row4_col7\" class=\"data row4 col7\" >2702</td>\n",
       "    </tr>\n",
       "    <tr>\n",
       "      <th id=\"T_f1a2e_level0_row5\" class=\"row_heading level0 row5\" >Finance</th>\n",
       "      <td id=\"T_f1a2e_row5_col0\" class=\"data row5 col0\" >28</td>\n",
       "      <td id=\"T_f1a2e_row5_col1\" class=\"data row5 col1\" >1592</td>\n",
       "      <td id=\"T_f1a2e_row5_col2\" class=\"data row5 col2\" >478</td>\n",
       "      <td id=\"T_f1a2e_row5_col3\" class=\"data row5 col3\" >762</td>\n",
       "      <td id=\"T_f1a2e_row5_col4\" class=\"data row5 col4\" >1312</td>\n",
       "      <td id=\"T_f1a2e_row5_col5\" class=\"data row5 col5\" >1539</td>\n",
       "      <td id=\"T_f1a2e_row5_col6\" class=\"data row5 col6\" >1833</td>\n",
       "      <td id=\"T_f1a2e_row5_col7\" class=\"data row5 col7\" >2482</td>\n",
       "    </tr>\n",
       "    <tr>\n",
       "      <th id=\"T_f1a2e_level0_row6\" class=\"row_heading level0 row6\" >Big Data</th>\n",
       "      <td id=\"T_f1a2e_row6_col0\" class=\"data row6 col0\" >14</td>\n",
       "      <td id=\"T_f1a2e_row6_col1\" class=\"data row6 col1\" >1470</td>\n",
       "      <td id=\"T_f1a2e_row6_col2\" class=\"data row6 col2\" >591</td>\n",
       "      <td id=\"T_f1a2e_row6_col3\" class=\"data row6 col3\" >223</td>\n",
       "      <td id=\"T_f1a2e_row6_col4\" class=\"data row6 col4\" >1048</td>\n",
       "      <td id=\"T_f1a2e_row6_col5\" class=\"data row6 col5\" >1534</td>\n",
       "      <td id=\"T_f1a2e_row6_col6\" class=\"data row6 col6\" >1997</td>\n",
       "      <td id=\"T_f1a2e_row6_col7\" class=\"data row6 col7\" >2239</td>\n",
       "    </tr>\n",
       "    <tr>\n",
       "      <th id=\"T_f1a2e_level0_row7\" class=\"row_heading level0 row7\" >Cosmos Ecosystem</th>\n",
       "      <td id=\"T_f1a2e_row7_col0\" class=\"data row7 col0\" >11</td>\n",
       "      <td id=\"T_f1a2e_row7_col1\" class=\"data row7 col1\" >1453</td>\n",
       "      <td id=\"T_f1a2e_row7_col2\" class=\"data row7 col2\" >524</td>\n",
       "      <td id=\"T_f1a2e_row7_col3\" class=\"data row7 col3\" >669</td>\n",
       "      <td id=\"T_f1a2e_row7_col4\" class=\"data row7 col4\" >1114</td>\n",
       "      <td id=\"T_f1a2e_row7_col5\" class=\"data row7 col5\" >1346</td>\n",
       "      <td id=\"T_f1a2e_row7_col6\" class=\"data row7 col6\" >1864</td>\n",
       "      <td id=\"T_f1a2e_row7_col7\" class=\"data row7 col7\" >2393</td>\n",
       "    </tr>\n",
       "    <tr>\n",
       "      <th id=\"T_f1a2e_level0_row8\" class=\"row_heading level0 row8\" >Blockchain</th>\n",
       "      <td id=\"T_f1a2e_row8_col0\" class=\"data row8 col0\" >96</td>\n",
       "      <td id=\"T_f1a2e_row8_col1\" class=\"data row8 col1\" >1436</td>\n",
       "      <td id=\"T_f1a2e_row8_col2\" class=\"data row8 col2\" >884</td>\n",
       "      <td id=\"T_f1a2e_row8_col3\" class=\"data row8 col3\" >55</td>\n",
       "      <td id=\"T_f1a2e_row8_col4\" class=\"data row8 col4\" >765</td>\n",
       "      <td id=\"T_f1a2e_row8_col5\" class=\"data row8 col5\" >1326</td>\n",
       "      <td id=\"T_f1a2e_row8_col6\" class=\"data row8 col6\" >2120</td>\n",
       "      <td id=\"T_f1a2e_row8_col7\" class=\"data row8 col7\" >3672</td>\n",
       "    </tr>\n",
       "    <tr>\n",
       "      <th id=\"T_f1a2e_level0_row9\" class=\"row_heading level0 row9\" >Backed Tokens</th>\n",
       "      <td id=\"T_f1a2e_row9_col0\" class=\"data row9 col0\" >11</td>\n",
       "      <td id=\"T_f1a2e_row9_col1\" class=\"data row9 col1\" >1399</td>\n",
       "      <td id=\"T_f1a2e_row9_col2\" class=\"data row9 col2\" >161</td>\n",
       "      <td id=\"T_f1a2e_row9_col3\" class=\"data row9 col3\" >1104</td>\n",
       "      <td id=\"T_f1a2e_row9_col4\" class=\"data row9 col4\" >1330</td>\n",
       "      <td id=\"T_f1a2e_row9_col5\" class=\"data row9 col5\" >1476</td>\n",
       "      <td id=\"T_f1a2e_row9_col6\" class=\"data row9 col6\" >1505</td>\n",
       "      <td id=\"T_f1a2e_row9_col7\" class=\"data row9 col7\" >1534</td>\n",
       "    </tr>\n",
       "    <tr>\n",
       "      <th id=\"T_f1a2e_level0_row10\" class=\"row_heading level0 row10\" >Healthcare</th>\n",
       "      <td id=\"T_f1a2e_row10_col0\" class=\"data row10 col0\" >9</td>\n",
       "      <td id=\"T_f1a2e_row10_col1\" class=\"data row10 col1\" >1381</td>\n",
       "      <td id=\"T_f1a2e_row10_col2\" class=\"data row10 col2\" >808</td>\n",
       "      <td id=\"T_f1a2e_row10_col3\" class=\"data row10 col3\" >85</td>\n",
       "      <td id=\"T_f1a2e_row10_col4\" class=\"data row10 col4\" >879</td>\n",
       "      <td id=\"T_f1a2e_row10_col5\" class=\"data row10 col5\" >1534</td>\n",
       "      <td id=\"T_f1a2e_row10_col6\" class=\"data row10 col6\" >1936</td>\n",
       "      <td id=\"T_f1a2e_row10_col7\" class=\"data row10 col7\" >2390</td>\n",
       "    </tr>\n",
       "    <tr>\n",
       "      <th id=\"T_f1a2e_level0_row11\" class=\"row_heading level0 row11\" >CEX</th>\n",
       "      <td id=\"T_f1a2e_row11_col0\" class=\"data row11 col0\" >19</td>\n",
       "      <td id=\"T_f1a2e_row11_col1\" class=\"data row11 col1\" >1361</td>\n",
       "      <td id=\"T_f1a2e_row11_col2\" class=\"data row11 col2\" >606</td>\n",
       "      <td id=\"T_f1a2e_row11_col3\" class=\"data row11 col3\" >175</td>\n",
       "      <td id=\"T_f1a2e_row11_col4\" class=\"data row11 col4\" >967</td>\n",
       "      <td id=\"T_f1a2e_row11_col5\" class=\"data row11 col5\" >1534</td>\n",
       "      <td id=\"T_f1a2e_row11_col6\" class=\"data row11 col6\" >1706</td>\n",
       "      <td id=\"T_f1a2e_row11_col7\" class=\"data row11 col7\" >2316</td>\n",
       "    </tr>\n",
       "    <tr>\n",
       "      <th id=\"T_f1a2e_level0_row12\" class=\"row_heading level0 row12\" >Polkadot Ecosystem</th>\n",
       "      <td id=\"T_f1a2e_row12_col0\" class=\"data row12 col0\" >13</td>\n",
       "      <td id=\"T_f1a2e_row12_col1\" class=\"data row12 col1\" >1297</td>\n",
       "      <td id=\"T_f1a2e_row12_col2\" class=\"data row12 col2\" >305</td>\n",
       "      <td id=\"T_f1a2e_row12_col3\" class=\"data row12 col3\" >871</td>\n",
       "      <td id=\"T_f1a2e_row12_col4\" class=\"data row12 col4\" >1068</td>\n",
       "      <td id=\"T_f1a2e_row12_col5\" class=\"data row12 col5\" >1289</td>\n",
       "      <td id=\"T_f1a2e_row12_col6\" class=\"data row12 col6\" >1428</td>\n",
       "      <td id=\"T_f1a2e_row12_col7\" class=\"data row12 col7\" >2042</td>\n",
       "    </tr>\n",
       "    <tr>\n",
       "      <th id=\"T_f1a2e_level0_row13\" class=\"row_heading level0 row13\" >Oracle</th>\n",
       "      <td id=\"T_f1a2e_row13_col0\" class=\"data row13 col0\" >24</td>\n",
       "      <td id=\"T_f1a2e_row13_col1\" class=\"data row13 col1\" >1251</td>\n",
       "      <td id=\"T_f1a2e_row13_col2\" class=\"data row13 col2\" >512</td>\n",
       "      <td id=\"T_f1a2e_row13_col3\" class=\"data row13 col3\" >98</td>\n",
       "      <td id=\"T_f1a2e_row13_col4\" class=\"data row13 col4\" >1055</td>\n",
       "      <td id=\"T_f1a2e_row13_col5\" class=\"data row13 col5\" >1114</td>\n",
       "      <td id=\"T_f1a2e_row13_col6\" class=\"data row13 col6\" >1328</td>\n",
       "      <td id=\"T_f1a2e_row13_col7\" class=\"data row13 col7\" >2503</td>\n",
       "    </tr>\n",
       "    <tr>\n",
       "      <th id=\"T_f1a2e_level0_row14\" class=\"row_heading level0 row14\" >Gate.io Launchpad</th>\n",
       "      <td id=\"T_f1a2e_row14_col0\" class=\"data row14 col0\" >11</td>\n",
       "      <td id=\"T_f1a2e_row14_col1\" class=\"data row14 col1\" >1193</td>\n",
       "      <td id=\"T_f1a2e_row14_col2\" class=\"data row14 col2\" >206</td>\n",
       "      <td id=\"T_f1a2e_row14_col3\" class=\"data row14 col3\" >907</td>\n",
       "      <td id=\"T_f1a2e_row14_col4\" class=\"data row14 col4\" >1074</td>\n",
       "      <td id=\"T_f1a2e_row14_col5\" class=\"data row14 col5\" >1106</td>\n",
       "      <td id=\"T_f1a2e_row14_col6\" class=\"data row14 col6\" >1302</td>\n",
       "      <td id=\"T_f1a2e_row14_col7\" class=\"data row14 col7\" >1534</td>\n",
       "    </tr>\n",
       "    <tr>\n",
       "      <th id=\"T_f1a2e_level0_row15\" class=\"row_heading level0 row15\" >Infrastructure</th>\n",
       "      <td id=\"T_f1a2e_row15_col0\" class=\"data row15 col0\" >35</td>\n",
       "      <td id=\"T_f1a2e_row15_col1\" class=\"data row15 col1\" >1125</td>\n",
       "      <td id=\"T_f1a2e_row15_col2\" class=\"data row15 col2\" >591</td>\n",
       "      <td id=\"T_f1a2e_row15_col3\" class=\"data row15 col3\" >19</td>\n",
       "      <td id=\"T_f1a2e_row15_col4\" class=\"data row15 col4\" >836</td>\n",
       "      <td id=\"T_f1a2e_row15_col5\" class=\"data row15 col5\" >1071</td>\n",
       "      <td id=\"T_f1a2e_row15_col6\" class=\"data row15 col6\" >1508</td>\n",
       "      <td id=\"T_f1a2e_row15_col7\" class=\"data row15 col7\" >2774</td>\n",
       "    </tr>\n",
       "    <tr>\n",
       "      <th id=\"T_f1a2e_level0_row16\" class=\"row_heading level0 row16\" >Entertainment</th>\n",
       "      <td id=\"T_f1a2e_row16_col0\" class=\"data row16 col0\" >8</td>\n",
       "      <td id=\"T_f1a2e_row16_col1\" class=\"data row16 col1\" >1107</td>\n",
       "      <td id=\"T_f1a2e_row16_col2\" class=\"data row16 col2\" >436</td>\n",
       "      <td id=\"T_f1a2e_row16_col3\" class=\"data row16 col3\" >493</td>\n",
       "      <td id=\"T_f1a2e_row16_col4\" class=\"data row16 col4\" >832</td>\n",
       "      <td id=\"T_f1a2e_row16_col5\" class=\"data row16 col5\" >972</td>\n",
       "      <td id=\"T_f1a2e_row16_col6\" class=\"data row16 col6\" >1479</td>\n",
       "      <td id=\"T_f1a2e_row16_col7\" class=\"data row16 col7\" >1706</td>\n",
       "    </tr>\n",
       "    <tr>\n",
       "      <th id=\"T_f1a2e_level0_row17\" class=\"row_heading level0 row17\" >Stablecoin</th>\n",
       "      <td id=\"T_f1a2e_row17_col0\" class=\"data row17 col0\" >36</td>\n",
       "      <td id=\"T_f1a2e_row17_col1\" class=\"data row17 col1\" >1092</td>\n",
       "      <td id=\"T_f1a2e_row17_col2\" class=\"data row17 col2\" >807</td>\n",
       "      <td id=\"T_f1a2e_row17_col3\" class=\"data row17 col3\" >28</td>\n",
       "      <td id=\"T_f1a2e_row17_col4\" class=\"data row17 col4\" >486</td>\n",
       "      <td id=\"T_f1a2e_row17_col5\" class=\"data row17 col5\" >1073</td>\n",
       "      <td id=\"T_f1a2e_row17_col6\" class=\"data row17 col6\" >1621</td>\n",
       "      <td id=\"T_f1a2e_row17_col7\" class=\"data row17 col7\" >3288</td>\n",
       "    </tr>\n",
       "    <tr>\n",
       "      <th id=\"T_f1a2e_level0_row18\" class=\"row_heading level0 row18\" >Protocol</th>\n",
       "      <td id=\"T_f1a2e_row18_col0\" class=\"data row18 col0\" >26</td>\n",
       "      <td id=\"T_f1a2e_row18_col1\" class=\"data row18 col1\" >1083</td>\n",
       "      <td id=\"T_f1a2e_row18_col2\" class=\"data row18 col2\" >668</td>\n",
       "      <td id=\"T_f1a2e_row18_col3\" class=\"data row18 col3\" >21</td>\n",
       "      <td id=\"T_f1a2e_row18_col4\" class=\"data row18 col4\" >622</td>\n",
       "      <td id=\"T_f1a2e_row18_col5\" class=\"data row18 col5\" >832</td>\n",
       "      <td id=\"T_f1a2e_row18_col6\" class=\"data row18 col6\" >1476</td>\n",
       "      <td id=\"T_f1a2e_row18_col7\" class=\"data row18 col7\" >2251</td>\n",
       "    </tr>\n",
       "    <tr>\n",
       "      <th id=\"T_f1a2e_level0_row19\" class=\"row_heading level0 row19\" >Ignition IDO</th>\n",
       "      <td id=\"T_f1a2e_row19_col0\" class=\"data row19 col0\" >9</td>\n",
       "      <td id=\"T_f1a2e_row19_col1\" class=\"data row19 col1\" >1060</td>\n",
       "      <td id=\"T_f1a2e_row19_col2\" class=\"data row19 col2\" >186</td>\n",
       "      <td id=\"T_f1a2e_row19_col3\" class=\"data row19 col3\" >867</td>\n",
       "      <td id=\"T_f1a2e_row19_col4\" class=\"data row19 col4\" >997</td>\n",
       "      <td id=\"T_f1a2e_row19_col5\" class=\"data row19 col5\" >1033</td>\n",
       "      <td id=\"T_f1a2e_row19_col6\" class=\"data row19 col6\" >1038</td>\n",
       "      <td id=\"T_f1a2e_row19_col7\" class=\"data row19 col7\" >1534</td>\n",
       "    </tr>\n",
       "    <tr>\n",
       "      <th id=\"T_f1a2e_level0_row20\" class=\"row_heading level0 row20\" >DuckStarter IDO</th>\n",
       "      <td id=\"T_f1a2e_row20_col0\" class=\"data row20 col0\" >7</td>\n",
       "      <td id=\"T_f1a2e_row20_col1\" class=\"data row20 col1\" >1047</td>\n",
       "      <td id=\"T_f1a2e_row20_col2\" class=\"data row20 col2\" >22</td>\n",
       "      <td id=\"T_f1a2e_row20_col3\" class=\"data row20 col3\" >1017</td>\n",
       "      <td id=\"T_f1a2e_row20_col4\" class=\"data row20 col4\" >1034</td>\n",
       "      <td id=\"T_f1a2e_row20_col5\" class=\"data row20 col5\" >1049</td>\n",
       "      <td id=\"T_f1a2e_row20_col6\" class=\"data row20 col6\" >1058</td>\n",
       "      <td id=\"T_f1a2e_row20_col7\" class=\"data row20 col7\" >1081</td>\n",
       "    </tr>\n",
       "    <tr>\n",
       "      <th id=\"T_f1a2e_level0_row21\" class=\"row_heading level0 row21\" >Polkastarter IDO</th>\n",
       "      <td id=\"T_f1a2e_row21_col0\" class=\"data row21 col0\" >11</td>\n",
       "      <td id=\"T_f1a2e_row21_col1\" class=\"data row21 col1\" >1040</td>\n",
       "      <td id=\"T_f1a2e_row21_col2\" class=\"data row21 col2\" >57</td>\n",
       "      <td id=\"T_f1a2e_row21_col3\" class=\"data row21 col3\" >908</td>\n",
       "      <td id=\"T_f1a2e_row21_col4\" class=\"data row21 col4\" >1014</td>\n",
       "      <td id=\"T_f1a2e_row21_col5\" class=\"data row21 col5\" >1040</td>\n",
       "      <td id=\"T_f1a2e_row21_col6\" class=\"data row21 col6\" >1084</td>\n",
       "      <td id=\"T_f1a2e_row21_col7\" class=\"data row21 col7\" >1112</td>\n",
       "    </tr>\n",
       "    <tr>\n",
       "      <th id=\"T_f1a2e_level0_row22\" class=\"row_heading level0 row22\" >Sport</th>\n",
       "      <td id=\"T_f1a2e_row22_col0\" class=\"data row22 col0\" >35</td>\n",
       "      <td id=\"T_f1a2e_row22_col1\" class=\"data row22 col1\" >1039</td>\n",
       "      <td id=\"T_f1a2e_row22_col2\" class=\"data row22 col2\" >238</td>\n",
       "      <td id=\"T_f1a2e_row22_col3\" class=\"data row22 col3\" >635</td>\n",
       "      <td id=\"T_f1a2e_row22_col4\" class=\"data row22 col4\" >877</td>\n",
       "      <td id=\"T_f1a2e_row22_col5\" class=\"data row22 col5\" >962</td>\n",
       "      <td id=\"T_f1a2e_row22_col6\" class=\"data row22 col6\" >1166</td>\n",
       "      <td id=\"T_f1a2e_row22_col7\" class=\"data row22 col7\" >1701</td>\n",
       "    </tr>\n",
       "    <tr>\n",
       "      <th id=\"T_f1a2e_level0_row23\" class=\"row_heading level0 row23\" >Governance</th>\n",
       "      <td id=\"T_f1a2e_row23_col0\" class=\"data row23 col0\" >7</td>\n",
       "      <td id=\"T_f1a2e_row23_col1\" class=\"data row23 col1\" >1022</td>\n",
       "      <td id=\"T_f1a2e_row23_col2\" class=\"data row23 col2\" >946</td>\n",
       "      <td id=\"T_f1a2e_row23_col3\" class=\"data row23 col3\" >96</td>\n",
       "      <td id=\"T_f1a2e_row23_col4\" class=\"data row23 col4\" >423</td>\n",
       "      <td id=\"T_f1a2e_row23_col5\" class=\"data row23 col5\" >959</td>\n",
       "      <td id=\"T_f1a2e_row23_col6\" class=\"data row23 col6\" >1156</td>\n",
       "      <td id=\"T_f1a2e_row23_col7\" class=\"data row23 col7\" >2938</td>\n",
       "    </tr>\n",
       "    <tr>\n",
       "      <th id=\"T_f1a2e_level0_row24\" class=\"row_heading level0 row24\" >Avalanche Ecosystem</th>\n",
       "      <td id=\"T_f1a2e_row24_col0\" class=\"data row24 col0\" >10</td>\n",
       "      <td id=\"T_f1a2e_row24_col1\" class=\"data row24 col1\" >1009</td>\n",
       "      <td id=\"T_f1a2e_row24_col2\" class=\"data row24 col2\" >622</td>\n",
       "      <td id=\"T_f1a2e_row24_col3\" class=\"data row24 col3\" >32</td>\n",
       "      <td id=\"T_f1a2e_row24_col4\" class=\"data row24 col4\" >864</td>\n",
       "      <td id=\"T_f1a2e_row24_col5\" class=\"data row24 col5\" >900</td>\n",
       "      <td id=\"T_f1a2e_row24_col6\" class=\"data row24 col6\" >1040</td>\n",
       "      <td id=\"T_f1a2e_row24_col7\" class=\"data row24 col7\" >2555</td>\n",
       "    </tr>\n",
       "    <tr>\n",
       "      <th id=\"T_f1a2e_level0_row25\" class=\"row_heading level0 row25\" >DeFi</th>\n",
       "      <td id=\"T_f1a2e_row25_col0\" class=\"data row25 col0\" >267</td>\n",
       "      <td id=\"T_f1a2e_row25_col1\" class=\"data row25 col1\" >1002</td>\n",
       "      <td id=\"T_f1a2e_row25_col2\" class=\"data row25 col2\" >456</td>\n",
       "      <td id=\"T_f1a2e_row25_col3\" class=\"data row25 col3\" >18</td>\n",
       "      <td id=\"T_f1a2e_row25_col4\" class=\"data row25 col4\" >809</td>\n",
       "      <td id=\"T_f1a2e_row25_col5\" class=\"data row25 col5\" >1032</td>\n",
       "      <td id=\"T_f1a2e_row25_col6\" class=\"data row25 col6\" >1224</td>\n",
       "      <td id=\"T_f1a2e_row25_col7\" class=\"data row25 col7\" >3321</td>\n",
       "    </tr>\n",
       "    <tr>\n",
       "      <th id=\"T_f1a2e_level0_row26\" class=\"row_heading level0 row26\" >DAO</th>\n",
       "      <td id=\"T_f1a2e_row26_col0\" class=\"data row26 col0\" >17</td>\n",
       "      <td id=\"T_f1a2e_row26_col1\" class=\"data row26 col1\" >989</td>\n",
       "      <td id=\"T_f1a2e_row26_col2\" class=\"data row26 col2\" >252</td>\n",
       "      <td id=\"T_f1a2e_row26_col3\" class=\"data row26 col3\" >714</td>\n",
       "      <td id=\"T_f1a2e_row26_col4\" class=\"data row26 col4\" >799</td>\n",
       "      <td id=\"T_f1a2e_row26_col5\" class=\"data row26 col5\" >917</td>\n",
       "      <td id=\"T_f1a2e_row26_col6\" class=\"data row26 col6\" >1046</td>\n",
       "      <td id=\"T_f1a2e_row26_col7\" class=\"data row26 col7\" >1707</td>\n",
       "    </tr>\n",
       "    <tr>\n",
       "      <th id=\"T_f1a2e_level0_row27\" class=\"row_heading level0 row27\" >Polygon Ecosystem</th>\n",
       "      <td id=\"T_f1a2e_row27_col0\" class=\"data row27 col0\" >39</td>\n",
       "      <td id=\"T_f1a2e_row27_col1\" class=\"data row27 col1\" >965</td>\n",
       "      <td id=\"T_f1a2e_row27_col2\" class=\"data row27 col2\" >564</td>\n",
       "      <td id=\"T_f1a2e_row27_col3\" class=\"data row27 col3\" >27</td>\n",
       "      <td id=\"T_f1a2e_row27_col4\" class=\"data row27 col4\" >744</td>\n",
       "      <td id=\"T_f1a2e_row27_col5\" class=\"data row27 col5\" >1039</td>\n",
       "      <td id=\"T_f1a2e_row27_col6\" class=\"data row27 col6\" >1133</td>\n",
       "      <td id=\"T_f1a2e_row27_col7\" class=\"data row27 col7\" >2656</td>\n",
       "    </tr>\n",
       "    <tr>\n",
       "      <th id=\"T_f1a2e_level0_row28\" class=\"row_heading level0 row28\" >BSCPad IDO</th>\n",
       "      <td id=\"T_f1a2e_row28_col0\" class=\"data row28 col0\" >9</td>\n",
       "      <td id=\"T_f1a2e_row28_col1\" class=\"data row28 col1\" >958</td>\n",
       "      <td id=\"T_f1a2e_row28_col2\" class=\"data row28 col2\" >78</td>\n",
       "      <td id=\"T_f1a2e_row28_col3\" class=\"data row28 col3\" >838</td>\n",
       "      <td id=\"T_f1a2e_row28_col4\" class=\"data row28 col4\" >902</td>\n",
       "      <td id=\"T_f1a2e_row28_col5\" class=\"data row28 col5\" >959</td>\n",
       "      <td id=\"T_f1a2e_row28_col6\" class=\"data row28 col6\" >1027</td>\n",
       "      <td id=\"T_f1a2e_row28_col7\" class=\"data row28 col7\" >1081</td>\n",
       "    </tr>\n",
       "    <tr>\n",
       "      <th id=\"T_f1a2e_level0_row29\" class=\"row_heading level0 row29\" >Yield Farming</th>\n",
       "      <td id=\"T_f1a2e_row29_col0\" class=\"data row29 col0\" >30</td>\n",
       "      <td id=\"T_f1a2e_row29_col1\" class=\"data row29 col1\" >951</td>\n",
       "      <td id=\"T_f1a2e_row29_col2\" class=\"data row29 col2\" >373</td>\n",
       "      <td id=\"T_f1a2e_row29_col3\" class=\"data row29 col3\" >26</td>\n",
       "      <td id=\"T_f1a2e_row29_col4\" class=\"data row29 col4\" >883</td>\n",
       "      <td id=\"T_f1a2e_row29_col5\" class=\"data row29 col5\" >1074</td>\n",
       "      <td id=\"T_f1a2e_row29_col6\" class=\"data row29 col6\" >1210</td>\n",
       "      <td id=\"T_f1a2e_row29_col7\" class=\"data row29 col7\" >1365</td>\n",
       "    </tr>\n",
       "    <tr>\n",
       "      <th id=\"T_f1a2e_level0_row30\" class=\"row_heading level0 row30\" >Wallet</th>\n",
       "      <td id=\"T_f1a2e_row30_col0\" class=\"data row30 col0\" >16</td>\n",
       "      <td id=\"T_f1a2e_row30_col1\" class=\"data row30 col1\" >946</td>\n",
       "      <td id=\"T_f1a2e_row30_col2\" class=\"data row30 col2\" >497</td>\n",
       "      <td id=\"T_f1a2e_row30_col3\" class=\"data row30 col3\" >115</td>\n",
       "      <td id=\"T_f1a2e_row30_col4\" class=\"data row30 col4\" >730</td>\n",
       "      <td id=\"T_f1a2e_row30_col5\" class=\"data row30 col5\" >966</td>\n",
       "      <td id=\"T_f1a2e_row30_col6\" class=\"data row30 col6\" >1131</td>\n",
       "      <td id=\"T_f1a2e_row30_col7\" class=\"data row30 col7\" >2250</td>\n",
       "    </tr>\n",
       "    <tr>\n",
       "      <th id=\"T_f1a2e_level0_row31\" class=\"row_heading level0 row31\" >Lending Platform</th>\n",
       "      <td id=\"T_f1a2e_row31_col0\" class=\"data row31 col0\" >16</td>\n",
       "      <td id=\"T_f1a2e_row31_col1\" class=\"data row31 col1\" >911</td>\n",
       "      <td id=\"T_f1a2e_row31_col2\" class=\"data row31 col2\" >385</td>\n",
       "      <td id=\"T_f1a2e_row31_col3\" class=\"data row31 col3\" >370</td>\n",
       "      <td id=\"T_f1a2e_row31_col4\" class=\"data row31 col4\" >815</td>\n",
       "      <td id=\"T_f1a2e_row31_col5\" class=\"data row31 col5\" >879</td>\n",
       "      <td id=\"T_f1a2e_row31_col6\" class=\"data row31 col6\" >940</td>\n",
       "      <td id=\"T_f1a2e_row31_col7\" class=\"data row31 col7\" >2125</td>\n",
       "    </tr>\n",
       "    <tr>\n",
       "      <th id=\"T_f1a2e_level0_row32\" class=\"row_heading level0 row32\" >Metaverse</th>\n",
       "      <td id=\"T_f1a2e_row32_col0\" class=\"data row32 col0\" >21</td>\n",
       "      <td id=\"T_f1a2e_row32_col1\" class=\"data row32 col1\" >898</td>\n",
       "      <td id=\"T_f1a2e_row32_col2\" class=\"data row32 col2\" >646</td>\n",
       "      <td id=\"T_f1a2e_row32_col3\" class=\"data row32 col3\" >123</td>\n",
       "      <td id=\"T_f1a2e_row32_col4\" class=\"data row32 col4\" >517</td>\n",
       "      <td id=\"T_f1a2e_row32_col5\" class=\"data row32 col5\" >810</td>\n",
       "      <td id=\"T_f1a2e_row32_col6\" class=\"data row32 col6\" >970</td>\n",
       "      <td id=\"T_f1a2e_row32_col7\" class=\"data row32 col7\" >2353</td>\n",
       "    </tr>\n",
       "    <tr>\n",
       "      <th id=\"T_f1a2e_level0_row33\" class=\"row_heading level0 row33\" >Fan Token</th>\n",
       "      <td id=\"T_f1a2e_row33_col0\" class=\"data row33 col0\" >27</td>\n",
       "      <td id=\"T_f1a2e_row33_col1\" class=\"data row33 col1\" >883</td>\n",
       "      <td id=\"T_f1a2e_row33_col2\" class=\"data row33 col2\" >153</td>\n",
       "      <td id=\"T_f1a2e_row33_col3\" class=\"data row33 col3\" >517</td>\n",
       "      <td id=\"T_f1a2e_row33_col4\" class=\"data row33 col4\" >812</td>\n",
       "      <td id=\"T_f1a2e_row33_col5\" class=\"data row33 col5\" >882</td>\n",
       "      <td id=\"T_f1a2e_row33_col6\" class=\"data row33 col6\" >928</td>\n",
       "      <td id=\"T_f1a2e_row33_col7\" class=\"data row33 col7\" >1206</td>\n",
       "    </tr>\n",
       "    <tr>\n",
       "      <th id=\"T_f1a2e_level0_row34\" class=\"row_heading level0 row34\" >Play to Earn</th>\n",
       "      <td id=\"T_f1a2e_row34_col0\" class=\"data row34 col0\" >23</td>\n",
       "      <td id=\"T_f1a2e_row34_col1\" class=\"data row34 col1\" >877</td>\n",
       "      <td id=\"T_f1a2e_row34_col2\" class=\"data row34 col2\" >252</td>\n",
       "      <td id=\"T_f1a2e_row34_col3\" class=\"data row34 col3\" >383</td>\n",
       "      <td id=\"T_f1a2e_row34_col4\" class=\"data row34 col4\" >808</td>\n",
       "      <td id=\"T_f1a2e_row34_col5\" class=\"data row34 col5\" >864</td>\n",
       "      <td id=\"T_f1a2e_row34_col6\" class=\"data row34 col6\" >908</td>\n",
       "      <td id=\"T_f1a2e_row34_col7\" class=\"data row34 col7\" >1760</td>\n",
       "    </tr>\n",
       "    <tr>\n",
       "      <th id=\"T_f1a2e_level0_row35\" class=\"row_heading level0 row35\" >NFT</th>\n",
       "      <td id=\"T_f1a2e_row35_col0\" class=\"data row35 col0\" >118</td>\n",
       "      <td id=\"T_f1a2e_row35_col1\" class=\"data row35 col1\" >872</td>\n",
       "      <td id=\"T_f1a2e_row35_col2\" class=\"data row35 col2\" >355</td>\n",
       "      <td id=\"T_f1a2e_row35_col3\" class=\"data row35 col3\" >95</td>\n",
       "      <td id=\"T_f1a2e_row35_col4\" class=\"data row35 col4\" >777</td>\n",
       "      <td id=\"T_f1a2e_row35_col5\" class=\"data row35 col5\" >889</td>\n",
       "      <td id=\"T_f1a2e_row35_col6\" class=\"data row35 col6\" >1069</td>\n",
       "      <td id=\"T_f1a2e_row35_col7\" class=\"data row35 col7\" >2258</td>\n",
       "    </tr>\n",
       "    <tr>\n",
       "      <th id=\"T_f1a2e_level0_row36\" class=\"row_heading level0 row36\" >Blockchain Service</th>\n",
       "      <td id=\"T_f1a2e_row36_col0\" class=\"data row36 col0\" >20</td>\n",
       "      <td id=\"T_f1a2e_row36_col1\" class=\"data row36 col1\" >858</td>\n",
       "      <td id=\"T_f1a2e_row36_col2\" class=\"data row36 col2\" >690</td>\n",
       "      <td id=\"T_f1a2e_row36_col3\" class=\"data row36 col3\" >27</td>\n",
       "      <td id=\"T_f1a2e_row36_col4\" class=\"data row36 col4\" >219</td>\n",
       "      <td id=\"T_f1a2e_row36_col5\" class=\"data row36 col5\" >758</td>\n",
       "      <td id=\"T_f1a2e_row36_col6\" class=\"data row36 col6\" >1286</td>\n",
       "      <td id=\"T_f1a2e_row36_col7\" class=\"data row36 col7\" >2237</td>\n",
       "    </tr>\n",
       "    <tr>\n",
       "      <th id=\"T_f1a2e_level0_row37\" class=\"row_heading level0 row37\" >Solana Ecosystem</th>\n",
       "      <td id=\"T_f1a2e_row37_col0\" class=\"data row37 col0\" >18</td>\n",
       "      <td id=\"T_f1a2e_row37_col1\" class=\"data row37 col1\" >852</td>\n",
       "      <td id=\"T_f1a2e_row37_col2\" class=\"data row37 col2\" >292</td>\n",
       "      <td id=\"T_f1a2e_row37_col3\" class=\"data row37 col3\" >39</td>\n",
       "      <td id=\"T_f1a2e_row37_col4\" class=\"data row37 col4\" >857</td>\n",
       "      <td id=\"T_f1a2e_row37_col5\" class=\"data row37 col5\" >920</td>\n",
       "      <td id=\"T_f1a2e_row37_col6\" class=\"data row37 col6\" >1010</td>\n",
       "      <td id=\"T_f1a2e_row37_col7\" class=\"data row37 col7\" >1120</td>\n",
       "    </tr>\n",
       "    <tr>\n",
       "      <th id=\"T_f1a2e_level0_row38\" class=\"row_heading level0 row38\" >Cryptocurrency</th>\n",
       "      <td id=\"T_f1a2e_row38_col0\" class=\"data row38 col0\" >53</td>\n",
       "      <td id=\"T_f1a2e_row38_col1\" class=\"data row38 col1\" >849</td>\n",
       "      <td id=\"T_f1a2e_row38_col2\" class=\"data row38 col2\" >638</td>\n",
       "      <td id=\"T_f1a2e_row38_col3\" class=\"data row38 col3\" >58</td>\n",
       "      <td id=\"T_f1a2e_row38_col4\" class=\"data row38 col4\" >739</td>\n",
       "      <td id=\"T_f1a2e_row38_col5\" class=\"data row38 col5\" >794</td>\n",
       "      <td id=\"T_f1a2e_row38_col6\" class=\"data row38 col6\" >831</td>\n",
       "      <td id=\"T_f1a2e_row38_col7\" class=\"data row38 col7\" >3858</td>\n",
       "    </tr>\n",
       "    <tr>\n",
       "      <th id=\"T_f1a2e_level0_row39\" class=\"row_heading level0 row39\" >BNB Chain Ecosystem</th>\n",
       "      <td id=\"T_f1a2e_row39_col0\" class=\"data row39 col0\" >31</td>\n",
       "      <td id=\"T_f1a2e_row39_col1\" class=\"data row39 col1\" >818</td>\n",
       "      <td id=\"T_f1a2e_row39_col2\" class=\"data row39 col2\" >513</td>\n",
       "      <td id=\"T_f1a2e_row39_col3\" class=\"data row39 col3\" >37</td>\n",
       "      <td id=\"T_f1a2e_row39_col4\" class=\"data row39 col4\" >500</td>\n",
       "      <td id=\"T_f1a2e_row39_col5\" class=\"data row39 col5\" >867</td>\n",
       "      <td id=\"T_f1a2e_row39_col6\" class=\"data row39 col6\" >1100</td>\n",
       "      <td id=\"T_f1a2e_row39_col7\" class=\"data row39 col7\" >2224</td>\n",
       "    </tr>\n",
       "    <tr>\n",
       "      <th id=\"T_f1a2e_level0_row40\" class=\"row_heading level0 row40\" >Gambling</th>\n",
       "      <td id=\"T_f1a2e_row40_col0\" class=\"data row40 col0\" >9</td>\n",
       "      <td id=\"T_f1a2e_row40_col1\" class=\"data row40 col1\" >793</td>\n",
       "      <td id=\"T_f1a2e_row40_col2\" class=\"data row40 col2\" >789</td>\n",
       "      <td id=\"T_f1a2e_row40_col3\" class=\"data row40 col3\" >45</td>\n",
       "      <td id=\"T_f1a2e_row40_col4\" class=\"data row40 col4\" >166</td>\n",
       "      <td id=\"T_f1a2e_row40_col5\" class=\"data row40 col5\" >578</td>\n",
       "      <td id=\"T_f1a2e_row40_col6\" class=\"data row40 col6\" >971</td>\n",
       "      <td id=\"T_f1a2e_row40_col7\" class=\"data row40 col7\" >2435</td>\n",
       "    </tr>\n",
       "    <tr>\n",
       "      <th id=\"T_f1a2e_level0_row41\" class=\"row_heading level0 row41\" >Social</th>\n",
       "      <td id=\"T_f1a2e_row41_col0\" class=\"data row41 col0\" >23</td>\n",
       "      <td id=\"T_f1a2e_row41_col1\" class=\"data row41 col1\" >790</td>\n",
       "      <td id=\"T_f1a2e_row41_col2\" class=\"data row41 col2\" >668</td>\n",
       "      <td id=\"T_f1a2e_row41_col3\" class=\"data row41 col3\" >90</td>\n",
       "      <td id=\"T_f1a2e_row41_col4\" class=\"data row41 col4\" >184</td>\n",
       "      <td id=\"T_f1a2e_row41_col5\" class=\"data row41 col5\" >612</td>\n",
       "      <td id=\"T_f1a2e_row41_col6\" class=\"data row41 col6\" >1384</td>\n",
       "      <td id=\"T_f1a2e_row41_col7\" class=\"data row41 col7\" >2343</td>\n",
       "    </tr>\n",
       "    <tr>\n",
       "      <th id=\"T_f1a2e_level0_row42\" class=\"row_heading level0 row42\" >Launchpad</th>\n",
       "      <td id=\"T_f1a2e_row42_col0\" class=\"data row42 col0\" >29</td>\n",
       "      <td id=\"T_f1a2e_row42_col1\" class=\"data row42 col1\" >775</td>\n",
       "      <td id=\"T_f1a2e_row42_col2\" class=\"data row42 col2\" >399</td>\n",
       "      <td id=\"T_f1a2e_row42_col3\" class=\"data row42 col3\" >21</td>\n",
       "      <td id=\"T_f1a2e_row42_col4\" class=\"data row42 col4\" >362</td>\n",
       "      <td id=\"T_f1a2e_row42_col5\" class=\"data row42 col5\" >944</td>\n",
       "      <td id=\"T_f1a2e_row42_col6\" class=\"data row42 col6\" >1004</td>\n",
       "      <td id=\"T_f1a2e_row42_col7\" class=\"data row42 col7\" >1287</td>\n",
       "    </tr>\n",
       "    <tr>\n",
       "      <th id=\"T_f1a2e_level0_row43\" class=\"row_heading level0 row43\" >Gaming</th>\n",
       "      <td id=\"T_f1a2e_row43_col0\" class=\"data row43 col0\" >154</td>\n",
       "      <td id=\"T_f1a2e_row43_col1\" class=\"data row43 col1\" >762</td>\n",
       "      <td id=\"T_f1a2e_row43_col2\" class=\"data row43 col2\" >460</td>\n",
       "      <td id=\"T_f1a2e_row43_col3\" class=\"data row43 col3\" >19</td>\n",
       "      <td id=\"T_f1a2e_row43_col4\" class=\"data row43 col4\" >564</td>\n",
       "      <td id=\"T_f1a2e_row43_col5\" class=\"data row43 col5\" >797</td>\n",
       "      <td id=\"T_f1a2e_row43_col6\" class=\"data row43 col6\" >921</td>\n",
       "      <td id=\"T_f1a2e_row43_col7\" class=\"data row43 col7\" >3465</td>\n",
       "    </tr>\n",
       "    <tr>\n",
       "      <th id=\"T_f1a2e_level0_row44\" class=\"row_heading level0 row44\" >AMM</th>\n",
       "      <td id=\"T_f1a2e_row44_col0\" class=\"data row44 col0\" >9</td>\n",
       "      <td id=\"T_f1a2e_row44_col1\" class=\"data row44 col1\" >760</td>\n",
       "      <td id=\"T_f1a2e_row44_col2\" class=\"data row44 col2\" >255</td>\n",
       "      <td id=\"T_f1a2e_row44_col3\" class=\"data row44 col3\" >173</td>\n",
       "      <td id=\"T_f1a2e_row44_col4\" class=\"data row44 col4\" >692</td>\n",
       "      <td id=\"T_f1a2e_row44_col5\" class=\"data row44 col5\" >798</td>\n",
       "      <td id=\"T_f1a2e_row44_col6\" class=\"data row44 col6\" >961</td>\n",
       "      <td id=\"T_f1a2e_row44_col7\" class=\"data row44 col7\" >1028</td>\n",
       "    </tr>\n",
       "    <tr>\n",
       "      <th id=\"T_f1a2e_level0_row45\" class=\"row_heading level0 row45\" >DEX</th>\n",
       "      <td id=\"T_f1a2e_row45_col0\" class=\"data row45 col0\" >61</td>\n",
       "      <td id=\"T_f1a2e_row45_col1\" class=\"data row45 col1\" >746</td>\n",
       "      <td id=\"T_f1a2e_row45_col2\" class=\"data row45 col2\" >434</td>\n",
       "      <td id=\"T_f1a2e_row45_col3\" class=\"data row45 col3\" >77</td>\n",
       "      <td id=\"T_f1a2e_row45_col4\" class=\"data row45 col4\" >378</td>\n",
       "      <td id=\"T_f1a2e_row45_col5\" class=\"data row45 col5\" >780</td>\n",
       "      <td id=\"T_f1a2e_row45_col6\" class=\"data row45 col6\" >1018</td>\n",
       "      <td id=\"T_f1a2e_row45_col7\" class=\"data row45 col7\" >2049</td>\n",
       "    </tr>\n",
       "    <tr>\n",
       "      <th id=\"T_f1a2e_level0_row46\" class=\"row_heading level0 row46\" >Layer-2</th>\n",
       "      <td id=\"T_f1a2e_row46_col0\" class=\"data row46 col0\" >8</td>\n",
       "      <td id=\"T_f1a2e_row46_col1\" class=\"data row46 col1\" >693</td>\n",
       "      <td id=\"T_f1a2e_row46_col2\" class=\"data row46 col2\" >684</td>\n",
       "      <td id=\"T_f1a2e_row46_col3\" class=\"data row46 col3\" >93</td>\n",
       "      <td id=\"T_f1a2e_row46_col4\" class=\"data row46 col4\" >231</td>\n",
       "      <td id=\"T_f1a2e_row46_col5\" class=\"data row46 col5\" >339</td>\n",
       "      <td id=\"T_f1a2e_row46_col6\" class=\"data row46 col6\" >1044</td>\n",
       "      <td id=\"T_f1a2e_row46_col7\" class=\"data row46 col7\" >1799</td>\n",
       "    </tr>\n",
       "    <tr>\n",
       "      <th id=\"T_f1a2e_level0_row47\" class=\"row_heading level0 row47\" >Liquid Staking</th>\n",
       "      <td id=\"T_f1a2e_row47_col0\" class=\"data row47 col0\" >7</td>\n",
       "      <td id=\"T_f1a2e_row47_col1\" class=\"data row47 col1\" >580</td>\n",
       "      <td id=\"T_f1a2e_row47_col2\" class=\"data row47 col2\" >338</td>\n",
       "      <td id=\"T_f1a2e_row47_col3\" class=\"data row47 col3\" >81</td>\n",
       "      <td id=\"T_f1a2e_row47_col4\" class=\"data row47 col4\" >376</td>\n",
       "      <td id=\"T_f1a2e_row47_col5\" class=\"data row47 col5\" >713</td>\n",
       "      <td id=\"T_f1a2e_row47_col6\" class=\"data row47 col6\" >795</td>\n",
       "      <td id=\"T_f1a2e_row47_col7\" class=\"data row47 col7\" >921</td>\n",
       "    </tr>\n",
       "    <tr>\n",
       "      <th id=\"T_f1a2e_level0_row48\" class=\"row_heading level0 row48\" >Web 3.0</th>\n",
       "      <td id=\"T_f1a2e_row48_col0\" class=\"data row48 col0\" >17</td>\n",
       "      <td id=\"T_f1a2e_row48_col1\" class=\"data row48 col1\" >526</td>\n",
       "      <td id=\"T_f1a2e_row48_col2\" class=\"data row48 col2\" >608</td>\n",
       "      <td id=\"T_f1a2e_row48_col3\" class=\"data row48 col3\" >46</td>\n",
       "      <td id=\"T_f1a2e_row48_col4\" class=\"data row48 col4\" >82</td>\n",
       "      <td id=\"T_f1a2e_row48_col5\" class=\"data row48 col5\" >96</td>\n",
       "      <td id=\"T_f1a2e_row48_col6\" class=\"data row48 col6\" >783</td>\n",
       "      <td id=\"T_f1a2e_row48_col7\" class=\"data row48 col7\" >2233</td>\n",
       "    </tr>\n",
       "    <tr>\n",
       "      <th id=\"T_f1a2e_level0_row49\" class=\"row_heading level0 row49\" >Artificial Intelligence (AI)</th>\n",
       "      <td id=\"T_f1a2e_row49_col0\" class=\"data row49 col0\" >22</td>\n",
       "      <td id=\"T_f1a2e_row49_col1\" class=\"data row49 col1\" >523</td>\n",
       "      <td id=\"T_f1a2e_row49_col2\" class=\"data row49 col2\" >674</td>\n",
       "      <td id=\"T_f1a2e_row49_col3\" class=\"data row49 col3\" >32</td>\n",
       "      <td id=\"T_f1a2e_row49_col4\" class=\"data row49 col4\" >114</td>\n",
       "      <td id=\"T_f1a2e_row49_col5\" class=\"data row49 col5\" >254</td>\n",
       "      <td id=\"T_f1a2e_row49_col6\" class=\"data row49 col6\" >387</td>\n",
       "      <td id=\"T_f1a2e_row49_col7\" class=\"data row49 col7\" >2251</td>\n",
       "    </tr>\n",
       "    <tr>\n",
       "      <th id=\"T_f1a2e_level0_row50\" class=\"row_heading level0 row50\" >Arbitrum Ecosystem</th>\n",
       "      <td id=\"T_f1a2e_row50_col0\" class=\"data row50 col0\" >10</td>\n",
       "      <td id=\"T_f1a2e_row50_col1\" class=\"data row50 col1\" >492</td>\n",
       "      <td id=\"T_f1a2e_row50_col2\" class=\"data row50 col2\" >609</td>\n",
       "      <td id=\"T_f1a2e_row50_col3\" class=\"data row50 col3\" >52</td>\n",
       "      <td id=\"T_f1a2e_row50_col4\" class=\"data row50 col4\" >132</td>\n",
       "      <td id=\"T_f1a2e_row50_col5\" class=\"data row50 col5\" >335</td>\n",
       "      <td id=\"T_f1a2e_row50_col6\" class=\"data row50 col6\" >505</td>\n",
       "      <td id=\"T_f1a2e_row50_col7\" class=\"data row50 col7\" >2093</td>\n",
       "    </tr>\n",
       "    <tr>\n",
       "      <th id=\"T_f1a2e_level0_row51\" class=\"row_heading level0 row51\" >Meme</th>\n",
       "      <td id=\"T_f1a2e_row51_col0\" class=\"data row51 col0\" >114</td>\n",
       "      <td id=\"T_f1a2e_row51_col1\" class=\"data row51 col1\" >400</td>\n",
       "      <td id=\"T_f1a2e_row51_col2\" class=\"data row51 col2\" >569</td>\n",
       "      <td id=\"T_f1a2e_row51_col3\" class=\"data row51 col3\" >27</td>\n",
       "      <td id=\"T_f1a2e_row51_col4\" class=\"data row51 col4\" >67</td>\n",
       "      <td id=\"T_f1a2e_row51_col5\" class=\"data row51 col5\" >150</td>\n",
       "      <td id=\"T_f1a2e_row51_col6\" class=\"data row51 col6\" >704</td>\n",
       "      <td id=\"T_f1a2e_row51_col7\" class=\"data row51 col7\" >3725</td>\n",
       "    </tr>\n",
       "    <tr>\n",
       "      <th id=\"T_f1a2e_level0_row52\" class=\"row_heading level0 row52\" >Ethereum Ecosystem</th>\n",
       "      <td id=\"T_f1a2e_row52_col0\" class=\"data row52 col0\" >37</td>\n",
       "      <td id=\"T_f1a2e_row52_col1\" class=\"data row52 col1\" >392</td>\n",
       "      <td id=\"T_f1a2e_row52_col2\" class=\"data row52 col2\" >510</td>\n",
       "      <td id=\"T_f1a2e_row52_col3\" class=\"data row52 col3\" >32</td>\n",
       "      <td id=\"T_f1a2e_row52_col4\" class=\"data row52 col4\" >87</td>\n",
       "      <td id=\"T_f1a2e_row52_col5\" class=\"data row52 col5\" >182</td>\n",
       "      <td id=\"T_f1a2e_row52_col6\" class=\"data row52 col6\" >483</td>\n",
       "      <td id=\"T_f1a2e_row52_col7\" class=\"data row52 col7\" >2401</td>\n",
       "    </tr>\n",
       "    <tr>\n",
       "      <th id=\"T_f1a2e_level0_row53\" class=\"row_heading level0 row53\" >Bitcoin Ecosystem</th>\n",
       "      <td id=\"T_f1a2e_row53_col0\" class=\"data row53 col0\" >13</td>\n",
       "      <td id=\"T_f1a2e_row53_col1\" class=\"data row53 col1\" >239</td>\n",
       "      <td id=\"T_f1a2e_row53_col2\" class=\"data row53 col2\" >95</td>\n",
       "      <td id=\"T_f1a2e_row53_col3\" class=\"data row53 col3\" >48</td>\n",
       "      <td id=\"T_f1a2e_row53_col4\" class=\"data row53 col4\" >280</td>\n",
       "      <td id=\"T_f1a2e_row53_col5\" class=\"data row53 col5\" >290</td>\n",
       "      <td id=\"T_f1a2e_row53_col6\" class=\"data row53 col6\" >290</td>\n",
       "      <td id=\"T_f1a2e_row53_col7\" class=\"data row53 col7\" >294</td>\n",
       "    </tr>\n",
       "    <tr>\n",
       "      <th id=\"T_f1a2e_level0_row54\" class=\"row_heading level0 row54\" >Trading Bot</th>\n",
       "      <td id=\"T_f1a2e_row54_col0\" class=\"data row54 col0\" >12</td>\n",
       "      <td id=\"T_f1a2e_row54_col1\" class=\"data row54 col1\" >232</td>\n",
       "      <td id=\"T_f1a2e_row54_col2\" class=\"data row54 col2\" >156</td>\n",
       "      <td id=\"T_f1a2e_row54_col3\" class=\"data row54 col3\" >77</td>\n",
       "      <td id=\"T_f1a2e_row54_col4\" class=\"data row54 col4\" >120</td>\n",
       "      <td id=\"T_f1a2e_row54_col5\" class=\"data row54 col5\" >170</td>\n",
       "      <td id=\"T_f1a2e_row54_col6\" class=\"data row54 col6\" >315</td>\n",
       "      <td id=\"T_f1a2e_row54_col7\" class=\"data row54 col7\" >542</td>\n",
       "    </tr>\n",
       "    <tr>\n",
       "      <th id=\"T_f1a2e_level0_row55\" class=\"row_heading level0 row55\" >ERC-404</th>\n",
       "      <td id=\"T_f1a2e_row55_col0\" class=\"data row55 col0\" >10</td>\n",
       "      <td id=\"T_f1a2e_row55_col1\" class=\"data row55 col1\" >27</td>\n",
       "      <td id=\"T_f1a2e_row55_col2\" class=\"data row55 col2\" >28</td>\n",
       "      <td id=\"T_f1a2e_row55_col3\" class=\"data row55 col3\" >18</td>\n",
       "      <td id=\"T_f1a2e_row55_col4\" class=\"data row55 col4\" >18</td>\n",
       "      <td id=\"T_f1a2e_row55_col5\" class=\"data row55 col5\" >18</td>\n",
       "      <td id=\"T_f1a2e_row55_col6\" class=\"data row55 col6\" >18</td>\n",
       "      <td id=\"T_f1a2e_row55_col7\" class=\"data row55 col7\" >105</td>\n",
       "    </tr>\n",
       "  </tbody>\n",
       "</table>\n"
      ],
      "text/plain": [
       "<pandas.io.formats.style.Styler at 0x17c5f2e00>"
      ]
     },
     "execution_count": 108,
     "metadata": {},
     "output_type": "execute_result"
    }
   ],
   "source": [
    "avg_age_cat = data.loc[data['Category'] != '--'].groupby('Category')['days_from_TGE'].describe().sort_values(by='mean', ascending=False)\n",
    "avg_age_cat_gradient = avg_age_cat[avg_age_cat['count'] > 6].style.background_gradient(axis=0, low=0.37, cmap='bone').format(\"{:.0f}\")\n",
    "avg_age_cat_gradient"
   ]
  },
  {
   "cell_type": "code",
   "execution_count": 109,
   "metadata": {},
   "outputs": [],
   "source": [
    "from IPython.display import HTML\n",
    "\n",
    "def side_by_side(*dfs):\n",
    "    html = '<div style=\"display:flex\">'\n",
    "    for df in dfs:\n",
    "        html += '<div style=\"margin-right: 2em\">'\n",
    "        html += df.to_html()\n",
    "        html += '</div>'\n",
    "    html += '</div>'\n",
    "    display(HTML(html))"
   ]
  },
  {
   "cell_type": "code",
   "execution_count": 110,
   "metadata": {},
   "outputs": [
    {
     "data": {
      "text/html": [
       "<div style=\"display:flex\"><div style=\"margin-right: 2em\"><style type=\"text/css\">\n",
       "#T_f1a2e_row0_col0, #T_f1a2e_row10_col3, #T_f1a2e_row28_col2, #T_f1a2e_row34_col0, #T_f1a2e_row41_col0, #T_f1a2e_row50_col4, #T_f1a2e_row51_col5 {\n",
       "  background-color: #464661;\n",
       "  color: #f1f1f1;\n",
       "}\n",
       "#T_f1a2e_row0_col1, #T_f1a2e_row0_col4, #T_f1a2e_row0_col5, #T_f1a2e_row1_col6, #T_f1a2e_row2_col3, #T_f1a2e_row23_col2, #T_f1a2e_row25_col0, #T_f1a2e_row38_col7 {\n",
       "  background-color: #ffffff;\n",
       "  color: #000000;\n",
       "}\n",
       "#T_f1a2e_row0_col2, #T_f1a2e_row5_col7, #T_f1a2e_row9_col1, #T_f1a2e_row11_col2, #T_f1a2e_row26_col3, #T_f1a2e_row48_col2, #T_f1a2e_row50_col2 {\n",
       "  background-color: #a4c2c3;\n",
       "  color: #000000;\n",
       "}\n",
       "#T_f1a2e_row0_col3, #T_f1a2e_row25_col6 {\n",
       "  background-color: #8ba1ab;\n",
       "  color: #f1f1f1;\n",
       "}\n",
       "#T_f1a2e_row0_col6 {\n",
       "  background-color: #fafcfb;\n",
       "  color: #000000;\n",
       "}\n",
       "#T_f1a2e_row0_col7 {\n",
       "  background-color: #e9f1f1;\n",
       "  color: #000000;\n",
       "}\n",
       "#T_f1a2e_row1_col0 {\n",
       "  background-color: #4d4d6b;\n",
       "  color: #f1f1f1;\n",
       "}\n",
       "#T_f1a2e_row1_col1 {\n",
       "  background-color: #f8fbfb;\n",
       "  color: #000000;\n",
       "}\n",
       "#T_f1a2e_row1_col2, #T_f1a2e_row3_col1 {\n",
       "  background-color: #cadddd;\n",
       "  color: #000000;\n",
       "}\n",
       "#T_f1a2e_row1_col3 {\n",
       "  background-color: #e0ebeb;\n",
       "  color: #000000;\n",
       "}\n",
       "#T_f1a2e_row1_col4, #T_f1a2e_row3_col5, #T_f1a2e_row10_col2, #T_f1a2e_row17_col2, #T_f1a2e_row17_col7 {\n",
       "  background-color: #d9e6e6;\n",
       "  color: #000000;\n",
       "}\n",
       "#T_f1a2e_row1_col5 {\n",
       "  background-color: #e4eeed;\n",
       "  color: #000000;\n",
       "}\n",
       "#T_f1a2e_row1_col7, #T_f1a2e_row2_col6, #T_f1a2e_row8_col2 {\n",
       "  background-color: #eff4f4;\n",
       "  color: #000000;\n",
       "}\n",
       "#T_f1a2e_row2_col0, #T_f1a2e_row3_col0, #T_f1a2e_row15_col3, #T_f1a2e_row16_col0, #T_f1a2e_row18_col3, #T_f1a2e_row20_col0, #T_f1a2e_row20_col2, #T_f1a2e_row23_col0, #T_f1a2e_row25_col3, #T_f1a2e_row42_col3, #T_f1a2e_row43_col3, #T_f1a2e_row46_col0, #T_f1a2e_row47_col0, #T_f1a2e_row55_col1, #T_f1a2e_row55_col3, #T_f1a2e_row55_col4, #T_f1a2e_row55_col5, #T_f1a2e_row55_col6, #T_f1a2e_row55_col7 {\n",
       "  background-color: #3c3c54;\n",
       "  color: #f1f1f1;\n",
       "}\n",
       "#T_f1a2e_row2_col1, #T_f1a2e_row25_col7 {\n",
       "  background-color: #dbe8e8;\n",
       "  color: #000000;\n",
       "}\n",
       "#T_f1a2e_row2_col2, #T_f1a2e_row20_col4 {\n",
       "  background-color: #96b0b6;\n",
       "  color: #000000;\n",
       "}\n",
       "#T_f1a2e_row2_col4 {\n",
       "  background-color: #d3e3e3;\n",
       "  color: #000000;\n",
       "}\n",
       "#T_f1a2e_row2_col5 {\n",
       "  background-color: #dae7e7;\n",
       "  color: #000000;\n",
       "}\n",
       "#T_f1a2e_row2_col7, #T_f1a2e_row3_col7, #T_f1a2e_row10_col1, #T_f1a2e_row40_col7 {\n",
       "  background-color: #a2c0c2;\n",
       "  color: #000000;\n",
       "}\n",
       "#T_f1a2e_row3_col2, #T_f1a2e_row12_col3 {\n",
       "  background-color: #c7dbdb;\n",
       "  color: #000000;\n",
       "}\n",
       "#T_f1a2e_row3_col3 {\n",
       "  background-color: #565776;\n",
       "  color: #f1f1f1;\n",
       "}\n",
       "#T_f1a2e_row3_col4 {\n",
       "  background-color: #eaf2f2;\n",
       "  color: #000000;\n",
       "}\n",
       "#T_f1a2e_row3_col6 {\n",
       "  background-color: #d6e5e5;\n",
       "  color: #000000;\n",
       "}\n",
       "#T_f1a2e_row4_col0, #T_f1a2e_row13_col0, #T_f1a2e_row41_col3, #T_f1a2e_row46_col3, #T_f1a2e_row54_col5 {\n",
       "  background-color: #474763;\n",
       "  color: #f1f1f1;\n",
       "}\n",
       "#T_f1a2e_row4_col1, #T_f1a2e_row10_col6 {\n",
       "  background-color: #c4d9d9;\n",
       "  color: #000000;\n",
       "}\n",
       "#T_f1a2e_row4_col2, #T_f1a2e_row10_col7 {\n",
       "  background-color: #9fbcbf;\n",
       "  color: #000000;\n",
       "}\n",
       "#T_f1a2e_row4_col3, #T_f1a2e_row18_col4 {\n",
       "  background-color: #727e92;\n",
       "  color: #f1f1f1;\n",
       "}\n",
       "#T_f1a2e_row4_col4, #T_f1a2e_row6_col5, #T_f1a2e_row10_col5, #T_f1a2e_row11_col5, #T_f1a2e_row27_col7 {\n",
       "  background-color: #aecbcb;\n",
       "  color: #000000;\n",
       "}\n",
       "#T_f1a2e_row4_col5 {\n",
       "  background-color: #c3d8d8;\n",
       "  color: #000000;\n",
       "}\n",
       "#T_f1a2e_row4_col6 {\n",
       "  background-color: #dde9e9;\n",
       "  color: #000000;\n",
       "}\n",
       "#T_f1a2e_row4_col7 {\n",
       "  background-color: #b1cdcd;\n",
       "  color: #000000;\n",
       "}\n",
       "#T_f1a2e_row5_col0, #T_f1a2e_row40_col4, #T_f1a2e_row42_col0 {\n",
       "  background-color: #4a4966;\n",
       "  color: #f1f1f1;\n",
       "}\n",
       "#T_f1a2e_row5_col1 {\n",
       "  background-color: #b8d2d1;\n",
       "  color: #000000;\n",
       "}\n",
       "#T_f1a2e_row5_col2, #T_f1a2e_row13_col5 {\n",
       "  background-color: #8da3ad;\n",
       "  color: #f1f1f1;\n",
       "}\n",
       "#T_f1a2e_row5_col3, #T_f1a2e_row11_col6, #T_f1a2e_row32_col2 {\n",
       "  background-color: #adcaca;\n",
       "  color: #000000;\n",
       "}\n",
       "#T_f1a2e_row5_col4, #T_f1a2e_row49_col2 {\n",
       "  background-color: #b4cfcf;\n",
       "  color: #000000;\n",
       "}\n",
       "#T_f1a2e_row5_col5 {\n",
       "  background-color: #b0cccc;\n",
       "  color: #000000;\n",
       "}\n",
       "#T_f1a2e_row5_col6, #T_f1a2e_row36_col2 {\n",
       "  background-color: #b9d2d2;\n",
       "  color: #000000;\n",
       "}\n",
       "#T_f1a2e_row6_col0, #T_f1a2e_row50_col3, #T_f1a2e_row51_col4, #T_f1a2e_row53_col3 {\n",
       "  background-color: #41415a;\n",
       "  color: #f1f1f1;\n",
       "}\n",
       "#T_f1a2e_row6_col1, #T_f1a2e_row38_col2 {\n",
       "  background-color: #aac9c9;\n",
       "  color: #000000;\n",
       "}\n",
       "#T_f1a2e_row6_col2, #T_f1a2e_row11_col1, #T_f1a2e_row15_col2 {\n",
       "  background-color: #a1bfc1;\n",
       "  color: #000000;\n",
       "}\n",
       "#T_f1a2e_row6_col3, #T_f1a2e_row52_col6 {\n",
       "  background-color: #5a5d7a;\n",
       "  color: #f1f1f1;\n",
       "}\n",
       "#T_f1a2e_row6_col4 {\n",
       "  background-color: #97b2b7;\n",
       "  color: #000000;\n",
       "}\n",
       "#T_f1a2e_row6_col6 {\n",
       "  background-color: #cbdede;\n",
       "  color: #000000;\n",
       "}\n",
       "#T_f1a2e_row6_col7, #T_f1a2e_row12_col4, #T_f1a2e_row18_col7, #T_f1a2e_row30_col7, #T_f1a2e_row36_col7, #T_f1a2e_row48_col7, #T_f1a2e_row49_col7 {\n",
       "  background-color: #99b4b9;\n",
       "  color: #000000;\n",
       "}\n",
       "#T_f1a2e_row7_col0, #T_f1a2e_row9_col0, #T_f1a2e_row14_col0, #T_f1a2e_row21_col0, #T_f1a2e_row37_col3, #T_f1a2e_row39_col3, #T_f1a2e_row54_col0 {\n",
       "  background-color: #3f3f58;\n",
       "  color: #f1f1f1;\n",
       "}\n",
       "#T_f1a2e_row7_col1, #T_f1a2e_row9_col5, #T_f1a2e_row24_col7 {\n",
       "  background-color: #a7c7c7;\n",
       "  color: #000000;\n",
       "}\n",
       "#T_f1a2e_row7_col2, #T_f1a2e_row21_col4 {\n",
       "  background-color: #95aeb5;\n",
       "  color: #f1f1f1;\n",
       "}\n",
       "#T_f1a2e_row7_col3, #T_f1a2e_row8_col5, #T_f1a2e_row11_col7, #T_f1a2e_row51_col2 {\n",
       "  background-color: #9db9bc;\n",
       "  color: #000000;\n",
       "}\n",
       "#T_f1a2e_row7_col4, #T_f1a2e_row7_col5, #T_f1a2e_row9_col6, #T_f1a2e_row15_col6, #T_f1a2e_row41_col7 {\n",
       "  background-color: #9dbabd;\n",
       "  color: #000000;\n",
       "}\n",
       "#T_f1a2e_row7_col6 {\n",
       "  background-color: #bdd5d5;\n",
       "  color: #000000;\n",
       "}\n",
       "#T_f1a2e_row7_col7, #T_f1a2e_row52_col7 {\n",
       "  background-color: #a0bec0;\n",
       "  color: #000000;\n",
       "}\n",
       "#T_f1a2e_row8_col0, #T_f1a2e_row42_col1, #T_f1a2e_row45_col5, #T_f1a2e_row47_col2 {\n",
       "  background-color: #748194;\n",
       "  color: #f1f1f1;\n",
       "}\n",
       "#T_f1a2e_row8_col1, #T_f1a2e_row24_col2 {\n",
       "  background-color: #a6c6c6;\n",
       "  color: #000000;\n",
       "}\n",
       "#T_f1a2e_row8_col3, #T_f1a2e_row30_col0, #T_f1a2e_row31_col0, #T_f1a2e_row38_col3, #T_f1a2e_row48_col4, #T_f1a2e_row48_col5 {\n",
       "  background-color: #42425b;\n",
       "  color: #f1f1f1;\n",
       "}\n",
       "#T_f1a2e_row8_col4, #T_f1a2e_row19_col6, #T_f1a2e_row24_col6, #T_f1a2e_row31_col1, #T_f1a2e_row37_col5, #T_f1a2e_row42_col2, #T_f1a2e_row46_col6 {\n",
       "  background-color: #7f909f;\n",
       "  color: #f1f1f1;\n",
       "}\n",
       "#T_f1a2e_row8_col6 {\n",
       "  background-color: #d7e6e6;\n",
       "  color: #000000;\n",
       "}\n",
       "#T_f1a2e_row8_col7 {\n",
       "  background-color: #f3f7f7;\n",
       "  color: #000000;\n",
       "}\n",
       "#T_f1a2e_row9_col2 {\n",
       "  background-color: #555675;\n",
       "  color: #f1f1f1;\n",
       "}\n",
       "#T_f1a2e_row9_col3 {\n",
       "  background-color: #fcfdfd;\n",
       "  color: #000000;\n",
       "}\n",
       "#T_f1a2e_row9_col4, #T_f1a2e_row15_col7, #T_f1a2e_row46_col2 {\n",
       "  background-color: #b7d1d1;\n",
       "  color: #000000;\n",
       "}\n",
       "#T_f1a2e_row9_col7, #T_f1a2e_row14_col7, #T_f1a2e_row19_col7, #T_f1a2e_row29_col2, #T_f1a2e_row32_col6, #T_f1a2e_row34_col5, #T_f1a2e_row36_col1, #T_f1a2e_row37_col1, #T_f1a2e_row39_col5, #T_f1a2e_row40_col6 {\n",
       "  background-color: #7a8a9a;\n",
       "  color: #f1f1f1;\n",
       "}\n",
       "#T_f1a2e_row10_col0, #T_f1a2e_row17_col3, #T_f1a2e_row19_col0, #T_f1a2e_row27_col3, #T_f1a2e_row28_col0, #T_f1a2e_row29_col3, #T_f1a2e_row36_col3, #T_f1a2e_row40_col0, #T_f1a2e_row44_col0, #T_f1a2e_row51_col3, #T_f1a2e_row55_col2 {\n",
       "  background-color: #3d3d55;\n",
       "  color: #f1f1f1;\n",
       "}\n",
       "#T_f1a2e_row10_col4, #T_f1a2e_row20_col1, #T_f1a2e_row21_col1, #T_f1a2e_row22_col1, #T_f1a2e_row22_col4, #T_f1a2e_row25_col2 {\n",
       "  background-color: #889da8;\n",
       "  color: #f1f1f1;\n",
       "}\n",
       "#T_f1a2e_row11_col0, #T_f1a2e_row37_col0 {\n",
       "  background-color: #43435e;\n",
       "  color: #f1f1f1;\n",
       "}\n",
       "#T_f1a2e_row11_col3, #T_f1a2e_row33_col2, #T_f1a2e_row44_col3, #T_f1a2e_row50_col5, #T_f1a2e_row53_col4 {\n",
       "  background-color: #535473;\n",
       "  color: #f1f1f1;\n",
       "}\n",
       "#T_f1a2e_row11_col4, #T_f1a2e_row12_col7, #T_f1a2e_row14_col6, #T_f1a2e_row30_col2, #T_f1a2e_row45_col7 {\n",
       "  background-color: #90a8b0;\n",
       "  color: #f1f1f1;\n",
       "}\n",
       "#T_f1a2e_row12_col0, #T_f1a2e_row40_col3, #T_f1a2e_row48_col3, #T_f1a2e_row53_col0 {\n",
       "  background-color: #404059;\n",
       "  color: #f1f1f1;\n",
       "}\n",
       "#T_f1a2e_row12_col1, #T_f1a2e_row16_col6, #T_f1a2e_row18_col6, #T_f1a2e_row27_col2 {\n",
       "  background-color: #9cb8bc;\n",
       "  color: #000000;\n",
       "}\n",
       "#T_f1a2e_row12_col2, #T_f1a2e_row46_col1, #T_f1a2e_row48_col6 {\n",
       "  background-color: #6e798e;\n",
       "  color: #f1f1f1;\n",
       "}\n",
       "#T_f1a2e_row12_col5, #T_f1a2e_row14_col4, #T_f1a2e_row35_col7 {\n",
       "  background-color: #9ab5ba;\n",
       "  color: #000000;\n",
       "}\n",
       "#T_f1a2e_row12_col6, #T_f1a2e_row13_col1, #T_f1a2e_row13_col4, #T_f1a2e_row22_col3, #T_f1a2e_row39_col7, #T_f1a2e_row43_col0 {\n",
       "  background-color: #98b3b8;\n",
       "  color: #000000;\n",
       "}\n",
       "#T_f1a2e_row13_col2, #T_f1a2e_row19_col4, #T_f1a2e_row39_col2, #T_f1a2e_row50_col7 {\n",
       "  background-color: #93acb3;\n",
       "  color: #f1f1f1;\n",
       "}\n",
       "#T_f1a2e_row13_col3, #T_f1a2e_row18_col0, #T_f1a2e_row23_col3, #T_f1a2e_row35_col3, #T_f1a2e_row52_col5 {\n",
       "  background-color: #484864;\n",
       "  color: #f1f1f1;\n",
       "}\n",
       "#T_f1a2e_row13_col6, #T_f1a2e_row52_col2 {\n",
       "  background-color: #92aab2;\n",
       "  color: #f1f1f1;\n",
       "}\n",
       "#T_f1a2e_row13_col7 {\n",
       "  background-color: #a4c4c4;\n",
       "  color: #000000;\n",
       "}\n",
       "#T_f1a2e_row14_col1, #T_f1a2e_row31_col7 {\n",
       "  background-color: #94adb4;\n",
       "  color: #f1f1f1;\n",
       "}\n",
       "#T_f1a2e_row14_col2 {\n",
       "  background-color: #5d617d;\n",
       "  color: #f1f1f1;\n",
       "}\n",
       "#T_f1a2e_row14_col3, #T_f1a2e_row21_col3 {\n",
       "  background-color: #cfe0e0;\n",
       "  color: #000000;\n",
       "}\n",
       "#T_f1a2e_row14_col5, #T_f1a2e_row17_col1, #T_f1a2e_row18_col1 {\n",
       "  background-color: #8ca2ac;\n",
       "  color: #f1f1f1;\n",
       "}\n",
       "#T_f1a2e_row15_col0, #T_f1a2e_row17_col0, #T_f1a2e_row22_col0, #T_f1a2e_row36_col4, #T_f1a2e_row49_col5, #T_f1a2e_row53_col6 {\n",
       "  background-color: #4e4e6c;\n",
       "  color: #f1f1f1;\n",
       "}\n",
       "#T_f1a2e_row15_col1 {\n",
       "  background-color: #8fa6ae;\n",
       "  color: #f1f1f1;\n",
       "}\n",
       "#T_f1a2e_row15_col4, #T_f1a2e_row16_col2, #T_f1a2e_row27_col6, #T_f1a2e_row30_col6, #T_f1a2e_row45_col2 {\n",
       "  background-color: #8598a5;\n",
       "  color: #f1f1f1;\n",
       "}\n",
       "#T_f1a2e_row15_col5, #T_f1a2e_row17_col5, #T_f1a2e_row29_col4, #T_f1a2e_row43_col2 {\n",
       "  background-color: #899ea9;\n",
       "  color: #f1f1f1;\n",
       "}\n",
       "#T_f1a2e_row16_col1 {\n",
       "  background-color: #8ea4ae;\n",
       "  color: #f1f1f1;\n",
       "}\n",
       "#T_f1a2e_row16_col3, #T_f1a2e_row16_col5, #T_f1a2e_row25_col4, #T_f1a2e_row27_col1, #T_f1a2e_row28_col1, #T_f1a2e_row33_col4, #T_f1a2e_row34_col4 {\n",
       "  background-color: #8295a2;\n",
       "  color: #f1f1f1;\n",
       "}\n",
       "#T_f1a2e_row16_col4, #T_f1a2e_row26_col1, #T_f1a2e_row34_col7 {\n",
       "  background-color: #8497a4;\n",
       "  color: #f1f1f1;\n",
       "}\n",
       "#T_f1a2e_row16_col7, #T_f1a2e_row21_col6, #T_f1a2e_row22_col5, #T_f1a2e_row22_col7, #T_f1a2e_row23_col5, #T_f1a2e_row26_col4, #T_f1a2e_row26_col7, #T_f1a2e_row28_col5, #T_f1a2e_row29_col1, #T_f1a2e_row30_col1, #T_f1a2e_row30_col5, #T_f1a2e_row35_col0 {\n",
       "  background-color: #8194a1;\n",
       "  color: #f1f1f1;\n",
       "}\n",
       "#T_f1a2e_row17_col4, #T_f1a2e_row40_col5, #T_f1a2e_row44_col2, #T_f1a2e_row47_col1 {\n",
       "  background-color: #666d85;\n",
       "  color: #f1f1f1;\n",
       "}\n",
       "#T_f1a2e_row17_col6 {\n",
       "  background-color: #a5c5c5;\n",
       "  color: #000000;\n",
       "}\n",
       "#T_f1a2e_row18_col2, #T_f1a2e_row41_col2 {\n",
       "  background-color: #b2cece;\n",
       "  color: #000000;\n",
       "}\n",
       "#T_f1a2e_row18_col5, #T_f1a2e_row33_col6, #T_f1a2e_row39_col1, #T_f1a2e_row44_col4 {\n",
       "  background-color: #788698;\n",
       "  color: #f1f1f1;\n",
       "}\n",
       "#T_f1a2e_row19_col1, #T_f1a2e_row28_col4, #T_f1a2e_row29_col5, #T_f1a2e_row29_col6 {\n",
       "  background-color: #8aa0aa;\n",
       "  color: #f1f1f1;\n",
       "}\n",
       "#T_f1a2e_row19_col2, #T_f1a2e_row38_col0 {\n",
       "  background-color: #595c79;\n",
       "  color: #f1f1f1;\n",
       "}\n",
       "#T_f1a2e_row19_col3 {\n",
       "  background-color: #c6dada;\n",
       "  color: #000000;\n",
       "}\n",
       "#T_f1a2e_row19_col5, #T_f1a2e_row22_col6, #T_f1a2e_row23_col1, #T_f1a2e_row23_col6, #T_f1a2e_row25_col5, #T_f1a2e_row37_col4 {\n",
       "  background-color: #879ba7;\n",
       "  color: #f1f1f1;\n",
       "}\n",
       "#T_f1a2e_row20_col3 {\n",
       "  background-color: #e8f0f0;\n",
       "  color: #000000;\n",
       "}\n",
       "#T_f1a2e_row20_col5, #T_f1a2e_row21_col5, #T_f1a2e_row24_col4, #T_f1a2e_row27_col5 {\n",
       "  background-color: #889ca7;\n",
       "  color: #f1f1f1;\n",
       "}\n",
       "#T_f1a2e_row20_col6, #T_f1a2e_row26_col6, #T_f1a2e_row35_col4, #T_f1a2e_row51_col0 {\n",
       "  background-color: #8091a0;\n",
       "  color: #f1f1f1;\n",
       "}\n",
       "#T_f1a2e_row20_col7, #T_f1a2e_row28_col7 {\n",
       "  background-color: #666e86;\n",
       "  color: #f1f1f1;\n",
       "}\n",
       "#T_f1a2e_row21_col2, #T_f1a2e_row26_col0, #T_f1a2e_row48_col0, #T_f1a2e_row52_col4 {\n",
       "  background-color: #42425d;\n",
       "  color: #f1f1f1;\n",
       "}\n",
       "#T_f1a2e_row21_col7, #T_f1a2e_row32_col4, #T_f1a2e_row37_col7, #T_f1a2e_row41_col5 {\n",
       "  background-color: #687188;\n",
       "  color: #f1f1f1;\n",
       "}\n",
       "#T_f1a2e_row22_col2, #T_f1a2e_row48_col1 {\n",
       "  background-color: #626882;\n",
       "  color: #f1f1f1;\n",
       "}\n",
       "#T_f1a2e_row23_col4 {\n",
       "  background-color: #606680;\n",
       "  color: #f1f1f1;\n",
       "}\n",
       "#T_f1a2e_row23_col7 {\n",
       "  background-color: #c1d8d8;\n",
       "  color: #000000;\n",
       "}\n",
       "#T_f1a2e_row24_col0, #T_f1a2e_row24_col3, #T_f1a2e_row49_col3, #T_f1a2e_row50_col0, #T_f1a2e_row52_col3, #T_f1a2e_row55_col0 {\n",
       "  background-color: #3e3e56;\n",
       "  color: #f1f1f1;\n",
       "}\n",
       "#T_f1a2e_row24_col1, #T_f1a2e_row25_col1, #T_f1a2e_row33_col3, #T_f1a2e_row46_col7 {\n",
       "  background-color: #869aa6;\n",
       "  color: #f1f1f1;\n",
       "}\n",
       "#T_f1a2e_row24_col5, #T_f1a2e_row37_col6, #T_f1a2e_row45_col6 {\n",
       "  background-color: #7d8d9d;\n",
       "  color: #f1f1f1;\n",
       "}\n",
       "#T_f1a2e_row26_col2, #T_f1a2e_row34_col2, #T_f1a2e_row44_col7 {\n",
       "  background-color: #656c84;\n",
       "  color: #f1f1f1;\n",
       "}\n",
       "#T_f1a2e_row26_col5, #T_f1a2e_row28_col6, #T_f1a2e_row32_col1 {\n",
       "  background-color: #7e8f9e;\n",
       "  color: #f1f1f1;\n",
       "}\n",
       "#T_f1a2e_row27_col0, #T_f1a2e_row53_col5 {\n",
       "  background-color: #505070;\n",
       "  color: #f1f1f1;\n",
       "}\n",
       "#T_f1a2e_row27_col4, #T_f1a2e_row31_col2, #T_f1a2e_row33_col1, #T_f1a2e_row34_col1, #T_f1a2e_row35_col5, #T_f1a2e_row38_col4, #T_f1a2e_row42_col6 {\n",
       "  background-color: #7c8c9c;\n",
       "  color: #f1f1f1;\n",
       "}\n",
       "#T_f1a2e_row28_col3 {\n",
       "  background-color: #bfd6d6;\n",
       "  color: #000000;\n",
       "}\n",
       "#T_f1a2e_row29_col0, #T_f1a2e_row30_col3, #T_f1a2e_row41_col4 {\n",
       "  background-color: #4a4a67;\n",
       "  color: #f1f1f1;\n",
       "}\n",
       "#T_f1a2e_row29_col7, #T_f1a2e_row34_col3, #T_f1a2e_row36_col5, #T_f1a2e_row45_col1 {\n",
       "  background-color: #737f92;\n",
       "  color: #f1f1f1;\n",
       "}\n",
       "#T_f1a2e_row30_col4, #T_f1a2e_row31_col5, #T_f1a2e_row33_col5, #T_f1a2e_row35_col1 {\n",
       "  background-color: #7b8b9b;\n",
       "  color: #f1f1f1;\n",
       "}\n",
       "#T_f1a2e_row31_col3 {\n",
       "  background-color: #707b90;\n",
       "  color: #f1f1f1;\n",
       "}\n",
       "#T_f1a2e_row31_col4, #T_f1a2e_row39_col6 {\n",
       "  background-color: #8396a3;\n",
       "  color: #f1f1f1;\n",
       "}\n",
       "#T_f1a2e_row31_col6 {\n",
       "  background-color: #798799;\n",
       "  color: #f1f1f1;\n",
       "}\n",
       "#T_f1a2e_row32_col0, #T_f1a2e_row45_col3, #T_f1a2e_row47_col3, #T_f1a2e_row49_col0, #T_f1a2e_row54_col3, #T_f1a2e_row54_col4 {\n",
       "  background-color: #454560;\n",
       "  color: #f1f1f1;\n",
       "}\n",
       "#T_f1a2e_row32_col3, #T_f1a2e_row39_col0, #T_f1a2e_row54_col1 {\n",
       "  background-color: #4b4b69;\n",
       "  color: #f1f1f1;\n",
       "}\n",
       "#T_f1a2e_row32_col5, #T_f1a2e_row34_col6, #T_f1a2e_row40_col1 {\n",
       "  background-color: #768496;\n",
       "  color: #f1f1f1;\n",
       "}\n",
       "#T_f1a2e_row32_col7 {\n",
       "  background-color: #9ebbbe;\n",
       "  color: #000000;\n",
       "}\n",
       "#T_f1a2e_row33_col0, #T_f1a2e_row53_col2 {\n",
       "  background-color: #494965;\n",
       "  color: #f1f1f1;\n",
       "}\n",
       "#T_f1a2e_row33_col7, #T_f1a2e_row37_col2 {\n",
       "  background-color: #6c758b;\n",
       "  color: #f1f1f1;\n",
       "}\n",
       "#T_f1a2e_row35_col2, #T_f1a2e_row43_col6 {\n",
       "  background-color: #778597;\n",
       "  color: #f1f1f1;\n",
       "}\n",
       "#T_f1a2e_row35_col6, #T_f1a2e_row42_col5 {\n",
       "  background-color: #8192a0;\n",
       "  color: #f1f1f1;\n",
       "}\n",
       "#T_f1a2e_row36_col0, #T_f1a2e_row49_col4, #T_f1a2e_row53_col7 {\n",
       "  background-color: #44445f;\n",
       "  color: #f1f1f1;\n",
       "}\n",
       "#T_f1a2e_row36_col6 {\n",
       "  background-color: #8fa7af;\n",
       "  color: #f1f1f1;\n",
       "}\n",
       "#T_f1a2e_row38_col1, #T_f1a2e_row44_col6 {\n",
       "  background-color: #7a8999;\n",
       "  color: #f1f1f1;\n",
       "}\n",
       "#T_f1a2e_row38_col5, #T_f1a2e_row41_col1, #T_f1a2e_row43_col5, #T_f1a2e_row44_col5 {\n",
       "  background-color: #758395;\n",
       "  color: #f1f1f1;\n",
       "}\n",
       "#T_f1a2e_row38_col6 {\n",
       "  background-color: #717d91;\n",
       "  color: #f1f1f1;\n",
       "}\n",
       "#T_f1a2e_row39_col4 {\n",
       "  background-color: #676f87;\n",
       "  color: #f1f1f1;\n",
       "}\n",
       "#T_f1a2e_row40_col2 {\n",
       "  background-color: #d5e4e4;\n",
       "  color: #000000;\n",
       "}\n",
       "#T_f1a2e_row41_col6 {\n",
       "  background-color: #96afb5;\n",
       "  color: #f1f1f1;\n",
       "}\n",
       "#T_f1a2e_row42_col4 {\n",
       "  background-color: #5b5f7b;\n",
       "  color: #f1f1f1;\n",
       "}\n",
       "#T_f1a2e_row42_col7, #T_f1a2e_row47_col5, #T_f1a2e_row47_col6 {\n",
       "  background-color: #6f7a8f;\n",
       "  color: #f1f1f1;\n",
       "}\n",
       "#T_f1a2e_row43_col1, #T_f1a2e_row44_col1 {\n",
       "  background-color: #738093;\n",
       "  color: #f1f1f1;\n",
       "}\n",
       "#T_f1a2e_row43_col4 {\n",
       "  background-color: #6c778c;\n",
       "  color: #f1f1f1;\n",
       "}\n",
       "#T_f1a2e_row43_col7 {\n",
       "  background-color: #e5eeee;\n",
       "  color: #000000;\n",
       "}\n",
       "#T_f1a2e_row45_col0 {\n",
       "  background-color: #5e627d;\n",
       "  color: #f1f1f1;\n",
       "}\n",
       "#T_f1a2e_row45_col4, #T_f1a2e_row47_col4, #T_f1a2e_row50_col6 {\n",
       "  background-color: #5c607c;\n",
       "  color: #f1f1f1;\n",
       "}\n",
       "#T_f1a2e_row46_col4, #T_f1a2e_row52_col0, #T_f1a2e_row54_col7 {\n",
       "  background-color: #4f4f6e;\n",
       "  color: #f1f1f1;\n",
       "}\n",
       "#T_f1a2e_row46_col5, #T_f1a2e_row49_col6, #T_f1a2e_row54_col2 {\n",
       "  background-color: #545574;\n",
       "  color: #f1f1f1;\n",
       "}\n",
       "#T_f1a2e_row47_col7, #T_f1a2e_row50_col1 {\n",
       "  background-color: #5f657f;\n",
       "  color: #f1f1f1;\n",
       "}\n",
       "#T_f1a2e_row49_col1 {\n",
       "  background-color: #616781;\n",
       "  color: #f1f1f1;\n",
       "}\n",
       "#T_f1a2e_row51_col1 {\n",
       "  background-color: #585b78;\n",
       "  color: #f1f1f1;\n",
       "}\n",
       "#T_f1a2e_row51_col6 {\n",
       "  background-color: #697289;\n",
       "  color: #f1f1f1;\n",
       "}\n",
       "#T_f1a2e_row51_col7 {\n",
       "  background-color: #f7fafa;\n",
       "  color: #000000;\n",
       "}\n",
       "#T_f1a2e_row52_col1 {\n",
       "  background-color: #575a77;\n",
       "  color: #f1f1f1;\n",
       "}\n",
       "#T_f1a2e_row53_col1 {\n",
       "  background-color: #4c4c6a;\n",
       "  color: #f1f1f1;\n",
       "}\n",
       "#T_f1a2e_row54_col6 {\n",
       "  background-color: #50506f;\n",
       "  color: #f1f1f1;\n",
       "}\n",
       "</style>\n",
       "<table id=\"T_f1a2e\">\n",
       "  <thead>\n",
       "    <tr>\n",
       "      <th class=\"blank level0\" >&nbsp;</th>\n",
       "      <th id=\"T_f1a2e_level0_col0\" class=\"col_heading level0 col0\" >count</th>\n",
       "      <th id=\"T_f1a2e_level0_col1\" class=\"col_heading level0 col1\" >mean</th>\n",
       "      <th id=\"T_f1a2e_level0_col2\" class=\"col_heading level0 col2\" >std</th>\n",
       "      <th id=\"T_f1a2e_level0_col3\" class=\"col_heading level0 col3\" >min</th>\n",
       "      <th id=\"T_f1a2e_level0_col4\" class=\"col_heading level0 col4\" >25%</th>\n",
       "      <th id=\"T_f1a2e_level0_col5\" class=\"col_heading level0 col5\" >50%</th>\n",
       "      <th id=\"T_f1a2e_level0_col6\" class=\"col_heading level0 col6\" >75%</th>\n",
       "      <th id=\"T_f1a2e_level0_col7\" class=\"col_heading level0 col7\" >max</th>\n",
       "    </tr>\n",
       "    <tr>\n",
       "      <th class=\"index_name level0\" >Category</th>\n",
       "      <th class=\"blank col0\" >&nbsp;</th>\n",
       "      <th class=\"blank col1\" >&nbsp;</th>\n",
       "      <th class=\"blank col2\" >&nbsp;</th>\n",
       "      <th class=\"blank col3\" >&nbsp;</th>\n",
       "      <th class=\"blank col4\" >&nbsp;</th>\n",
       "      <th class=\"blank col5\" >&nbsp;</th>\n",
       "      <th class=\"blank col6\" >&nbsp;</th>\n",
       "      <th class=\"blank col7\" >&nbsp;</th>\n",
       "    </tr>\n",
       "  </thead>\n",
       "  <tbody>\n",
       "    <tr>\n",
       "      <th id=\"T_f1a2e_level0_row0\" class=\"row_heading level0 row0\" >Nodes</th>\n",
       "      <td id=\"T_f1a2e_row0_col0\" class=\"data row0 col0\" >23</td>\n",
       "      <td id=\"T_f1a2e_row0_col1\" class=\"data row0 col1\" >2197</td>\n",
       "      <td id=\"T_f1a2e_row0_col2\" class=\"data row0 col2\" >607</td>\n",
       "      <td id=\"T_f1a2e_row0_col3\" class=\"data row0 col3\" >549</td>\n",
       "      <td id=\"T_f1a2e_row0_col4\" class=\"data row0 col4\" >1856</td>\n",
       "      <td id=\"T_f1a2e_row0_col5\" class=\"data row0 col5\" >2237</td>\n",
       "      <td id=\"T_f1a2e_row0_col6\" class=\"data row0 col6\" >2454</td>\n",
       "      <td id=\"T_f1a2e_row0_col7\" class=\"data row0 col7\" >3530</td>\n",
       "    </tr>\n",
       "    <tr>\n",
       "      <th id=\"T_f1a2e_level0_row1\" class=\"row_heading level0 row1\" >Privacy Coin</th>\n",
       "      <td id=\"T_f1a2e_row1_col0\" class=\"data row1 col0\" >34</td>\n",
       "      <td id=\"T_f1a2e_row1_col1\" class=\"data row1 col1\" >2136</td>\n",
       "      <td id=\"T_f1a2e_row1_col2\" class=\"data row1 col2\" >752</td>\n",
       "      <td id=\"T_f1a2e_row1_col3\" class=\"data row1 col3\" >980</td>\n",
       "      <td id=\"T_f1a2e_row1_col4\" class=\"data row1 col4\" >1581</td>\n",
       "      <td id=\"T_f1a2e_row1_col5\" class=\"data row1 col5\" >1996</td>\n",
       "      <td id=\"T_f1a2e_row1_col6\" class=\"data row1 col6\" >2516</td>\n",
       "      <td id=\"T_f1a2e_row1_col7\" class=\"data row1 col7\" >3608</td>\n",
       "    </tr>\n",
       "    <tr>\n",
       "      <th id=\"T_f1a2e_level0_row2\" class=\"row_heading level0 row2\" >IOT</th>\n",
       "      <td id=\"T_f1a2e_row2_col0\" class=\"data row2 col0\" >7</td>\n",
       "      <td id=\"T_f1a2e_row2_col1\" class=\"data row2 col1\" >1892</td>\n",
       "      <td id=\"T_f1a2e_row2_col2\" class=\"data row2 col2\" >531</td>\n",
       "      <td id=\"T_f1a2e_row2_col3\" class=\"data row2 col3\" >1117</td>\n",
       "      <td id=\"T_f1a2e_row2_col4\" class=\"data row2 col4\" >1534</td>\n",
       "      <td id=\"T_f1a2e_row2_col5\" class=\"data row2 col5\" >1907</td>\n",
       "      <td id=\"T_f1a2e_row2_col6\" class=\"data row2 col6\" >2354</td>\n",
       "      <td id=\"T_f1a2e_row2_col7\" class=\"data row2 col7\" >2449</td>\n",
       "    </tr>\n",
       "    <tr>\n",
       "      <th id=\"T_f1a2e_level0_row3\" class=\"row_heading level0 row3\" >Storage</th>\n",
       "      <td id=\"T_f1a2e_row3_col0\" class=\"data row3 col0\" >7</td>\n",
       "      <td id=\"T_f1a2e_row3_col1\" class=\"data row3 col1\" >1735</td>\n",
       "      <td id=\"T_f1a2e_row3_col2\" class=\"data row3 col2\" >742</td>\n",
       "      <td id=\"T_f1a2e_row3_col3\" class=\"data row3 col3\" >189</td>\n",
       "      <td id=\"T_f1a2e_row3_col4\" class=\"data row3 col4\" >1700</td>\n",
       "      <td id=\"T_f1a2e_row3_col5\" class=\"data row3 col5\" >1902</td>\n",
       "      <td id=\"T_f1a2e_row3_col6\" class=\"data row3 col6\" >2106</td>\n",
       "      <td id=\"T_f1a2e_row3_col7\" class=\"data row3 col7\" >2446</td>\n",
       "    </tr>\n",
       "    <tr>\n",
       "      <th id=\"T_f1a2e_level0_row4\" class=\"row_heading level0 row4\" >Media</th>\n",
       "      <td id=\"T_f1a2e_row4_col0\" class=\"data row4 col0\" >24</td>\n",
       "      <td id=\"T_f1a2e_row4_col1\" class=\"data row4 col1\" >1688</td>\n",
       "      <td id=\"T_f1a2e_row4_col2\" class=\"data row4 col2\" >585</td>\n",
       "      <td id=\"T_f1a2e_row4_col3\" class=\"data row4 col3\" >378</td>\n",
       "      <td id=\"T_f1a2e_row4_col4\" class=\"data row4 col4\" >1272</td>\n",
       "      <td id=\"T_f1a2e_row4_col5\" class=\"data row4 col5\" >1712</td>\n",
       "      <td id=\"T_f1a2e_row4_col6\" class=\"data row4 col6\" >2171</td>\n",
       "      <td id=\"T_f1a2e_row4_col7\" class=\"data row4 col7\" >2702</td>\n",
       "    </tr>\n",
       "    <tr>\n",
       "      <th id=\"T_f1a2e_level0_row5\" class=\"row_heading level0 row5\" >Finance</th>\n",
       "      <td id=\"T_f1a2e_row5_col0\" class=\"data row5 col0\" >28</td>\n",
       "      <td id=\"T_f1a2e_row5_col1\" class=\"data row5 col1\" >1592</td>\n",
       "      <td id=\"T_f1a2e_row5_col2\" class=\"data row5 col2\" >478</td>\n",
       "      <td id=\"T_f1a2e_row5_col3\" class=\"data row5 col3\" >762</td>\n",
       "      <td id=\"T_f1a2e_row5_col4\" class=\"data row5 col4\" >1312</td>\n",
       "      <td id=\"T_f1a2e_row5_col5\" class=\"data row5 col5\" >1539</td>\n",
       "      <td id=\"T_f1a2e_row5_col6\" class=\"data row5 col6\" >1833</td>\n",
       "      <td id=\"T_f1a2e_row5_col7\" class=\"data row5 col7\" >2482</td>\n",
       "    </tr>\n",
       "    <tr>\n",
       "      <th id=\"T_f1a2e_level0_row6\" class=\"row_heading level0 row6\" >Big Data</th>\n",
       "      <td id=\"T_f1a2e_row6_col0\" class=\"data row6 col0\" >14</td>\n",
       "      <td id=\"T_f1a2e_row6_col1\" class=\"data row6 col1\" >1470</td>\n",
       "      <td id=\"T_f1a2e_row6_col2\" class=\"data row6 col2\" >591</td>\n",
       "      <td id=\"T_f1a2e_row6_col3\" class=\"data row6 col3\" >223</td>\n",
       "      <td id=\"T_f1a2e_row6_col4\" class=\"data row6 col4\" >1048</td>\n",
       "      <td id=\"T_f1a2e_row6_col5\" class=\"data row6 col5\" >1534</td>\n",
       "      <td id=\"T_f1a2e_row6_col6\" class=\"data row6 col6\" >1997</td>\n",
       "      <td id=\"T_f1a2e_row6_col7\" class=\"data row6 col7\" >2239</td>\n",
       "    </tr>\n",
       "    <tr>\n",
       "      <th id=\"T_f1a2e_level0_row7\" class=\"row_heading level0 row7\" >Cosmos Ecosystem</th>\n",
       "      <td id=\"T_f1a2e_row7_col0\" class=\"data row7 col0\" >11</td>\n",
       "      <td id=\"T_f1a2e_row7_col1\" class=\"data row7 col1\" >1453</td>\n",
       "      <td id=\"T_f1a2e_row7_col2\" class=\"data row7 col2\" >524</td>\n",
       "      <td id=\"T_f1a2e_row7_col3\" class=\"data row7 col3\" >669</td>\n",
       "      <td id=\"T_f1a2e_row7_col4\" class=\"data row7 col4\" >1114</td>\n",
       "      <td id=\"T_f1a2e_row7_col5\" class=\"data row7 col5\" >1346</td>\n",
       "      <td id=\"T_f1a2e_row7_col6\" class=\"data row7 col6\" >1864</td>\n",
       "      <td id=\"T_f1a2e_row7_col7\" class=\"data row7 col7\" >2393</td>\n",
       "    </tr>\n",
       "    <tr>\n",
       "      <th id=\"T_f1a2e_level0_row8\" class=\"row_heading level0 row8\" >Blockchain</th>\n",
       "      <td id=\"T_f1a2e_row8_col0\" class=\"data row8 col0\" >96</td>\n",
       "      <td id=\"T_f1a2e_row8_col1\" class=\"data row8 col1\" >1436</td>\n",
       "      <td id=\"T_f1a2e_row8_col2\" class=\"data row8 col2\" >884</td>\n",
       "      <td id=\"T_f1a2e_row8_col3\" class=\"data row8 col3\" >55</td>\n",
       "      <td id=\"T_f1a2e_row8_col4\" class=\"data row8 col4\" >765</td>\n",
       "      <td id=\"T_f1a2e_row8_col5\" class=\"data row8 col5\" >1326</td>\n",
       "      <td id=\"T_f1a2e_row8_col6\" class=\"data row8 col6\" >2120</td>\n",
       "      <td id=\"T_f1a2e_row8_col7\" class=\"data row8 col7\" >3672</td>\n",
       "    </tr>\n",
       "    <tr>\n",
       "      <th id=\"T_f1a2e_level0_row9\" class=\"row_heading level0 row9\" >Backed Tokens</th>\n",
       "      <td id=\"T_f1a2e_row9_col0\" class=\"data row9 col0\" >11</td>\n",
       "      <td id=\"T_f1a2e_row9_col1\" class=\"data row9 col1\" >1399</td>\n",
       "      <td id=\"T_f1a2e_row9_col2\" class=\"data row9 col2\" >161</td>\n",
       "      <td id=\"T_f1a2e_row9_col3\" class=\"data row9 col3\" >1104</td>\n",
       "      <td id=\"T_f1a2e_row9_col4\" class=\"data row9 col4\" >1330</td>\n",
       "      <td id=\"T_f1a2e_row9_col5\" class=\"data row9 col5\" >1476</td>\n",
       "      <td id=\"T_f1a2e_row9_col6\" class=\"data row9 col6\" >1505</td>\n",
       "      <td id=\"T_f1a2e_row9_col7\" class=\"data row9 col7\" >1534</td>\n",
       "    </tr>\n",
       "    <tr>\n",
       "      <th id=\"T_f1a2e_level0_row10\" class=\"row_heading level0 row10\" >Healthcare</th>\n",
       "      <td id=\"T_f1a2e_row10_col0\" class=\"data row10 col0\" >9</td>\n",
       "      <td id=\"T_f1a2e_row10_col1\" class=\"data row10 col1\" >1381</td>\n",
       "      <td id=\"T_f1a2e_row10_col2\" class=\"data row10 col2\" >808</td>\n",
       "      <td id=\"T_f1a2e_row10_col3\" class=\"data row10 col3\" >85</td>\n",
       "      <td id=\"T_f1a2e_row10_col4\" class=\"data row10 col4\" >879</td>\n",
       "      <td id=\"T_f1a2e_row10_col5\" class=\"data row10 col5\" >1534</td>\n",
       "      <td id=\"T_f1a2e_row10_col6\" class=\"data row10 col6\" >1936</td>\n",
       "      <td id=\"T_f1a2e_row10_col7\" class=\"data row10 col7\" >2390</td>\n",
       "    </tr>\n",
       "    <tr>\n",
       "      <th id=\"T_f1a2e_level0_row11\" class=\"row_heading level0 row11\" >CEX</th>\n",
       "      <td id=\"T_f1a2e_row11_col0\" class=\"data row11 col0\" >19</td>\n",
       "      <td id=\"T_f1a2e_row11_col1\" class=\"data row11 col1\" >1361</td>\n",
       "      <td id=\"T_f1a2e_row11_col2\" class=\"data row11 col2\" >606</td>\n",
       "      <td id=\"T_f1a2e_row11_col3\" class=\"data row11 col3\" >175</td>\n",
       "      <td id=\"T_f1a2e_row11_col4\" class=\"data row11 col4\" >967</td>\n",
       "      <td id=\"T_f1a2e_row11_col5\" class=\"data row11 col5\" >1534</td>\n",
       "      <td id=\"T_f1a2e_row11_col6\" class=\"data row11 col6\" >1706</td>\n",
       "      <td id=\"T_f1a2e_row11_col7\" class=\"data row11 col7\" >2316</td>\n",
       "    </tr>\n",
       "    <tr>\n",
       "      <th id=\"T_f1a2e_level0_row12\" class=\"row_heading level0 row12\" >Polkadot Ecosystem</th>\n",
       "      <td id=\"T_f1a2e_row12_col0\" class=\"data row12 col0\" >13</td>\n",
       "      <td id=\"T_f1a2e_row12_col1\" class=\"data row12 col1\" >1297</td>\n",
       "      <td id=\"T_f1a2e_row12_col2\" class=\"data row12 col2\" >305</td>\n",
       "      <td id=\"T_f1a2e_row12_col3\" class=\"data row12 col3\" >871</td>\n",
       "      <td id=\"T_f1a2e_row12_col4\" class=\"data row12 col4\" >1068</td>\n",
       "      <td id=\"T_f1a2e_row12_col5\" class=\"data row12 col5\" >1289</td>\n",
       "      <td id=\"T_f1a2e_row12_col6\" class=\"data row12 col6\" >1428</td>\n",
       "      <td id=\"T_f1a2e_row12_col7\" class=\"data row12 col7\" >2042</td>\n",
       "    </tr>\n",
       "    <tr>\n",
       "      <th id=\"T_f1a2e_level0_row13\" class=\"row_heading level0 row13\" >Oracle</th>\n",
       "      <td id=\"T_f1a2e_row13_col0\" class=\"data row13 col0\" >24</td>\n",
       "      <td id=\"T_f1a2e_row13_col1\" class=\"data row13 col1\" >1251</td>\n",
       "      <td id=\"T_f1a2e_row13_col2\" class=\"data row13 col2\" >512</td>\n",
       "      <td id=\"T_f1a2e_row13_col3\" class=\"data row13 col3\" >98</td>\n",
       "      <td id=\"T_f1a2e_row13_col4\" class=\"data row13 col4\" >1055</td>\n",
       "      <td id=\"T_f1a2e_row13_col5\" class=\"data row13 col5\" >1114</td>\n",
       "      <td id=\"T_f1a2e_row13_col6\" class=\"data row13 col6\" >1328</td>\n",
       "      <td id=\"T_f1a2e_row13_col7\" class=\"data row13 col7\" >2503</td>\n",
       "    </tr>\n",
       "    <tr>\n",
       "      <th id=\"T_f1a2e_level0_row14\" class=\"row_heading level0 row14\" >Gate.io Launchpad</th>\n",
       "      <td id=\"T_f1a2e_row14_col0\" class=\"data row14 col0\" >11</td>\n",
       "      <td id=\"T_f1a2e_row14_col1\" class=\"data row14 col1\" >1193</td>\n",
       "      <td id=\"T_f1a2e_row14_col2\" class=\"data row14 col2\" >206</td>\n",
       "      <td id=\"T_f1a2e_row14_col3\" class=\"data row14 col3\" >907</td>\n",
       "      <td id=\"T_f1a2e_row14_col4\" class=\"data row14 col4\" >1074</td>\n",
       "      <td id=\"T_f1a2e_row14_col5\" class=\"data row14 col5\" >1106</td>\n",
       "      <td id=\"T_f1a2e_row14_col6\" class=\"data row14 col6\" >1302</td>\n",
       "      <td id=\"T_f1a2e_row14_col7\" class=\"data row14 col7\" >1534</td>\n",
       "    </tr>\n",
       "    <tr>\n",
       "      <th id=\"T_f1a2e_level0_row15\" class=\"row_heading level0 row15\" >Infrastructure</th>\n",
       "      <td id=\"T_f1a2e_row15_col0\" class=\"data row15 col0\" >35</td>\n",
       "      <td id=\"T_f1a2e_row15_col1\" class=\"data row15 col1\" >1125</td>\n",
       "      <td id=\"T_f1a2e_row15_col2\" class=\"data row15 col2\" >591</td>\n",
       "      <td id=\"T_f1a2e_row15_col3\" class=\"data row15 col3\" >19</td>\n",
       "      <td id=\"T_f1a2e_row15_col4\" class=\"data row15 col4\" >836</td>\n",
       "      <td id=\"T_f1a2e_row15_col5\" class=\"data row15 col5\" >1071</td>\n",
       "      <td id=\"T_f1a2e_row15_col6\" class=\"data row15 col6\" >1508</td>\n",
       "      <td id=\"T_f1a2e_row15_col7\" class=\"data row15 col7\" >2774</td>\n",
       "    </tr>\n",
       "    <tr>\n",
       "      <th id=\"T_f1a2e_level0_row16\" class=\"row_heading level0 row16\" >Entertainment</th>\n",
       "      <td id=\"T_f1a2e_row16_col0\" class=\"data row16 col0\" >8</td>\n",
       "      <td id=\"T_f1a2e_row16_col1\" class=\"data row16 col1\" >1107</td>\n",
       "      <td id=\"T_f1a2e_row16_col2\" class=\"data row16 col2\" >436</td>\n",
       "      <td id=\"T_f1a2e_row16_col3\" class=\"data row16 col3\" >493</td>\n",
       "      <td id=\"T_f1a2e_row16_col4\" class=\"data row16 col4\" >832</td>\n",
       "      <td id=\"T_f1a2e_row16_col5\" class=\"data row16 col5\" >972</td>\n",
       "      <td id=\"T_f1a2e_row16_col6\" class=\"data row16 col6\" >1479</td>\n",
       "      <td id=\"T_f1a2e_row16_col7\" class=\"data row16 col7\" >1706</td>\n",
       "    </tr>\n",
       "    <tr>\n",
       "      <th id=\"T_f1a2e_level0_row17\" class=\"row_heading level0 row17\" >Stablecoin</th>\n",
       "      <td id=\"T_f1a2e_row17_col0\" class=\"data row17 col0\" >36</td>\n",
       "      <td id=\"T_f1a2e_row17_col1\" class=\"data row17 col1\" >1092</td>\n",
       "      <td id=\"T_f1a2e_row17_col2\" class=\"data row17 col2\" >807</td>\n",
       "      <td id=\"T_f1a2e_row17_col3\" class=\"data row17 col3\" >28</td>\n",
       "      <td id=\"T_f1a2e_row17_col4\" class=\"data row17 col4\" >486</td>\n",
       "      <td id=\"T_f1a2e_row17_col5\" class=\"data row17 col5\" >1073</td>\n",
       "      <td id=\"T_f1a2e_row17_col6\" class=\"data row17 col6\" >1621</td>\n",
       "      <td id=\"T_f1a2e_row17_col7\" class=\"data row17 col7\" >3288</td>\n",
       "    </tr>\n",
       "    <tr>\n",
       "      <th id=\"T_f1a2e_level0_row18\" class=\"row_heading level0 row18\" >Protocol</th>\n",
       "      <td id=\"T_f1a2e_row18_col0\" class=\"data row18 col0\" >26</td>\n",
       "      <td id=\"T_f1a2e_row18_col1\" class=\"data row18 col1\" >1083</td>\n",
       "      <td id=\"T_f1a2e_row18_col2\" class=\"data row18 col2\" >668</td>\n",
       "      <td id=\"T_f1a2e_row18_col3\" class=\"data row18 col3\" >21</td>\n",
       "      <td id=\"T_f1a2e_row18_col4\" class=\"data row18 col4\" >622</td>\n",
       "      <td id=\"T_f1a2e_row18_col5\" class=\"data row18 col5\" >832</td>\n",
       "      <td id=\"T_f1a2e_row18_col6\" class=\"data row18 col6\" >1476</td>\n",
       "      <td id=\"T_f1a2e_row18_col7\" class=\"data row18 col7\" >2251</td>\n",
       "    </tr>\n",
       "    <tr>\n",
       "      <th id=\"T_f1a2e_level0_row19\" class=\"row_heading level0 row19\" >Ignition IDO</th>\n",
       "      <td id=\"T_f1a2e_row19_col0\" class=\"data row19 col0\" >9</td>\n",
       "      <td id=\"T_f1a2e_row19_col1\" class=\"data row19 col1\" >1060</td>\n",
       "      <td id=\"T_f1a2e_row19_col2\" class=\"data row19 col2\" >186</td>\n",
       "      <td id=\"T_f1a2e_row19_col3\" class=\"data row19 col3\" >867</td>\n",
       "      <td id=\"T_f1a2e_row19_col4\" class=\"data row19 col4\" >997</td>\n",
       "      <td id=\"T_f1a2e_row19_col5\" class=\"data row19 col5\" >1033</td>\n",
       "      <td id=\"T_f1a2e_row19_col6\" class=\"data row19 col6\" >1038</td>\n",
       "      <td id=\"T_f1a2e_row19_col7\" class=\"data row19 col7\" >1534</td>\n",
       "    </tr>\n",
       "    <tr>\n",
       "      <th id=\"T_f1a2e_level0_row20\" class=\"row_heading level0 row20\" >DuckStarter IDO</th>\n",
       "      <td id=\"T_f1a2e_row20_col0\" class=\"data row20 col0\" >7</td>\n",
       "      <td id=\"T_f1a2e_row20_col1\" class=\"data row20 col1\" >1047</td>\n",
       "      <td id=\"T_f1a2e_row20_col2\" class=\"data row20 col2\" >22</td>\n",
       "      <td id=\"T_f1a2e_row20_col3\" class=\"data row20 col3\" >1017</td>\n",
       "      <td id=\"T_f1a2e_row20_col4\" class=\"data row20 col4\" >1034</td>\n",
       "      <td id=\"T_f1a2e_row20_col5\" class=\"data row20 col5\" >1049</td>\n",
       "      <td id=\"T_f1a2e_row20_col6\" class=\"data row20 col6\" >1058</td>\n",
       "      <td id=\"T_f1a2e_row20_col7\" class=\"data row20 col7\" >1081</td>\n",
       "    </tr>\n",
       "    <tr>\n",
       "      <th id=\"T_f1a2e_level0_row21\" class=\"row_heading level0 row21\" >Polkastarter IDO</th>\n",
       "      <td id=\"T_f1a2e_row21_col0\" class=\"data row21 col0\" >11</td>\n",
       "      <td id=\"T_f1a2e_row21_col1\" class=\"data row21 col1\" >1040</td>\n",
       "      <td id=\"T_f1a2e_row21_col2\" class=\"data row21 col2\" >57</td>\n",
       "      <td id=\"T_f1a2e_row21_col3\" class=\"data row21 col3\" >908</td>\n",
       "      <td id=\"T_f1a2e_row21_col4\" class=\"data row21 col4\" >1014</td>\n",
       "      <td id=\"T_f1a2e_row21_col5\" class=\"data row21 col5\" >1040</td>\n",
       "      <td id=\"T_f1a2e_row21_col6\" class=\"data row21 col6\" >1084</td>\n",
       "      <td id=\"T_f1a2e_row21_col7\" class=\"data row21 col7\" >1112</td>\n",
       "    </tr>\n",
       "    <tr>\n",
       "      <th id=\"T_f1a2e_level0_row22\" class=\"row_heading level0 row22\" >Sport</th>\n",
       "      <td id=\"T_f1a2e_row22_col0\" class=\"data row22 col0\" >35</td>\n",
       "      <td id=\"T_f1a2e_row22_col1\" class=\"data row22 col1\" >1039</td>\n",
       "      <td id=\"T_f1a2e_row22_col2\" class=\"data row22 col2\" >238</td>\n",
       "      <td id=\"T_f1a2e_row22_col3\" class=\"data row22 col3\" >635</td>\n",
       "      <td id=\"T_f1a2e_row22_col4\" class=\"data row22 col4\" >877</td>\n",
       "      <td id=\"T_f1a2e_row22_col5\" class=\"data row22 col5\" >962</td>\n",
       "      <td id=\"T_f1a2e_row22_col6\" class=\"data row22 col6\" >1166</td>\n",
       "      <td id=\"T_f1a2e_row22_col7\" class=\"data row22 col7\" >1701</td>\n",
       "    </tr>\n",
       "    <tr>\n",
       "      <th id=\"T_f1a2e_level0_row23\" class=\"row_heading level0 row23\" >Governance</th>\n",
       "      <td id=\"T_f1a2e_row23_col0\" class=\"data row23 col0\" >7</td>\n",
       "      <td id=\"T_f1a2e_row23_col1\" class=\"data row23 col1\" >1022</td>\n",
       "      <td id=\"T_f1a2e_row23_col2\" class=\"data row23 col2\" >946</td>\n",
       "      <td id=\"T_f1a2e_row23_col3\" class=\"data row23 col3\" >96</td>\n",
       "      <td id=\"T_f1a2e_row23_col4\" class=\"data row23 col4\" >423</td>\n",
       "      <td id=\"T_f1a2e_row23_col5\" class=\"data row23 col5\" >959</td>\n",
       "      <td id=\"T_f1a2e_row23_col6\" class=\"data row23 col6\" >1156</td>\n",
       "      <td id=\"T_f1a2e_row23_col7\" class=\"data row23 col7\" >2938</td>\n",
       "    </tr>\n",
       "    <tr>\n",
       "      <th id=\"T_f1a2e_level0_row24\" class=\"row_heading level0 row24\" >Avalanche Ecosystem</th>\n",
       "      <td id=\"T_f1a2e_row24_col0\" class=\"data row24 col0\" >10</td>\n",
       "      <td id=\"T_f1a2e_row24_col1\" class=\"data row24 col1\" >1009</td>\n",
       "      <td id=\"T_f1a2e_row24_col2\" class=\"data row24 col2\" >622</td>\n",
       "      <td id=\"T_f1a2e_row24_col3\" class=\"data row24 col3\" >32</td>\n",
       "      <td id=\"T_f1a2e_row24_col4\" class=\"data row24 col4\" >864</td>\n",
       "      <td id=\"T_f1a2e_row24_col5\" class=\"data row24 col5\" >900</td>\n",
       "      <td id=\"T_f1a2e_row24_col6\" class=\"data row24 col6\" >1040</td>\n",
       "      <td id=\"T_f1a2e_row24_col7\" class=\"data row24 col7\" >2555</td>\n",
       "    </tr>\n",
       "    <tr>\n",
       "      <th id=\"T_f1a2e_level0_row25\" class=\"row_heading level0 row25\" >DeFi</th>\n",
       "      <td id=\"T_f1a2e_row25_col0\" class=\"data row25 col0\" >267</td>\n",
       "      <td id=\"T_f1a2e_row25_col1\" class=\"data row25 col1\" >1002</td>\n",
       "      <td id=\"T_f1a2e_row25_col2\" class=\"data row25 col2\" >456</td>\n",
       "      <td id=\"T_f1a2e_row25_col3\" class=\"data row25 col3\" >18</td>\n",
       "      <td id=\"T_f1a2e_row25_col4\" class=\"data row25 col4\" >809</td>\n",
       "      <td id=\"T_f1a2e_row25_col5\" class=\"data row25 col5\" >1032</td>\n",
       "      <td id=\"T_f1a2e_row25_col6\" class=\"data row25 col6\" >1224</td>\n",
       "      <td id=\"T_f1a2e_row25_col7\" class=\"data row25 col7\" >3321</td>\n",
       "    </tr>\n",
       "    <tr>\n",
       "      <th id=\"T_f1a2e_level0_row26\" class=\"row_heading level0 row26\" >DAO</th>\n",
       "      <td id=\"T_f1a2e_row26_col0\" class=\"data row26 col0\" >17</td>\n",
       "      <td id=\"T_f1a2e_row26_col1\" class=\"data row26 col1\" >989</td>\n",
       "      <td id=\"T_f1a2e_row26_col2\" class=\"data row26 col2\" >252</td>\n",
       "      <td id=\"T_f1a2e_row26_col3\" class=\"data row26 col3\" >714</td>\n",
       "      <td id=\"T_f1a2e_row26_col4\" class=\"data row26 col4\" >799</td>\n",
       "      <td id=\"T_f1a2e_row26_col5\" class=\"data row26 col5\" >917</td>\n",
       "      <td id=\"T_f1a2e_row26_col6\" class=\"data row26 col6\" >1046</td>\n",
       "      <td id=\"T_f1a2e_row26_col7\" class=\"data row26 col7\" >1707</td>\n",
       "    </tr>\n",
       "    <tr>\n",
       "      <th id=\"T_f1a2e_level0_row27\" class=\"row_heading level0 row27\" >Polygon Ecosystem</th>\n",
       "      <td id=\"T_f1a2e_row27_col0\" class=\"data row27 col0\" >39</td>\n",
       "      <td id=\"T_f1a2e_row27_col1\" class=\"data row27 col1\" >965</td>\n",
       "      <td id=\"T_f1a2e_row27_col2\" class=\"data row27 col2\" >564</td>\n",
       "      <td id=\"T_f1a2e_row27_col3\" class=\"data row27 col3\" >27</td>\n",
       "      <td id=\"T_f1a2e_row27_col4\" class=\"data row27 col4\" >744</td>\n",
       "      <td id=\"T_f1a2e_row27_col5\" class=\"data row27 col5\" >1039</td>\n",
       "      <td id=\"T_f1a2e_row27_col6\" class=\"data row27 col6\" >1133</td>\n",
       "      <td id=\"T_f1a2e_row27_col7\" class=\"data row27 col7\" >2656</td>\n",
       "    </tr>\n",
       "    <tr>\n",
       "      <th id=\"T_f1a2e_level0_row28\" class=\"row_heading level0 row28\" >BSCPad IDO</th>\n",
       "      <td id=\"T_f1a2e_row28_col0\" class=\"data row28 col0\" >9</td>\n",
       "      <td id=\"T_f1a2e_row28_col1\" class=\"data row28 col1\" >958</td>\n",
       "      <td id=\"T_f1a2e_row28_col2\" class=\"data row28 col2\" >78</td>\n",
       "      <td id=\"T_f1a2e_row28_col3\" class=\"data row28 col3\" >838</td>\n",
       "      <td id=\"T_f1a2e_row28_col4\" class=\"data row28 col4\" >902</td>\n",
       "      <td id=\"T_f1a2e_row28_col5\" class=\"data row28 col5\" >959</td>\n",
       "      <td id=\"T_f1a2e_row28_col6\" class=\"data row28 col6\" >1027</td>\n",
       "      <td id=\"T_f1a2e_row28_col7\" class=\"data row28 col7\" >1081</td>\n",
       "    </tr>\n",
       "    <tr>\n",
       "      <th id=\"T_f1a2e_level0_row29\" class=\"row_heading level0 row29\" >Yield Farming</th>\n",
       "      <td id=\"T_f1a2e_row29_col0\" class=\"data row29 col0\" >30</td>\n",
       "      <td id=\"T_f1a2e_row29_col1\" class=\"data row29 col1\" >951</td>\n",
       "      <td id=\"T_f1a2e_row29_col2\" class=\"data row29 col2\" >373</td>\n",
       "      <td id=\"T_f1a2e_row29_col3\" class=\"data row29 col3\" >26</td>\n",
       "      <td id=\"T_f1a2e_row29_col4\" class=\"data row29 col4\" >883</td>\n",
       "      <td id=\"T_f1a2e_row29_col5\" class=\"data row29 col5\" >1074</td>\n",
       "      <td id=\"T_f1a2e_row29_col6\" class=\"data row29 col6\" >1210</td>\n",
       "      <td id=\"T_f1a2e_row29_col7\" class=\"data row29 col7\" >1365</td>\n",
       "    </tr>\n",
       "    <tr>\n",
       "      <th id=\"T_f1a2e_level0_row30\" class=\"row_heading level0 row30\" >Wallet</th>\n",
       "      <td id=\"T_f1a2e_row30_col0\" class=\"data row30 col0\" >16</td>\n",
       "      <td id=\"T_f1a2e_row30_col1\" class=\"data row30 col1\" >946</td>\n",
       "      <td id=\"T_f1a2e_row30_col2\" class=\"data row30 col2\" >497</td>\n",
       "      <td id=\"T_f1a2e_row30_col3\" class=\"data row30 col3\" >115</td>\n",
       "      <td id=\"T_f1a2e_row30_col4\" class=\"data row30 col4\" >730</td>\n",
       "      <td id=\"T_f1a2e_row30_col5\" class=\"data row30 col5\" >966</td>\n",
       "      <td id=\"T_f1a2e_row30_col6\" class=\"data row30 col6\" >1131</td>\n",
       "      <td id=\"T_f1a2e_row30_col7\" class=\"data row30 col7\" >2250</td>\n",
       "    </tr>\n",
       "    <tr>\n",
       "      <th id=\"T_f1a2e_level0_row31\" class=\"row_heading level0 row31\" >Lending Platform</th>\n",
       "      <td id=\"T_f1a2e_row31_col0\" class=\"data row31 col0\" >16</td>\n",
       "      <td id=\"T_f1a2e_row31_col1\" class=\"data row31 col1\" >911</td>\n",
       "      <td id=\"T_f1a2e_row31_col2\" class=\"data row31 col2\" >385</td>\n",
       "      <td id=\"T_f1a2e_row31_col3\" class=\"data row31 col3\" >370</td>\n",
       "      <td id=\"T_f1a2e_row31_col4\" class=\"data row31 col4\" >815</td>\n",
       "      <td id=\"T_f1a2e_row31_col5\" class=\"data row31 col5\" >879</td>\n",
       "      <td id=\"T_f1a2e_row31_col6\" class=\"data row31 col6\" >940</td>\n",
       "      <td id=\"T_f1a2e_row31_col7\" class=\"data row31 col7\" >2125</td>\n",
       "    </tr>\n",
       "    <tr>\n",
       "      <th id=\"T_f1a2e_level0_row32\" class=\"row_heading level0 row32\" >Metaverse</th>\n",
       "      <td id=\"T_f1a2e_row32_col0\" class=\"data row32 col0\" >21</td>\n",
       "      <td id=\"T_f1a2e_row32_col1\" class=\"data row32 col1\" >898</td>\n",
       "      <td id=\"T_f1a2e_row32_col2\" class=\"data row32 col2\" >646</td>\n",
       "      <td id=\"T_f1a2e_row32_col3\" class=\"data row32 col3\" >123</td>\n",
       "      <td id=\"T_f1a2e_row32_col4\" class=\"data row32 col4\" >517</td>\n",
       "      <td id=\"T_f1a2e_row32_col5\" class=\"data row32 col5\" >810</td>\n",
       "      <td id=\"T_f1a2e_row32_col6\" class=\"data row32 col6\" >970</td>\n",
       "      <td id=\"T_f1a2e_row32_col7\" class=\"data row32 col7\" >2353</td>\n",
       "    </tr>\n",
       "    <tr>\n",
       "      <th id=\"T_f1a2e_level0_row33\" class=\"row_heading level0 row33\" >Fan Token</th>\n",
       "      <td id=\"T_f1a2e_row33_col0\" class=\"data row33 col0\" >27</td>\n",
       "      <td id=\"T_f1a2e_row33_col1\" class=\"data row33 col1\" >883</td>\n",
       "      <td id=\"T_f1a2e_row33_col2\" class=\"data row33 col2\" >153</td>\n",
       "      <td id=\"T_f1a2e_row33_col3\" class=\"data row33 col3\" >517</td>\n",
       "      <td id=\"T_f1a2e_row33_col4\" class=\"data row33 col4\" >812</td>\n",
       "      <td id=\"T_f1a2e_row33_col5\" class=\"data row33 col5\" >882</td>\n",
       "      <td id=\"T_f1a2e_row33_col6\" class=\"data row33 col6\" >928</td>\n",
       "      <td id=\"T_f1a2e_row33_col7\" class=\"data row33 col7\" >1206</td>\n",
       "    </tr>\n",
       "    <tr>\n",
       "      <th id=\"T_f1a2e_level0_row34\" class=\"row_heading level0 row34\" >Play to Earn</th>\n",
       "      <td id=\"T_f1a2e_row34_col0\" class=\"data row34 col0\" >23</td>\n",
       "      <td id=\"T_f1a2e_row34_col1\" class=\"data row34 col1\" >877</td>\n",
       "      <td id=\"T_f1a2e_row34_col2\" class=\"data row34 col2\" >252</td>\n",
       "      <td id=\"T_f1a2e_row34_col3\" class=\"data row34 col3\" >383</td>\n",
       "      <td id=\"T_f1a2e_row34_col4\" class=\"data row34 col4\" >808</td>\n",
       "      <td id=\"T_f1a2e_row34_col5\" class=\"data row34 col5\" >864</td>\n",
       "      <td id=\"T_f1a2e_row34_col6\" class=\"data row34 col6\" >908</td>\n",
       "      <td id=\"T_f1a2e_row34_col7\" class=\"data row34 col7\" >1760</td>\n",
       "    </tr>\n",
       "    <tr>\n",
       "      <th id=\"T_f1a2e_level0_row35\" class=\"row_heading level0 row35\" >NFT</th>\n",
       "      <td id=\"T_f1a2e_row35_col0\" class=\"data row35 col0\" >118</td>\n",
       "      <td id=\"T_f1a2e_row35_col1\" class=\"data row35 col1\" >872</td>\n",
       "      <td id=\"T_f1a2e_row35_col2\" class=\"data row35 col2\" >355</td>\n",
       "      <td id=\"T_f1a2e_row35_col3\" class=\"data row35 col3\" >95</td>\n",
       "      <td id=\"T_f1a2e_row35_col4\" class=\"data row35 col4\" >777</td>\n",
       "      <td id=\"T_f1a2e_row35_col5\" class=\"data row35 col5\" >889</td>\n",
       "      <td id=\"T_f1a2e_row35_col6\" class=\"data row35 col6\" >1069</td>\n",
       "      <td id=\"T_f1a2e_row35_col7\" class=\"data row35 col7\" >2258</td>\n",
       "    </tr>\n",
       "    <tr>\n",
       "      <th id=\"T_f1a2e_level0_row36\" class=\"row_heading level0 row36\" >Blockchain Service</th>\n",
       "      <td id=\"T_f1a2e_row36_col0\" class=\"data row36 col0\" >20</td>\n",
       "      <td id=\"T_f1a2e_row36_col1\" class=\"data row36 col1\" >858</td>\n",
       "      <td id=\"T_f1a2e_row36_col2\" class=\"data row36 col2\" >690</td>\n",
       "      <td id=\"T_f1a2e_row36_col3\" class=\"data row36 col3\" >27</td>\n",
       "      <td id=\"T_f1a2e_row36_col4\" class=\"data row36 col4\" >219</td>\n",
       "      <td id=\"T_f1a2e_row36_col5\" class=\"data row36 col5\" >758</td>\n",
       "      <td id=\"T_f1a2e_row36_col6\" class=\"data row36 col6\" >1286</td>\n",
       "      <td id=\"T_f1a2e_row36_col7\" class=\"data row36 col7\" >2237</td>\n",
       "    </tr>\n",
       "    <tr>\n",
       "      <th id=\"T_f1a2e_level0_row37\" class=\"row_heading level0 row37\" >Solana Ecosystem</th>\n",
       "      <td id=\"T_f1a2e_row37_col0\" class=\"data row37 col0\" >18</td>\n",
       "      <td id=\"T_f1a2e_row37_col1\" class=\"data row37 col1\" >852</td>\n",
       "      <td id=\"T_f1a2e_row37_col2\" class=\"data row37 col2\" >292</td>\n",
       "      <td id=\"T_f1a2e_row37_col3\" class=\"data row37 col3\" >39</td>\n",
       "      <td id=\"T_f1a2e_row37_col4\" class=\"data row37 col4\" >857</td>\n",
       "      <td id=\"T_f1a2e_row37_col5\" class=\"data row37 col5\" >920</td>\n",
       "      <td id=\"T_f1a2e_row37_col6\" class=\"data row37 col6\" >1010</td>\n",
       "      <td id=\"T_f1a2e_row37_col7\" class=\"data row37 col7\" >1120</td>\n",
       "    </tr>\n",
       "    <tr>\n",
       "      <th id=\"T_f1a2e_level0_row38\" class=\"row_heading level0 row38\" >Cryptocurrency</th>\n",
       "      <td id=\"T_f1a2e_row38_col0\" class=\"data row38 col0\" >53</td>\n",
       "      <td id=\"T_f1a2e_row38_col1\" class=\"data row38 col1\" >849</td>\n",
       "      <td id=\"T_f1a2e_row38_col2\" class=\"data row38 col2\" >638</td>\n",
       "      <td id=\"T_f1a2e_row38_col3\" class=\"data row38 col3\" >58</td>\n",
       "      <td id=\"T_f1a2e_row38_col4\" class=\"data row38 col4\" >739</td>\n",
       "      <td id=\"T_f1a2e_row38_col5\" class=\"data row38 col5\" >794</td>\n",
       "      <td id=\"T_f1a2e_row38_col6\" class=\"data row38 col6\" >831</td>\n",
       "      <td id=\"T_f1a2e_row38_col7\" class=\"data row38 col7\" >3858</td>\n",
       "    </tr>\n",
       "    <tr>\n",
       "      <th id=\"T_f1a2e_level0_row39\" class=\"row_heading level0 row39\" >BNB Chain Ecosystem</th>\n",
       "      <td id=\"T_f1a2e_row39_col0\" class=\"data row39 col0\" >31</td>\n",
       "      <td id=\"T_f1a2e_row39_col1\" class=\"data row39 col1\" >818</td>\n",
       "      <td id=\"T_f1a2e_row39_col2\" class=\"data row39 col2\" >513</td>\n",
       "      <td id=\"T_f1a2e_row39_col3\" class=\"data row39 col3\" >37</td>\n",
       "      <td id=\"T_f1a2e_row39_col4\" class=\"data row39 col4\" >500</td>\n",
       "      <td id=\"T_f1a2e_row39_col5\" class=\"data row39 col5\" >867</td>\n",
       "      <td id=\"T_f1a2e_row39_col6\" class=\"data row39 col6\" >1100</td>\n",
       "      <td id=\"T_f1a2e_row39_col7\" class=\"data row39 col7\" >2224</td>\n",
       "    </tr>\n",
       "    <tr>\n",
       "      <th id=\"T_f1a2e_level0_row40\" class=\"row_heading level0 row40\" >Gambling</th>\n",
       "      <td id=\"T_f1a2e_row40_col0\" class=\"data row40 col0\" >9</td>\n",
       "      <td id=\"T_f1a2e_row40_col1\" class=\"data row40 col1\" >793</td>\n",
       "      <td id=\"T_f1a2e_row40_col2\" class=\"data row40 col2\" >789</td>\n",
       "      <td id=\"T_f1a2e_row40_col3\" class=\"data row40 col3\" >45</td>\n",
       "      <td id=\"T_f1a2e_row40_col4\" class=\"data row40 col4\" >166</td>\n",
       "      <td id=\"T_f1a2e_row40_col5\" class=\"data row40 col5\" >578</td>\n",
       "      <td id=\"T_f1a2e_row40_col6\" class=\"data row40 col6\" >971</td>\n",
       "      <td id=\"T_f1a2e_row40_col7\" class=\"data row40 col7\" >2435</td>\n",
       "    </tr>\n",
       "    <tr>\n",
       "      <th id=\"T_f1a2e_level0_row41\" class=\"row_heading level0 row41\" >Social</th>\n",
       "      <td id=\"T_f1a2e_row41_col0\" class=\"data row41 col0\" >23</td>\n",
       "      <td id=\"T_f1a2e_row41_col1\" class=\"data row41 col1\" >790</td>\n",
       "      <td id=\"T_f1a2e_row41_col2\" class=\"data row41 col2\" >668</td>\n",
       "      <td id=\"T_f1a2e_row41_col3\" class=\"data row41 col3\" >90</td>\n",
       "      <td id=\"T_f1a2e_row41_col4\" class=\"data row41 col4\" >184</td>\n",
       "      <td id=\"T_f1a2e_row41_col5\" class=\"data row41 col5\" >612</td>\n",
       "      <td id=\"T_f1a2e_row41_col6\" class=\"data row41 col6\" >1384</td>\n",
       "      <td id=\"T_f1a2e_row41_col7\" class=\"data row41 col7\" >2343</td>\n",
       "    </tr>\n",
       "    <tr>\n",
       "      <th id=\"T_f1a2e_level0_row42\" class=\"row_heading level0 row42\" >Launchpad</th>\n",
       "      <td id=\"T_f1a2e_row42_col0\" class=\"data row42 col0\" >29</td>\n",
       "      <td id=\"T_f1a2e_row42_col1\" class=\"data row42 col1\" >775</td>\n",
       "      <td id=\"T_f1a2e_row42_col2\" class=\"data row42 col2\" >399</td>\n",
       "      <td id=\"T_f1a2e_row42_col3\" class=\"data row42 col3\" >21</td>\n",
       "      <td id=\"T_f1a2e_row42_col4\" class=\"data row42 col4\" >362</td>\n",
       "      <td id=\"T_f1a2e_row42_col5\" class=\"data row42 col5\" >944</td>\n",
       "      <td id=\"T_f1a2e_row42_col6\" class=\"data row42 col6\" >1004</td>\n",
       "      <td id=\"T_f1a2e_row42_col7\" class=\"data row42 col7\" >1287</td>\n",
       "    </tr>\n",
       "    <tr>\n",
       "      <th id=\"T_f1a2e_level0_row43\" class=\"row_heading level0 row43\" >Gaming</th>\n",
       "      <td id=\"T_f1a2e_row43_col0\" class=\"data row43 col0\" >154</td>\n",
       "      <td id=\"T_f1a2e_row43_col1\" class=\"data row43 col1\" >762</td>\n",
       "      <td id=\"T_f1a2e_row43_col2\" class=\"data row43 col2\" >460</td>\n",
       "      <td id=\"T_f1a2e_row43_col3\" class=\"data row43 col3\" >19</td>\n",
       "      <td id=\"T_f1a2e_row43_col4\" class=\"data row43 col4\" >564</td>\n",
       "      <td id=\"T_f1a2e_row43_col5\" class=\"data row43 col5\" >797</td>\n",
       "      <td id=\"T_f1a2e_row43_col6\" class=\"data row43 col6\" >921</td>\n",
       "      <td id=\"T_f1a2e_row43_col7\" class=\"data row43 col7\" >3465</td>\n",
       "    </tr>\n",
       "    <tr>\n",
       "      <th id=\"T_f1a2e_level0_row44\" class=\"row_heading level0 row44\" >AMM</th>\n",
       "      <td id=\"T_f1a2e_row44_col0\" class=\"data row44 col0\" >9</td>\n",
       "      <td id=\"T_f1a2e_row44_col1\" class=\"data row44 col1\" >760</td>\n",
       "      <td id=\"T_f1a2e_row44_col2\" class=\"data row44 col2\" >255</td>\n",
       "      <td id=\"T_f1a2e_row44_col3\" class=\"data row44 col3\" >173</td>\n",
       "      <td id=\"T_f1a2e_row44_col4\" class=\"data row44 col4\" >692</td>\n",
       "      <td id=\"T_f1a2e_row44_col5\" class=\"data row44 col5\" >798</td>\n",
       "      <td id=\"T_f1a2e_row44_col6\" class=\"data row44 col6\" >961</td>\n",
       "      <td id=\"T_f1a2e_row44_col7\" class=\"data row44 col7\" >1028</td>\n",
       "    </tr>\n",
       "    <tr>\n",
       "      <th id=\"T_f1a2e_level0_row45\" class=\"row_heading level0 row45\" >DEX</th>\n",
       "      <td id=\"T_f1a2e_row45_col0\" class=\"data row45 col0\" >61</td>\n",
       "      <td id=\"T_f1a2e_row45_col1\" class=\"data row45 col1\" >746</td>\n",
       "      <td id=\"T_f1a2e_row45_col2\" class=\"data row45 col2\" >434</td>\n",
       "      <td id=\"T_f1a2e_row45_col3\" class=\"data row45 col3\" >77</td>\n",
       "      <td id=\"T_f1a2e_row45_col4\" class=\"data row45 col4\" >378</td>\n",
       "      <td id=\"T_f1a2e_row45_col5\" class=\"data row45 col5\" >780</td>\n",
       "      <td id=\"T_f1a2e_row45_col6\" class=\"data row45 col6\" >1018</td>\n",
       "      <td id=\"T_f1a2e_row45_col7\" class=\"data row45 col7\" >2049</td>\n",
       "    </tr>\n",
       "    <tr>\n",
       "      <th id=\"T_f1a2e_level0_row46\" class=\"row_heading level0 row46\" >Layer-2</th>\n",
       "      <td id=\"T_f1a2e_row46_col0\" class=\"data row46 col0\" >8</td>\n",
       "      <td id=\"T_f1a2e_row46_col1\" class=\"data row46 col1\" >693</td>\n",
       "      <td id=\"T_f1a2e_row46_col2\" class=\"data row46 col2\" >684</td>\n",
       "      <td id=\"T_f1a2e_row46_col3\" class=\"data row46 col3\" >93</td>\n",
       "      <td id=\"T_f1a2e_row46_col4\" class=\"data row46 col4\" >231</td>\n",
       "      <td id=\"T_f1a2e_row46_col5\" class=\"data row46 col5\" >339</td>\n",
       "      <td id=\"T_f1a2e_row46_col6\" class=\"data row46 col6\" >1044</td>\n",
       "      <td id=\"T_f1a2e_row46_col7\" class=\"data row46 col7\" >1799</td>\n",
       "    </tr>\n",
       "    <tr>\n",
       "      <th id=\"T_f1a2e_level0_row47\" class=\"row_heading level0 row47\" >Liquid Staking</th>\n",
       "      <td id=\"T_f1a2e_row47_col0\" class=\"data row47 col0\" >7</td>\n",
       "      <td id=\"T_f1a2e_row47_col1\" class=\"data row47 col1\" >580</td>\n",
       "      <td id=\"T_f1a2e_row47_col2\" class=\"data row47 col2\" >338</td>\n",
       "      <td id=\"T_f1a2e_row47_col3\" class=\"data row47 col3\" >81</td>\n",
       "      <td id=\"T_f1a2e_row47_col4\" class=\"data row47 col4\" >376</td>\n",
       "      <td id=\"T_f1a2e_row47_col5\" class=\"data row47 col5\" >713</td>\n",
       "      <td id=\"T_f1a2e_row47_col6\" class=\"data row47 col6\" >795</td>\n",
       "      <td id=\"T_f1a2e_row47_col7\" class=\"data row47 col7\" >921</td>\n",
       "    </tr>\n",
       "    <tr>\n",
       "      <th id=\"T_f1a2e_level0_row48\" class=\"row_heading level0 row48\" >Web 3.0</th>\n",
       "      <td id=\"T_f1a2e_row48_col0\" class=\"data row48 col0\" >17</td>\n",
       "      <td id=\"T_f1a2e_row48_col1\" class=\"data row48 col1\" >526</td>\n",
       "      <td id=\"T_f1a2e_row48_col2\" class=\"data row48 col2\" >608</td>\n",
       "      <td id=\"T_f1a2e_row48_col3\" class=\"data row48 col3\" >46</td>\n",
       "      <td id=\"T_f1a2e_row48_col4\" class=\"data row48 col4\" >82</td>\n",
       "      <td id=\"T_f1a2e_row48_col5\" class=\"data row48 col5\" >96</td>\n",
       "      <td id=\"T_f1a2e_row48_col6\" class=\"data row48 col6\" >783</td>\n",
       "      <td id=\"T_f1a2e_row48_col7\" class=\"data row48 col7\" >2233</td>\n",
       "    </tr>\n",
       "    <tr>\n",
       "      <th id=\"T_f1a2e_level0_row49\" class=\"row_heading level0 row49\" >Artificial Intelligence (AI)</th>\n",
       "      <td id=\"T_f1a2e_row49_col0\" class=\"data row49 col0\" >22</td>\n",
       "      <td id=\"T_f1a2e_row49_col1\" class=\"data row49 col1\" >523</td>\n",
       "      <td id=\"T_f1a2e_row49_col2\" class=\"data row49 col2\" >674</td>\n",
       "      <td id=\"T_f1a2e_row49_col3\" class=\"data row49 col3\" >32</td>\n",
       "      <td id=\"T_f1a2e_row49_col4\" class=\"data row49 col4\" >114</td>\n",
       "      <td id=\"T_f1a2e_row49_col5\" class=\"data row49 col5\" >254</td>\n",
       "      <td id=\"T_f1a2e_row49_col6\" class=\"data row49 col6\" >387</td>\n",
       "      <td id=\"T_f1a2e_row49_col7\" class=\"data row49 col7\" >2251</td>\n",
       "    </tr>\n",
       "    <tr>\n",
       "      <th id=\"T_f1a2e_level0_row50\" class=\"row_heading level0 row50\" >Arbitrum Ecosystem</th>\n",
       "      <td id=\"T_f1a2e_row50_col0\" class=\"data row50 col0\" >10</td>\n",
       "      <td id=\"T_f1a2e_row50_col1\" class=\"data row50 col1\" >492</td>\n",
       "      <td id=\"T_f1a2e_row50_col2\" class=\"data row50 col2\" >609</td>\n",
       "      <td id=\"T_f1a2e_row50_col3\" class=\"data row50 col3\" >52</td>\n",
       "      <td id=\"T_f1a2e_row50_col4\" class=\"data row50 col4\" >132</td>\n",
       "      <td id=\"T_f1a2e_row50_col5\" class=\"data row50 col5\" >335</td>\n",
       "      <td id=\"T_f1a2e_row50_col6\" class=\"data row50 col6\" >505</td>\n",
       "      <td id=\"T_f1a2e_row50_col7\" class=\"data row50 col7\" >2093</td>\n",
       "    </tr>\n",
       "    <tr>\n",
       "      <th id=\"T_f1a2e_level0_row51\" class=\"row_heading level0 row51\" >Meme</th>\n",
       "      <td id=\"T_f1a2e_row51_col0\" class=\"data row51 col0\" >114</td>\n",
       "      <td id=\"T_f1a2e_row51_col1\" class=\"data row51 col1\" >400</td>\n",
       "      <td id=\"T_f1a2e_row51_col2\" class=\"data row51 col2\" >569</td>\n",
       "      <td id=\"T_f1a2e_row51_col3\" class=\"data row51 col3\" >27</td>\n",
       "      <td id=\"T_f1a2e_row51_col4\" class=\"data row51 col4\" >67</td>\n",
       "      <td id=\"T_f1a2e_row51_col5\" class=\"data row51 col5\" >150</td>\n",
       "      <td id=\"T_f1a2e_row51_col6\" class=\"data row51 col6\" >704</td>\n",
       "      <td id=\"T_f1a2e_row51_col7\" class=\"data row51 col7\" >3725</td>\n",
       "    </tr>\n",
       "    <tr>\n",
       "      <th id=\"T_f1a2e_level0_row52\" class=\"row_heading level0 row52\" >Ethereum Ecosystem</th>\n",
       "      <td id=\"T_f1a2e_row52_col0\" class=\"data row52 col0\" >37</td>\n",
       "      <td id=\"T_f1a2e_row52_col1\" class=\"data row52 col1\" >392</td>\n",
       "      <td id=\"T_f1a2e_row52_col2\" class=\"data row52 col2\" >510</td>\n",
       "      <td id=\"T_f1a2e_row52_col3\" class=\"data row52 col3\" >32</td>\n",
       "      <td id=\"T_f1a2e_row52_col4\" class=\"data row52 col4\" >87</td>\n",
       "      <td id=\"T_f1a2e_row52_col5\" class=\"data row52 col5\" >182</td>\n",
       "      <td id=\"T_f1a2e_row52_col6\" class=\"data row52 col6\" >483</td>\n",
       "      <td id=\"T_f1a2e_row52_col7\" class=\"data row52 col7\" >2401</td>\n",
       "    </tr>\n",
       "    <tr>\n",
       "      <th id=\"T_f1a2e_level0_row53\" class=\"row_heading level0 row53\" >Bitcoin Ecosystem</th>\n",
       "      <td id=\"T_f1a2e_row53_col0\" class=\"data row53 col0\" >13</td>\n",
       "      <td id=\"T_f1a2e_row53_col1\" class=\"data row53 col1\" >239</td>\n",
       "      <td id=\"T_f1a2e_row53_col2\" class=\"data row53 col2\" >95</td>\n",
       "      <td id=\"T_f1a2e_row53_col3\" class=\"data row53 col3\" >48</td>\n",
       "      <td id=\"T_f1a2e_row53_col4\" class=\"data row53 col4\" >280</td>\n",
       "      <td id=\"T_f1a2e_row53_col5\" class=\"data row53 col5\" >290</td>\n",
       "      <td id=\"T_f1a2e_row53_col6\" class=\"data row53 col6\" >290</td>\n",
       "      <td id=\"T_f1a2e_row53_col7\" class=\"data row53 col7\" >294</td>\n",
       "    </tr>\n",
       "    <tr>\n",
       "      <th id=\"T_f1a2e_level0_row54\" class=\"row_heading level0 row54\" >Trading Bot</th>\n",
       "      <td id=\"T_f1a2e_row54_col0\" class=\"data row54 col0\" >12</td>\n",
       "      <td id=\"T_f1a2e_row54_col1\" class=\"data row54 col1\" >232</td>\n",
       "      <td id=\"T_f1a2e_row54_col2\" class=\"data row54 col2\" >156</td>\n",
       "      <td id=\"T_f1a2e_row54_col3\" class=\"data row54 col3\" >77</td>\n",
       "      <td id=\"T_f1a2e_row54_col4\" class=\"data row54 col4\" >120</td>\n",
       "      <td id=\"T_f1a2e_row54_col5\" class=\"data row54 col5\" >170</td>\n",
       "      <td id=\"T_f1a2e_row54_col6\" class=\"data row54 col6\" >315</td>\n",
       "      <td id=\"T_f1a2e_row54_col7\" class=\"data row54 col7\" >542</td>\n",
       "    </tr>\n",
       "    <tr>\n",
       "      <th id=\"T_f1a2e_level0_row55\" class=\"row_heading level0 row55\" >ERC-404</th>\n",
       "      <td id=\"T_f1a2e_row55_col0\" class=\"data row55 col0\" >10</td>\n",
       "      <td id=\"T_f1a2e_row55_col1\" class=\"data row55 col1\" >27</td>\n",
       "      <td id=\"T_f1a2e_row55_col2\" class=\"data row55 col2\" >28</td>\n",
       "      <td id=\"T_f1a2e_row55_col3\" class=\"data row55 col3\" >18</td>\n",
       "      <td id=\"T_f1a2e_row55_col4\" class=\"data row55 col4\" >18</td>\n",
       "      <td id=\"T_f1a2e_row55_col5\" class=\"data row55 col5\" >18</td>\n",
       "      <td id=\"T_f1a2e_row55_col6\" class=\"data row55 col6\" >18</td>\n",
       "      <td id=\"T_f1a2e_row55_col7\" class=\"data row55 col7\" >105</td>\n",
       "    </tr>\n",
       "  </tbody>\n",
       "</table>\n",
       "</div><div style=\"margin-right: 2em\"><style type=\"text/css\">\n",
       "#T_b5ee2_row0_col0, #T_b5ee2_row10_col0, #T_b5ee2_row16_col0, #T_b5ee2_row22_col4, #T_b5ee2_row23_col4, #T_b5ee2_row27_col1 {\n",
       "  background-color: #44445f;\n",
       "  color: #f1f1f1;\n",
       "}\n",
       "#T_b5ee2_row0_col1, #T_b5ee2_row0_col4 {\n",
       "  background-color: #f8fbfb;\n",
       "  color: #000000;\n",
       "}\n",
       "#T_b5ee2_row0_col2 {\n",
       "  background-color: #ccdfdf;\n",
       "  color: #000000;\n",
       "}\n",
       "#T_b5ee2_row0_col3, #T_b5ee2_row27_col7 {\n",
       "  background-color: #6a738a;\n",
       "  color: #f1f1f1;\n",
       "}\n",
       "#T_b5ee2_row0_col5, #T_b5ee2_row0_col6, #T_b5ee2_row1_col1, #T_b5ee2_row1_col3, #T_b5ee2_row1_col4, #T_b5ee2_row4_col2, #T_b5ee2_row11_col0, #T_b5ee2_row22_col7 {\n",
       "  background-color: #ffffff;\n",
       "  color: #000000;\n",
       "}\n",
       "#T_b5ee2_row0_col7 {\n",
       "  background-color: #fcfdfd;\n",
       "  color: #000000;\n",
       "}\n",
       "#T_b5ee2_row1_col0, #T_b5ee2_row9_col5 {\n",
       "  background-color: #5d617d;\n",
       "  color: #f1f1f1;\n",
       "}\n",
       "#T_b5ee2_row1_col2 {\n",
       "  background-color: #8aa0aa;\n",
       "  color: #f1f1f1;\n",
       "}\n",
       "#T_b5ee2_row1_col5, #T_b5ee2_row4_col6 {\n",
       "  background-color: #e1ecec;\n",
       "  color: #000000;\n",
       "}\n",
       "#T_b5ee2_row1_col6, #T_b5ee2_row3_col6 {\n",
       "  background-color: #edf4f4;\n",
       "  color: #000000;\n",
       "}\n",
       "#T_b5ee2_row1_col7, #T_b5ee2_row11_col7 {\n",
       "  background-color: #fbfcfc;\n",
       "  color: #000000;\n",
       "}\n",
       "#T_b5ee2_row2_col0, #T_b5ee2_row17_col0, #T_b5ee2_row23_col1, #T_b5ee2_row23_col2, #T_b5ee2_row24_col0, #T_b5ee2_row27_col0 {\n",
       "  background-color: #3f3f58;\n",
       "  color: #f1f1f1;\n",
       "}\n",
       "#T_b5ee2_row2_col1, #T_b5ee2_row2_col5 {\n",
       "  background-color: #a6c6c6;\n",
       "  color: #000000;\n",
       "}\n",
       "#T_b5ee2_row2_col2, #T_b5ee2_row3_col1 {\n",
       "  background-color: #accaca;\n",
       "  color: #000000;\n",
       "}\n",
       "#T_b5ee2_row2_col3, #T_b5ee2_row3_col3, #T_b5ee2_row14_col0, #T_b5ee2_row18_col1, #T_b5ee2_row26_col3 {\n",
       "  background-color: #4f4f6e;\n",
       "  color: #f1f1f1;\n",
       "}\n",
       "#T_b5ee2_row2_col4, #T_b5ee2_row8_col2, #T_b5ee2_row12_col2 {\n",
       "  background-color: #a4c2c3;\n",
       "  color: #000000;\n",
       "}\n",
       "#T_b5ee2_row2_col6, #T_b5ee2_row2_col7 {\n",
       "  background-color: #bcd4d4;\n",
       "  color: #000000;\n",
       "}\n",
       "#T_b5ee2_row3_col0, #T_b5ee2_row11_col5 {\n",
       "  background-color: #555675;\n",
       "  color: #f1f1f1;\n",
       "}\n",
       "#T_b5ee2_row3_col2 {\n",
       "  background-color: #e0ebeb;\n",
       "  color: #000000;\n",
       "}\n",
       "#T_b5ee2_row3_col4 {\n",
       "  background-color: #4c4c6a;\n",
       "  color: #f1f1f1;\n",
       "}\n",
       "#T_b5ee2_row3_col5, #T_b5ee2_row7_col2 {\n",
       "  background-color: #a1bfc1;\n",
       "  color: #000000;\n",
       "}\n",
       "#T_b5ee2_row3_col7 {\n",
       "  background-color: #e2eded;\n",
       "  color: #000000;\n",
       "}\n",
       "#T_b5ee2_row4_col0, #T_b5ee2_row9_col0, #T_b5ee2_row11_col3, #T_b5ee2_row18_col0, #T_b5ee2_row21_col0, #T_b5ee2_row21_col4, #T_b5ee2_row23_col0, #T_b5ee2_row23_col7, #T_b5ee2_row24_col5, #T_b5ee2_row26_col6 {\n",
       "  background-color: #42425b;\n",
       "  color: #f1f1f1;\n",
       "}\n",
       "#T_b5ee2_row4_col1, #T_b5ee2_row10_col2 {\n",
       "  background-color: #9bb6bb;\n",
       "  color: #000000;\n",
       "}\n",
       "#T_b5ee2_row4_col3, #T_b5ee2_row16_col3, #T_b5ee2_row16_col4 {\n",
       "  background-color: #3e3e56;\n",
       "  color: #f1f1f1;\n",
       "}\n",
       "#T_b5ee2_row4_col4, #T_b5ee2_row5_col3, #T_b5ee2_row17_col4 {\n",
       "  background-color: #4a4966;\n",
       "  color: #f1f1f1;\n",
       "}\n",
       "#T_b5ee2_row4_col5, #T_b5ee2_row6_col1 {\n",
       "  background-color: #869aa6;\n",
       "  color: #f1f1f1;\n",
       "}\n",
       "#T_b5ee2_row4_col7 {\n",
       "  background-color: #e6efef;\n",
       "  color: #000000;\n",
       "}\n",
       "#T_b5ee2_row5_col0, #T_b5ee2_row8_col0, #T_b5ee2_row16_col1, #T_b5ee2_row19_col3, #T_b5ee2_row20_col0 {\n",
       "  background-color: #525372;\n",
       "  color: #f1f1f1;\n",
       "}\n",
       "#T_b5ee2_row5_col1 {\n",
       "  background-color: #8295a2;\n",
       "  color: #f1f1f1;\n",
       "}\n",
       "#T_b5ee2_row5_col2 {\n",
       "  background-color: #9dbabd;\n",
       "  color: #000000;\n",
       "}\n",
       "#T_b5ee2_row5_col4, #T_b5ee2_row13_col1, #T_b5ee2_row16_col6 {\n",
       "  background-color: #545574;\n",
       "  color: #f1f1f1;\n",
       "}\n",
       "#T_b5ee2_row5_col5, #T_b5ee2_row17_col7 {\n",
       "  background-color: #758395;\n",
       "  color: #f1f1f1;\n",
       "}\n",
       "#T_b5ee2_row5_col6 {\n",
       "  background-color: #90a8b0;\n",
       "  color: #f1f1f1;\n",
       "}\n",
       "#T_b5ee2_row5_col7 {\n",
       "  background-color: #cee0df;\n",
       "  color: #000000;\n",
       "}\n",
       "#T_b5ee2_row6_col0, #T_b5ee2_row7_col3, #T_b5ee2_row15_col0, #T_b5ee2_row18_col3, #T_b5ee2_row20_col3, #T_b5ee2_row20_col4, #T_b5ee2_row22_col3, #T_b5ee2_row26_col0, #T_b5ee2_row26_col1, #T_b5ee2_row26_col2, #T_b5ee2_row26_col7, #T_b5ee2_row27_col5, #T_b5ee2_row27_col6 {\n",
       "  background-color: #3c3c54;\n",
       "  color: #f1f1f1;\n",
       "}\n",
       "#T_b5ee2_row6_col2, #T_b5ee2_row6_col7 {\n",
       "  background-color: #d2e2e2;\n",
       "  color: #000000;\n",
       "}\n",
       "#T_b5ee2_row6_col3, #T_b5ee2_row17_col5 {\n",
       "  background-color: #494965;\n",
       "  color: #f1f1f1;\n",
       "}\n",
       "#T_b5ee2_row6_col4 {\n",
       "  background-color: #5b5f7b;\n",
       "  color: #f1f1f1;\n",
       "}\n",
       "#T_b5ee2_row6_col5, #T_b5ee2_row15_col6 {\n",
       "  background-color: #6d788d;\n",
       "  color: #f1f1f1;\n",
       "}\n",
       "#T_b5ee2_row6_col6 {\n",
       "  background-color: #96afb5;\n",
       "  color: #f1f1f1;\n",
       "}\n",
       "#T_b5ee2_row7_col0, #T_b5ee2_row20_col6 {\n",
       "  background-color: #5f657f;\n",
       "  color: #f1f1f1;\n",
       "}\n",
       "#T_b5ee2_row7_col1 {\n",
       "  background-color: #7c8c9c;\n",
       "  color: #f1f1f1;\n",
       "}\n",
       "#T_b5ee2_row7_col4, #T_b5ee2_row10_col5, #T_b5ee2_row19_col1 {\n",
       "  background-color: #5c607c;\n",
       "  color: #f1f1f1;\n",
       "}\n",
       "#T_b5ee2_row7_col5 {\n",
       "  background-color: #616781;\n",
       "  color: #f1f1f1;\n",
       "}\n",
       "#T_b5ee2_row7_col6 {\n",
       "  background-color: #899ea9;\n",
       "  color: #f1f1f1;\n",
       "}\n",
       "#T_b5ee2_row7_col7 {\n",
       "  background-color: #f0f5f5;\n",
       "  color: #000000;\n",
       "}\n",
       "#T_b5ee2_row8_col1 {\n",
       "  background-color: #7d8d9d;\n",
       "  color: #f1f1f1;\n",
       "}\n",
       "#T_b5ee2_row8_col3 {\n",
       "  background-color: #585b78;\n",
       "  color: #f1f1f1;\n",
       "}\n",
       "#T_b5ee2_row8_col4 {\n",
       "  background-color: #666d85;\n",
       "  color: #f1f1f1;\n",
       "}\n",
       "#T_b5ee2_row8_col5, #T_b5ee2_row20_col2, #T_b5ee2_row24_col7, #T_b5ee2_row25_col6 {\n",
       "  background-color: #606680;\n",
       "  color: #f1f1f1;\n",
       "}\n",
       "#T_b5ee2_row8_col6 {\n",
       "  background-color: #7e8f9e;\n",
       "  color: #f1f1f1;\n",
       "}\n",
       "#T_b5ee2_row8_col7, #T_b5ee2_row25_col7 {\n",
       "  background-color: #f4f8f8;\n",
       "  color: #000000;\n",
       "}\n",
       "#T_b5ee2_row9_col1 {\n",
       "  background-color: #7a8999;\n",
       "  color: #f1f1f1;\n",
       "}\n",
       "#T_b5ee2_row9_col2, #T_b5ee2_row14_col2 {\n",
       "  background-color: #a9c8c8;\n",
       "  color: #000000;\n",
       "}\n",
       "#T_b5ee2_row9_col3 {\n",
       "  background-color: #8da3ad;\n",
       "  color: #f1f1f1;\n",
       "}\n",
       "#T_b5ee2_row9_col4, #T_b5ee2_row21_col7 {\n",
       "  background-color: #5a5d7a;\n",
       "  color: #f1f1f1;\n",
       "}\n",
       "#T_b5ee2_row9_col6, #T_b5ee2_row12_col1 {\n",
       "  background-color: #738093;\n",
       "  color: #f1f1f1;\n",
       "}\n",
       "#T_b5ee2_row9_col7 {\n",
       "  background-color: #dbe8e8;\n",
       "  color: #000000;\n",
       "}\n",
       "#T_b5ee2_row10_col1 {\n",
       "  background-color: #737f92;\n",
       "  color: #f1f1f1;\n",
       "}\n",
       "#T_b5ee2_row10_col3, #T_b5ee2_row17_col1, #T_b5ee2_row18_col6, #T_b5ee2_row24_col1 {\n",
       "  background-color: #505070;\n",
       "  color: #f1f1f1;\n",
       "}\n",
       "#T_b5ee2_row10_col4 {\n",
       "  background-color: #515171;\n",
       "  color: #f1f1f1;\n",
       "}\n",
       "#T_b5ee2_row10_col6 {\n",
       "  background-color: #8598a5;\n",
       "  color: #f1f1f1;\n",
       "}\n",
       "#T_b5ee2_row10_col7, #T_b5ee2_row15_col7, #T_b5ee2_row22_col2 {\n",
       "  background-color: #a5c5c5;\n",
       "  color: #000000;\n",
       "}\n",
       "#T_b5ee2_row11_col1, #T_b5ee2_row14_col1 {\n",
       "  background-color: #707b90;\n",
       "  color: #f1f1f1;\n",
       "}\n",
       "#T_b5ee2_row11_col2 {\n",
       "  background-color: #a3c1c3;\n",
       "  color: #000000;\n",
       "}\n",
       "#T_b5ee2_row11_col4, #T_b5ee2_row12_col4, #T_b5ee2_row13_col0, #T_b5ee2_row17_col3, #T_b5ee2_row18_col5, #T_b5ee2_row19_col0, #T_b5ee2_row19_col5, #T_b5ee2_row19_col6, #T_b5ee2_row20_col5, #T_b5ee2_row21_col5 {\n",
       "  background-color: #474763;\n",
       "  color: #f1f1f1;\n",
       "}\n",
       "#T_b5ee2_row11_col6 {\n",
       "  background-color: #7f909f;\n",
       "  color: #f1f1f1;\n",
       "}\n",
       "#T_b5ee2_row12_col0 {\n",
       "  background-color: #9cb8bc;\n",
       "  color: #000000;\n",
       "}\n",
       "#T_b5ee2_row12_col3, #T_b5ee2_row25_col4, #T_b5ee2_row26_col5, #T_b5ee2_row27_col3 {\n",
       "  background-color: #404059;\n",
       "  color: #f1f1f1;\n",
       "}\n",
       "#T_b5ee2_row12_col5 {\n",
       "  background-color: #535473;\n",
       "  color: #f1f1f1;\n",
       "}\n",
       "#T_b5ee2_row12_col6, #T_b5ee2_row25_col2 {\n",
       "  background-color: #8fa6ae;\n",
       "  color: #f1f1f1;\n",
       "}\n",
       "#T_b5ee2_row12_col7 {\n",
       "  background-color: #f5f9f9;\n",
       "  color: #000000;\n",
       "}\n",
       "#T_b5ee2_row13_col2, #T_b5ee2_row15_col1, #T_b5ee2_row25_col0 {\n",
       "  background-color: #676f87;\n",
       "  color: #f1f1f1;\n",
       "}\n",
       "#T_b5ee2_row13_col3, #T_b5ee2_row15_col4, #T_b5ee2_row23_col6 {\n",
       "  background-color: #454560;\n",
       "  color: #f1f1f1;\n",
       "}\n",
       "#T_b5ee2_row13_col4, #T_b5ee2_row18_col4, #T_b5ee2_row26_col4 {\n",
       "  background-color: #42425d;\n",
       "  color: #f1f1f1;\n",
       "}\n",
       "#T_b5ee2_row13_col5, #T_b5ee2_row14_col5, #T_b5ee2_row15_col5 {\n",
       "  background-color: #4e4e6c;\n",
       "  color: #f1f1f1;\n",
       "}\n",
       "#T_b5ee2_row13_col6 {\n",
       "  background-color: #626882;\n",
       "  color: #f1f1f1;\n",
       "}\n",
       "#T_b5ee2_row13_col7 {\n",
       "  background-color: #697289;\n",
       "  color: #f1f1f1;\n",
       "}\n",
       "#T_b5ee2_row14_col3 {\n",
       "  background-color: #656c84;\n",
       "  color: #f1f1f1;\n",
       "}\n",
       "#T_b5ee2_row14_col4, #T_b5ee2_row17_col6 {\n",
       "  background-color: #4b4b69;\n",
       "  color: #f1f1f1;\n",
       "}\n",
       "#T_b5ee2_row14_col6 {\n",
       "  background-color: #798799;\n",
       "  color: #f1f1f1;\n",
       "}\n",
       "#T_b5ee2_row14_col7 {\n",
       "  background-color: #cadddd;\n",
       "  color: #000000;\n",
       "}\n",
       "#T_b5ee2_row15_col2 {\n",
       "  background-color: #aecbcb;\n",
       "  color: #000000;\n",
       "}\n",
       "#T_b5ee2_row15_col3 {\n",
       "  background-color: #484864;\n",
       "  color: #f1f1f1;\n",
       "}\n",
       "#T_b5ee2_row16_col2, #T_b5ee2_row22_col6 {\n",
       "  background-color: #788698;\n",
       "  color: #f1f1f1;\n",
       "}\n",
       "#T_b5ee2_row16_col5, #T_b5ee2_row20_col1, #T_b5ee2_row23_col3 {\n",
       "  background-color: #4d4d6b;\n",
       "  color: #f1f1f1;\n",
       "}\n",
       "#T_b5ee2_row16_col7 {\n",
       "  background-color: #889ca7;\n",
       "  color: #f1f1f1;\n",
       "}\n",
       "#T_b5ee2_row17_col2 {\n",
       "  background-color: #6f7a8f;\n",
       "  color: #f1f1f1;\n",
       "}\n",
       "#T_b5ee2_row18_col2 {\n",
       "  background-color: #6e798e;\n",
       "  color: #f1f1f1;\n",
       "}\n",
       "#T_b5ee2_row18_col7 {\n",
       "  background-color: #778597;\n",
       "  color: #f1f1f1;\n",
       "}\n",
       "#T_b5ee2_row19_col2 {\n",
       "  background-color: #b8d2d1;\n",
       "  color: #000000;\n",
       "}\n",
       "#T_b5ee2_row19_col4, #T_b5ee2_row21_col1 {\n",
       "  background-color: #4a4a67;\n",
       "  color: #f1f1f1;\n",
       "}\n",
       "#T_b5ee2_row19_col7 {\n",
       "  background-color: #fafcfb;\n",
       "  color: #000000;\n",
       "}\n",
       "#T_b5ee2_row20_col7, #T_b5ee2_row24_col2, #T_b5ee2_row24_col6 {\n",
       "  background-color: #636983;\n",
       "  color: #f1f1f1;\n",
       "}\n",
       "#T_b5ee2_row21_col2, #T_b5ee2_row25_col1 {\n",
       "  background-color: #575a77;\n",
       "  color: #f1f1f1;\n",
       "}\n",
       "#T_b5ee2_row21_col3 {\n",
       "  background-color: #50506f;\n",
       "  color: #f1f1f1;\n",
       "}\n",
       "#T_b5ee2_row21_col6 {\n",
       "  background-color: #565776;\n",
       "  color: #f1f1f1;\n",
       "}\n",
       "#T_b5ee2_row22_col0 {\n",
       "  background-color: #d9e6e6;\n",
       "  color: #000000;\n",
       "}\n",
       "#T_b5ee2_row22_col1 {\n",
       "  background-color: #687188;\n",
       "  color: #f1f1f1;\n",
       "}\n",
       "#T_b5ee2_row22_col5, #T_b5ee2_row24_col4, #T_b5ee2_row25_col3 {\n",
       "  background-color: #464661;\n",
       "  color: #f1f1f1;\n",
       "}\n",
       "#T_b5ee2_row23_col5 {\n",
       "  background-color: #43435e;\n",
       "  color: #f1f1f1;\n",
       "}\n",
       "#T_b5ee2_row24_col3 {\n",
       "  background-color: #595c79;\n",
       "  color: #f1f1f1;\n",
       "}\n",
       "#T_b5ee2_row25_col5 {\n",
       "  background-color: #41415a;\n",
       "  color: #f1f1f1;\n",
       "}\n",
       "#T_b5ee2_row27_col2 {\n",
       "  background-color: #6c758b;\n",
       "  color: #f1f1f1;\n",
       "}\n",
       "#T_b5ee2_row27_col4 {\n",
       "  background-color: #3d3d55;\n",
       "  color: #f1f1f1;\n",
       "}\n",
       "</style>\n",
       "<table id=\"T_b5ee2\">\n",
       "  <thead>\n",
       "    <tr>\n",
       "      <th class=\"blank level0\" >&nbsp;</th>\n",
       "      <th id=\"T_b5ee2_level0_col0\" class=\"col_heading level0 col0\" >count</th>\n",
       "      <th id=\"T_b5ee2_level0_col1\" class=\"col_heading level0 col1\" >mean</th>\n",
       "      <th id=\"T_b5ee2_level0_col2\" class=\"col_heading level0 col2\" >std</th>\n",
       "      <th id=\"T_b5ee2_level0_col3\" class=\"col_heading level0 col3\" >min</th>\n",
       "      <th id=\"T_b5ee2_level0_col4\" class=\"col_heading level0 col4\" >25%</th>\n",
       "      <th id=\"T_b5ee2_level0_col5\" class=\"col_heading level0 col5\" >50%</th>\n",
       "      <th id=\"T_b5ee2_level0_col6\" class=\"col_heading level0 col6\" >75%</th>\n",
       "      <th id=\"T_b5ee2_level0_col7\" class=\"col_heading level0 col7\" >max</th>\n",
       "    </tr>\n",
       "    <tr>\n",
       "      <th class=\"index_name level0\" >Category</th>\n",
       "      <th class=\"blank col0\" >&nbsp;</th>\n",
       "      <th class=\"blank col1\" >&nbsp;</th>\n",
       "      <th class=\"blank col2\" >&nbsp;</th>\n",
       "      <th class=\"blank col3\" >&nbsp;</th>\n",
       "      <th class=\"blank col4\" >&nbsp;</th>\n",
       "      <th class=\"blank col5\" >&nbsp;</th>\n",
       "      <th class=\"blank col6\" >&nbsp;</th>\n",
       "      <th class=\"blank col7\" >&nbsp;</th>\n",
       "    </tr>\n",
       "  </thead>\n",
       "  <tbody>\n",
       "    <tr>\n",
       "      <th id=\"T_b5ee2_level0_row0\" class=\"row_heading level0 row0\" >Artificial Intelligence (AI)</th>\n",
       "      <td id=\"T_b5ee2_row0_col0\" class=\"data row0 col0\" >7.00</td>\n",
       "      <td id=\"T_b5ee2_row0_col1\" class=\"data row0 col1\" >-28.77</td>\n",
       "      <td id=\"T_b5ee2_row0_col2\" class=\"data row0 col2\" >35.22</td>\n",
       "      <td id=\"T_b5ee2_row0_col3\" class=\"data row0 col3\" >-94.63</td>\n",
       "      <td id=\"T_b5ee2_row0_col4\" class=\"data row0 col4\" >-42.48</td>\n",
       "      <td id=\"T_b5ee2_row0_col5\" class=\"data row0 col5\" >-8.57</td>\n",
       "      <td id=\"T_b5ee2_row0_col6\" class=\"data row0 col6\" >-5.86</td>\n",
       "      <td id=\"T_b5ee2_row0_col7\" class=\"data row0 col7\" >-1.53</td>\n",
       "    </tr>\n",
       "    <tr>\n",
       "      <th id=\"T_b5ee2_level0_row1\" class=\"row_heading level0 row1\" >Stablecoin</th>\n",
       "      <td id=\"T_b5ee2_row1_col0\" class=\"data row1 col0\" >16.00</td>\n",
       "      <td id=\"T_b5ee2_row1_col1\" class=\"data row1 col1\" >-26.89</td>\n",
       "      <td id=\"T_b5ee2_row1_col2\" class=\"data row1 col2\" >22.11</td>\n",
       "      <td id=\"T_b5ee2_row1_col3\" class=\"data row1 col3\" >-80.88</td>\n",
       "      <td id=\"T_b5ee2_row1_col4\" class=\"data row1 col4\" >-40.79</td>\n",
       "      <td id=\"T_b5ee2_row1_col5\" class=\"data row1 col5\" >-19.32</td>\n",
       "      <td id=\"T_b5ee2_row1_col6\" class=\"data row1 col6\" >-12.32</td>\n",
       "      <td id=\"T_b5ee2_row1_col7\" class=\"data row1 col7\" >-2.34</td>\n",
       "    </tr>\n",
       "    <tr>\n",
       "      <th id=\"T_b5ee2_level0_row2\" class=\"row_heading level0 row2\" >Backed Tokens</th>\n",
       "      <td id=\"T_b5ee2_row2_col0\" class=\"data row2 col0\" >5.00</td>\n",
       "      <td id=\"T_b5ee2_row2_col1\" class=\"data row2 col1\" >-50.88</td>\n",
       "      <td id=\"T_b5ee2_row2_col2\" class=\"data row2 col2\" >29.95</td>\n",
       "      <td id=\"T_b5ee2_row2_col3\" class=\"data row2 col3\" >-97.82</td>\n",
       "      <td id=\"T_b5ee2_row2_col4\" class=\"data row2 col4\" >-62.26</td>\n",
       "      <td id=\"T_b5ee2_row2_col5\" class=\"data row2 col5\" >-39.79</td>\n",
       "      <td id=\"T_b5ee2_row2_col6\" class=\"data row2 col6\" >-30.15</td>\n",
       "      <td id=\"T_b5ee2_row2_col7\" class=\"data row2 col7\" >-24.39</td>\n",
       "    </tr>\n",
       "    <tr>\n",
       "      <th id=\"T_b5ee2_level0_row3\" class=\"row_heading level0 row3\" >DEX</th>\n",
       "      <td id=\"T_b5ee2_row3_col0\" class=\"data row3 col0\" >13.00</td>\n",
       "      <td id=\"T_b5ee2_row3_col1\" class=\"data row3 col1\" >-49.47</td>\n",
       "      <td id=\"T_b5ee2_row3_col2\" class=\"data row3 col2\" >38.10</td>\n",
       "      <td id=\"T_b5ee2_row3_col3\" class=\"data row3 col3\" >-97.82</td>\n",
       "      <td id=\"T_b5ee2_row3_col4\" class=\"data row3 col4\" >-93.47</td>\n",
       "      <td id=\"T_b5ee2_row3_col5\" class=\"data row3 col5\" >-42.89</td>\n",
       "      <td id=\"T_b5ee2_row3_col6\" class=\"data row3 col6\" >-12.33</td>\n",
       "      <td id=\"T_b5ee2_row3_col7\" class=\"data row3 col7\" >-10.74</td>\n",
       "    </tr>\n",
       "    <tr>\n",
       "      <th id=\"T_b5ee2_level0_row4\" class=\"row_heading level0 row4\" >Layer-2</th>\n",
       "      <td id=\"T_b5ee2_row4_col0\" class=\"data row4 col0\" >6.00</td>\n",
       "      <td id=\"T_b5ee2_row4_col1\" class=\"data row4 col1\" >-55.77</td>\n",
       "      <td id=\"T_b5ee2_row4_col2\" class=\"data row4 col2\" >43.26</td>\n",
       "      <td id=\"T_b5ee2_row4_col3\" class=\"data row4 col3\" >-99.79</td>\n",
       "      <td id=\"T_b5ee2_row4_col4\" class=\"data row4 col4\" >-94.40</td>\n",
       "      <td id=\"T_b5ee2_row4_col5\" class=\"data row4 col5\" >-57.66</td>\n",
       "      <td id=\"T_b5ee2_row4_col6\" class=\"data row4 col6\" >-16.88</td>\n",
       "      <td id=\"T_b5ee2_row4_col7\" class=\"data row4 col7\" >-9.60</td>\n",
       "    </tr>\n",
       "    <tr>\n",
       "      <th id=\"T_b5ee2_level0_row5\" class=\"row_heading level0 row5\" >CEX</th>\n",
       "      <td id=\"T_b5ee2_row5_col0\" class=\"data row5 col0\" >12.00</td>\n",
       "      <td id=\"T_b5ee2_row5_col1\" class=\"data row5 col1\" >-65.69</td>\n",
       "      <td id=\"T_b5ee2_row5_col2\" class=\"data row5 col2\" >26.89</td>\n",
       "      <td id=\"T_b5ee2_row5_col3\" class=\"data row5 col3\" >-98.41</td>\n",
       "      <td id=\"T_b5ee2_row5_col4\" class=\"data row5 col4\" >-90.62</td>\n",
       "      <td id=\"T_b5ee2_row5_col5\" class=\"data row5 col5\" >-66.84</td>\n",
       "      <td id=\"T_b5ee2_row5_col6\" class=\"data row5 col6\" >-50.10</td>\n",
       "      <td id=\"T_b5ee2_row5_col7\" class=\"data row5 col7\" >-18.39</td>\n",
       "    </tr>\n",
       "    <tr>\n",
       "      <th id=\"T_b5ee2_level0_row6\" class=\"row_heading level0 row6\" >Big Data</th>\n",
       "      <td id=\"T_b5ee2_row6_col0\" class=\"data row6 col0\" >4.00</td>\n",
       "      <td id=\"T_b5ee2_row6_col1\" class=\"data row6 col1\" >-64.29</td>\n",
       "      <td id=\"T_b5ee2_row6_col2\" class=\"data row6 col2\" >36.07</td>\n",
       "      <td id=\"T_b5ee2_row6_col3\" class=\"data row6 col3\" >-98.55</td>\n",
       "      <td id=\"T_b5ee2_row6_col4\" class=\"data row6 col4\" >-88.15</td>\n",
       "      <td id=\"T_b5ee2_row6_col5\" class=\"data row6 col5\" >-70.95</td>\n",
       "      <td id=\"T_b5ee2_row6_col6\" class=\"data row6 col6\" >-47.09</td>\n",
       "      <td id=\"T_b5ee2_row6_col7\" class=\"data row6 col7\" >-16.72</td>\n",
       "    </tr>\n",
       "    <tr>\n",
       "      <th id=\"T_b5ee2_level0_row7\" class=\"row_heading level0 row7\" >Meme</th>\n",
       "      <td id=\"T_b5ee2_row7_col0\" class=\"data row7 col0\" >17.00</td>\n",
       "      <td id=\"T_b5ee2_row7_col1\" class=\"data row7 col1\" >-68.38</td>\n",
       "      <td id=\"T_b5ee2_row7_col2\" class=\"data row7 col2\" >27.89</td>\n",
       "      <td id=\"T_b5ee2_row7_col3\" class=\"data row7 col3\" >-100.00</td>\n",
       "      <td id=\"T_b5ee2_row7_col4\" class=\"data row7 col4\" >-87.65</td>\n",
       "      <td id=\"T_b5ee2_row7_col5\" class=\"data row7 col5\" >-77.83</td>\n",
       "      <td id=\"T_b5ee2_row7_col6\" class=\"data row7 col6\" >-54.18</td>\n",
       "      <td id=\"T_b5ee2_row7_col7\" class=\"data row7 col7\" >-5.87</td>\n",
       "    </tr>\n",
       "    <tr>\n",
       "      <th id=\"T_b5ee2_level0_row8\" class=\"row_heading level0 row8\" >Blockchain Service</th>\n",
       "      <td id=\"T_b5ee2_row8_col0\" class=\"data row8 col0\" >12.00</td>\n",
       "      <td id=\"T_b5ee2_row8_col1\" class=\"data row8 col1\" >-67.96</td>\n",
       "      <td id=\"T_b5ee2_row8_col2\" class=\"data row8 col2\" >28.48</td>\n",
       "      <td id=\"T_b5ee2_row8_col3\" class=\"data row8 col3\" >-96.71</td>\n",
       "      <td id=\"T_b5ee2_row8_col4\" class=\"data row8 col4\" >-84.30</td>\n",
       "      <td id=\"T_b5ee2_row8_col5\" class=\"data row8 col5\" >-78.28</td>\n",
       "      <td id=\"T_b5ee2_row8_col6\" class=\"data row8 col6\" >-60.52</td>\n",
       "      <td id=\"T_b5ee2_row8_col7\" class=\"data row8 col7\" >-4.70</td>\n",
       "    </tr>\n",
       "    <tr>\n",
       "      <th id=\"T_b5ee2_level0_row9\" class=\"row_heading level0 row9\" >Oracle</th>\n",
       "      <td id=\"T_b5ee2_row9_col0\" class=\"data row9 col0\" >6.00</td>\n",
       "      <td id=\"T_b5ee2_row9_col1\" class=\"data row9 col1\" >-69.47</td>\n",
       "      <td id=\"T_b5ee2_row9_col2\" class=\"data row9 col2\" >29.50</td>\n",
       "      <td id=\"T_b5ee2_row9_col3\" class=\"data row9 col3\" >-90.55</td>\n",
       "      <td id=\"T_b5ee2_row9_col4\" class=\"data row9 col4\" >-88.20</td>\n",
       "      <td id=\"T_b5ee2_row9_col5\" class=\"data row9 col5\" >-80.42</td>\n",
       "      <td id=\"T_b5ee2_row9_col6\" class=\"data row9 col6\" >-66.24</td>\n",
       "      <td id=\"T_b5ee2_row9_col7\" class=\"data row9 col7\" >-13.09</td>\n",
       "    </tr>\n",
       "    <tr>\n",
       "      <th id=\"T_b5ee2_level0_row10\" class=\"row_heading level0 row10\" >Protocol</th>\n",
       "      <td id=\"T_b5ee2_row10_col0\" class=\"data row10 col0\" >7.00</td>\n",
       "      <td id=\"T_b5ee2_row10_col1\" class=\"data row10 col1\" >-72.43</td>\n",
       "      <td id=\"T_b5ee2_row10_col2\" class=\"data row10 col2\" >26.25</td>\n",
       "      <td id=\"T_b5ee2_row10_col3\" class=\"data row10 col3\" >-97.66</td>\n",
       "      <td id=\"T_b5ee2_row10_col4\" class=\"data row10 col4\" >-91.57</td>\n",
       "      <td id=\"T_b5ee2_row10_col5\" class=\"data row10 col5\" >-80.68</td>\n",
       "      <td id=\"T_b5ee2_row10_col6\" class=\"data row10 col6\" >-56.43</td>\n",
       "      <td id=\"T_b5ee2_row10_col7\" class=\"data row10 col7\" >-32.68</td>\n",
       "    </tr>\n",
       "    <tr>\n",
       "      <th id=\"T_b5ee2_level0_row11\" class=\"row_heading level0 row11\" >Blockchain</th>\n",
       "      <td id=\"T_b5ee2_row11_col0\" class=\"data row11 col0\" >64.00</td>\n",
       "      <td id=\"T_b5ee2_row11_col1\" class=\"data row11 col1\" >-73.59</td>\n",
       "      <td id=\"T_b5ee2_row11_col2\" class=\"data row11 col2\" >28.30</td>\n",
       "      <td id=\"T_b5ee2_row11_col3\" class=\"data row11 col3\" >-99.38</td>\n",
       "      <td id=\"T_b5ee2_row11_col4\" class=\"data row11 col4\" >-95.16</td>\n",
       "      <td id=\"T_b5ee2_row11_col5\" class=\"data row11 col5\" >-84.40</td>\n",
       "      <td id=\"T_b5ee2_row11_col6\" class=\"data row11 col6\" >-60.14</td>\n",
       "      <td id=\"T_b5ee2_row11_col7\" class=\"data row11 col7\" >-2.05</td>\n",
       "    </tr>\n",
       "    <tr>\n",
       "      <th id=\"T_b5ee2_level0_row12\" class=\"row_heading level0 row12\" >Gaming</th>\n",
       "      <td id=\"T_b5ee2_row12_col0\" class=\"data row12 col0\" >39.00</td>\n",
       "      <td id=\"T_b5ee2_row12_col1\" class=\"data row12 col1\" >-71.95</td>\n",
       "      <td id=\"T_b5ee2_row12_col2\" class=\"data row12 col2\" >28.48</td>\n",
       "      <td id=\"T_b5ee2_row12_col3\" class=\"data row12 col3\" >-99.57</td>\n",
       "      <td id=\"T_b5ee2_row12_col4\" class=\"data row12 col4\" >-95.28</td>\n",
       "      <td id=\"T_b5ee2_row12_col5\" class=\"data row12 col5\" >-85.64</td>\n",
       "      <td id=\"T_b5ee2_row12_col6\" class=\"data row12 col6\" >-51.14</td>\n",
       "      <td id=\"T_b5ee2_row12_col7\" class=\"data row12 col7\" >-4.26</td>\n",
       "    </tr>\n",
       "    <tr>\n",
       "      <th id=\"T_b5ee2_level0_row13\" class=\"row_heading level0 row13\" >Cryptocurrency</th>\n",
       "      <td id=\"T_b5ee2_row13_col0\" class=\"data row13 col0\" >8.00</td>\n",
       "      <td id=\"T_b5ee2_row13_col1\" class=\"data row13 col1\" >-85.38</td>\n",
       "      <td id=\"T_b5ee2_row13_col2\" class=\"data row13 col2\" >13.56</td>\n",
       "      <td id=\"T_b5ee2_row13_col3\" class=\"data row13 col3\" >-98.96</td>\n",
       "      <td id=\"T_b5ee2_row13_col4\" class=\"data row13 col4\" >-96.75</td>\n",
       "      <td id=\"T_b5ee2_row13_col5\" class=\"data row13 col5\" >-88.31</td>\n",
       "      <td id=\"T_b5ee2_row13_col6\" class=\"data row13 col6\" >-76.38</td>\n",
       "      <td id=\"T_b5ee2_row13_col7\" class=\"data row13 col7\" >-66.28</td>\n",
       "    </tr>\n",
       "    <tr>\n",
       "      <th id=\"T_b5ee2_level0_row14\" class=\"row_heading level0 row14\" >Infrastructure</th>\n",
       "      <td id=\"T_b5ee2_row14_col0\" class=\"data row14 col0\" >11.00</td>\n",
       "      <td id=\"T_b5ee2_row14_col1\" class=\"data row14 col1\" >-73.54</td>\n",
       "      <td id=\"T_b5ee2_row14_col2\" class=\"data row14 col2\" >29.50</td>\n",
       "      <td id=\"T_b5ee2_row14_col3\" class=\"data row14 col3\" >-95.30</td>\n",
       "      <td id=\"T_b5ee2_row14_col4\" class=\"data row14 col4\" >-93.52</td>\n",
       "      <td id=\"T_b5ee2_row14_col5\" class=\"data row14 col5\" >-88.32</td>\n",
       "      <td id=\"T_b5ee2_row14_col6\" class=\"data row14 col6\" >-63.65</td>\n",
       "      <td id=\"T_b5ee2_row14_col7\" class=\"data row14 col7\" >-19.55</td>\n",
       "    </tr>\n",
       "    <tr>\n",
       "      <th id=\"T_b5ee2_level0_row15\" class=\"row_heading level0 row15\" >Social</th>\n",
       "      <td id=\"T_b5ee2_row15_col0\" class=\"data row15 col0\" >4.00</td>\n",
       "      <td id=\"T_b5ee2_row15_col1\" class=\"data row15 col1\" >-77.16</td>\n",
       "      <td id=\"T_b5ee2_row15_col2\" class=\"data row15 col2\" >30.36</td>\n",
       "      <td id=\"T_b5ee2_row15_col3\" class=\"data row15 col3\" >-98.68</td>\n",
       "      <td id=\"T_b5ee2_row15_col4\" class=\"data row15 col4\" >-95.81</td>\n",
       "      <td id=\"T_b5ee2_row15_col5\" class=\"data row15 col5\" >-88.55</td>\n",
       "      <td id=\"T_b5ee2_row15_col6\" class=\"data row15 col6\" >-69.90</td>\n",
       "      <td id=\"T_b5ee2_row15_col7\" class=\"data row15 col7\" >-32.85</td>\n",
       "    </tr>\n",
       "    <tr>\n",
       "      <th id=\"T_b5ee2_level0_row16\" class=\"row_heading level0 row16\" >Finance</th>\n",
       "      <td id=\"T_b5ee2_row16_col0\" class=\"data row16 col0\" >7.00</td>\n",
       "      <td id=\"T_b5ee2_row16_col1\" class=\"data row16 col1\" >-86.10</td>\n",
       "      <td id=\"T_b5ee2_row16_col2\" class=\"data row16 col2\" >17.63</td>\n",
       "      <td id=\"T_b5ee2_row16_col3\" class=\"data row16 col3\" >-99.76</td>\n",
       "      <td id=\"T_b5ee2_row16_col4\" class=\"data row16 col4\" >-98.28</td>\n",
       "      <td id=\"T_b5ee2_row16_col5\" class=\"data row16 col5\" >-89.13</td>\n",
       "      <td id=\"T_b5ee2_row16_col6\" class=\"data row16 col6\" >-83.91</td>\n",
       "      <td id=\"T_b5ee2_row16_col7\" class=\"data row16 col7\" >-49.43</td>\n",
       "    </tr>\n",
       "    <tr>\n",
       "      <th id=\"T_b5ee2_level0_row17\" class=\"row_heading level0 row17\" >Cosmos Ecosystem</th>\n",
       "      <td id=\"T_b5ee2_row17_col0\" class=\"data row17 col0\" >5.00</td>\n",
       "      <td id=\"T_b5ee2_row17_col1\" class=\"data row17 col1\" >-86.63</td>\n",
       "      <td id=\"T_b5ee2_row17_col2\" class=\"data row17 col2\" >15.54</td>\n",
       "      <td id=\"T_b5ee2_row17_col3\" class=\"data row17 col3\" >-98.77</td>\n",
       "      <td id=\"T_b5ee2_row17_col4\" class=\"data row17 col4\" >-94.40</td>\n",
       "      <td id=\"T_b5ee2_row17_col5\" class=\"data row17 col5\" >-91.30</td>\n",
       "      <td id=\"T_b5ee2_row17_col6\" class=\"data row17 col6\" >-89.08</td>\n",
       "      <td id=\"T_b5ee2_row17_col7\" class=\"data row17 col7\" >-59.60</td>\n",
       "    </tr>\n",
       "    <tr>\n",
       "      <th id=\"T_b5ee2_level0_row18\" class=\"row_heading level0 row18\" >Web 3.0</th>\n",
       "      <td id=\"T_b5ee2_row18_col0\" class=\"data row18 col0\" >6.00</td>\n",
       "      <td id=\"T_b5ee2_row18_col1\" class=\"data row18 col1\" >-87.47</td>\n",
       "      <td id=\"T_b5ee2_row18_col2\" class=\"data row18 col2\" >15.20</td>\n",
       "      <td id=\"T_b5ee2_row18_col3\" class=\"data row18 col3\" >-100.00</td>\n",
       "      <td id=\"T_b5ee2_row18_col4\" class=\"data row18 col4\" >-96.77</td>\n",
       "      <td id=\"T_b5ee2_row18_col5\" class=\"data row18 col5\" >-92.06</td>\n",
       "      <td id=\"T_b5ee2_row18_col6\" class=\"data row18 col6\" >-85.79</td>\n",
       "      <td id=\"T_b5ee2_row18_col7\" class=\"data row18 col7\" >-58.65</td>\n",
       "    </tr>\n",
       "    <tr>\n",
       "      <th id=\"T_b5ee2_level0_row19\" class=\"row_heading level0 row19\" >Media</th>\n",
       "      <td id=\"T_b5ee2_row19_col0\" class=\"data row19 col0\" >8.00</td>\n",
       "      <td id=\"T_b5ee2_row19_col1\" class=\"data row19 col1\" >-81.82</td>\n",
       "      <td id=\"T_b5ee2_row19_col2\" class=\"data row19 col2\" >32.02</td>\n",
       "      <td id=\"T_b5ee2_row19_col3\" class=\"data row19 col3\" >-97.39</td>\n",
       "      <td id=\"T_b5ee2_row19_col4\" class=\"data row19 col4\" >-93.96</td>\n",
       "      <td id=\"T_b5ee2_row19_col5\" class=\"data row19 col5\" >-92.12</td>\n",
       "      <td id=\"T_b5ee2_row19_col6\" class=\"data row19 col6\" >-91.17</td>\n",
       "      <td id=\"T_b5ee2_row19_col7\" class=\"data row19 col7\" >-2.80</td>\n",
       "    </tr>\n",
       "    <tr>\n",
       "      <th id=\"T_b5ee2_level0_row20\" class=\"row_heading level0 row20\" >Privacy Coin</th>\n",
       "      <td id=\"T_b5ee2_row20_col0\" class=\"data row20 col0\" >12.00</td>\n",
       "      <td id=\"T_b5ee2_row20_col1\" class=\"data row20 col1\" >-88.12</td>\n",
       "      <td id=\"T_b5ee2_row20_col2\" class=\"data row20 col2\" >11.83</td>\n",
       "      <td id=\"T_b5ee2_row20_col3\" class=\"data row20 col3\" >-99.97</td>\n",
       "      <td id=\"T_b5ee2_row20_col4\" class=\"data row20 col4\" >-99.08</td>\n",
       "      <td id=\"T_b5ee2_row20_col5\" class=\"data row20 col5\" >-92.15</td>\n",
       "      <td id=\"T_b5ee2_row20_col6\" class=\"data row20 col6\" >-77.48</td>\n",
       "      <td id=\"T_b5ee2_row20_col7\" class=\"data row20 col7\" >-69.55</td>\n",
       "    </tr>\n",
       "    <tr>\n",
       "      <th id=\"T_b5ee2_level0_row21\" class=\"row_heading level0 row21\" >Lending Platform</th>\n",
       "      <td id=\"T_b5ee2_row21_col0\" class=\"data row21 col0\" >6.00</td>\n",
       "      <td id=\"T_b5ee2_row21_col1\" class=\"data row21 col1\" >-89.27</td>\n",
       "      <td id=\"T_b5ee2_row21_col2\" class=\"data row21 col2\" >9.58</td>\n",
       "      <td id=\"T_b5ee2_row21_col3\" class=\"data row21 col3\" >-97.70</td>\n",
       "      <td id=\"T_b5ee2_row21_col4\" class=\"data row21 col4\" >-96.99</td>\n",
       "      <td id=\"T_b5ee2_row21_col5\" class=\"data row21 col5\" >-92.28</td>\n",
       "      <td id=\"T_b5ee2_row21_col6\" class=\"data row21 col6\" >-83.27</td>\n",
       "      <td id=\"T_b5ee2_row21_col7\" class=\"data row21 col7\" >-74.55</td>\n",
       "    </tr>\n",
       "    <tr>\n",
       "      <th id=\"T_b5ee2_level0_row22\" class=\"row_heading level0 row22\" >DeFi</th>\n",
       "      <td id=\"T_b5ee2_row22_col0\" class=\"data row22 col0\" >55.00</td>\n",
       "      <td id=\"T_b5ee2_row22_col1\" class=\"data row22 col1\" >-76.93</td>\n",
       "      <td id=\"T_b5ee2_row22_col2\" class=\"data row22 col2\" >28.83</td>\n",
       "      <td id=\"T_b5ee2_row22_col3\" class=\"data row22 col3\" >-99.99</td>\n",
       "      <td id=\"T_b5ee2_row22_col4\" class=\"data row22 col4\" >-96.06</td>\n",
       "      <td id=\"T_b5ee2_row22_col5\" class=\"data row22 col5\" >-92.80</td>\n",
       "      <td id=\"T_b5ee2_row22_col6\" class=\"data row22 col6\" >-64.02</td>\n",
       "      <td id=\"T_b5ee2_row22_col7\" class=\"data row22 col7\" >-0.45</td>\n",
       "    </tr>\n",
       "    <tr>\n",
       "      <th id=\"T_b5ee2_level0_row23\" class=\"row_heading level0 row23\" >Wallet</th>\n",
       "      <td id=\"T_b5ee2_row23_col0\" class=\"data row23 col0\" >6.00</td>\n",
       "      <td id=\"T_b5ee2_row23_col1\" class=\"data row23 col1\" >-93.89</td>\n",
       "      <td id=\"T_b5ee2_row23_col2\" class=\"data row23 col2\" >3.53</td>\n",
       "      <td id=\"T_b5ee2_row23_col3\" class=\"data row23 col3\" >-97.97</td>\n",
       "      <td id=\"T_b5ee2_row23_col4\" class=\"data row23 col4\" >-96.24</td>\n",
       "      <td id=\"T_b5ee2_row23_col5\" class=\"data row23 col5\" >-94.16</td>\n",
       "      <td id=\"T_b5ee2_row23_col6\" class=\"data row23 col6\" >-92.53</td>\n",
       "      <td id=\"T_b5ee2_row23_col7\" class=\"data row23 col7\" >-88.11</td>\n",
       "    </tr>\n",
       "    <tr>\n",
       "      <th id=\"T_b5ee2_level0_row24\" class=\"row_heading level0 row24\" >Play to Earn</th>\n",
       "      <td id=\"T_b5ee2_row24_col0\" class=\"data row24 col0\" >5.00</td>\n",
       "      <td id=\"T_b5ee2_row24_col1\" class=\"data row24 col1\" >-86.65</td>\n",
       "      <td id=\"T_b5ee2_row24_col2\" class=\"data row24 col2\" >12.46</td>\n",
       "      <td id=\"T_b5ee2_row24_col3\" class=\"data row24 col3\" >-96.57</td>\n",
       "      <td id=\"T_b5ee2_row24_col4\" class=\"data row24 col4\" >-95.47</td>\n",
       "      <td id=\"T_b5ee2_row24_col5\" class=\"data row24 col5\" >-94.95</td>\n",
       "      <td id=\"T_b5ee2_row24_col6\" class=\"data row24 col6\" >-75.48</td>\n",
       "      <td id=\"T_b5ee2_row24_col7\" class=\"data row24 col7\" >-70.79</td>\n",
       "    </tr>\n",
       "    <tr>\n",
       "      <th id=\"T_b5ee2_level0_row25\" class=\"row_heading level0 row25\" >NFT</th>\n",
       "      <td id=\"T_b5ee2_row25_col0\" class=\"data row25 col0\" >20.00</td>\n",
       "      <td id=\"T_b5ee2_row25_col1\" class=\"data row25 col1\" >-83.75</td>\n",
       "      <td id=\"T_b5ee2_row25_col2\" class=\"data row25 col2\" >23.21</td>\n",
       "      <td id=\"T_b5ee2_row25_col3\" class=\"data row25 col3\" >-98.83</td>\n",
       "      <td id=\"T_b5ee2_row25_col4\" class=\"data row25 col4\" >-97.83</td>\n",
       "      <td id=\"T_b5ee2_row25_col5\" class=\"data row25 col5\" >-95.47</td>\n",
       "      <td id=\"T_b5ee2_row25_col6\" class=\"data row25 col6\" >-77.24</td>\n",
       "      <td id=\"T_b5ee2_row25_col7\" class=\"data row25 col7\" >-4.47</td>\n",
       "    </tr>\n",
       "    <tr>\n",
       "      <th id=\"T_b5ee2_level0_row26\" class=\"row_heading level0 row26\" >Metaverse</th>\n",
       "      <td id=\"T_b5ee2_row26_col0\" class=\"data row26 col0\" >4.00</td>\n",
       "      <td id=\"T_b5ee2_row26_col1\" class=\"data row26 col1\" >-95.23</td>\n",
       "      <td id=\"T_b5ee2_row26_col2\" class=\"data row26 col2\" >2.91</td>\n",
       "      <td id=\"T_b5ee2_row26_col3\" class=\"data row26 col3\" >-97.82</td>\n",
       "      <td id=\"T_b5ee2_row26_col4\" class=\"data row26 col4\" >-96.72</td>\n",
       "      <td id=\"T_b5ee2_row26_col5\" class=\"data row26 col5\" >-96.00</td>\n",
       "      <td id=\"T_b5ee2_row26_col6\" class=\"data row26 col6\" >-94.51</td>\n",
       "      <td id=\"T_b5ee2_row26_col7\" class=\"data row26 col7\" >-91.08</td>\n",
       "    </tr>\n",
       "    <tr>\n",
       "      <th id=\"T_b5ee2_level0_row27\" class=\"row_heading level0 row27\" >Yield Farming</th>\n",
       "      <td id=\"T_b5ee2_row27_col0\" class=\"data row27 col0\" >5.00</td>\n",
       "      <td id=\"T_b5ee2_row27_col1\" class=\"data row27 col1\" >-91.91</td>\n",
       "      <td id=\"T_b5ee2_row27_col2\" class=\"data row27 col2\" >14.62</td>\n",
       "      <td id=\"T_b5ee2_row27_col3\" class=\"data row27 col3\" >-99.51</td>\n",
       "      <td id=\"T_b5ee2_row27_col4\" class=\"data row27 col4\" >-98.61</td>\n",
       "      <td id=\"T_b5ee2_row27_col5\" class=\"data row27 col5\" >-98.18</td>\n",
       "      <td id=\"T_b5ee2_row27_col6\" class=\"data row27 col6\" >-97.46</td>\n",
       "      <td id=\"T_b5ee2_row27_col7\" class=\"data row27 col7\" >-65.80</td>\n",
       "    </tr>\n",
       "  </tbody>\n",
       "</table>\n",
       "</div></div>"
      ],
      "text/plain": [
       "<IPython.core.display.HTML object>"
      ]
     },
     "metadata": {},
     "output_type": "display_data"
    }
   ],
   "source": [
    "side_by_side(avg_age_cat_gradient, drop_cat_gradient)"
   ]
  },
  {
   "cell_type": "code",
   "execution_count": 145,
   "metadata": {},
   "outputs": [
    {
     "data": {
      "application/vnd.plotly.v1+json": {
       "config": {
        "plotlyServerURL": "https://plot.ly"
       },
       "data": [
        {
         "alignmentgroup": "True",
         "cliponaxis": false,
         "hovertemplate": "%{x:.0f} days",
         "legendgroup": "",
         "marker": {
          "color": [
           2197.0434782608695,
           2135.9411764705883,
           1892.4285714285713,
           1735.4285714285713,
           1687.9583333333333,
           1592,
           1470.142857142857,
           1453,
           1436.4479166666667,
           1399.2727272727273,
           1381.3333333333333,
           1361.157894736842,
           1296.8461538461538,
           1251.2083333333333,
           1192.7272727272727,
           1124.6285714285714,
           1107.125,
           1092.4444444444443,
           1082.7307692307693,
           1060.3333333333333,
           1047.142857142857,
           1039.6363636363637,
           1039.3714285714286,
           1021.7142857142857,
           1008.6,
           1002.4494382022472,
           989,
           964.9230769230769,
           957.7777777777778,
           950.8333333333334,
           945.625,
           910.5625,
           897.5714285714286,
           883.1851851851852,
           876.6086956521739,
           872.271186440678,
           858.2,
           851.5555555555555,
           849.1698113207547,
           817.9354838709677,
           793.1111111111111,
           789.6521739130435,
           774.7241379310345,
           762.077922077922,
           759.5555555555555,
           746.4426229508197,
           692.875,
           579.7142857142857,
           525.8235294117648,
           523.2272727272727,
           492.3,
           399.57894736842104,
           392,
           239.30769230769232,
           231.58333333333334,
           26.7
          ],
          "coloraxis": "coloraxis",
          "pattern": {
           "shape": ""
          }
         },
         "name": "",
         "offsetgroup": "",
         "orientation": "h",
         "showlegend": false,
         "textangle": 0,
         "textfont": {
          "size": 12
         },
         "textposition": "outside",
         "texttemplate": "%{x:.0f} days",
         "type": "bar",
         "x": [
          2197.0434782608695,
          2135.9411764705883,
          1892.4285714285713,
          1735.4285714285713,
          1687.9583333333333,
          1592,
          1470.142857142857,
          1453,
          1436.4479166666667,
          1399.2727272727273,
          1381.3333333333333,
          1361.157894736842,
          1296.8461538461538,
          1251.2083333333333,
          1192.7272727272727,
          1124.6285714285714,
          1107.125,
          1092.4444444444443,
          1082.7307692307693,
          1060.3333333333333,
          1047.142857142857,
          1039.6363636363637,
          1039.3714285714286,
          1021.7142857142857,
          1008.6,
          1002.4494382022472,
          989,
          964.9230769230769,
          957.7777777777778,
          950.8333333333334,
          945.625,
          910.5625,
          897.5714285714286,
          883.1851851851852,
          876.6086956521739,
          872.271186440678,
          858.2,
          851.5555555555555,
          849.1698113207547,
          817.9354838709677,
          793.1111111111111,
          789.6521739130435,
          774.7241379310345,
          762.077922077922,
          759.5555555555555,
          746.4426229508197,
          692.875,
          579.7142857142857,
          525.8235294117648,
          523.2272727272727,
          492.3,
          399.57894736842104,
          392,
          239.30769230769232,
          231.58333333333334,
          26.7
         ],
         "xaxis": "x",
         "y": [
          "Nodes",
          "Privacy Coin",
          "IOT",
          "Storage",
          "Media",
          "Finance",
          "Big Data",
          "Cosmos Ecosystem",
          "Blockchain",
          "Backed Tokens",
          "Healthcare",
          "CEX",
          "Polkadot Ecosystem",
          "Oracle",
          "Gate.io Launchpad",
          "Infrastructure",
          "Entertainment",
          "Stablecoin",
          "Protocol",
          "Ignition IDO",
          "DuckStarter IDO",
          "Polkastarter IDO",
          "Sport",
          "Governance",
          "Avalanche Ecosystem",
          "DeFi",
          "DAO",
          "Polygon Ecosystem",
          "BSCPad IDO",
          "Yield Farming",
          "Wallet",
          "Lending Platform",
          "Metaverse",
          "Fan Token",
          "Play to Earn",
          "NFT",
          "Blockchain Service",
          "Solana Ecosystem",
          "Cryptocurrency",
          "BNB Chain Ecosystem",
          "Gambling",
          "Social",
          "Launchpad",
          "Gaming",
          "AMM",
          "DEX",
          "Layer-2",
          "Liquid Staking",
          "Web 3.0",
          "Artificial Intelligence (AI)",
          "Arbitrum Ecosystem",
          "Meme",
          "Ethereum Ecosystem",
          "Bitcoin Ecosystem",
          "Trading Bot",
          "ERC-404"
         ],
         "yaxis": "y"
        }
       ],
       "layout": {
        "autosize": false,
        "barmode": "relative",
        "coloraxis": {
         "colorbar": {
          "title": {
           "text": "mean"
          }
         },
         "colorscale": [
          [
           0,
           "#0d0887"
          ],
          [
           0.1111111111111111,
           "#46039f"
          ],
          [
           0.2222222222222222,
           "#7201a8"
          ],
          [
           0.3333333333333333,
           "#9c179e"
          ],
          [
           0.4444444444444444,
           "#bd3786"
          ],
          [
           0.5555555555555556,
           "#d8576b"
          ],
          [
           0.6666666666666666,
           "#ed7953"
          ],
          [
           0.7777777777777778,
           "#fb9f3a"
          ],
          [
           0.8888888888888888,
           "#fdca26"
          ],
          [
           1,
           "#f0f921"
          ]
         ],
         "showscale": false
        },
        "height": 600,
        "legend": {
         "tracegroupgap": 0
        },
        "margin": {
         "b": 0,
         "l": 0,
         "r": 50,
         "t": 50
        },
        "template": {
         "data": {
          "bar": [
           {
            "error_x": {
             "color": "#f2f5fa"
            },
            "error_y": {
             "color": "#f2f5fa"
            },
            "marker": {
             "line": {
              "color": "rgb(17,17,17)",
              "width": 0.5
             },
             "pattern": {
              "fillmode": "overlay",
              "size": 10,
              "solidity": 0.2
             }
            },
            "type": "bar"
           }
          ],
          "barpolar": [
           {
            "marker": {
             "line": {
              "color": "rgb(17,17,17)",
              "width": 0.5
             },
             "pattern": {
              "fillmode": "overlay",
              "size": 10,
              "solidity": 0.2
             }
            },
            "type": "barpolar"
           }
          ],
          "carpet": [
           {
            "aaxis": {
             "endlinecolor": "#A2B1C6",
             "gridcolor": "#506784",
             "linecolor": "#506784",
             "minorgridcolor": "#506784",
             "startlinecolor": "#A2B1C6"
            },
            "baxis": {
             "endlinecolor": "#A2B1C6",
             "gridcolor": "#506784",
             "linecolor": "#506784",
             "minorgridcolor": "#506784",
             "startlinecolor": "#A2B1C6"
            },
            "type": "carpet"
           }
          ],
          "choropleth": [
           {
            "colorbar": {
             "outlinewidth": 0,
             "ticks": ""
            },
            "type": "choropleth"
           }
          ],
          "contour": [
           {
            "colorbar": {
             "outlinewidth": 0,
             "ticks": ""
            },
            "colorscale": [
             [
              0,
              "#0d0887"
             ],
             [
              0.1111111111111111,
              "#46039f"
             ],
             [
              0.2222222222222222,
              "#7201a8"
             ],
             [
              0.3333333333333333,
              "#9c179e"
             ],
             [
              0.4444444444444444,
              "#bd3786"
             ],
             [
              0.5555555555555556,
              "#d8576b"
             ],
             [
              0.6666666666666666,
              "#ed7953"
             ],
             [
              0.7777777777777778,
              "#fb9f3a"
             ],
             [
              0.8888888888888888,
              "#fdca26"
             ],
             [
              1,
              "#f0f921"
             ]
            ],
            "type": "contour"
           }
          ],
          "contourcarpet": [
           {
            "colorbar": {
             "outlinewidth": 0,
             "ticks": ""
            },
            "type": "contourcarpet"
           }
          ],
          "heatmap": [
           {
            "colorbar": {
             "outlinewidth": 0,
             "ticks": ""
            },
            "colorscale": [
             [
              0,
              "#0d0887"
             ],
             [
              0.1111111111111111,
              "#46039f"
             ],
             [
              0.2222222222222222,
              "#7201a8"
             ],
             [
              0.3333333333333333,
              "#9c179e"
             ],
             [
              0.4444444444444444,
              "#bd3786"
             ],
             [
              0.5555555555555556,
              "#d8576b"
             ],
             [
              0.6666666666666666,
              "#ed7953"
             ],
             [
              0.7777777777777778,
              "#fb9f3a"
             ],
             [
              0.8888888888888888,
              "#fdca26"
             ],
             [
              1,
              "#f0f921"
             ]
            ],
            "type": "heatmap"
           }
          ],
          "heatmapgl": [
           {
            "colorbar": {
             "outlinewidth": 0,
             "ticks": ""
            },
            "colorscale": [
             [
              0,
              "#0d0887"
             ],
             [
              0.1111111111111111,
              "#46039f"
             ],
             [
              0.2222222222222222,
              "#7201a8"
             ],
             [
              0.3333333333333333,
              "#9c179e"
             ],
             [
              0.4444444444444444,
              "#bd3786"
             ],
             [
              0.5555555555555556,
              "#d8576b"
             ],
             [
              0.6666666666666666,
              "#ed7953"
             ],
             [
              0.7777777777777778,
              "#fb9f3a"
             ],
             [
              0.8888888888888888,
              "#fdca26"
             ],
             [
              1,
              "#f0f921"
             ]
            ],
            "type": "heatmapgl"
           }
          ],
          "histogram": [
           {
            "marker": {
             "pattern": {
              "fillmode": "overlay",
              "size": 10,
              "solidity": 0.2
             }
            },
            "type": "histogram"
           }
          ],
          "histogram2d": [
           {
            "colorbar": {
             "outlinewidth": 0,
             "ticks": ""
            },
            "colorscale": [
             [
              0,
              "#0d0887"
             ],
             [
              0.1111111111111111,
              "#46039f"
             ],
             [
              0.2222222222222222,
              "#7201a8"
             ],
             [
              0.3333333333333333,
              "#9c179e"
             ],
             [
              0.4444444444444444,
              "#bd3786"
             ],
             [
              0.5555555555555556,
              "#d8576b"
             ],
             [
              0.6666666666666666,
              "#ed7953"
             ],
             [
              0.7777777777777778,
              "#fb9f3a"
             ],
             [
              0.8888888888888888,
              "#fdca26"
             ],
             [
              1,
              "#f0f921"
             ]
            ],
            "type": "histogram2d"
           }
          ],
          "histogram2dcontour": [
           {
            "colorbar": {
             "outlinewidth": 0,
             "ticks": ""
            },
            "colorscale": [
             [
              0,
              "#0d0887"
             ],
             [
              0.1111111111111111,
              "#46039f"
             ],
             [
              0.2222222222222222,
              "#7201a8"
             ],
             [
              0.3333333333333333,
              "#9c179e"
             ],
             [
              0.4444444444444444,
              "#bd3786"
             ],
             [
              0.5555555555555556,
              "#d8576b"
             ],
             [
              0.6666666666666666,
              "#ed7953"
             ],
             [
              0.7777777777777778,
              "#fb9f3a"
             ],
             [
              0.8888888888888888,
              "#fdca26"
             ],
             [
              1,
              "#f0f921"
             ]
            ],
            "type": "histogram2dcontour"
           }
          ],
          "mesh3d": [
           {
            "colorbar": {
             "outlinewidth": 0,
             "ticks": ""
            },
            "type": "mesh3d"
           }
          ],
          "parcoords": [
           {
            "line": {
             "colorbar": {
              "outlinewidth": 0,
              "ticks": ""
             }
            },
            "type": "parcoords"
           }
          ],
          "pie": [
           {
            "automargin": true,
            "type": "pie"
           }
          ],
          "scatter": [
           {
            "marker": {
             "line": {
              "color": "#283442"
             }
            },
            "type": "scatter"
           }
          ],
          "scatter3d": [
           {
            "line": {
             "colorbar": {
              "outlinewidth": 0,
              "ticks": ""
             }
            },
            "marker": {
             "colorbar": {
              "outlinewidth": 0,
              "ticks": ""
             }
            },
            "type": "scatter3d"
           }
          ],
          "scattercarpet": [
           {
            "marker": {
             "colorbar": {
              "outlinewidth": 0,
              "ticks": ""
             }
            },
            "type": "scattercarpet"
           }
          ],
          "scattergeo": [
           {
            "marker": {
             "colorbar": {
              "outlinewidth": 0,
              "ticks": ""
             }
            },
            "type": "scattergeo"
           }
          ],
          "scattergl": [
           {
            "marker": {
             "line": {
              "color": "#283442"
             }
            },
            "type": "scattergl"
           }
          ],
          "scattermapbox": [
           {
            "marker": {
             "colorbar": {
              "outlinewidth": 0,
              "ticks": ""
             }
            },
            "type": "scattermapbox"
           }
          ],
          "scatterpolar": [
           {
            "marker": {
             "colorbar": {
              "outlinewidth": 0,
              "ticks": ""
             }
            },
            "type": "scatterpolar"
           }
          ],
          "scatterpolargl": [
           {
            "marker": {
             "colorbar": {
              "outlinewidth": 0,
              "ticks": ""
             }
            },
            "type": "scatterpolargl"
           }
          ],
          "scatterternary": [
           {
            "marker": {
             "colorbar": {
              "outlinewidth": 0,
              "ticks": ""
             }
            },
            "type": "scatterternary"
           }
          ],
          "surface": [
           {
            "colorbar": {
             "outlinewidth": 0,
             "ticks": ""
            },
            "colorscale": [
             [
              0,
              "#0d0887"
             ],
             [
              0.1111111111111111,
              "#46039f"
             ],
             [
              0.2222222222222222,
              "#7201a8"
             ],
             [
              0.3333333333333333,
              "#9c179e"
             ],
             [
              0.4444444444444444,
              "#bd3786"
             ],
             [
              0.5555555555555556,
              "#d8576b"
             ],
             [
              0.6666666666666666,
              "#ed7953"
             ],
             [
              0.7777777777777778,
              "#fb9f3a"
             ],
             [
              0.8888888888888888,
              "#fdca26"
             ],
             [
              1,
              "#f0f921"
             ]
            ],
            "type": "surface"
           }
          ],
          "table": [
           {
            "cells": {
             "fill": {
              "color": "#506784"
             },
             "line": {
              "color": "rgb(17,17,17)"
             }
            },
            "header": {
             "fill": {
              "color": "#2a3f5f"
             },
             "line": {
              "color": "rgb(17,17,17)"
             }
            },
            "type": "table"
           }
          ]
         },
         "layout": {
          "annotationdefaults": {
           "arrowcolor": "#f2f5fa",
           "arrowhead": 0,
           "arrowwidth": 1
          },
          "autotypenumbers": "strict",
          "coloraxis": {
           "colorbar": {
            "outlinewidth": 0,
            "ticks": ""
           }
          },
          "colorscale": {
           "diverging": [
            [
             0,
             "#8e0152"
            ],
            [
             0.1,
             "#c51b7d"
            ],
            [
             0.2,
             "#de77ae"
            ],
            [
             0.3,
             "#f1b6da"
            ],
            [
             0.4,
             "#fde0ef"
            ],
            [
             0.5,
             "#f7f7f7"
            ],
            [
             0.6,
             "#e6f5d0"
            ],
            [
             0.7,
             "#b8e186"
            ],
            [
             0.8,
             "#7fbc41"
            ],
            [
             0.9,
             "#4d9221"
            ],
            [
             1,
             "#276419"
            ]
           ],
           "sequential": [
            [
             0,
             "#0d0887"
            ],
            [
             0.1111111111111111,
             "#46039f"
            ],
            [
             0.2222222222222222,
             "#7201a8"
            ],
            [
             0.3333333333333333,
             "#9c179e"
            ],
            [
             0.4444444444444444,
             "#bd3786"
            ],
            [
             0.5555555555555556,
             "#d8576b"
            ],
            [
             0.6666666666666666,
             "#ed7953"
            ],
            [
             0.7777777777777778,
             "#fb9f3a"
            ],
            [
             0.8888888888888888,
             "#fdca26"
            ],
            [
             1,
             "#f0f921"
            ]
           ],
           "sequentialminus": [
            [
             0,
             "#0d0887"
            ],
            [
             0.1111111111111111,
             "#46039f"
            ],
            [
             0.2222222222222222,
             "#7201a8"
            ],
            [
             0.3333333333333333,
             "#9c179e"
            ],
            [
             0.4444444444444444,
             "#bd3786"
            ],
            [
             0.5555555555555556,
             "#d8576b"
            ],
            [
             0.6666666666666666,
             "#ed7953"
            ],
            [
             0.7777777777777778,
             "#fb9f3a"
            ],
            [
             0.8888888888888888,
             "#fdca26"
            ],
            [
             1,
             "#f0f921"
            ]
           ]
          },
          "colorway": [
           "#636efa",
           "#EF553B",
           "#00cc96",
           "#ab63fa",
           "#FFA15A",
           "#19d3f3",
           "#FF6692",
           "#B6E880",
           "#FF97FF",
           "#FECB52"
          ],
          "font": {
           "color": "#f2f5fa"
          },
          "geo": {
           "bgcolor": "rgb(17,17,17)",
           "lakecolor": "rgb(17,17,17)",
           "landcolor": "rgb(17,17,17)",
           "showlakes": true,
           "showland": true,
           "subunitcolor": "#506784"
          },
          "hoverlabel": {
           "align": "left"
          },
          "hovermode": "closest",
          "mapbox": {
           "style": "dark"
          },
          "paper_bgcolor": "rgb(17,17,17)",
          "plot_bgcolor": "rgb(17,17,17)",
          "polar": {
           "angularaxis": {
            "gridcolor": "#506784",
            "linecolor": "#506784",
            "ticks": ""
           },
           "bgcolor": "rgb(17,17,17)",
           "radialaxis": {
            "gridcolor": "#506784",
            "linecolor": "#506784",
            "ticks": ""
           }
          },
          "scene": {
           "xaxis": {
            "backgroundcolor": "rgb(17,17,17)",
            "gridcolor": "#506784",
            "gridwidth": 2,
            "linecolor": "#506784",
            "showbackground": true,
            "ticks": "",
            "zerolinecolor": "#C8D4E3"
           },
           "yaxis": {
            "backgroundcolor": "rgb(17,17,17)",
            "gridcolor": "#506784",
            "gridwidth": 2,
            "linecolor": "#506784",
            "showbackground": true,
            "ticks": "",
            "zerolinecolor": "#C8D4E3"
           },
           "zaxis": {
            "backgroundcolor": "rgb(17,17,17)",
            "gridcolor": "#506784",
            "gridwidth": 2,
            "linecolor": "#506784",
            "showbackground": true,
            "ticks": "",
            "zerolinecolor": "#C8D4E3"
           }
          },
          "shapedefaults": {
           "line": {
            "color": "#f2f5fa"
           }
          },
          "sliderdefaults": {
           "bgcolor": "#C8D4E3",
           "bordercolor": "rgb(17,17,17)",
           "borderwidth": 1,
           "tickwidth": 0
          },
          "ternary": {
           "aaxis": {
            "gridcolor": "#506784",
            "linecolor": "#506784",
            "ticks": ""
           },
           "baxis": {
            "gridcolor": "#506784",
            "linecolor": "#506784",
            "ticks": ""
           },
           "bgcolor": "rgb(17,17,17)",
           "caxis": {
            "gridcolor": "#506784",
            "linecolor": "#506784",
            "ticks": ""
           }
          },
          "title": {
           "x": 0.05
          },
          "updatemenudefaults": {
           "bgcolor": "#506784",
           "borderwidth": 0
          },
          "xaxis": {
           "automargin": true,
           "gridcolor": "#283442",
           "linecolor": "#506784",
           "ticks": "",
           "title": {
            "standoff": 15
           },
           "zerolinecolor": "#283442",
           "zerolinewidth": 2
          },
          "yaxis": {
           "automargin": true,
           "gridcolor": "#283442",
           "linecolor": "#506784",
           "ticks": "",
           "title": {
            "standoff": 15
           },
           "zerolinecolor": "#283442",
           "zerolinewidth": 2
          }
         }
        },
        "title": {
         "text": "Mean Age of Tokens by Category"
        },
        "width": 800,
        "xaxis": {
         "anchor": "y",
         "domain": [
          0,
          1
         ],
         "showgrid": false,
         "showticklabels": false,
         "title": {
          "text": ""
         }
        },
        "yaxis": {
         "anchor": "x",
         "domain": [
          0,
          1
         ],
         "title": {
          "text": "y"
         }
        }
       }
      }
     },
     "metadata": {},
     "output_type": "display_data"
    }
   ],
   "source": [
    "fig = px.bar(avg_age_cat[avg_age_cat['count'] > 6].sort_values(by='mean', ascending=False),\n",
    "             x='mean', \n",
    "             y=avg_age_cat[avg_age_cat['count'] > 6].index, \n",
    "             color='mean', \n",
    "             title='Mean Age of Tokens by Category', \n",
    "             labels={'Mean': 'Mean', 'index': 'Category'},\n",
    "             text_auto=True)\n",
    "\n",
    "\n",
    "fig.update_traces(textfont_size=12, \n",
    "                  textangle=0, \n",
    "                  textposition=\"outside\", \n",
    "                  cliponaxis=False,\n",
    "                  hovertemplate='%{x:.0f} days', \n",
    "                  texttemplate='%{x:.0f} days')\n",
    "fig.update_xaxes(showgrid=False, showticklabels=False, title='')\n",
    "# fig.update_yaxes(categoryorder='total ascending')\n",
    "# fig.update_xaxes(autorange='reversed')\n",
    "fig.update_layout(autosize=False, width=800, height=600, \n",
    "                  margin=dict(l=0, r=50, t=50, b=0),\n",
    "                  coloraxis_showscale=False)\n",
    "fig.show()"
   ]
  },
  {
   "cell_type": "code",
   "execution_count": 139,
   "metadata": {},
   "outputs": [
    {
     "data": {
      "application/vnd.plotly.v1+json": {
       "config": {
        "plotlyServerURL": "https://plot.ly"
       },
       "data": [
        {
         "alignmentgroup": "True",
         "hovertemplate": "mean=%{marker.color}<br>Category=%{y}<extra></extra>",
         "legendgroup": "",
         "marker": {
          "color": [
           -28.772857142857145,
           -26.892500000000002,
           -50.882,
           -49.46846153846153,
           -55.77333333333333,
           -65.69083333333333,
           -64.29,
           -68.3835294117647,
           -67.96083333333333,
           -69.46666666666667,
           -72.43285714285715,
           -73.59328124999999,
           -71.94794871794872,
           -85.3825,
           -73.53727272727274,
           -77.1575,
           -86.10285714285715,
           -86.63,
           -87.46666666666665,
           -81.81625,
           -88.11916666666667,
           -89.27166666666666,
           -76.9269090909091,
           -93.88666666666667,
           -86.652,
           -83.753,
           -95.2275,
           -91.912
          ],
          "coloraxis": "coloraxis",
          "pattern": {
           "shape": ""
          }
         },
         "name": "",
         "offsetgroup": "",
         "orientation": "h",
         "showlegend": false,
         "textposition": "auto",
         "type": "bar",
         "x": [
          -28.772857142857145,
          -26.892500000000002,
          -50.882,
          -49.46846153846153,
          -55.77333333333333,
          -65.69083333333333,
          -64.29,
          -68.3835294117647,
          -67.96083333333333,
          -69.46666666666667,
          -72.43285714285715,
          -73.59328124999999,
          -71.94794871794872,
          -85.3825,
          -73.53727272727274,
          -77.1575,
          -86.10285714285715,
          -86.63,
          -87.46666666666665,
          -81.81625,
          -88.11916666666667,
          -89.27166666666666,
          -76.9269090909091,
          -93.88666666666667,
          -86.652,
          -83.753,
          -95.2275,
          -91.912
         ],
         "xaxis": "x",
         "y": [
          "Artificial Intelligence (AI)",
          "Stablecoin",
          "Backed Tokens",
          "DEX",
          "Layer-2",
          "CEX",
          "Big Data",
          "Meme",
          "Blockchain Service",
          "Oracle",
          "Protocol",
          "Blockchain",
          "Gaming",
          "Cryptocurrency",
          "Infrastructure",
          "Social",
          "Finance",
          "Cosmos Ecosystem",
          "Web 3.0",
          "Media",
          "Privacy Coin",
          "Lending Platform",
          "DeFi",
          "Wallet",
          "Play to Earn",
          "NFT",
          "Metaverse",
          "Yield Farming"
         ],
         "yaxis": "y"
        }
       ],
       "layout": {
        "annotations": [
         {
          "font": {
           "color": "white",
           "size": 11
          },
          "showarrow": false,
          "text": "-28.77",
          "x": -28.772857142857145,
          "xshift": 14,
          "y": "Artificial Intelligence (AI)"
         },
         {
          "font": {
           "color": "white",
           "size": 11
          },
          "showarrow": false,
          "text": "-26.89",
          "x": -26.892500000000002,
          "xshift": 14,
          "y": "Stablecoin"
         },
         {
          "font": {
           "color": "white",
           "size": 11
          },
          "showarrow": false,
          "text": "-50.88",
          "x": -50.882,
          "xshift": 14,
          "y": "Backed Tokens"
         },
         {
          "font": {
           "color": "white",
           "size": 11
          },
          "showarrow": false,
          "text": "-49.47",
          "x": -49.46846153846153,
          "xshift": 14,
          "y": "DEX"
         },
         {
          "font": {
           "color": "white",
           "size": 11
          },
          "showarrow": false,
          "text": "-55.77",
          "x": -55.77333333333333,
          "xshift": 14,
          "y": "Layer-2"
         },
         {
          "font": {
           "color": "white",
           "size": 11
          },
          "showarrow": false,
          "text": "-65.69",
          "x": -65.69083333333333,
          "xshift": 14,
          "y": "CEX"
         },
         {
          "font": {
           "color": "white",
           "size": 11
          },
          "showarrow": false,
          "text": "-64.29",
          "x": -64.29,
          "xshift": 14,
          "y": "Big Data"
         },
         {
          "font": {
           "color": "white",
           "size": 11
          },
          "showarrow": false,
          "text": "-68.38",
          "x": -68.3835294117647,
          "xshift": 14,
          "y": "Meme"
         },
         {
          "font": {
           "color": "white",
           "size": 11
          },
          "showarrow": false,
          "text": "-67.96",
          "x": -67.96083333333333,
          "xshift": 14,
          "y": "Blockchain Service"
         },
         {
          "font": {
           "color": "white",
           "size": 11
          },
          "showarrow": false,
          "text": "-69.47",
          "x": -69.46666666666667,
          "xshift": 14,
          "y": "Oracle"
         },
         {
          "font": {
           "color": "white",
           "size": 11
          },
          "showarrow": false,
          "text": "-72.43",
          "x": -72.43285714285715,
          "xshift": 14,
          "y": "Protocol"
         },
         {
          "font": {
           "color": "white",
           "size": 11
          },
          "showarrow": false,
          "text": "-73.59",
          "x": -73.59328124999999,
          "xshift": 14,
          "y": "Blockchain"
         },
         {
          "font": {
           "color": "white",
           "size": 11
          },
          "showarrow": false,
          "text": "-71.95",
          "x": -71.94794871794872,
          "xshift": 14,
          "y": "Gaming"
         },
         {
          "font": {
           "color": "white",
           "size": 11
          },
          "showarrow": false,
          "text": "-85.38",
          "x": -85.3825,
          "xshift": 14,
          "y": "Cryptocurrency"
         },
         {
          "font": {
           "color": "white",
           "size": 11
          },
          "showarrow": false,
          "text": "-73.54",
          "x": -73.53727272727274,
          "xshift": 14,
          "y": "Infrastructure"
         },
         {
          "font": {
           "color": "white",
           "size": 11
          },
          "showarrow": false,
          "text": "-77.16",
          "x": -77.1575,
          "xshift": 14,
          "y": "Social"
         },
         {
          "font": {
           "color": "white",
           "size": 11
          },
          "showarrow": false,
          "text": "-86.10",
          "x": -86.10285714285715,
          "xshift": 14,
          "y": "Finance"
         },
         {
          "font": {
           "color": "white",
           "size": 11
          },
          "showarrow": false,
          "text": "-86.63",
          "x": -86.63,
          "xshift": 14,
          "y": "Cosmos Ecosystem"
         },
         {
          "font": {
           "color": "white",
           "size": 11
          },
          "showarrow": false,
          "text": "-87.47",
          "x": -87.46666666666665,
          "xshift": 14,
          "y": "Web 3.0"
         },
         {
          "font": {
           "color": "white",
           "size": 11
          },
          "showarrow": false,
          "text": "-81.82",
          "x": -81.81625,
          "xshift": 14,
          "y": "Media"
         },
         {
          "font": {
           "color": "white",
           "size": 11
          },
          "showarrow": false,
          "text": "-88.12",
          "x": -88.11916666666667,
          "xshift": 14,
          "y": "Privacy Coin"
         },
         {
          "font": {
           "color": "white",
           "size": 11
          },
          "showarrow": false,
          "text": "-89.27",
          "x": -89.27166666666666,
          "xshift": 14,
          "y": "Lending Platform"
         },
         {
          "font": {
           "color": "white",
           "size": 11
          },
          "showarrow": false,
          "text": "-76.93",
          "x": -76.9269090909091,
          "xshift": 14,
          "y": "DeFi"
         },
         {
          "font": {
           "color": "white",
           "size": 11
          },
          "showarrow": false,
          "text": "-93.89",
          "x": -93.88666666666667,
          "xshift": 14,
          "y": "Wallet"
         },
         {
          "font": {
           "color": "white",
           "size": 11
          },
          "showarrow": false,
          "text": "-86.65",
          "x": -86.652,
          "xshift": 14,
          "y": "Play to Earn"
         },
         {
          "font": {
           "color": "white",
           "size": 11
          },
          "showarrow": false,
          "text": "-83.75",
          "x": -83.753,
          "xshift": 14,
          "y": "NFT"
         },
         {
          "font": {
           "color": "white",
           "size": 11
          },
          "showarrow": false,
          "text": "-95.23",
          "x": -95.2275,
          "xshift": 14,
          "y": "Metaverse"
         },
         {
          "font": {
           "color": "white",
           "size": 11
          },
          "showarrow": false,
          "text": "-91.91",
          "x": -91.912,
          "xshift": 14,
          "y": "Yield Farming"
         }
        ],
        "autosize": false,
        "barmode": "relative",
        "coloraxis": {
         "colorbar": {
          "title": {
           "text": "mean"
          }
         },
         "colorscale": [
          [
           0,
           "#0d0887"
          ],
          [
           0.1111111111111111,
           "#46039f"
          ],
          [
           0.2222222222222222,
           "#7201a8"
          ],
          [
           0.3333333333333333,
           "#9c179e"
          ],
          [
           0.4444444444444444,
           "#bd3786"
          ],
          [
           0.5555555555555556,
           "#d8576b"
          ],
          [
           0.6666666666666666,
           "#ed7953"
          ],
          [
           0.7777777777777778,
           "#fb9f3a"
          ],
          [
           0.8888888888888888,
           "#fdca26"
          ],
          [
           1,
           "#f0f921"
          ]
         ],
         "showscale": false
        },
        "height": 500,
        "legend": {
         "tracegroupgap": 0
        },
        "margin": {
         "b": 0,
         "l": 0,
         "r": 50,
         "t": 50
        },
        "template": {
         "data": {
          "bar": [
           {
            "error_x": {
             "color": "#f2f5fa"
            },
            "error_y": {
             "color": "#f2f5fa"
            },
            "marker": {
             "line": {
              "color": "rgb(17,17,17)",
              "width": 0.5
             },
             "pattern": {
              "fillmode": "overlay",
              "size": 10,
              "solidity": 0.2
             }
            },
            "type": "bar"
           }
          ],
          "barpolar": [
           {
            "marker": {
             "line": {
              "color": "rgb(17,17,17)",
              "width": 0.5
             },
             "pattern": {
              "fillmode": "overlay",
              "size": 10,
              "solidity": 0.2
             }
            },
            "type": "barpolar"
           }
          ],
          "carpet": [
           {
            "aaxis": {
             "endlinecolor": "#A2B1C6",
             "gridcolor": "#506784",
             "linecolor": "#506784",
             "minorgridcolor": "#506784",
             "startlinecolor": "#A2B1C6"
            },
            "baxis": {
             "endlinecolor": "#A2B1C6",
             "gridcolor": "#506784",
             "linecolor": "#506784",
             "minorgridcolor": "#506784",
             "startlinecolor": "#A2B1C6"
            },
            "type": "carpet"
           }
          ],
          "choropleth": [
           {
            "colorbar": {
             "outlinewidth": 0,
             "ticks": ""
            },
            "type": "choropleth"
           }
          ],
          "contour": [
           {
            "colorbar": {
             "outlinewidth": 0,
             "ticks": ""
            },
            "colorscale": [
             [
              0,
              "#0d0887"
             ],
             [
              0.1111111111111111,
              "#46039f"
             ],
             [
              0.2222222222222222,
              "#7201a8"
             ],
             [
              0.3333333333333333,
              "#9c179e"
             ],
             [
              0.4444444444444444,
              "#bd3786"
             ],
             [
              0.5555555555555556,
              "#d8576b"
             ],
             [
              0.6666666666666666,
              "#ed7953"
             ],
             [
              0.7777777777777778,
              "#fb9f3a"
             ],
             [
              0.8888888888888888,
              "#fdca26"
             ],
             [
              1,
              "#f0f921"
             ]
            ],
            "type": "contour"
           }
          ],
          "contourcarpet": [
           {
            "colorbar": {
             "outlinewidth": 0,
             "ticks": ""
            },
            "type": "contourcarpet"
           }
          ],
          "heatmap": [
           {
            "colorbar": {
             "outlinewidth": 0,
             "ticks": ""
            },
            "colorscale": [
             [
              0,
              "#0d0887"
             ],
             [
              0.1111111111111111,
              "#46039f"
             ],
             [
              0.2222222222222222,
              "#7201a8"
             ],
             [
              0.3333333333333333,
              "#9c179e"
             ],
             [
              0.4444444444444444,
              "#bd3786"
             ],
             [
              0.5555555555555556,
              "#d8576b"
             ],
             [
              0.6666666666666666,
              "#ed7953"
             ],
             [
              0.7777777777777778,
              "#fb9f3a"
             ],
             [
              0.8888888888888888,
              "#fdca26"
             ],
             [
              1,
              "#f0f921"
             ]
            ],
            "type": "heatmap"
           }
          ],
          "heatmapgl": [
           {
            "colorbar": {
             "outlinewidth": 0,
             "ticks": ""
            },
            "colorscale": [
             [
              0,
              "#0d0887"
             ],
             [
              0.1111111111111111,
              "#46039f"
             ],
             [
              0.2222222222222222,
              "#7201a8"
             ],
             [
              0.3333333333333333,
              "#9c179e"
             ],
             [
              0.4444444444444444,
              "#bd3786"
             ],
             [
              0.5555555555555556,
              "#d8576b"
             ],
             [
              0.6666666666666666,
              "#ed7953"
             ],
             [
              0.7777777777777778,
              "#fb9f3a"
             ],
             [
              0.8888888888888888,
              "#fdca26"
             ],
             [
              1,
              "#f0f921"
             ]
            ],
            "type": "heatmapgl"
           }
          ],
          "histogram": [
           {
            "marker": {
             "pattern": {
              "fillmode": "overlay",
              "size": 10,
              "solidity": 0.2
             }
            },
            "type": "histogram"
           }
          ],
          "histogram2d": [
           {
            "colorbar": {
             "outlinewidth": 0,
             "ticks": ""
            },
            "colorscale": [
             [
              0,
              "#0d0887"
             ],
             [
              0.1111111111111111,
              "#46039f"
             ],
             [
              0.2222222222222222,
              "#7201a8"
             ],
             [
              0.3333333333333333,
              "#9c179e"
             ],
             [
              0.4444444444444444,
              "#bd3786"
             ],
             [
              0.5555555555555556,
              "#d8576b"
             ],
             [
              0.6666666666666666,
              "#ed7953"
             ],
             [
              0.7777777777777778,
              "#fb9f3a"
             ],
             [
              0.8888888888888888,
              "#fdca26"
             ],
             [
              1,
              "#f0f921"
             ]
            ],
            "type": "histogram2d"
           }
          ],
          "histogram2dcontour": [
           {
            "colorbar": {
             "outlinewidth": 0,
             "ticks": ""
            },
            "colorscale": [
             [
              0,
              "#0d0887"
             ],
             [
              0.1111111111111111,
              "#46039f"
             ],
             [
              0.2222222222222222,
              "#7201a8"
             ],
             [
              0.3333333333333333,
              "#9c179e"
             ],
             [
              0.4444444444444444,
              "#bd3786"
             ],
             [
              0.5555555555555556,
              "#d8576b"
             ],
             [
              0.6666666666666666,
              "#ed7953"
             ],
             [
              0.7777777777777778,
              "#fb9f3a"
             ],
             [
              0.8888888888888888,
              "#fdca26"
             ],
             [
              1,
              "#f0f921"
             ]
            ],
            "type": "histogram2dcontour"
           }
          ],
          "mesh3d": [
           {
            "colorbar": {
             "outlinewidth": 0,
             "ticks": ""
            },
            "type": "mesh3d"
           }
          ],
          "parcoords": [
           {
            "line": {
             "colorbar": {
              "outlinewidth": 0,
              "ticks": ""
             }
            },
            "type": "parcoords"
           }
          ],
          "pie": [
           {
            "automargin": true,
            "type": "pie"
           }
          ],
          "scatter": [
           {
            "marker": {
             "line": {
              "color": "#283442"
             }
            },
            "type": "scatter"
           }
          ],
          "scatter3d": [
           {
            "line": {
             "colorbar": {
              "outlinewidth": 0,
              "ticks": ""
             }
            },
            "marker": {
             "colorbar": {
              "outlinewidth": 0,
              "ticks": ""
             }
            },
            "type": "scatter3d"
           }
          ],
          "scattercarpet": [
           {
            "marker": {
             "colorbar": {
              "outlinewidth": 0,
              "ticks": ""
             }
            },
            "type": "scattercarpet"
           }
          ],
          "scattergeo": [
           {
            "marker": {
             "colorbar": {
              "outlinewidth": 0,
              "ticks": ""
             }
            },
            "type": "scattergeo"
           }
          ],
          "scattergl": [
           {
            "marker": {
             "line": {
              "color": "#283442"
             }
            },
            "type": "scattergl"
           }
          ],
          "scattermapbox": [
           {
            "marker": {
             "colorbar": {
              "outlinewidth": 0,
              "ticks": ""
             }
            },
            "type": "scattermapbox"
           }
          ],
          "scatterpolar": [
           {
            "marker": {
             "colorbar": {
              "outlinewidth": 0,
              "ticks": ""
             }
            },
            "type": "scatterpolar"
           }
          ],
          "scatterpolargl": [
           {
            "marker": {
             "colorbar": {
              "outlinewidth": 0,
              "ticks": ""
             }
            },
            "type": "scatterpolargl"
           }
          ],
          "scatterternary": [
           {
            "marker": {
             "colorbar": {
              "outlinewidth": 0,
              "ticks": ""
             }
            },
            "type": "scatterternary"
           }
          ],
          "surface": [
           {
            "colorbar": {
             "outlinewidth": 0,
             "ticks": ""
            },
            "colorscale": [
             [
              0,
              "#0d0887"
             ],
             [
              0.1111111111111111,
              "#46039f"
             ],
             [
              0.2222222222222222,
              "#7201a8"
             ],
             [
              0.3333333333333333,
              "#9c179e"
             ],
             [
              0.4444444444444444,
              "#bd3786"
             ],
             [
              0.5555555555555556,
              "#d8576b"
             ],
             [
              0.6666666666666666,
              "#ed7953"
             ],
             [
              0.7777777777777778,
              "#fb9f3a"
             ],
             [
              0.8888888888888888,
              "#fdca26"
             ],
             [
              1,
              "#f0f921"
             ]
            ],
            "type": "surface"
           }
          ],
          "table": [
           {
            "cells": {
             "fill": {
              "color": "#506784"
             },
             "line": {
              "color": "rgb(17,17,17)"
             }
            },
            "header": {
             "fill": {
              "color": "#2a3f5f"
             },
             "line": {
              "color": "rgb(17,17,17)"
             }
            },
            "type": "table"
           }
          ]
         },
         "layout": {
          "annotationdefaults": {
           "arrowcolor": "#f2f5fa",
           "arrowhead": 0,
           "arrowwidth": 1
          },
          "autotypenumbers": "strict",
          "coloraxis": {
           "colorbar": {
            "outlinewidth": 0,
            "ticks": ""
           }
          },
          "colorscale": {
           "diverging": [
            [
             0,
             "#8e0152"
            ],
            [
             0.1,
             "#c51b7d"
            ],
            [
             0.2,
             "#de77ae"
            ],
            [
             0.3,
             "#f1b6da"
            ],
            [
             0.4,
             "#fde0ef"
            ],
            [
             0.5,
             "#f7f7f7"
            ],
            [
             0.6,
             "#e6f5d0"
            ],
            [
             0.7,
             "#b8e186"
            ],
            [
             0.8,
             "#7fbc41"
            ],
            [
             0.9,
             "#4d9221"
            ],
            [
             1,
             "#276419"
            ]
           ],
           "sequential": [
            [
             0,
             "#0d0887"
            ],
            [
             0.1111111111111111,
             "#46039f"
            ],
            [
             0.2222222222222222,
             "#7201a8"
            ],
            [
             0.3333333333333333,
             "#9c179e"
            ],
            [
             0.4444444444444444,
             "#bd3786"
            ],
            [
             0.5555555555555556,
             "#d8576b"
            ],
            [
             0.6666666666666666,
             "#ed7953"
            ],
            [
             0.7777777777777778,
             "#fb9f3a"
            ],
            [
             0.8888888888888888,
             "#fdca26"
            ],
            [
             1,
             "#f0f921"
            ]
           ],
           "sequentialminus": [
            [
             0,
             "#0d0887"
            ],
            [
             0.1111111111111111,
             "#46039f"
            ],
            [
             0.2222222222222222,
             "#7201a8"
            ],
            [
             0.3333333333333333,
             "#9c179e"
            ],
            [
             0.4444444444444444,
             "#bd3786"
            ],
            [
             0.5555555555555556,
             "#d8576b"
            ],
            [
             0.6666666666666666,
             "#ed7953"
            ],
            [
             0.7777777777777778,
             "#fb9f3a"
            ],
            [
             0.8888888888888888,
             "#fdca26"
            ],
            [
             1,
             "#f0f921"
            ]
           ]
          },
          "colorway": [
           "#636efa",
           "#EF553B",
           "#00cc96",
           "#ab63fa",
           "#FFA15A",
           "#19d3f3",
           "#FF6692",
           "#B6E880",
           "#FF97FF",
           "#FECB52"
          ],
          "font": {
           "color": "#f2f5fa"
          },
          "geo": {
           "bgcolor": "rgb(17,17,17)",
           "lakecolor": "rgb(17,17,17)",
           "landcolor": "rgb(17,17,17)",
           "showlakes": true,
           "showland": true,
           "subunitcolor": "#506784"
          },
          "hoverlabel": {
           "align": "left"
          },
          "hovermode": "closest",
          "mapbox": {
           "style": "dark"
          },
          "paper_bgcolor": "rgb(17,17,17)",
          "plot_bgcolor": "rgb(17,17,17)",
          "polar": {
           "angularaxis": {
            "gridcolor": "#506784",
            "linecolor": "#506784",
            "ticks": ""
           },
           "bgcolor": "rgb(17,17,17)",
           "radialaxis": {
            "gridcolor": "#506784",
            "linecolor": "#506784",
            "ticks": ""
           }
          },
          "scene": {
           "xaxis": {
            "backgroundcolor": "rgb(17,17,17)",
            "gridcolor": "#506784",
            "gridwidth": 2,
            "linecolor": "#506784",
            "showbackground": true,
            "ticks": "",
            "zerolinecolor": "#C8D4E3"
           },
           "yaxis": {
            "backgroundcolor": "rgb(17,17,17)",
            "gridcolor": "#506784",
            "gridwidth": 2,
            "linecolor": "#506784",
            "showbackground": true,
            "ticks": "",
            "zerolinecolor": "#C8D4E3"
           },
           "zaxis": {
            "backgroundcolor": "rgb(17,17,17)",
            "gridcolor": "#506784",
            "gridwidth": 2,
            "linecolor": "#506784",
            "showbackground": true,
            "ticks": "",
            "zerolinecolor": "#C8D4E3"
           }
          },
          "shapedefaults": {
           "line": {
            "color": "#f2f5fa"
           }
          },
          "sliderdefaults": {
           "bgcolor": "#C8D4E3",
           "bordercolor": "rgb(17,17,17)",
           "borderwidth": 1,
           "tickwidth": 0
          },
          "ternary": {
           "aaxis": {
            "gridcolor": "#506784",
            "linecolor": "#506784",
            "ticks": ""
           },
           "baxis": {
            "gridcolor": "#506784",
            "linecolor": "#506784",
            "ticks": ""
           },
           "bgcolor": "rgb(17,17,17)",
           "caxis": {
            "gridcolor": "#506784",
            "linecolor": "#506784",
            "ticks": ""
           }
          },
          "title": {
           "x": 0.05
          },
          "updatemenudefaults": {
           "bgcolor": "#506784",
           "borderwidth": 0
          },
          "xaxis": {
           "automargin": true,
           "gridcolor": "#283442",
           "linecolor": "#506784",
           "ticks": "",
           "title": {
            "standoff": 15
           },
           "zerolinecolor": "#283442",
           "zerolinewidth": 2
          },
          "yaxis": {
           "automargin": true,
           "gridcolor": "#283442",
           "linecolor": "#506784",
           "ticks": "",
           "title": {
            "standoff": 15
           },
           "zerolinecolor": "#283442",
           "zerolinewidth": 2
          }
         }
        },
        "title": {
         "text": "Mean % from ATH by Category"
        },
        "width": 800,
        "xaxis": {
         "anchor": "y",
         "autorange": "reversed",
         "domain": [
          0,
          1
         ],
         "showgrid": false,
         "showticklabels": false,
         "title": {
          "text": ""
         }
        },
        "yaxis": {
         "anchor": "x",
         "categoryorder": "total ascending",
         "domain": [
          0,
          1
         ],
         "title": {
          "text": "Category"
         }
        }
       }
      }
     },
     "metadata": {},
     "output_type": "display_data"
    }
   ],
   "source": [
    "fig = px.bar(drop_cat, \n",
    "             x='mean', \n",
    "             y=drop_cat.index, \n",
    "             color='mean', \n",
    "             title='Mean % from ATH by Category', \n",
    "             labels={'Mean': '% from ATH', 'index': 'Category'})\n",
    "\n",
    "for i in range(len(drop_cat)):\n",
    "    fig.add_annotation(x=drop_cat['mean'][i], y=drop_cat.index[i], \n",
    "                       text=f'{drop_cat[\"mean\"][i]:.2f}', \n",
    "                       showarrow=False, \n",
    "                       font=dict(size=11, color='white'),\n",
    "                       xshift=14)\n",
    "\n",
    "fig.update_xaxes(showgrid=False, showticklabels=False, title='')\n",
    "fig.update_yaxes(categoryorder='total ascending')\n",
    "fig.update_xaxes(autorange='reversed')\n",
    "fig.update_layout(autosize=False, width=800, height=500, \n",
    "                  margin=dict(l=0, r=50, t=50, b=0),\n",
    "                  coloraxis_showscale=False)\n",
    "fig.show()"
   ]
  },
  {
   "cell_type": "markdown",
   "metadata": {},
   "source": [
    "### Number of new tokens by year "
   ]
  },
  {
   "cell_type": "code",
   "execution_count": 112,
   "metadata": {},
   "outputs": [],
   "source": [
    "data['year'] = pd.to_datetime(data['TradeLaunchDate']).dt.year"
   ]
  },
  {
   "cell_type": "code",
   "execution_count": 113,
   "metadata": {},
   "outputs": [
    {
     "data": {
      "text/html": [
       "<style type=\"text/css\">\n",
       "#T_bbaf6_row0_col0, #T_bbaf6_row0_col1, #T_bbaf6_row0_col2, #T_bbaf6_row0_col3, #T_bbaf6_row0_col7, #T_bbaf6_row0_col9, #T_bbaf6_row1_col0, #T_bbaf6_row1_col1, #T_bbaf6_row1_col2, #T_bbaf6_row1_col3, #T_bbaf6_row1_col5, #T_bbaf6_row1_col6, #T_bbaf6_row1_col7, #T_bbaf6_row1_col10, #T_bbaf6_row2_col0, #T_bbaf6_row2_col1, #T_bbaf6_row2_col2, #T_bbaf6_row2_col3, #T_bbaf6_row2_col4, #T_bbaf6_row3_col0, #T_bbaf6_row3_col1, #T_bbaf6_row3_col2, #T_bbaf6_row3_col3, #T_bbaf6_row3_col4, #T_bbaf6_row3_col5, #T_bbaf6_row3_col6, #T_bbaf6_row3_col7, #T_bbaf6_row3_col9, #T_bbaf6_row3_col10, #T_bbaf6_row3_col11, #T_bbaf6_row4_col0, #T_bbaf6_row4_col1, #T_bbaf6_row4_col2, #T_bbaf6_row4_col3, #T_bbaf6_row4_col4, #T_bbaf6_row4_col5, #T_bbaf6_row4_col9, #T_bbaf6_row4_col10, #T_bbaf6_row4_col11, #T_bbaf6_row5_col0, #T_bbaf6_row5_col1, #T_bbaf6_row5_col2, #T_bbaf6_row5_col3, #T_bbaf6_row5_col4, #T_bbaf6_row5_col5, #T_bbaf6_row5_col6, #T_bbaf6_row5_col7, #T_bbaf6_row5_col8, #T_bbaf6_row5_col9, #T_bbaf6_row6_col0, #T_bbaf6_row6_col2, #T_bbaf6_row7_col0, #T_bbaf6_row7_col1, #T_bbaf6_row7_col2, #T_bbaf6_row7_col3, #T_bbaf6_row7_col4, #T_bbaf6_row8_col0, #T_bbaf6_row8_col1, #T_bbaf6_row8_col2, #T_bbaf6_row8_col3, #T_bbaf6_row8_col11, #T_bbaf6_row9_col1, #T_bbaf6_row9_col2, #T_bbaf6_row9_col3, #T_bbaf6_row9_col5, #T_bbaf6_row9_col7, #T_bbaf6_row9_col11, #T_bbaf6_row10_col0, #T_bbaf6_row10_col1, #T_bbaf6_row10_col2, #T_bbaf6_row10_col3, #T_bbaf6_row10_col4, #T_bbaf6_row10_col5, #T_bbaf6_row10_col10, #T_bbaf6_row10_col11, #T_bbaf6_row11_col0, #T_bbaf6_row11_col1, #T_bbaf6_row11_col2, #T_bbaf6_row11_col3, #T_bbaf6_row11_col4, #T_bbaf6_row11_col11, #T_bbaf6_row12_col0, #T_bbaf6_row12_col1, #T_bbaf6_row12_col3, #T_bbaf6_row13_col0, #T_bbaf6_row13_col1, #T_bbaf6_row13_col2, #T_bbaf6_row13_col3, #T_bbaf6_row13_col4, #T_bbaf6_row13_col5, #T_bbaf6_row13_col6, #T_bbaf6_row13_col7, #T_bbaf6_row13_col9, #T_bbaf6_row13_col10, #T_bbaf6_row13_col11, #T_bbaf6_row14_col0, #T_bbaf6_row14_col1, #T_bbaf6_row14_col2, #T_bbaf6_row14_col3, #T_bbaf6_row14_col4, #T_bbaf6_row14_col5, #T_bbaf6_row14_col6, #T_bbaf6_row14_col7, #T_bbaf6_row14_col8, #T_bbaf6_row14_col9, #T_bbaf6_row15_col0, #T_bbaf6_row15_col1, #T_bbaf6_row15_col2, #T_bbaf6_row15_col3, #T_bbaf6_row15_col5, #T_bbaf6_row16_col0, #T_bbaf6_row16_col1, #T_bbaf6_row16_col2, #T_bbaf6_row16_col3, #T_bbaf6_row16_col4, #T_bbaf6_row16_col5, #T_bbaf6_row16_col6, #T_bbaf6_row16_col10, #T_bbaf6_row16_col11, #T_bbaf6_row17_col0, #T_bbaf6_row17_col1, #T_bbaf6_row17_col2, #T_bbaf6_row17_col3, #T_bbaf6_row17_col10, #T_bbaf6_row17_col11, #T_bbaf6_row18_col0, #T_bbaf6_row18_col2, #T_bbaf6_row18_col3, #T_bbaf6_row18_col4, #T_bbaf6_row19_col0, #T_bbaf6_row19_col1, #T_bbaf6_row19_col2, #T_bbaf6_row19_col3, #T_bbaf6_row19_col4, #T_bbaf6_row19_col5, #T_bbaf6_row19_col7, #T_bbaf6_row19_col9, #T_bbaf6_row19_col10, #T_bbaf6_row19_col11, #T_bbaf6_row20_col0, #T_bbaf6_row20_col1, #T_bbaf6_row20_col2, #T_bbaf6_row20_col4, #T_bbaf6_row21_col0, #T_bbaf6_row21_col1, #T_bbaf6_row21_col2, #T_bbaf6_row21_col3, #T_bbaf6_row21_col4, #T_bbaf6_row21_col5, #T_bbaf6_row21_col6, #T_bbaf6_row22_col0, #T_bbaf6_row22_col1, #T_bbaf6_row22_col2, #T_bbaf6_row22_col3, #T_bbaf6_row22_col4, #T_bbaf6_row22_col6, #T_bbaf6_row22_col11, #T_bbaf6_row23_col2, #T_bbaf6_row23_col3, #T_bbaf6_row23_col4, #T_bbaf6_row23_col5, #T_bbaf6_row23_col6, #T_bbaf6_row24_col0, #T_bbaf6_row24_col1, #T_bbaf6_row24_col2, #T_bbaf6_row24_col3, #T_bbaf6_row24_col7, #T_bbaf6_row24_col11, #T_bbaf6_row25_col0, #T_bbaf6_row25_col1, #T_bbaf6_row25_col2, #T_bbaf6_row25_col3, #T_bbaf6_row25_col6, #T_bbaf6_row25_col11, #T_bbaf6_row26_col0, #T_bbaf6_row26_col1, #T_bbaf6_row26_col2, #T_bbaf6_row26_col3, #T_bbaf6_row26_col9, #T_bbaf6_row26_col11, #T_bbaf6_row27_col0, #T_bbaf6_row27_col1, #T_bbaf6_row27_col2, #T_bbaf6_row27_col3, #T_bbaf6_row27_col4, #T_bbaf6_row27_col5, #T_bbaf6_row27_col11, #T_bbaf6_row28_col0, #T_bbaf6_row28_col1, #T_bbaf6_row28_col2, #T_bbaf6_row28_col3, #T_bbaf6_row28_col4, #T_bbaf6_row28_col5, #T_bbaf6_row28_col6, #T_bbaf6_row28_col7, #T_bbaf6_row28_col9, #T_bbaf6_row28_col10, #T_bbaf6_row28_col11, #T_bbaf6_row29_col0, #T_bbaf6_row29_col1, #T_bbaf6_row29_col2, #T_bbaf6_row29_col5, #T_bbaf6_row30_col0, #T_bbaf6_row30_col9, #T_bbaf6_row30_col10, #T_bbaf6_row30_col11, #T_bbaf6_row31_col0, #T_bbaf6_row31_col1, #T_bbaf6_row31_col2, #T_bbaf6_row31_col3, #T_bbaf6_row31_col6, #T_bbaf6_row32_col0, #T_bbaf6_row32_col1, #T_bbaf6_row32_col2, #T_bbaf6_row32_col3, #T_bbaf6_row32_col5, #T_bbaf6_row32_col11, #T_bbaf6_row33_col0, #T_bbaf6_row33_col1, #T_bbaf6_row33_col2, #T_bbaf6_row33_col3, #T_bbaf6_row33_col4, #T_bbaf6_row33_col5, #T_bbaf6_row33_col6, #T_bbaf6_row33_col7, #T_bbaf6_row34_col0, #T_bbaf6_row34_col1, #T_bbaf6_row34_col2, #T_bbaf6_row34_col3, #T_bbaf6_row34_col4, #T_bbaf6_row34_col5, #T_bbaf6_row34_col10, #T_bbaf6_row34_col11, #T_bbaf6_row35_col0, #T_bbaf6_row35_col1, #T_bbaf6_row36_col0, #T_bbaf6_row36_col1, #T_bbaf6_row36_col2, #T_bbaf6_row36_col3, #T_bbaf6_row36_col4, #T_bbaf6_row36_col5, #T_bbaf6_row36_col6, #T_bbaf6_row36_col7, #T_bbaf6_row36_col8, #T_bbaf6_row36_col11, #T_bbaf6_row37_col0, #T_bbaf6_row37_col1, #T_bbaf6_row37_col2, #T_bbaf6_row37_col3, #T_bbaf6_row37_col5, #T_bbaf6_row37_col6, #T_bbaf6_row37_col11, #T_bbaf6_row38_col0, #T_bbaf6_row38_col1, #T_bbaf6_row38_col2, #T_bbaf6_row38_col3, #T_bbaf6_row38_col4, #T_bbaf6_row38_col6, #T_bbaf6_row39_col0, #T_bbaf6_row39_col1, #T_bbaf6_row39_col2, #T_bbaf6_row39_col3, #T_bbaf6_row39_col4, #T_bbaf6_row39_col5, #T_bbaf6_row39_col6 {\n",
       "  background-color: #000000;\n",
       "  color: #f1f1f1;\n",
       "}\n",
       "#T_bbaf6_row0_col4, #T_bbaf6_row0_col5, #T_bbaf6_row0_col6, #T_bbaf6_row0_col11, #T_bbaf6_row6_col11, #T_bbaf6_row27_col6, #T_bbaf6_row27_col7, #T_bbaf6_row27_col10 {\n",
       "  background-color: #0e0e13;\n",
       "  color: #f1f1f1;\n",
       "}\n",
       "#T_bbaf6_row0_col8, #T_bbaf6_row19_col6, #T_bbaf6_row24_col4, #T_bbaf6_row24_col6, #T_bbaf6_row35_col2, #T_bbaf6_row35_col3, #T_bbaf6_row35_col4, #T_bbaf6_row35_col11, #T_bbaf6_row37_col4, #T_bbaf6_row37_col9 {\n",
       "  background-color: #1c1c27;\n",
       "  color: #f1f1f1;\n",
       "}\n",
       "#T_bbaf6_row0_col10, #T_bbaf6_row1_col8, #T_bbaf6_row2_col8, #T_bbaf6_row3_col8, #T_bbaf6_row4_col7, #T_bbaf6_row5_col10, #T_bbaf6_row6_col6, #T_bbaf6_row7_col10, #T_bbaf6_row8_col6, #T_bbaf6_row9_col8, #T_bbaf6_row10_col8, #T_bbaf6_row11_col8, #T_bbaf6_row11_col10, #T_bbaf6_row12_col8, #T_bbaf6_row13_col8, #T_bbaf6_row14_col11, #T_bbaf6_row15_col10, #T_bbaf6_row16_col8, #T_bbaf6_row17_col6, #T_bbaf6_row18_col8, #T_bbaf6_row19_col8, #T_bbaf6_row20_col8, #T_bbaf6_row21_col8, #T_bbaf6_row22_col8, #T_bbaf6_row23_col10, #T_bbaf6_row24_col8, #T_bbaf6_row25_col8, #T_bbaf6_row26_col8, #T_bbaf6_row27_col8, #T_bbaf6_row28_col8, #T_bbaf6_row29_col8, #T_bbaf6_row30_col6, #T_bbaf6_row31_col8, #T_bbaf6_row32_col10, #T_bbaf6_row33_col8, #T_bbaf6_row34_col8, #T_bbaf6_row35_col8, #T_bbaf6_row35_col10, #T_bbaf6_row36_col10, #T_bbaf6_row37_col8, #T_bbaf6_row38_col10, #T_bbaf6_row39_col8 {\n",
       "  background-color: #ffffff;\n",
       "  color: #000000;\n",
       "}\n",
       "#T_bbaf6_row1_col4, #T_bbaf6_row1_col9, #T_bbaf6_row1_col11, #T_bbaf6_row4_col8, #T_bbaf6_row7_col6, #T_bbaf6_row7_col11, #T_bbaf6_row8_col5, #T_bbaf6_row8_col7, #T_bbaf6_row8_col10, #T_bbaf6_row23_col9, #T_bbaf6_row31_col4, #T_bbaf6_row31_col11, #T_bbaf6_row38_col5, #T_bbaf6_row38_col7 {\n",
       "  background-color: #201f2c;\n",
       "  color: #f1f1f1;\n",
       "}\n",
       "#T_bbaf6_row2_col5, #T_bbaf6_row2_col6, #T_bbaf6_row5_col11, #T_bbaf6_row12_col6, #T_bbaf6_row18_col6, #T_bbaf6_row20_col3, #T_bbaf6_row20_col5, #T_bbaf6_row20_col9, #T_bbaf6_row20_col11 {\n",
       "  background-color: #12121a;\n",
       "  color: #f1f1f1;\n",
       "}\n",
       "#T_bbaf6_row2_col7, #T_bbaf6_row20_col10 {\n",
       "  background-color: #4a4a67;\n",
       "  color: #f1f1f1;\n",
       "}\n",
       "#T_bbaf6_row2_col9 {\n",
       "  background-color: #5d617d;\n",
       "  color: #f1f1f1;\n",
       "}\n",
       "#T_bbaf6_row2_col10, #T_bbaf6_row24_col10, #T_bbaf6_row35_col7, #T_bbaf6_row35_col9 {\n",
       "  background-color: #707b90;\n",
       "  color: #f1f1f1;\n",
       "}\n",
       "#T_bbaf6_row2_col11 {\n",
       "  background-color: #252533;\n",
       "  color: #f1f1f1;\n",
       "}\n",
       "#T_bbaf6_row4_col6, #T_bbaf6_row7_col8 {\n",
       "  background-color: #5f657f;\n",
       "  color: #f1f1f1;\n",
       "}\n",
       "#T_bbaf6_row6_col1, #T_bbaf6_row6_col3, #T_bbaf6_row24_col5, #T_bbaf6_row27_col9, #T_bbaf6_row29_col7 {\n",
       "  background-color: #38384e;\n",
       "  color: #f1f1f1;\n",
       "}\n",
       "#T_bbaf6_row6_col4, #T_bbaf6_row6_col7 {\n",
       "  background-color: #9ab5ba;\n",
       "  color: #000000;\n",
       "}\n",
       "#T_bbaf6_row6_col5, #T_bbaf6_row24_col9, #T_bbaf6_row35_col6 {\n",
       "  background-color: #8ca2ac;\n",
       "  color: #f1f1f1;\n",
       "}\n",
       "#T_bbaf6_row6_col8 {\n",
       "  background-color: #eaf2f2;\n",
       "  color: #000000;\n",
       "}\n",
       "#T_bbaf6_row6_col9, #T_bbaf6_row6_col10 {\n",
       "  background-color: #a9c8c8;\n",
       "  color: #000000;\n",
       "}\n",
       "#T_bbaf6_row7_col5, #T_bbaf6_row7_col9, #T_bbaf6_row8_col4, #T_bbaf6_row8_col9, #T_bbaf6_row31_col10, #T_bbaf6_row38_col8, #T_bbaf6_row38_col11 {\n",
       "  background-color: #404059;\n",
       "  color: #f1f1f1;\n",
       "}\n",
       "#T_bbaf6_row7_col7, #T_bbaf6_row31_col7, #T_bbaf6_row38_col9 {\n",
       "  background-color: #8091a0;\n",
       "  color: #f1f1f1;\n",
       "}\n",
       "#T_bbaf6_row8_col8, #T_bbaf6_row31_col5 {\n",
       "  background-color: #9fbcbf;\n",
       "  color: #000000;\n",
       "}\n",
       "#T_bbaf6_row9_col0, #T_bbaf6_row9_col6, #T_bbaf6_row15_col4, #T_bbaf6_row15_col6, #T_bbaf6_row15_col8 {\n",
       "  background-color: #0a0a0d;\n",
       "  color: #f1f1f1;\n",
       "}\n",
       "#T_bbaf6_row9_col4, #T_bbaf6_row34_col9 {\n",
       "  background-color: #1d1d28;\n",
       "  color: #f1f1f1;\n",
       "}\n",
       "#T_bbaf6_row9_col9 {\n",
       "  background-color: #a5c5c5;\n",
       "  color: #000000;\n",
       "}\n",
       "#T_bbaf6_row9_col10, #T_bbaf6_row23_col8 {\n",
       "  background-color: #4e4e6c;\n",
       "  color: #f1f1f1;\n",
       "}\n",
       "#T_bbaf6_row10_col6, #T_bbaf6_row18_col11, #T_bbaf6_row22_col5, #T_bbaf6_row22_col7, #T_bbaf6_row32_col4 {\n",
       "  background-color: #16161e;\n",
       "  color: #f1f1f1;\n",
       "}\n",
       "#T_bbaf6_row10_col7, #T_bbaf6_row22_col9, #T_bbaf6_row22_col10, #T_bbaf6_row25_col7, #T_bbaf6_row29_col9, #T_bbaf6_row32_col8, #T_bbaf6_row36_col9 {\n",
       "  background-color: #2d2d3e;\n",
       "  color: #f1f1f1;\n",
       "}\n",
       "#T_bbaf6_row10_col9, #T_bbaf6_row21_col10, #T_bbaf6_row32_col7 {\n",
       "  background-color: #595c79;\n",
       "  color: #f1f1f1;\n",
       "}\n",
       "#T_bbaf6_row11_col5, #T_bbaf6_row11_col6 {\n",
       "  background-color: #0b0b10;\n",
       "  color: #f1f1f1;\n",
       "}\n",
       "#T_bbaf6_row11_col7 {\n",
       "  background-color: #5e627d;\n",
       "  color: #f1f1f1;\n",
       "}\n",
       "#T_bbaf6_row11_col9 {\n",
       "  background-color: #99b4b9;\n",
       "  color: #000000;\n",
       "}\n",
       "#T_bbaf6_row12_col2 {\n",
       "  background-color: #020202;\n",
       "  color: #f1f1f1;\n",
       "}\n",
       "#T_bbaf6_row12_col4, #T_bbaf6_row16_col7, #T_bbaf6_row29_col3, #T_bbaf6_row29_col4, #T_bbaf6_row29_col6, #T_bbaf6_row29_col11 {\n",
       "  background-color: #0a0a0f;\n",
       "  color: #f1f1f1;\n",
       "}\n",
       "#T_bbaf6_row12_col5 {\n",
       "  background-color: #08080b;\n",
       "  color: #f1f1f1;\n",
       "}\n",
       "#T_bbaf6_row12_col7 {\n",
       "  background-color: #adcaca;\n",
       "  color: #000000;\n",
       "}\n",
       "#T_bbaf6_row12_col9 {\n",
       "  background-color: #41415a;\n",
       "  color: #f1f1f1;\n",
       "}\n",
       "#T_bbaf6_row12_col10 {\n",
       "  background-color: #39394f;\n",
       "  color: #f1f1f1;\n",
       "}\n",
       "#T_bbaf6_row12_col11, #T_bbaf6_row18_col5 {\n",
       "  background-color: #060609;\n",
       "  color: #f1f1f1;\n",
       "}\n",
       "#T_bbaf6_row14_col10 {\n",
       "  background-color: #181822;\n",
       "  color: #f1f1f1;\n",
       "}\n",
       "#T_bbaf6_row15_col7, #T_bbaf6_row34_col6 {\n",
       "  background-color: #13131b;\n",
       "  color: #f1f1f1;\n",
       "}\n",
       "#T_bbaf6_row15_col9 {\n",
       "  background-color: #303043;\n",
       "  color: #f1f1f1;\n",
       "}\n",
       "#T_bbaf6_row15_col11 {\n",
       "  background-color: #262636;\n",
       "  color: #f1f1f1;\n",
       "}\n",
       "#T_bbaf6_row16_col9, #T_bbaf6_row29_col10, #T_bbaf6_row32_col6, #T_bbaf6_row32_col9 {\n",
       "  background-color: #42425d;\n",
       "  color: #f1f1f1;\n",
       "}\n",
       "#T_bbaf6_row17_col4, #T_bbaf6_row30_col3, #T_bbaf6_row30_col8 {\n",
       "  background-color: #282838;\n",
       "  color: #f1f1f1;\n",
       "}\n",
       "#T_bbaf6_row17_col5, #T_bbaf6_row17_col7, #T_bbaf6_row30_col1 {\n",
       "  background-color: #666d85;\n",
       "  color: #f1f1f1;\n",
       "}\n",
       "#T_bbaf6_row17_col8 {\n",
       "  background-color: #515171;\n",
       "  color: #f1f1f1;\n",
       "}\n",
       "#T_bbaf6_row17_col9, #T_bbaf6_row30_col2 {\n",
       "  background-color: #14141c;\n",
       "  color: #f1f1f1;\n",
       "}\n",
       "#T_bbaf6_row18_col1, #T_bbaf6_row25_col4, #T_bbaf6_row25_col5 {\n",
       "  background-color: #030304;\n",
       "  color: #f1f1f1;\n",
       "}\n",
       "#T_bbaf6_row18_col7 {\n",
       "  background-color: #0c0c11;\n",
       "  color: #f1f1f1;\n",
       "}\n",
       "#T_bbaf6_row18_col9 {\n",
       "  background-color: #788698;\n",
       "  color: #f1f1f1;\n",
       "}\n",
       "#T_bbaf6_row18_col10 {\n",
       "  background-color: #4f4f6e;\n",
       "  color: #f1f1f1;\n",
       "}\n",
       "#T_bbaf6_row20_col6 {\n",
       "  background-color: #8295a2;\n",
       "  color: #f1f1f1;\n",
       "}\n",
       "#T_bbaf6_row20_col7 {\n",
       "  background-color: #95aeb5;\n",
       "  color: #f1f1f1;\n",
       "}\n",
       "#T_bbaf6_row21_col7 {\n",
       "  background-color: #3c3b53;\n",
       "  color: #f1f1f1;\n",
       "}\n",
       "#T_bbaf6_row21_col9, #T_bbaf6_row21_col11 {\n",
       "  background-color: #1e1e29;\n",
       "  color: #f1f1f1;\n",
       "}\n",
       "#T_bbaf6_row23_col0, #T_bbaf6_row23_col1, #T_bbaf6_row23_col7 {\n",
       "  background-color: #040305;\n",
       "  color: #f1f1f1;\n",
       "}\n",
       "#T_bbaf6_row23_col11, #T_bbaf6_row30_col4, #T_bbaf6_row30_col7 {\n",
       "  background-color: #3c3c54;\n",
       "  color: #f1f1f1;\n",
       "}\n",
       "#T_bbaf6_row25_col9 {\n",
       "  background-color: #36364b;\n",
       "  color: #f1f1f1;\n",
       "}\n",
       "#T_bbaf6_row25_col10 {\n",
       "  background-color: #2f2f42;\n",
       "  color: #f1f1f1;\n",
       "}\n",
       "#T_bbaf6_row26_col4 {\n",
       "  background-color: #22222f;\n",
       "  color: #f1f1f1;\n",
       "}\n",
       "#T_bbaf6_row26_col5, #T_bbaf6_row26_col6, #T_bbaf6_row26_col10, #T_bbaf6_row39_col9, #T_bbaf6_row39_col11 {\n",
       "  background-color: #111117;\n",
       "  color: #f1f1f1;\n",
       "}\n",
       "#T_bbaf6_row26_col7 {\n",
       "  background-color: #676f87;\n",
       "  color: #f1f1f1;\n",
       "}\n",
       "#T_bbaf6_row30_col5 {\n",
       "  background-color: #8ea4ae;\n",
       "  color: #f1f1f1;\n",
       "}\n",
       "#T_bbaf6_row31_col9 {\n",
       "  background-color: #cee0df;\n",
       "  color: #000000;\n",
       "}\n",
       "#T_bbaf6_row33_col9, #T_bbaf6_row33_col10, #T_bbaf6_row33_col11 {\n",
       "  background-color: #0f0f15;\n",
       "  color: #f1f1f1;\n",
       "}\n",
       "#T_bbaf6_row34_col7 {\n",
       "  background-color: #43435e;\n",
       "  color: #f1f1f1;\n",
       "}\n",
       "#T_bbaf6_row35_col5, #T_bbaf6_row37_col7, #T_bbaf6_row37_col10 {\n",
       "  background-color: #545574;\n",
       "  color: #f1f1f1;\n",
       "}\n",
       "#T_bbaf6_row39_col7 {\n",
       "  background-color: #e5eeee;\n",
       "  color: #000000;\n",
       "}\n",
       "#T_bbaf6_row39_col10 {\n",
       "  background-color: #343448;\n",
       "  color: #f1f1f1;\n",
       "}\n",
       "</style>\n",
       "<table id=\"T_bbaf6\">\n",
       "  <thead>\n",
       "    <tr>\n",
       "      <th class=\"index_name level0\" >year</th>\n",
       "      <th id=\"T_bbaf6_level0_col0\" class=\"col_heading level0 col0\" >2013</th>\n",
       "      <th id=\"T_bbaf6_level0_col1\" class=\"col_heading level0 col1\" >2014</th>\n",
       "      <th id=\"T_bbaf6_level0_col2\" class=\"col_heading level0 col2\" >2015</th>\n",
       "      <th id=\"T_bbaf6_level0_col3\" class=\"col_heading level0 col3\" >2016</th>\n",
       "      <th id=\"T_bbaf6_level0_col4\" class=\"col_heading level0 col4\" >2017</th>\n",
       "      <th id=\"T_bbaf6_level0_col5\" class=\"col_heading level0 col5\" >2018</th>\n",
       "      <th id=\"T_bbaf6_level0_col6\" class=\"col_heading level0 col6\" >2019</th>\n",
       "      <th id=\"T_bbaf6_level0_col7\" class=\"col_heading level0 col7\" >2020</th>\n",
       "      <th id=\"T_bbaf6_level0_col8\" class=\"col_heading level0 col8\" >2021</th>\n",
       "      <th id=\"T_bbaf6_level0_col9\" class=\"col_heading level0 col9\" >2022</th>\n",
       "      <th id=\"T_bbaf6_level0_col10\" class=\"col_heading level0 col10\" >2023</th>\n",
       "      <th id=\"T_bbaf6_level0_col11\" class=\"col_heading level0 col11\" >2024</th>\n",
       "    </tr>\n",
       "    <tr>\n",
       "      <th class=\"index_name level0\" >Category</th>\n",
       "      <th class=\"blank col0\" >&nbsp;</th>\n",
       "      <th class=\"blank col1\" >&nbsp;</th>\n",
       "      <th class=\"blank col2\" >&nbsp;</th>\n",
       "      <th class=\"blank col3\" >&nbsp;</th>\n",
       "      <th class=\"blank col4\" >&nbsp;</th>\n",
       "      <th class=\"blank col5\" >&nbsp;</th>\n",
       "      <th class=\"blank col6\" >&nbsp;</th>\n",
       "      <th class=\"blank col7\" >&nbsp;</th>\n",
       "      <th class=\"blank col8\" >&nbsp;</th>\n",
       "      <th class=\"blank col9\" >&nbsp;</th>\n",
       "      <th class=\"blank col10\" >&nbsp;</th>\n",
       "      <th class=\"blank col11\" >&nbsp;</th>\n",
       "    </tr>\n",
       "  </thead>\n",
       "  <tbody>\n",
       "    <tr>\n",
       "      <th id=\"T_bbaf6_level0_row0\" class=\"row_heading level0 row0\" >Artificial Intelligence (AI)</th>\n",
       "      <td id=\"T_bbaf6_row0_col0\" class=\"data row0 col0\" >0</td>\n",
       "      <td id=\"T_bbaf6_row0_col1\" class=\"data row0 col1\" >0</td>\n",
       "      <td id=\"T_bbaf6_row0_col2\" class=\"data row0 col2\" >0</td>\n",
       "      <td id=\"T_bbaf6_row0_col3\" class=\"data row0 col3\" >0</td>\n",
       "      <td id=\"T_bbaf6_row0_col4\" class=\"data row0 col4\" >1</td>\n",
       "      <td id=\"T_bbaf6_row0_col5\" class=\"data row0 col5\" >1</td>\n",
       "      <td id=\"T_bbaf6_row0_col6\" class=\"data row0 col6\" >1</td>\n",
       "      <td id=\"T_bbaf6_row0_col7\" class=\"data row0 col7\" >0</td>\n",
       "      <td id=\"T_bbaf6_row0_col8\" class=\"data row0 col8\" >2</td>\n",
       "      <td id=\"T_bbaf6_row0_col9\" class=\"data row0 col9\" >0</td>\n",
       "      <td id=\"T_bbaf6_row0_col10\" class=\"data row0 col10\" >16</td>\n",
       "      <td id=\"T_bbaf6_row0_col11\" class=\"data row0 col11\" >1</td>\n",
       "    </tr>\n",
       "    <tr>\n",
       "      <th id=\"T_bbaf6_level0_row1\" class=\"row_heading level0 row1\" >Avalanche Ecosystem</th>\n",
       "      <td id=\"T_bbaf6_row1_col0\" class=\"data row1 col0\" >0</td>\n",
       "      <td id=\"T_bbaf6_row1_col1\" class=\"data row1 col1\" >0</td>\n",
       "      <td id=\"T_bbaf6_row1_col2\" class=\"data row1 col2\" >0</td>\n",
       "      <td id=\"T_bbaf6_row1_col3\" class=\"data row1 col3\" >0</td>\n",
       "      <td id=\"T_bbaf6_row1_col4\" class=\"data row1 col4\" >1</td>\n",
       "      <td id=\"T_bbaf6_row1_col5\" class=\"data row1 col5\" >0</td>\n",
       "      <td id=\"T_bbaf6_row1_col6\" class=\"data row1 col6\" >0</td>\n",
       "      <td id=\"T_bbaf6_row1_col7\" class=\"data row1 col7\" >0</td>\n",
       "      <td id=\"T_bbaf6_row1_col8\" class=\"data row1 col8\" >7</td>\n",
       "      <td id=\"T_bbaf6_row1_col9\" class=\"data row1 col9\" >1</td>\n",
       "      <td id=\"T_bbaf6_row1_col10\" class=\"data row1 col10\" >0</td>\n",
       "      <td id=\"T_bbaf6_row1_col11\" class=\"data row1 col11\" >1</td>\n",
       "    </tr>\n",
       "    <tr>\n",
       "      <th id=\"T_bbaf6_level0_row2\" class=\"row_heading level0 row2\" >BNB Chain Ecosystem</th>\n",
       "      <td id=\"T_bbaf6_row2_col0\" class=\"data row2 col0\" >0</td>\n",
       "      <td id=\"T_bbaf6_row2_col1\" class=\"data row2 col1\" >0</td>\n",
       "      <td id=\"T_bbaf6_row2_col2\" class=\"data row2 col2\" >0</td>\n",
       "      <td id=\"T_bbaf6_row2_col3\" class=\"data row2 col3\" >0</td>\n",
       "      <td id=\"T_bbaf6_row2_col4\" class=\"data row2 col4\" >0</td>\n",
       "      <td id=\"T_bbaf6_row2_col5\" class=\"data row2 col5\" >1</td>\n",
       "      <td id=\"T_bbaf6_row2_col6\" class=\"data row2 col6\" >1</td>\n",
       "      <td id=\"T_bbaf6_row2_col7\" class=\"data row2 col7\" >4</td>\n",
       "      <td id=\"T_bbaf6_row2_col8\" class=\"data row2 col8\" >12</td>\n",
       "      <td id=\"T_bbaf6_row2_col9\" class=\"data row2 col9\" >5</td>\n",
       "      <td id=\"T_bbaf6_row2_col10\" class=\"data row2 col10\" >6</td>\n",
       "      <td id=\"T_bbaf6_row2_col11\" class=\"data row2 col11\" >2</td>\n",
       "    </tr>\n",
       "    <tr>\n",
       "      <th id=\"T_bbaf6_level0_row3\" class=\"row_heading level0 row3\" >BSCPad IDO</th>\n",
       "      <td id=\"T_bbaf6_row3_col0\" class=\"data row3 col0\" >0</td>\n",
       "      <td id=\"T_bbaf6_row3_col1\" class=\"data row3 col1\" >0</td>\n",
       "      <td id=\"T_bbaf6_row3_col2\" class=\"data row3 col2\" >0</td>\n",
       "      <td id=\"T_bbaf6_row3_col3\" class=\"data row3 col3\" >0</td>\n",
       "      <td id=\"T_bbaf6_row3_col4\" class=\"data row3 col4\" >0</td>\n",
       "      <td id=\"T_bbaf6_row3_col5\" class=\"data row3 col5\" >0</td>\n",
       "      <td id=\"T_bbaf6_row3_col6\" class=\"data row3 col6\" >0</td>\n",
       "      <td id=\"T_bbaf6_row3_col7\" class=\"data row3 col7\" >0</td>\n",
       "      <td id=\"T_bbaf6_row3_col8\" class=\"data row3 col8\" >9</td>\n",
       "      <td id=\"T_bbaf6_row3_col9\" class=\"data row3 col9\" >0</td>\n",
       "      <td id=\"T_bbaf6_row3_col10\" class=\"data row3 col10\" >0</td>\n",
       "      <td id=\"T_bbaf6_row3_col11\" class=\"data row3 col11\" >0</td>\n",
       "    </tr>\n",
       "    <tr>\n",
       "      <th id=\"T_bbaf6_level0_row4\" class=\"row_heading level0 row4\" >Backed Tokens</th>\n",
       "      <td id=\"T_bbaf6_row4_col0\" class=\"data row4 col0\" >0</td>\n",
       "      <td id=\"T_bbaf6_row4_col1\" class=\"data row4 col1\" >0</td>\n",
       "      <td id=\"T_bbaf6_row4_col2\" class=\"data row4 col2\" >0</td>\n",
       "      <td id=\"T_bbaf6_row4_col3\" class=\"data row4 col3\" >0</td>\n",
       "      <td id=\"T_bbaf6_row4_col4\" class=\"data row4 col4\" >0</td>\n",
       "      <td id=\"T_bbaf6_row4_col5\" class=\"data row4 col5\" >0</td>\n",
       "      <td id=\"T_bbaf6_row4_col6\" class=\"data row4 col6\" >3</td>\n",
       "      <td id=\"T_bbaf6_row4_col7\" class=\"data row4 col7\" >7</td>\n",
       "      <td id=\"T_bbaf6_row4_col8\" class=\"data row4 col8\" >1</td>\n",
       "      <td id=\"T_bbaf6_row4_col9\" class=\"data row4 col9\" >0</td>\n",
       "      <td id=\"T_bbaf6_row4_col10\" class=\"data row4 col10\" >0</td>\n",
       "      <td id=\"T_bbaf6_row4_col11\" class=\"data row4 col11\" >0</td>\n",
       "    </tr>\n",
       "    <tr>\n",
       "      <th id=\"T_bbaf6_level0_row5\" class=\"row_heading level0 row5\" >Bitcoin Ecosystem</th>\n",
       "      <td id=\"T_bbaf6_row5_col0\" class=\"data row5 col0\" >0</td>\n",
       "      <td id=\"T_bbaf6_row5_col1\" class=\"data row5 col1\" >0</td>\n",
       "      <td id=\"T_bbaf6_row5_col2\" class=\"data row5 col2\" >0</td>\n",
       "      <td id=\"T_bbaf6_row5_col3\" class=\"data row5 col3\" >0</td>\n",
       "      <td id=\"T_bbaf6_row5_col4\" class=\"data row5 col4\" >0</td>\n",
       "      <td id=\"T_bbaf6_row5_col5\" class=\"data row5 col5\" >0</td>\n",
       "      <td id=\"T_bbaf6_row5_col6\" class=\"data row5 col6\" >0</td>\n",
       "      <td id=\"T_bbaf6_row5_col7\" class=\"data row5 col7\" >0</td>\n",
       "      <td id=\"T_bbaf6_row5_col8\" class=\"data row5 col8\" >0</td>\n",
       "      <td id=\"T_bbaf6_row5_col9\" class=\"data row5 col9\" >0</td>\n",
       "      <td id=\"T_bbaf6_row5_col10\" class=\"data row5 col10\" >12</td>\n",
       "      <td id=\"T_bbaf6_row5_col11\" class=\"data row5 col11\" >1</td>\n",
       "    </tr>\n",
       "    <tr>\n",
       "      <th id=\"T_bbaf6_level0_row6\" class=\"row_heading level0 row6\" >Blockchain</th>\n",
       "      <td id=\"T_bbaf6_row6_col0\" class=\"data row6 col0\" >0</td>\n",
       "      <td id=\"T_bbaf6_row6_col1\" class=\"data row6 col1\" >4</td>\n",
       "      <td id=\"T_bbaf6_row6_col2\" class=\"data row6 col2\" >0</td>\n",
       "      <td id=\"T_bbaf6_row6_col3\" class=\"data row6 col3\" >4</td>\n",
       "      <td id=\"T_bbaf6_row6_col4\" class=\"data row6 col4\" >11</td>\n",
       "      <td id=\"T_bbaf6_row6_col5\" class=\"data row6 col5\" >10</td>\n",
       "      <td id=\"T_bbaf6_row6_col6\" class=\"data row6 col6\" >16</td>\n",
       "      <td id=\"T_bbaf6_row6_col7\" class=\"data row6 col7\" >11</td>\n",
       "      <td id=\"T_bbaf6_row6_col8\" class=\"data row6 col8\" >15</td>\n",
       "      <td id=\"T_bbaf6_row6_col9\" class=\"data row6 col9\" >12</td>\n",
       "      <td id=\"T_bbaf6_row6_col10\" class=\"data row6 col10\" >12</td>\n",
       "      <td id=\"T_bbaf6_row6_col11\" class=\"data row6 col11\" >1</td>\n",
       "    </tr>\n",
       "    <tr>\n",
       "      <th id=\"T_bbaf6_level0_row7\" class=\"row_heading level0 row7\" >Blockchain Service</th>\n",
       "      <td id=\"T_bbaf6_row7_col0\" class=\"data row7 col0\" >0</td>\n",
       "      <td id=\"T_bbaf6_row7_col1\" class=\"data row7 col1\" >0</td>\n",
       "      <td id=\"T_bbaf6_row7_col2\" class=\"data row7 col2\" >0</td>\n",
       "      <td id=\"T_bbaf6_row7_col3\" class=\"data row7 col3\" >0</td>\n",
       "      <td id=\"T_bbaf6_row7_col4\" class=\"data row7 col4\" >0</td>\n",
       "      <td id=\"T_bbaf6_row7_col5\" class=\"data row7 col5\" >2</td>\n",
       "      <td id=\"T_bbaf6_row7_col6\" class=\"data row7 col6\" >1</td>\n",
       "      <td id=\"T_bbaf6_row7_col7\" class=\"data row7 col7\" >4</td>\n",
       "      <td id=\"T_bbaf6_row7_col8\" class=\"data row7 col8\" >3</td>\n",
       "      <td id=\"T_bbaf6_row7_col9\" class=\"data row7 col9\" >2</td>\n",
       "      <td id=\"T_bbaf6_row7_col10\" class=\"data row7 col10\" >7</td>\n",
       "      <td id=\"T_bbaf6_row7_col11\" class=\"data row7 col11\" >1</td>\n",
       "    </tr>\n",
       "    <tr>\n",
       "      <th id=\"T_bbaf6_level0_row8\" class=\"row_heading level0 row8\" >CEX</th>\n",
       "      <td id=\"T_bbaf6_row8_col0\" class=\"data row8 col0\" >0</td>\n",
       "      <td id=\"T_bbaf6_row8_col1\" class=\"data row8 col1\" >0</td>\n",
       "      <td id=\"T_bbaf6_row8_col2\" class=\"data row8 col2\" >0</td>\n",
       "      <td id=\"T_bbaf6_row8_col3\" class=\"data row8 col3\" >0</td>\n",
       "      <td id=\"T_bbaf6_row8_col4\" class=\"data row8 col4\" >2</td>\n",
       "      <td id=\"T_bbaf6_row8_col5\" class=\"data row8 col5\" >1</td>\n",
       "      <td id=\"T_bbaf6_row8_col6\" class=\"data row8 col6\" >7</td>\n",
       "      <td id=\"T_bbaf6_row8_col7\" class=\"data row8 col7\" >1</td>\n",
       "      <td id=\"T_bbaf6_row8_col8\" class=\"data row8 col8\" >5</td>\n",
       "      <td id=\"T_bbaf6_row8_col9\" class=\"data row8 col9\" >2</td>\n",
       "      <td id=\"T_bbaf6_row8_col10\" class=\"data row8 col10\" >1</td>\n",
       "      <td id=\"T_bbaf6_row8_col11\" class=\"data row8 col11\" >0</td>\n",
       "    </tr>\n",
       "    <tr>\n",
       "      <th id=\"T_bbaf6_level0_row9\" class=\"row_heading level0 row9\" >Cryptocurrency</th>\n",
       "      <td id=\"T_bbaf6_row9_col0\" class=\"data row9 col0\" >1</td>\n",
       "      <td id=\"T_bbaf6_row9_col1\" class=\"data row9 col1\" >0</td>\n",
       "      <td id=\"T_bbaf6_row9_col2\" class=\"data row9 col2\" >0</td>\n",
       "      <td id=\"T_bbaf6_row9_col3\" class=\"data row9 col3\" >0</td>\n",
       "      <td id=\"T_bbaf6_row9_col4\" class=\"data row9 col4\" >3</td>\n",
       "      <td id=\"T_bbaf6_row9_col5\" class=\"data row9 col5\" >0</td>\n",
       "      <td id=\"T_bbaf6_row9_col6\" class=\"data row9 col6\" >1</td>\n",
       "      <td id=\"T_bbaf6_row9_col7\" class=\"data row9 col7\" >0</td>\n",
       "      <td id=\"T_bbaf6_row9_col8\" class=\"data row9 col8\" >23</td>\n",
       "      <td id=\"T_bbaf6_row9_col9\" class=\"data row9 col9\" >17</td>\n",
       "      <td id=\"T_bbaf6_row9_col10\" class=\"data row9 col10\" >8</td>\n",
       "      <td id=\"T_bbaf6_row9_col11\" class=\"data row9 col11\" >0</td>\n",
       "    </tr>\n",
       "    <tr>\n",
       "      <th id=\"T_bbaf6_level0_row10\" class=\"row_heading level0 row10\" >DAO</th>\n",
       "      <td id=\"T_bbaf6_row10_col0\" class=\"data row10 col0\" >0</td>\n",
       "      <td id=\"T_bbaf6_row10_col1\" class=\"data row10 col1\" >0</td>\n",
       "      <td id=\"T_bbaf6_row10_col2\" class=\"data row10 col2\" >0</td>\n",
       "      <td id=\"T_bbaf6_row10_col3\" class=\"data row10 col3\" >0</td>\n",
       "      <td id=\"T_bbaf6_row10_col4\" class=\"data row10 col4\" >0</td>\n",
       "      <td id=\"T_bbaf6_row10_col5\" class=\"data row10 col5\" >0</td>\n",
       "      <td id=\"T_bbaf6_row10_col6\" class=\"data row10 col6\" >1</td>\n",
       "      <td id=\"T_bbaf6_row10_col7\" class=\"data row10 col7\" >2</td>\n",
       "      <td id=\"T_bbaf6_row10_col8\" class=\"data row10 col8\" >10</td>\n",
       "      <td id=\"T_bbaf6_row10_col9\" class=\"data row10 col9\" >4</td>\n",
       "      <td id=\"T_bbaf6_row10_col10\" class=\"data row10 col10\" >0</td>\n",
       "      <td id=\"T_bbaf6_row10_col11\" class=\"data row10 col11\" >0</td>\n",
       "    </tr>\n",
       "    <tr>\n",
       "      <th id=\"T_bbaf6_level0_row11\" class=\"row_heading level0 row11\" >DEX</th>\n",
       "      <td id=\"T_bbaf6_row11_col0\" class=\"data row11 col0\" >0</td>\n",
       "      <td id=\"T_bbaf6_row11_col1\" class=\"data row11 col1\" >0</td>\n",
       "      <td id=\"T_bbaf6_row11_col2\" class=\"data row11 col2\" >0</td>\n",
       "      <td id=\"T_bbaf6_row11_col3\" class=\"data row11 col3\" >0</td>\n",
       "      <td id=\"T_bbaf6_row11_col4\" class=\"data row11 col4\" >0</td>\n",
       "      <td id=\"T_bbaf6_row11_col5\" class=\"data row11 col5\" >1</td>\n",
       "      <td id=\"T_bbaf6_row11_col6\" class=\"data row11 col6\" >1</td>\n",
       "      <td id=\"T_bbaf6_row11_col7\" class=\"data row11 col7\" >8</td>\n",
       "      <td id=\"T_bbaf6_row11_col8\" class=\"data row11 col8\" >19</td>\n",
       "      <td id=\"T_bbaf6_row11_col9\" class=\"data row11 col9\" >13</td>\n",
       "      <td id=\"T_bbaf6_row11_col10\" class=\"data row11 col10\" >19</td>\n",
       "      <td id=\"T_bbaf6_row11_col11\" class=\"data row11 col11\" >0</td>\n",
       "    </tr>\n",
       "    <tr>\n",
       "      <th id=\"T_bbaf6_level0_row12\" class=\"row_heading level0 row12\" >DeFi</th>\n",
       "      <td id=\"T_bbaf6_row12_col0\" class=\"data row12 col0\" >0</td>\n",
       "      <td id=\"T_bbaf6_row12_col1\" class=\"data row12 col1\" >0</td>\n",
       "      <td id=\"T_bbaf6_row12_col2\" class=\"data row12 col2\" >1</td>\n",
       "      <td id=\"T_bbaf6_row12_col3\" class=\"data row12 col3\" >0</td>\n",
       "      <td id=\"T_bbaf6_row12_col4\" class=\"data row12 col4\" >5</td>\n",
       "      <td id=\"T_bbaf6_row12_col5\" class=\"data row12 col5\" >4</td>\n",
       "      <td id=\"T_bbaf6_row12_col6\" class=\"data row12 col6\" >9</td>\n",
       "      <td id=\"T_bbaf6_row12_col7\" class=\"data row12 col7\" >81</td>\n",
       "      <td id=\"T_bbaf6_row12_col8\" class=\"data row12 col8\" >106</td>\n",
       "      <td id=\"T_bbaf6_row12_col9\" class=\"data row12 col9\" >31</td>\n",
       "      <td id=\"T_bbaf6_row12_col10\" class=\"data row12 col10\" >27</td>\n",
       "      <td id=\"T_bbaf6_row12_col11\" class=\"data row12 col11\" >3</td>\n",
       "    </tr>\n",
       "    <tr>\n",
       "      <th id=\"T_bbaf6_level0_row13\" class=\"row_heading level0 row13\" >DuckStarter IDO</th>\n",
       "      <td id=\"T_bbaf6_row13_col0\" class=\"data row13 col0\" >0</td>\n",
       "      <td id=\"T_bbaf6_row13_col1\" class=\"data row13 col1\" >0</td>\n",
       "      <td id=\"T_bbaf6_row13_col2\" class=\"data row13 col2\" >0</td>\n",
       "      <td id=\"T_bbaf6_row13_col3\" class=\"data row13 col3\" >0</td>\n",
       "      <td id=\"T_bbaf6_row13_col4\" class=\"data row13 col4\" >0</td>\n",
       "      <td id=\"T_bbaf6_row13_col5\" class=\"data row13 col5\" >0</td>\n",
       "      <td id=\"T_bbaf6_row13_col6\" class=\"data row13 col6\" >0</td>\n",
       "      <td id=\"T_bbaf6_row13_col7\" class=\"data row13 col7\" >0</td>\n",
       "      <td id=\"T_bbaf6_row13_col8\" class=\"data row13 col8\" >7</td>\n",
       "      <td id=\"T_bbaf6_row13_col9\" class=\"data row13 col9\" >0</td>\n",
       "      <td id=\"T_bbaf6_row13_col10\" class=\"data row13 col10\" >0</td>\n",
       "      <td id=\"T_bbaf6_row13_col11\" class=\"data row13 col11\" >0</td>\n",
       "    </tr>\n",
       "    <tr>\n",
       "      <th id=\"T_bbaf6_level0_row14\" class=\"row_heading level0 row14\" >ERC-404</th>\n",
       "      <td id=\"T_bbaf6_row14_col0\" class=\"data row14 col0\" >0</td>\n",
       "      <td id=\"T_bbaf6_row14_col1\" class=\"data row14 col1\" >0</td>\n",
       "      <td id=\"T_bbaf6_row14_col2\" class=\"data row14 col2\" >0</td>\n",
       "      <td id=\"T_bbaf6_row14_col3\" class=\"data row14 col3\" >0</td>\n",
       "      <td id=\"T_bbaf6_row14_col4\" class=\"data row14 col4\" >0</td>\n",
       "      <td id=\"T_bbaf6_row14_col5\" class=\"data row14 col5\" >0</td>\n",
       "      <td id=\"T_bbaf6_row14_col6\" class=\"data row14 col6\" >0</td>\n",
       "      <td id=\"T_bbaf6_row14_col7\" class=\"data row14 col7\" >0</td>\n",
       "      <td id=\"T_bbaf6_row14_col8\" class=\"data row14 col8\" >0</td>\n",
       "      <td id=\"T_bbaf6_row14_col9\" class=\"data row14 col9\" >0</td>\n",
       "      <td id=\"T_bbaf6_row14_col10\" class=\"data row14 col10\" >1</td>\n",
       "      <td id=\"T_bbaf6_row14_col11\" class=\"data row14 col11\" >9</td>\n",
       "    </tr>\n",
       "    <tr>\n",
       "      <th id=\"T_bbaf6_level0_row15\" class=\"row_heading level0 row15\" >Ethereum Ecosystem</th>\n",
       "      <td id=\"T_bbaf6_row15_col0\" class=\"data row15 col0\" >0</td>\n",
       "      <td id=\"T_bbaf6_row15_col1\" class=\"data row15 col1\" >0</td>\n",
       "      <td id=\"T_bbaf6_row15_col2\" class=\"data row15 col2\" >0</td>\n",
       "      <td id=\"T_bbaf6_row15_col3\" class=\"data row15 col3\" >0</td>\n",
       "      <td id=\"T_bbaf6_row15_col4\" class=\"data row15 col4\" >1</td>\n",
       "      <td id=\"T_bbaf6_row15_col5\" class=\"data row15 col5\" >0</td>\n",
       "      <td id=\"T_bbaf6_row15_col6\" class=\"data row15 col6\" >1</td>\n",
       "      <td id=\"T_bbaf6_row15_col7\" class=\"data row15 col7\" >2</td>\n",
       "      <td id=\"T_bbaf6_row15_col8\" class=\"data row15 col8\" >1</td>\n",
       "      <td id=\"T_bbaf6_row15_col9\" class=\"data row15 col9\" >5</td>\n",
       "      <td id=\"T_bbaf6_row15_col10\" class=\"data row15 col10\" >23</td>\n",
       "      <td id=\"T_bbaf6_row15_col11\" class=\"data row15 col11\" >4</td>\n",
       "    </tr>\n",
       "    <tr>\n",
       "      <th id=\"T_bbaf6_level0_row16\" class=\"row_heading level0 row16\" >Fan Token</th>\n",
       "      <td id=\"T_bbaf6_row16_col0\" class=\"data row16 col0\" >0</td>\n",
       "      <td id=\"T_bbaf6_row16_col1\" class=\"data row16 col1\" >0</td>\n",
       "      <td id=\"T_bbaf6_row16_col2\" class=\"data row16 col2\" >0</td>\n",
       "      <td id=\"T_bbaf6_row16_col3\" class=\"data row16 col3\" >0</td>\n",
       "      <td id=\"T_bbaf6_row16_col4\" class=\"data row16 col4\" >0</td>\n",
       "      <td id=\"T_bbaf6_row16_col5\" class=\"data row16 col5\" >0</td>\n",
       "      <td id=\"T_bbaf6_row16_col6\" class=\"data row16 col6\" >0</td>\n",
       "      <td id=\"T_bbaf6_row16_col7\" class=\"data row16 col7\" >1</td>\n",
       "      <td id=\"T_bbaf6_row16_col8\" class=\"data row16 col8\" >20</td>\n",
       "      <td id=\"T_bbaf6_row16_col9\" class=\"data row16 col9\" >6</td>\n",
       "      <td id=\"T_bbaf6_row16_col10\" class=\"data row16 col10\" >0</td>\n",
       "      <td id=\"T_bbaf6_row16_col11\" class=\"data row16 col11\" >0</td>\n",
       "    </tr>\n",
       "    <tr>\n",
       "      <th id=\"T_bbaf6_level0_row17\" class=\"row_heading level0 row17\" >Finance</th>\n",
       "      <td id=\"T_bbaf6_row17_col0\" class=\"data row17 col0\" >0</td>\n",
       "      <td id=\"T_bbaf6_row17_col1\" class=\"data row17 col1\" >0</td>\n",
       "      <td id=\"T_bbaf6_row17_col2\" class=\"data row17 col2\" >0</td>\n",
       "      <td id=\"T_bbaf6_row17_col3\" class=\"data row17 col3\" >0</td>\n",
       "      <td id=\"T_bbaf6_row17_col4\" class=\"data row17 col4\" >2</td>\n",
       "      <td id=\"T_bbaf6_row17_col5\" class=\"data row17 col5\" >5</td>\n",
       "      <td id=\"T_bbaf6_row17_col6\" class=\"data row17 col6\" >11</td>\n",
       "      <td id=\"T_bbaf6_row17_col7\" class=\"data row17 col7\" >5</td>\n",
       "      <td id=\"T_bbaf6_row17_col8\" class=\"data row17 col8\" >4</td>\n",
       "      <td id=\"T_bbaf6_row17_col9\" class=\"data row17 col9\" >1</td>\n",
       "      <td id=\"T_bbaf6_row17_col10\" class=\"data row17 col10\" >0</td>\n",
       "      <td id=\"T_bbaf6_row17_col11\" class=\"data row17 col11\" >0</td>\n",
       "    </tr>\n",
       "    <tr>\n",
       "      <th id=\"T_bbaf6_level0_row18\" class=\"row_heading level0 row18\" >Gaming</th>\n",
       "      <td id=\"T_bbaf6_row18_col0\" class=\"data row18 col0\" >0</td>\n",
       "      <td id=\"T_bbaf6_row18_col1\" class=\"data row18 col1\" >1</td>\n",
       "      <td id=\"T_bbaf6_row18_col2\" class=\"data row18 col2\" >0</td>\n",
       "      <td id=\"T_bbaf6_row18_col3\" class=\"data row18 col3\" >0</td>\n",
       "      <td id=\"T_bbaf6_row18_col4\" class=\"data row18 col4\" >0</td>\n",
       "      <td id=\"T_bbaf6_row18_col5\" class=\"data row18 col5\" >2</td>\n",
       "      <td id=\"T_bbaf6_row18_col6\" class=\"data row18 col6\" >6</td>\n",
       "      <td id=\"T_bbaf6_row18_col7\" class=\"data row18 col7\" >4</td>\n",
       "      <td id=\"T_bbaf6_row18_col8\" class=\"data row18 col8\" >71</td>\n",
       "      <td id=\"T_bbaf6_row18_col9\" class=\"data row18 col9\" >38</td>\n",
       "      <td id=\"T_bbaf6_row18_col10\" class=\"data row18 col10\" >25</td>\n",
       "      <td id=\"T_bbaf6_row18_col11\" class=\"data row18 col11\" >7</td>\n",
       "    </tr>\n",
       "    <tr>\n",
       "      <th id=\"T_bbaf6_level0_row19\" class=\"row_heading level0 row19\" >Ignition IDO</th>\n",
       "      <td id=\"T_bbaf6_row19_col0\" class=\"data row19 col0\" >0</td>\n",
       "      <td id=\"T_bbaf6_row19_col1\" class=\"data row19 col1\" >0</td>\n",
       "      <td id=\"T_bbaf6_row19_col2\" class=\"data row19 col2\" >0</td>\n",
       "      <td id=\"T_bbaf6_row19_col3\" class=\"data row19 col3\" >0</td>\n",
       "      <td id=\"T_bbaf6_row19_col4\" class=\"data row19 col4\" >0</td>\n",
       "      <td id=\"T_bbaf6_row19_col5\" class=\"data row19 col5\" >0</td>\n",
       "      <td id=\"T_bbaf6_row19_col6\" class=\"data row19 col6\" >1</td>\n",
       "      <td id=\"T_bbaf6_row19_col7\" class=\"data row19 col7\" >0</td>\n",
       "      <td id=\"T_bbaf6_row19_col8\" class=\"data row19 col8\" >8</td>\n",
       "      <td id=\"T_bbaf6_row19_col9\" class=\"data row19 col9\" >0</td>\n",
       "      <td id=\"T_bbaf6_row19_col10\" class=\"data row19 col10\" >0</td>\n",
       "      <td id=\"T_bbaf6_row19_col11\" class=\"data row19 col11\" >0</td>\n",
       "    </tr>\n",
       "    <tr>\n",
       "      <th id=\"T_bbaf6_level0_row20\" class=\"row_heading level0 row20\" >Infrastructure</th>\n",
       "      <td id=\"T_bbaf6_row20_col0\" class=\"data row20 col0\" >0</td>\n",
       "      <td id=\"T_bbaf6_row20_col1\" class=\"data row20 col1\" >0</td>\n",
       "      <td id=\"T_bbaf6_row20_col2\" class=\"data row20 col2\" >0</td>\n",
       "      <td id=\"T_bbaf6_row20_col3\" class=\"data row20 col3\" >1</td>\n",
       "      <td id=\"T_bbaf6_row20_col4\" class=\"data row20 col4\" >0</td>\n",
       "      <td id=\"T_bbaf6_row20_col5\" class=\"data row20 col5\" >1</td>\n",
       "      <td id=\"T_bbaf6_row20_col6\" class=\"data row20 col6\" >7</td>\n",
       "      <td id=\"T_bbaf6_row20_col7\" class=\"data row20 col7\" >8</td>\n",
       "      <td id=\"T_bbaf6_row20_col8\" class=\"data row20 col8\" >12</td>\n",
       "      <td id=\"T_bbaf6_row20_col9\" class=\"data row20 col9\" >1</td>\n",
       "      <td id=\"T_bbaf6_row20_col10\" class=\"data row20 col10\" >4</td>\n",
       "      <td id=\"T_bbaf6_row20_col11\" class=\"data row20 col11\" >1</td>\n",
       "    </tr>\n",
       "    <tr>\n",
       "      <th id=\"T_bbaf6_level0_row21\" class=\"row_heading level0 row21\" >Launchpad</th>\n",
       "      <td id=\"T_bbaf6_row21_col0\" class=\"data row21 col0\" >0</td>\n",
       "      <td id=\"T_bbaf6_row21_col1\" class=\"data row21 col1\" >0</td>\n",
       "      <td id=\"T_bbaf6_row21_col2\" class=\"data row21 col2\" >0</td>\n",
       "      <td id=\"T_bbaf6_row21_col3\" class=\"data row21 col3\" >0</td>\n",
       "      <td id=\"T_bbaf6_row21_col4\" class=\"data row21 col4\" >0</td>\n",
       "      <td id=\"T_bbaf6_row21_col5\" class=\"data row21 col5\" >0</td>\n",
       "      <td id=\"T_bbaf6_row21_col6\" class=\"data row21 col6\" >0</td>\n",
       "      <td id=\"T_bbaf6_row21_col7\" class=\"data row21 col7\" >4</td>\n",
       "      <td id=\"T_bbaf6_row21_col8\" class=\"data row21 col8\" >15</td>\n",
       "      <td id=\"T_bbaf6_row21_col9\" class=\"data row21 col9\" >2</td>\n",
       "      <td id=\"T_bbaf6_row21_col10\" class=\"data row21 col10\" >6</td>\n",
       "      <td id=\"T_bbaf6_row21_col11\" class=\"data row21 col11\" >2</td>\n",
       "    </tr>\n",
       "    <tr>\n",
       "      <th id=\"T_bbaf6_level0_row22\" class=\"row_heading level0 row22\" >Lending Platform</th>\n",
       "      <td id=\"T_bbaf6_row22_col0\" class=\"data row22 col0\" >0</td>\n",
       "      <td id=\"T_bbaf6_row22_col1\" class=\"data row22 col1\" >0</td>\n",
       "      <td id=\"T_bbaf6_row22_col2\" class=\"data row22 col2\" >0</td>\n",
       "      <td id=\"T_bbaf6_row22_col3\" class=\"data row22 col3\" >0</td>\n",
       "      <td id=\"T_bbaf6_row22_col4\" class=\"data row22 col4\" >0</td>\n",
       "      <td id=\"T_bbaf6_row22_col5\" class=\"data row22 col5\" >1</td>\n",
       "      <td id=\"T_bbaf6_row22_col6\" class=\"data row22 col6\" >0</td>\n",
       "      <td id=\"T_bbaf6_row22_col7\" class=\"data row22 col7\" >1</td>\n",
       "      <td id=\"T_bbaf6_row22_col8\" class=\"data row22 col8\" >10</td>\n",
       "      <td id=\"T_bbaf6_row22_col9\" class=\"data row22 col9\" >2</td>\n",
       "      <td id=\"T_bbaf6_row22_col10\" class=\"data row22 col10\" >2</td>\n",
       "      <td id=\"T_bbaf6_row22_col11\" class=\"data row22 col11\" >0</td>\n",
       "    </tr>\n",
       "    <tr>\n",
       "      <th id=\"T_bbaf6_level0_row23\" class=\"row_heading level0 row23\" >Meme</th>\n",
       "      <td id=\"T_bbaf6_row23_col0\" class=\"data row23 col0\" >1</td>\n",
       "      <td id=\"T_bbaf6_row23_col1\" class=\"data row23 col1\" >1</td>\n",
       "      <td id=\"T_bbaf6_row23_col2\" class=\"data row23 col2\" >0</td>\n",
       "      <td id=\"T_bbaf6_row23_col3\" class=\"data row23 col3\" >0</td>\n",
       "      <td id=\"T_bbaf6_row23_col4\" class=\"data row23 col4\" >0</td>\n",
       "      <td id=\"T_bbaf6_row23_col5\" class=\"data row23 col5\" >0</td>\n",
       "      <td id=\"T_bbaf6_row23_col6\" class=\"data row23 col6\" >0</td>\n",
       "      <td id=\"T_bbaf6_row23_col7\" class=\"data row23 col7\" >1</td>\n",
       "      <td id=\"T_bbaf6_row23_col8\" class=\"data row23 col8\" >22</td>\n",
       "      <td id=\"T_bbaf6_row23_col9\" class=\"data row23 col9\" >9</td>\n",
       "      <td id=\"T_bbaf6_row23_col10\" class=\"data row23 col10\" >63</td>\n",
       "      <td id=\"T_bbaf6_row23_col11\" class=\"data row23 col11\" >17</td>\n",
       "    </tr>\n",
       "    <tr>\n",
       "      <th id=\"T_bbaf6_level0_row24\" class=\"row_heading level0 row24\" >Metaverse</th>\n",
       "      <td id=\"T_bbaf6_row24_col0\" class=\"data row24 col0\" >0</td>\n",
       "      <td id=\"T_bbaf6_row24_col1\" class=\"data row24 col1\" >0</td>\n",
       "      <td id=\"T_bbaf6_row24_col2\" class=\"data row24 col2\" >0</td>\n",
       "      <td id=\"T_bbaf6_row24_col3\" class=\"data row24 col3\" >0</td>\n",
       "      <td id=\"T_bbaf6_row24_col4\" class=\"data row24 col4\" >1</td>\n",
       "      <td id=\"T_bbaf6_row24_col5\" class=\"data row24 col5\" >2</td>\n",
       "      <td id=\"T_bbaf6_row24_col6\" class=\"data row24 col6\" >1</td>\n",
       "      <td id=\"T_bbaf6_row24_col7\" class=\"data row24 col7\" >0</td>\n",
       "      <td id=\"T_bbaf6_row24_col8\" class=\"data row24 col8\" >8</td>\n",
       "      <td id=\"T_bbaf6_row24_col9\" class=\"data row24 col9\" >5</td>\n",
       "      <td id=\"T_bbaf6_row24_col10\" class=\"data row24 col10\" >4</td>\n",
       "      <td id=\"T_bbaf6_row24_col11\" class=\"data row24 col11\" >0</td>\n",
       "    </tr>\n",
       "    <tr>\n",
       "      <th id=\"T_bbaf6_level0_row25\" class=\"row_heading level0 row25\" >NFT</th>\n",
       "      <td id=\"T_bbaf6_row25_col0\" class=\"data row25 col0\" >0</td>\n",
       "      <td id=\"T_bbaf6_row25_col1\" class=\"data row25 col1\" >0</td>\n",
       "      <td id=\"T_bbaf6_row25_col2\" class=\"data row25 col2\" >0</td>\n",
       "      <td id=\"T_bbaf6_row25_col3\" class=\"data row25 col3\" >0</td>\n",
       "      <td id=\"T_bbaf6_row25_col4\" class=\"data row25 col4\" >1</td>\n",
       "      <td id=\"T_bbaf6_row25_col5\" class=\"data row25 col5\" >1</td>\n",
       "      <td id=\"T_bbaf6_row25_col6\" class=\"data row25 col6\" >0</td>\n",
       "      <td id=\"T_bbaf6_row25_col7\" class=\"data row25 col7\" >14</td>\n",
       "      <td id=\"T_bbaf6_row25_col8\" class=\"data row25 col8\" >70</td>\n",
       "      <td id=\"T_bbaf6_row25_col9\" class=\"data row25 col9\" >17</td>\n",
       "      <td id=\"T_bbaf6_row25_col10\" class=\"data row25 col10\" >15</td>\n",
       "      <td id=\"T_bbaf6_row25_col11\" class=\"data row25 col11\" >0</td>\n",
       "    </tr>\n",
       "    <tr>\n",
       "      <th id=\"T_bbaf6_level0_row26\" class=\"row_heading level0 row26\" >Oracle</th>\n",
       "      <td id=\"T_bbaf6_row26_col0\" class=\"data row26 col0\" >0</td>\n",
       "      <td id=\"T_bbaf6_row26_col1\" class=\"data row26 col1\" >0</td>\n",
       "      <td id=\"T_bbaf6_row26_col2\" class=\"data row26 col2\" >0</td>\n",
       "      <td id=\"T_bbaf6_row26_col3\" class=\"data row26 col3\" >0</td>\n",
       "      <td id=\"T_bbaf6_row26_col4\" class=\"data row26 col4\" >2</td>\n",
       "      <td id=\"T_bbaf6_row26_col5\" class=\"data row26 col5\" >1</td>\n",
       "      <td id=\"T_bbaf6_row26_col6\" class=\"data row26 col6\" >1</td>\n",
       "      <td id=\"T_bbaf6_row26_col7\" class=\"data row26 col7\" >6</td>\n",
       "      <td id=\"T_bbaf6_row26_col8\" class=\"data row26 col8\" >13</td>\n",
       "      <td id=\"T_bbaf6_row26_col9\" class=\"data row26 col9\" >0</td>\n",
       "      <td id=\"T_bbaf6_row26_col10\" class=\"data row26 col10\" >1</td>\n",
       "      <td id=\"T_bbaf6_row26_col11\" class=\"data row26 col11\" >0</td>\n",
       "    </tr>\n",
       "    <tr>\n",
       "      <th id=\"T_bbaf6_level0_row27\" class=\"row_heading level0 row27\" >Play to Earn</th>\n",
       "      <td id=\"T_bbaf6_row27_col0\" class=\"data row27 col0\" >0</td>\n",
       "      <td id=\"T_bbaf6_row27_col1\" class=\"data row27 col1\" >0</td>\n",
       "      <td id=\"T_bbaf6_row27_col2\" class=\"data row27 col2\" >0</td>\n",
       "      <td id=\"T_bbaf6_row27_col3\" class=\"data row27 col3\" >0</td>\n",
       "      <td id=\"T_bbaf6_row27_col4\" class=\"data row27 col4\" >0</td>\n",
       "      <td id=\"T_bbaf6_row27_col5\" class=\"data row27 col5\" >0</td>\n",
       "      <td id=\"T_bbaf6_row27_col6\" class=\"data row27 col6\" >1</td>\n",
       "      <td id=\"T_bbaf6_row27_col7\" class=\"data row27 col7\" >1</td>\n",
       "      <td id=\"T_bbaf6_row27_col8\" class=\"data row27 col8\" >16</td>\n",
       "      <td id=\"T_bbaf6_row27_col9\" class=\"data row27 col9\" >4</td>\n",
       "      <td id=\"T_bbaf6_row27_col10\" class=\"data row27 col10\" >1</td>\n",
       "      <td id=\"T_bbaf6_row27_col11\" class=\"data row27 col11\" >0</td>\n",
       "    </tr>\n",
       "    <tr>\n",
       "      <th id=\"T_bbaf6_level0_row28\" class=\"row_heading level0 row28\" >Polkastarter IDO</th>\n",
       "      <td id=\"T_bbaf6_row28_col0\" class=\"data row28 col0\" >0</td>\n",
       "      <td id=\"T_bbaf6_row28_col1\" class=\"data row28 col1\" >0</td>\n",
       "      <td id=\"T_bbaf6_row28_col2\" class=\"data row28 col2\" >0</td>\n",
       "      <td id=\"T_bbaf6_row28_col3\" class=\"data row28 col3\" >0</td>\n",
       "      <td id=\"T_bbaf6_row28_col4\" class=\"data row28 col4\" >0</td>\n",
       "      <td id=\"T_bbaf6_row28_col5\" class=\"data row28 col5\" >0</td>\n",
       "      <td id=\"T_bbaf6_row28_col6\" class=\"data row28 col6\" >0</td>\n",
       "      <td id=\"T_bbaf6_row28_col7\" class=\"data row28 col7\" >0</td>\n",
       "      <td id=\"T_bbaf6_row28_col8\" class=\"data row28 col8\" >11</td>\n",
       "      <td id=\"T_bbaf6_row28_col9\" class=\"data row28 col9\" >0</td>\n",
       "      <td id=\"T_bbaf6_row28_col10\" class=\"data row28 col10\" >0</td>\n",
       "      <td id=\"T_bbaf6_row28_col11\" class=\"data row28 col11\" >0</td>\n",
       "    </tr>\n",
       "    <tr>\n",
       "      <th id=\"T_bbaf6_level0_row29\" class=\"row_heading level0 row29\" >Polygon Ecosystem</th>\n",
       "      <td id=\"T_bbaf6_row29_col0\" class=\"data row29 col0\" >0</td>\n",
       "      <td id=\"T_bbaf6_row29_col1\" class=\"data row29 col1\" >0</td>\n",
       "      <td id=\"T_bbaf6_row29_col2\" class=\"data row29 col2\" >0</td>\n",
       "      <td id=\"T_bbaf6_row29_col3\" class=\"data row29 col3\" >1</td>\n",
       "      <td id=\"T_bbaf6_row29_col4\" class=\"data row29 col4\" >1</td>\n",
       "      <td id=\"T_bbaf6_row29_col5\" class=\"data row29 col5\" >0</td>\n",
       "      <td id=\"T_bbaf6_row29_col6\" class=\"data row29 col6\" >1</td>\n",
       "      <td id=\"T_bbaf6_row29_col7\" class=\"data row29 col7\" >5</td>\n",
       "      <td id=\"T_bbaf6_row29_col8\" class=\"data row29 col8\" >20</td>\n",
       "      <td id=\"T_bbaf6_row29_col9\" class=\"data row29 col9\" >4</td>\n",
       "      <td id=\"T_bbaf6_row29_col10\" class=\"data row29 col10\" >6</td>\n",
       "      <td id=\"T_bbaf6_row29_col11\" class=\"data row29 col11\" >1</td>\n",
       "    </tr>\n",
       "    <tr>\n",
       "      <th id=\"T_bbaf6_level0_row30\" class=\"row_heading level0 row30\" >Privacy Coin</th>\n",
       "      <td id=\"T_bbaf6_row30_col0\" class=\"data row30 col0\" >0</td>\n",
       "      <td id=\"T_bbaf6_row30_col1\" class=\"data row30 col1\" >5</td>\n",
       "      <td id=\"T_bbaf6_row30_col2\" class=\"data row30 col2\" >1</td>\n",
       "      <td id=\"T_bbaf6_row30_col3\" class=\"data row30 col3\" >2</td>\n",
       "      <td id=\"T_bbaf6_row30_col4\" class=\"data row30 col4\" >3</td>\n",
       "      <td id=\"T_bbaf6_row30_col5\" class=\"data row30 col5\" >7</td>\n",
       "      <td id=\"T_bbaf6_row30_col6\" class=\"data row30 col6\" >11</td>\n",
       "      <td id=\"T_bbaf6_row30_col7\" class=\"data row30 col7\" >3</td>\n",
       "      <td id=\"T_bbaf6_row30_col8\" class=\"data row30 col8\" >2</td>\n",
       "      <td id=\"T_bbaf6_row30_col9\" class=\"data row30 col9\" >0</td>\n",
       "      <td id=\"T_bbaf6_row30_col10\" class=\"data row30 col10\" >0</td>\n",
       "      <td id=\"T_bbaf6_row30_col11\" class=\"data row30 col11\" >0</td>\n",
       "    </tr>\n",
       "    <tr>\n",
       "      <th id=\"T_bbaf6_level0_row31\" class=\"row_heading level0 row31\" >Protocol</th>\n",
       "      <td id=\"T_bbaf6_row31_col0\" class=\"data row31 col0\" >0</td>\n",
       "      <td id=\"T_bbaf6_row31_col1\" class=\"data row31 col1\" >0</td>\n",
       "      <td id=\"T_bbaf6_row31_col2\" class=\"data row31 col2\" >0</td>\n",
       "      <td id=\"T_bbaf6_row31_col3\" class=\"data row31 col3\" >0</td>\n",
       "      <td id=\"T_bbaf6_row31_col4\" class=\"data row31 col4\" >1</td>\n",
       "      <td id=\"T_bbaf6_row31_col5\" class=\"data row31 col5\" >5</td>\n",
       "      <td id=\"T_bbaf6_row31_col6\" class=\"data row31 col6\" >0</td>\n",
       "      <td id=\"T_bbaf6_row31_col7\" class=\"data row31 col7\" >4</td>\n",
       "      <td id=\"T_bbaf6_row31_col8\" class=\"data row31 col8\" >7</td>\n",
       "      <td id=\"T_bbaf6_row31_col9\" class=\"data row31 col9\" >6</td>\n",
       "      <td id=\"T_bbaf6_row31_col10\" class=\"data row31 col10\" >2</td>\n",
       "      <td id=\"T_bbaf6_row31_col11\" class=\"data row31 col11\" >1</td>\n",
       "    </tr>\n",
       "    <tr>\n",
       "      <th id=\"T_bbaf6_level0_row32\" class=\"row_heading level0 row32\" >Social</th>\n",
       "      <td id=\"T_bbaf6_row32_col0\" class=\"data row32 col0\" >0</td>\n",
       "      <td id=\"T_bbaf6_row32_col1\" class=\"data row32 col1\" >0</td>\n",
       "      <td id=\"T_bbaf6_row32_col2\" class=\"data row32 col2\" >0</td>\n",
       "      <td id=\"T_bbaf6_row32_col3\" class=\"data row32 col3\" >0</td>\n",
       "      <td id=\"T_bbaf6_row32_col4\" class=\"data row32 col4\" >1</td>\n",
       "      <td id=\"T_bbaf6_row32_col5\" class=\"data row32 col5\" >0</td>\n",
       "      <td id=\"T_bbaf6_row32_col6\" class=\"data row32 col6\" >3</td>\n",
       "      <td id=\"T_bbaf6_row32_col7\" class=\"data row32 col7\" >4</td>\n",
       "      <td id=\"T_bbaf6_row32_col8\" class=\"data row32 col8\" >2</td>\n",
       "      <td id=\"T_bbaf6_row32_col9\" class=\"data row32 col9\" >3</td>\n",
       "      <td id=\"T_bbaf6_row32_col10\" class=\"data row32 col10\" >10</td>\n",
       "      <td id=\"T_bbaf6_row32_col11\" class=\"data row32 col11\" >0</td>\n",
       "    </tr>\n",
       "    <tr>\n",
       "      <th id=\"T_bbaf6_level0_row33\" class=\"row_heading level0 row33\" >Solana Ecosystem</th>\n",
       "      <td id=\"T_bbaf6_row33_col0\" class=\"data row33 col0\" >0</td>\n",
       "      <td id=\"T_bbaf6_row33_col1\" class=\"data row33 col1\" >0</td>\n",
       "      <td id=\"T_bbaf6_row33_col2\" class=\"data row33 col2\" >0</td>\n",
       "      <td id=\"T_bbaf6_row33_col3\" class=\"data row33 col3\" >0</td>\n",
       "      <td id=\"T_bbaf6_row33_col4\" class=\"data row33 col4\" >0</td>\n",
       "      <td id=\"T_bbaf6_row33_col5\" class=\"data row33 col5\" >0</td>\n",
       "      <td id=\"T_bbaf6_row33_col6\" class=\"data row33 col6\" >0</td>\n",
       "      <td id=\"T_bbaf6_row33_col7\" class=\"data row33 col7\" >0</td>\n",
       "      <td id=\"T_bbaf6_row33_col8\" class=\"data row33 col8\" >15</td>\n",
       "      <td id=\"T_bbaf6_row33_col9\" class=\"data row33 col9\" >1</td>\n",
       "      <td id=\"T_bbaf6_row33_col10\" class=\"data row33 col10\" >1</td>\n",
       "      <td id=\"T_bbaf6_row33_col11\" class=\"data row33 col11\" >1</td>\n",
       "    </tr>\n",
       "    <tr>\n",
       "      <th id=\"T_bbaf6_level0_row34\" class=\"row_heading level0 row34\" >Sport</th>\n",
       "      <td id=\"T_bbaf6_row34_col0\" class=\"data row34 col0\" >0</td>\n",
       "      <td id=\"T_bbaf6_row34_col1\" class=\"data row34 col1\" >0</td>\n",
       "      <td id=\"T_bbaf6_row34_col2\" class=\"data row34 col2\" >0</td>\n",
       "      <td id=\"T_bbaf6_row34_col3\" class=\"data row34 col3\" >0</td>\n",
       "      <td id=\"T_bbaf6_row34_col4\" class=\"data row34 col4\" >0</td>\n",
       "      <td id=\"T_bbaf6_row34_col5\" class=\"data row34 col5\" >0</td>\n",
       "      <td id=\"T_bbaf6_row34_col6\" class=\"data row34 col6\" >2</td>\n",
       "      <td id=\"T_bbaf6_row34_col7\" class=\"data row34 col7\" >7</td>\n",
       "      <td id=\"T_bbaf6_row34_col8\" class=\"data row34 col8\" >23</td>\n",
       "      <td id=\"T_bbaf6_row34_col9\" class=\"data row34 col9\" >3</td>\n",
       "      <td id=\"T_bbaf6_row34_col10\" class=\"data row34 col10\" >0</td>\n",
       "      <td id=\"T_bbaf6_row34_col11\" class=\"data row34 col11\" >0</td>\n",
       "    </tr>\n",
       "    <tr>\n",
       "      <th id=\"T_bbaf6_level0_row35\" class=\"row_heading level0 row35\" >Stablecoin</th>\n",
       "      <td id=\"T_bbaf6_row35_col0\" class=\"data row35 col0\" >0</td>\n",
       "      <td id=\"T_bbaf6_row35_col1\" class=\"data row35 col1\" >0</td>\n",
       "      <td id=\"T_bbaf6_row35_col2\" class=\"data row35 col2\" >1</td>\n",
       "      <td id=\"T_bbaf6_row35_col3\" class=\"data row35 col3\" >1</td>\n",
       "      <td id=\"T_bbaf6_row35_col4\" class=\"data row35 col4\" >1</td>\n",
       "      <td id=\"T_bbaf6_row35_col5\" class=\"data row35 col5\" >3</td>\n",
       "      <td id=\"T_bbaf6_row35_col6\" class=\"data row35 col6\" >5</td>\n",
       "      <td id=\"T_bbaf6_row35_col7\" class=\"data row35 col7\" >4</td>\n",
       "      <td id=\"T_bbaf6_row35_col8\" class=\"data row35 col8\" >8</td>\n",
       "      <td id=\"T_bbaf6_row35_col9\" class=\"data row35 col9\" >4</td>\n",
       "      <td id=\"T_bbaf6_row35_col10\" class=\"data row35 col10\" >8</td>\n",
       "      <td id=\"T_bbaf6_row35_col11\" class=\"data row35 col11\" >1</td>\n",
       "    </tr>\n",
       "    <tr>\n",
       "      <th id=\"T_bbaf6_level0_row36\" class=\"row_heading level0 row36\" >Trading Bot</th>\n",
       "      <td id=\"T_bbaf6_row36_col0\" class=\"data row36 col0\" >0</td>\n",
       "      <td id=\"T_bbaf6_row36_col1\" class=\"data row36 col1\" >0</td>\n",
       "      <td id=\"T_bbaf6_row36_col2\" class=\"data row36 col2\" >0</td>\n",
       "      <td id=\"T_bbaf6_row36_col3\" class=\"data row36 col3\" >0</td>\n",
       "      <td id=\"T_bbaf6_row36_col4\" class=\"data row36 col4\" >0</td>\n",
       "      <td id=\"T_bbaf6_row36_col5\" class=\"data row36 col5\" >0</td>\n",
       "      <td id=\"T_bbaf6_row36_col6\" class=\"data row36 col6\" >0</td>\n",
       "      <td id=\"T_bbaf6_row36_col7\" class=\"data row36 col7\" >0</td>\n",
       "      <td id=\"T_bbaf6_row36_col8\" class=\"data row36 col8\" >0</td>\n",
       "      <td id=\"T_bbaf6_row36_col9\" class=\"data row36 col9\" >2</td>\n",
       "      <td id=\"T_bbaf6_row36_col10\" class=\"data row36 col10\" >10</td>\n",
       "      <td id=\"T_bbaf6_row36_col11\" class=\"data row36 col11\" >0</td>\n",
       "    </tr>\n",
       "    <tr>\n",
       "      <th id=\"T_bbaf6_level0_row37\" class=\"row_heading level0 row37\" >Wallet</th>\n",
       "      <td id=\"T_bbaf6_row37_col0\" class=\"data row37 col0\" >0</td>\n",
       "      <td id=\"T_bbaf6_row37_col1\" class=\"data row37 col1\" >0</td>\n",
       "      <td id=\"T_bbaf6_row37_col2\" class=\"data row37 col2\" >0</td>\n",
       "      <td id=\"T_bbaf6_row37_col3\" class=\"data row37 col3\" >0</td>\n",
       "      <td id=\"T_bbaf6_row37_col4\" class=\"data row37 col4\" >1</td>\n",
       "      <td id=\"T_bbaf6_row37_col5\" class=\"data row37 col5\" >0</td>\n",
       "      <td id=\"T_bbaf6_row37_col6\" class=\"data row37 col6\" >0</td>\n",
       "      <td id=\"T_bbaf6_row37_col7\" class=\"data row37 col7\" >3</td>\n",
       "      <td id=\"T_bbaf6_row37_col8\" class=\"data row37 col8\" >8</td>\n",
       "      <td id=\"T_bbaf6_row37_col9\" class=\"data row37 col9\" >1</td>\n",
       "      <td id=\"T_bbaf6_row37_col10\" class=\"data row37 col10\" >3</td>\n",
       "      <td id=\"T_bbaf6_row37_col11\" class=\"data row37 col11\" >0</td>\n",
       "    </tr>\n",
       "    <tr>\n",
       "      <th id=\"T_bbaf6_level0_row38\" class=\"row_heading level0 row38\" >Web 3.0</th>\n",
       "      <td id=\"T_bbaf6_row38_col0\" class=\"data row38 col0\" >0</td>\n",
       "      <td id=\"T_bbaf6_row38_col1\" class=\"data row38 col1\" >0</td>\n",
       "      <td id=\"T_bbaf6_row38_col2\" class=\"data row38 col2\" >0</td>\n",
       "      <td id=\"T_bbaf6_row38_col3\" class=\"data row38 col3\" >0</td>\n",
       "      <td id=\"T_bbaf6_row38_col4\" class=\"data row38 col4\" >0</td>\n",
       "      <td id=\"T_bbaf6_row38_col5\" class=\"data row38 col5\" >1</td>\n",
       "      <td id=\"T_bbaf6_row38_col6\" class=\"data row38 col6\" >0</td>\n",
       "      <td id=\"T_bbaf6_row38_col7\" class=\"data row38 col7\" >1</td>\n",
       "      <td id=\"T_bbaf6_row38_col8\" class=\"data row38 col8\" >2</td>\n",
       "      <td id=\"T_bbaf6_row38_col9\" class=\"data row38 col9\" >4</td>\n",
       "      <td id=\"T_bbaf6_row38_col10\" class=\"data row38 col10\" >7</td>\n",
       "      <td id=\"T_bbaf6_row38_col11\" class=\"data row38 col11\" >2</td>\n",
       "    </tr>\n",
       "    <tr>\n",
       "      <th id=\"T_bbaf6_level0_row39\" class=\"row_heading level0 row39\" >Yield Farming</th>\n",
       "      <td id=\"T_bbaf6_row39_col0\" class=\"data row39 col0\" >0</td>\n",
       "      <td id=\"T_bbaf6_row39_col1\" class=\"data row39 col1\" >0</td>\n",
       "      <td id=\"T_bbaf6_row39_col2\" class=\"data row39 col2\" >0</td>\n",
       "      <td id=\"T_bbaf6_row39_col3\" class=\"data row39 col3\" >0</td>\n",
       "      <td id=\"T_bbaf6_row39_col4\" class=\"data row39 col4\" >0</td>\n",
       "      <td id=\"T_bbaf6_row39_col5\" class=\"data row39 col5\" >0</td>\n",
       "      <td id=\"T_bbaf6_row39_col6\" class=\"data row39 col6\" >0</td>\n",
       "      <td id=\"T_bbaf6_row39_col7\" class=\"data row39 col7\" >12</td>\n",
       "      <td id=\"T_bbaf6_row39_col8\" class=\"data row39 col8\" >13</td>\n",
       "      <td id=\"T_bbaf6_row39_col9\" class=\"data row39 col9\" >1</td>\n",
       "      <td id=\"T_bbaf6_row39_col10\" class=\"data row39 col10\" >3</td>\n",
       "      <td id=\"T_bbaf6_row39_col11\" class=\"data row39 col11\" >1</td>\n",
       "    </tr>\n",
       "  </tbody>\n",
       "</table>\n"
      ],
      "text/plain": [
       "<pandas.io.formats.style.Styler at 0x17c5f2800>"
      ]
     },
     "execution_count": 113,
     "metadata": {},
     "output_type": "execute_result"
    }
   ],
   "source": [
    "piv_table = data[data['Category'] != '--'].pivot_table(index='year', \n",
    "                                           columns='Category', \n",
    "                                           values='Token', \n",
    "                                           aggfunc='count').fillna(0)\n",
    "\n",
    "piv_table = piv_table.loc[:, (piv_table > 6).any()]\n",
    "piv_table.T.style.background_gradient(axis=1, cmap='bone').format(\"{:.0f}\")"
   ]
  },
  {
   "cell_type": "markdown",
   "metadata": {},
   "source": [
    "### Total raised by cat"
   ]
  },
  {
   "cell_type": "code",
   "execution_count": 195,
   "metadata": {},
   "outputs": [
    {
     "data": {
      "text/html": [
       "<style type=\"text/css\">\n",
       "#T_bd0cb_row0_col0 {\n",
       "  background-color: #50506f;\n",
       "  color: #f1f1f1;\n",
       "}\n",
       "#T_bd0cb_row0_col1, #T_bd0cb_row0_col2, #T_bd0cb_row0_col3, #T_bd0cb_row3_col0 {\n",
       "  background-color: #ffffff;\n",
       "  color: #000000;\n",
       "}\n",
       "#T_bd0cb_row1_col0, #T_bd0cb_row15_col0, #T_bd0cb_row19_col3, #T_bd0cb_row20_col3 {\n",
       "  background-color: #020202;\n",
       "  color: #f1f1f1;\n",
       "}\n",
       "#T_bd0cb_row1_col1, #T_bd0cb_row11_col3 {\n",
       "  background-color: #21212e;\n",
       "  color: #f1f1f1;\n",
       "}\n",
       "#T_bd0cb_row1_col2 {\n",
       "  background-color: #8194a1;\n",
       "  color: #f1f1f1;\n",
       "}\n",
       "#T_bd0cb_row1_col3 {\n",
       "  background-color: #8ca2ac;\n",
       "  color: #f1f1f1;\n",
       "}\n",
       "#T_bd0cb_row2_col0 {\n",
       "  background-color: #666e86;\n",
       "  color: #f1f1f1;\n",
       "}\n",
       "#T_bd0cb_row2_col1, #T_bd0cb_row14_col0 {\n",
       "  background-color: #1d1d28;\n",
       "  color: #f1f1f1;\n",
       "}\n",
       "#T_bd0cb_row2_col2 {\n",
       "  background-color: #16161e;\n",
       "  color: #f1f1f1;\n",
       "}\n",
       "#T_bd0cb_row2_col3, #T_bd0cb_row5_col0, #T_bd0cb_row12_col1 {\n",
       "  background-color: #060609;\n",
       "  color: #f1f1f1;\n",
       "}\n",
       "#T_bd0cb_row3_col1 {\n",
       "  background-color: #1c1c27;\n",
       "  color: #f1f1f1;\n",
       "}\n",
       "#T_bd0cb_row3_col2, #T_bd0cb_row8_col1, #T_bd0cb_row9_col1, #T_bd0cb_row14_col3, #T_bd0cb_row17_col0 {\n",
       "  background-color: #09090c;\n",
       "  color: #f1f1f1;\n",
       "}\n",
       "#T_bd0cb_row3_col3, #T_bd0cb_row15_col1, #T_bd0cb_row16_col1, #T_bd0cb_row17_col2, #T_bd0cb_row17_col3 {\n",
       "  background-color: #040305;\n",
       "  color: #f1f1f1;\n",
       "}\n",
       "#T_bd0cb_row4_col0 {\n",
       "  background-color: #9fbcbf;\n",
       "  color: #000000;\n",
       "}\n",
       "#T_bd0cb_row4_col1 {\n",
       "  background-color: #191923;\n",
       "  color: #f1f1f1;\n",
       "}\n",
       "#T_bd0cb_row4_col2 {\n",
       "  background-color: #0b0b10;\n",
       "  color: #f1f1f1;\n",
       "}\n",
       "#T_bd0cb_row4_col3, #T_bd0cb_row6_col0, #T_bd0cb_row11_col0, #T_bd0cb_row12_col0, #T_bd0cb_row14_col1, #T_bd0cb_row19_col0 {\n",
       "  background-color: #040406;\n",
       "  color: #f1f1f1;\n",
       "}\n",
       "#T_bd0cb_row5_col1, #T_bd0cb_row6_col1, #T_bd0cb_row7_col3 {\n",
       "  background-color: #0a0a0f;\n",
       "  color: #f1f1f1;\n",
       "}\n",
       "#T_bd0cb_row5_col2 {\n",
       "  background-color: #232331;\n",
       "  color: #f1f1f1;\n",
       "}\n",
       "#T_bd0cb_row5_col3 {\n",
       "  background-color: #3c3c54;\n",
       "  color: #f1f1f1;\n",
       "}\n",
       "#T_bd0cb_row6_col2 {\n",
       "  background-color: #252533;\n",
       "  color: #f1f1f1;\n",
       "}\n",
       "#T_bd0cb_row6_col3 {\n",
       "  background-color: #697289;\n",
       "  color: #f1f1f1;\n",
       "}\n",
       "#T_bd0cb_row7_col0 {\n",
       "  background-color: #1b1b26;\n",
       "  color: #f1f1f1;\n",
       "}\n",
       "#T_bd0cb_row7_col1 {\n",
       "  background-color: #0a0a0d;\n",
       "  color: #f1f1f1;\n",
       "}\n",
       "#T_bd0cb_row7_col2 {\n",
       "  background-color: #121118;\n",
       "  color: #f1f1f1;\n",
       "}\n",
       "#T_bd0cb_row8_col0, #T_bd0cb_row9_col0, #T_bd0cb_row9_col3, #T_bd0cb_row10_col0, #T_bd0cb_row16_col0, #T_bd0cb_row18_col3, #T_bd0cb_row19_col1, #T_bd0cb_row19_col2, #T_bd0cb_row20_col0, #T_bd0cb_row20_col1, #T_bd0cb_row20_col2 {\n",
       "  background-color: #000000;\n",
       "  color: #f1f1f1;\n",
       "}\n",
       "#T_bd0cb_row8_col2 {\n",
       "  background-color: #272737;\n",
       "  color: #f1f1f1;\n",
       "}\n",
       "#T_bd0cb_row8_col3 {\n",
       "  background-color: #748194;\n",
       "  color: #f1f1f1;\n",
       "}\n",
       "#T_bd0cb_row9_col2 {\n",
       "  background-color: #262636;\n",
       "  color: #f1f1f1;\n",
       "}\n",
       "#T_bd0cb_row10_col1, #T_bd0cb_row11_col1, #T_bd0cb_row14_col2 {\n",
       "  background-color: #07070a;\n",
       "  color: #f1f1f1;\n",
       "}\n",
       "#T_bd0cb_row10_col2 {\n",
       "  background-color: #20202d;\n",
       "  color: #f1f1f1;\n",
       "}\n",
       "#T_bd0cb_row10_col3 {\n",
       "  background-color: #030304;\n",
       "  color: #f1f1f1;\n",
       "}\n",
       "#T_bd0cb_row11_col2 {\n",
       "  background-color: #1a1a25;\n",
       "  color: #f1f1f1;\n",
       "}\n",
       "#T_bd0cb_row12_col2 {\n",
       "  background-color: #15151d;\n",
       "  color: #f1f1f1;\n",
       "}\n",
       "#T_bd0cb_row12_col3 {\n",
       "  background-color: #0c0c11;\n",
       "  color: #f1f1f1;\n",
       "}\n",
       "#T_bd0cb_row13_col0, #T_bd0cb_row13_col2, #T_bd0cb_row18_col0 {\n",
       "  background-color: #0d0d12;\n",
       "  color: #f1f1f1;\n",
       "}\n",
       "#T_bd0cb_row13_col1 {\n",
       "  background-color: #050507;\n",
       "  color: #f1f1f1;\n",
       "}\n",
       "#T_bd0cb_row13_col3 {\n",
       "  background-color: #171720;\n",
       "  color: #f1f1f1;\n",
       "}\n",
       "#T_bd0cb_row15_col2 {\n",
       "  background-color: #101016;\n",
       "  color: #f1f1f1;\n",
       "}\n",
       "#T_bd0cb_row15_col3 {\n",
       "  background-color: #484864;\n",
       "  color: #f1f1f1;\n",
       "}\n",
       "#T_bd0cb_row16_col2 {\n",
       "  background-color: #0e0e13;\n",
       "  color: #f1f1f1;\n",
       "}\n",
       "#T_bd0cb_row16_col3 {\n",
       "  background-color: #37374d;\n",
       "  color: #f1f1f1;\n",
       "}\n",
       "#T_bd0cb_row17_col1, #T_bd0cb_row18_col1, #T_bd0cb_row18_col2 {\n",
       "  background-color: #010101;\n",
       "  color: #f1f1f1;\n",
       "}\n",
       "</style>\n",
       "<table id=\"T_bd0cb\">\n",
       "  <thead>\n",
       "    <tr>\n",
       "      <th class=\"blank level0\" >&nbsp;</th>\n",
       "      <th id=\"T_bd0cb_level0_col0\" class=\"col_heading level0 col0\" >count</th>\n",
       "      <th id=\"T_bd0cb_level0_col1\" class=\"col_heading level0 col1\" >sum</th>\n",
       "      <th id=\"T_bd0cb_level0_col2\" class=\"col_heading level0 col2\" >mean</th>\n",
       "      <th id=\"T_bd0cb_level0_col3\" class=\"col_heading level0 col3\" >median</th>\n",
       "    </tr>\n",
       "    <tr>\n",
       "      <th class=\"index_name level0\" >Category</th>\n",
       "      <th class=\"blank col0\" >&nbsp;</th>\n",
       "      <th class=\"blank col1\" >&nbsp;</th>\n",
       "      <th class=\"blank col2\" >&nbsp;</th>\n",
       "      <th class=\"blank col3\" >&nbsp;</th>\n",
       "    </tr>\n",
       "  </thead>\n",
       "  <tbody>\n",
       "    <tr>\n",
       "      <th id=\"T_bd0cb_level0_row0\" class=\"row_heading level0 row0\" >Blockchain</th>\n",
       "      <td id=\"T_bd0cb_row0_col0\" class=\"data row0 col0\" >46.000</td>\n",
       "      <td id=\"T_bd0cb_row0_col1\" class=\"data row0 col1\" >9.157</td>\n",
       "      <td id=\"T_bd0cb_row0_col2\" class=\"data row0 col2\" >0.199</td>\n",
       "      <td id=\"T_bd0cb_row0_col3\" class=\"data row0 col3\" >0.056</td>\n",
       "    </tr>\n",
       "    <tr>\n",
       "      <th id=\"T_bd0cb_level0_row1\" class=\"row_heading level0 row1\" >CEX</th>\n",
       "      <td id=\"T_bd0cb_row1_col0\" class=\"data row1 col0\" >12.000</td>\n",
       "      <td id=\"T_bd0cb_row1_col1\" class=\"data row1 col1\" >1.398</td>\n",
       "      <td id=\"T_bd0cb_row1_col2\" class=\"data row1 col2\" >0.116</td>\n",
       "      <td id=\"T_bd0cb_row1_col3\" class=\"data row1 col3\" >0.036</td>\n",
       "    </tr>\n",
       "    <tr>\n",
       "      <th id=\"T_bd0cb_level0_row2\" class=\"row_heading level0 row2\" >NFT</th>\n",
       "      <td id=\"T_bd0cb_row2_col0\" class=\"data row2 col0\" >56.000</td>\n",
       "      <td id=\"T_bd0cb_row2_col1\" class=\"data row2 col1\" >1.232</td>\n",
       "      <td id=\"T_bd0cb_row2_col2\" class=\"data row2 col2\" >0.022</td>\n",
       "      <td id=\"T_bd0cb_row2_col3\" class=\"data row2 col3\" >0.004</td>\n",
       "    </tr>\n",
       "    <tr>\n",
       "      <th id=\"T_bd0cb_level0_row3\" class=\"row_heading level0 row3\" >DeFi</th>\n",
       "      <td id=\"T_bd0cb_row3_col0\" class=\"data row3 col0\" >109.000</td>\n",
       "      <td id=\"T_bd0cb_row3_col1\" class=\"data row3 col1\" >1.194</td>\n",
       "      <td id=\"T_bd0cb_row3_col2\" class=\"data row3 col2\" >0.011</td>\n",
       "      <td id=\"T_bd0cb_row3_col3\" class=\"data row3 col3\" >0.003</td>\n",
       "    </tr>\n",
       "    <tr>\n",
       "      <th id=\"T_bd0cb_level0_row4\" class=\"row_heading level0 row4\" >Gaming</th>\n",
       "      <td id=\"T_bd0cb_row4_col0\" class=\"data row4 col0\" >81.000</td>\n",
       "      <td id=\"T_bd0cb_row4_col1\" class=\"data row4 col1\" >1.078</td>\n",
       "      <td id=\"T_bd0cb_row4_col2\" class=\"data row4 col2\" >0.013</td>\n",
       "      <td id=\"T_bd0cb_row4_col3\" class=\"data row4 col3\" >0.003</td>\n",
       "    </tr>\n",
       "    <tr>\n",
       "      <th id=\"T_bd0cb_level0_row5\" class=\"row_heading level0 row5\" >Blockchain Service</th>\n",
       "      <td id=\"T_bd0cb_row5_col0\" class=\"data row5 col0\" >14.000</td>\n",
       "      <td id=\"T_bd0cb_row5_col1\" class=\"data row5 col1\" >0.477</td>\n",
       "      <td id=\"T_bd0cb_row5_col2\" class=\"data row5 col2\" >0.034</td>\n",
       "      <td id=\"T_bd0cb_row5_col3\" class=\"data row5 col3\" >0.017</td>\n",
       "    </tr>\n",
       "    <tr>\n",
       "      <th id=\"T_bd0cb_level0_row6\" class=\"row_heading level0 row6\" >Media</th>\n",
       "      <td id=\"T_bd0cb_row6_col0\" class=\"data row6 col0\" >13.000</td>\n",
       "      <td id=\"T_bd0cb_row6_col1\" class=\"data row6 col1\" >0.458</td>\n",
       "      <td id=\"T_bd0cb_row6_col2\" class=\"data row6 col2\" >0.035</td>\n",
       "      <td id=\"T_bd0cb_row6_col3\" class=\"data row6 col3\" >0.027</td>\n",
       "    </tr>\n",
       "    <tr>\n",
       "      <th id=\"T_bd0cb_level0_row7\" class=\"row_heading level0 row7\" >DEX</th>\n",
       "      <td id=\"T_bd0cb_row7_col0\" class=\"data row7 col0\" >23.000</td>\n",
       "      <td id=\"T_bd0cb_row7_col1\" class=\"data row7 col1\" >0.426</td>\n",
       "      <td id=\"T_bd0cb_row7_col2\" class=\"data row7 col2\" >0.019</td>\n",
       "      <td id=\"T_bd0cb_row7_col3\" class=\"data row7 col3\" >0.005</td>\n",
       "    </tr>\n",
       "    <tr>\n",
       "      <th id=\"T_bd0cb_level0_row8\" class=\"row_heading level0 row8\" >Finance</th>\n",
       "      <td id=\"T_bd0cb_row8_col0\" class=\"data row8 col0\" >11.000</td>\n",
       "      <td id=\"T_bd0cb_row8_col1\" class=\"data row8 col1\" >0.413</td>\n",
       "      <td id=\"T_bd0cb_row8_col2\" class=\"data row8 col2\" >0.038</td>\n",
       "      <td id=\"T_bd0cb_row8_col3\" class=\"data row8 col3\" >0.030</td>\n",
       "    </tr>\n",
       "    <tr>\n",
       "      <th id=\"T_bd0cb_level0_row9\" class=\"row_heading level0 row9\" >Social</th>\n",
       "      <td id=\"T_bd0cb_row9_col0\" class=\"data row9 col0\" >11.000</td>\n",
       "      <td id=\"T_bd0cb_row9_col1\" class=\"data row9 col1\" >0.406</td>\n",
       "      <td id=\"T_bd0cb_row9_col2\" class=\"data row9 col2\" >0.037</td>\n",
       "      <td id=\"T_bd0cb_row9_col3\" class=\"data row9 col3\" >0.002</td>\n",
       "    </tr>\n",
       "    <tr>\n",
       "      <th id=\"T_bd0cb_level0_row10\" class=\"row_heading level0 row10\" >Gate.io Launchpad</th>\n",
       "      <td id=\"T_bd0cb_row10_col0\" class=\"data row10 col0\" >11.000</td>\n",
       "      <td id=\"T_bd0cb_row10_col1\" class=\"data row10 col1\" >0.345</td>\n",
       "      <td id=\"T_bd0cb_row10_col2\" class=\"data row10 col2\" >0.031</td>\n",
       "      <td id=\"T_bd0cb_row10_col3\" class=\"data row10 col3\" >0.003</td>\n",
       "    </tr>\n",
       "    <tr>\n",
       "      <th id=\"T_bd0cb_level0_row11\" class=\"row_heading level0 row11\" >Web 3.0</th>\n",
       "      <td id=\"T_bd0cb_row11_col0\" class=\"data row11 col0\" >13.000</td>\n",
       "      <td id=\"T_bd0cb_row11_col1\" class=\"data row11 col1\" >0.337</td>\n",
       "      <td id=\"T_bd0cb_row11_col2\" class=\"data row11 col2\" >0.026</td>\n",
       "      <td id=\"T_bd0cb_row11_col3\" class=\"data row11 col3\" >0.010</td>\n",
       "    </tr>\n",
       "    <tr>\n",
       "      <th id=\"T_bd0cb_level0_row12\" class=\"row_heading level0 row12\" >Solana Ecosystem</th>\n",
       "      <td id=\"T_bd0cb_row12_col0\" class=\"data row12 col0\" >13.000</td>\n",
       "      <td id=\"T_bd0cb_row12_col1\" class=\"data row12 col1\" >0.281</td>\n",
       "      <td id=\"T_bd0cb_row12_col2\" class=\"data row12 col2\" >0.022</td>\n",
       "      <td id=\"T_bd0cb_row12_col3\" class=\"data row12 col3\" >0.005</td>\n",
       "    </tr>\n",
       "    <tr>\n",
       "      <th id=\"T_bd0cb_level0_row13\" class=\"row_heading level0 row13\" >Play to Earn</th>\n",
       "      <td id=\"T_bd0cb_row13_col0\" class=\"data row13 col0\" >17.000</td>\n",
       "      <td id=\"T_bd0cb_row13_col1\" class=\"data row13 col1\" >0.252</td>\n",
       "      <td id=\"T_bd0cb_row13_col2\" class=\"data row13 col2\" >0.015</td>\n",
       "      <td id=\"T_bd0cb_row13_col3\" class=\"data row13 col3\" >0.008</td>\n",
       "    </tr>\n",
       "    <tr>\n",
       "      <th id=\"T_bd0cb_level0_row14\" class=\"row_heading level0 row14\" >Infrastructure</th>\n",
       "      <td id=\"T_bd0cb_row14_col0\" class=\"data row14 col0\" >24.000</td>\n",
       "      <td id=\"T_bd0cb_row14_col1\" class=\"data row14 col1\" >0.224</td>\n",
       "      <td id=\"T_bd0cb_row14_col2\" class=\"data row14 col2\" >0.009</td>\n",
       "      <td id=\"T_bd0cb_row14_col3\" class=\"data row14 col3\" >0.004</td>\n",
       "    </tr>\n",
       "    <tr>\n",
       "      <th id=\"T_bd0cb_level0_row15\" class=\"row_heading level0 row15\" >Wallet</th>\n",
       "      <td id=\"T_bd0cb_row15_col0\" class=\"data row15 col0\" >12.000</td>\n",
       "      <td id=\"T_bd0cb_row15_col1\" class=\"data row15 col1\" >0.202</td>\n",
       "      <td id=\"T_bd0cb_row15_col2\" class=\"data row15 col2\" >0.017</td>\n",
       "      <td id=\"T_bd0cb_row15_col3\" class=\"data row15 col3\" >0.019</td>\n",
       "    </tr>\n",
       "    <tr>\n",
       "      <th id=\"T_bd0cb_level0_row16\" class=\"row_heading level0 row16\" >Protocol</th>\n",
       "      <td id=\"T_bd0cb_row16_col0\" class=\"data row16 col0\" >11.000</td>\n",
       "      <td id=\"T_bd0cb_row16_col1\" class=\"data row16 col1\" >0.173</td>\n",
       "      <td id=\"T_bd0cb_row16_col2\" class=\"data row16 col2\" >0.016</td>\n",
       "      <td id=\"T_bd0cb_row16_col3\" class=\"data row16 col3\" >0.015</td>\n",
       "    </tr>\n",
       "    <tr>\n",
       "      <th id=\"T_bd0cb_level0_row17\" class=\"row_heading level0 row17\" >Oracle</th>\n",
       "      <td id=\"T_bd0cb_row17_col0\" class=\"data row17 col0\" >15.000</td>\n",
       "      <td id=\"T_bd0cb_row17_col1\" class=\"data row17 col1\" >0.097</td>\n",
       "      <td id=\"T_bd0cb_row17_col2\" class=\"data row17 col2\" >0.006</td>\n",
       "      <td id=\"T_bd0cb_row17_col3\" class=\"data row17 col3\" >0.003</td>\n",
       "    </tr>\n",
       "    <tr>\n",
       "      <th id=\"T_bd0cb_level0_row18\" class=\"row_heading level0 row18\" >Polygon Ecosystem</th>\n",
       "      <td id=\"T_bd0cb_row18_col0\" class=\"data row18 col0\" >17.000</td>\n",
       "      <td id=\"T_bd0cb_row18_col1\" class=\"data row18 col1\" >0.073</td>\n",
       "      <td id=\"T_bd0cb_row18_col2\" class=\"data row18 col2\" >0.004</td>\n",
       "      <td id=\"T_bd0cb_row18_col3\" class=\"data row18 col3\" >0.002</td>\n",
       "    </tr>\n",
       "    <tr>\n",
       "      <th id=\"T_bd0cb_level0_row19\" class=\"row_heading level0 row19\" >Launchpad</th>\n",
       "      <td id=\"T_bd0cb_row19_col0\" class=\"data row19 col0\" >13.000</td>\n",
       "      <td id=\"T_bd0cb_row19_col1\" class=\"data row19 col1\" >0.043</td>\n",
       "      <td id=\"T_bd0cb_row19_col2\" class=\"data row19 col2\" >0.003</td>\n",
       "      <td id=\"T_bd0cb_row19_col3\" class=\"data row19 col3\" >0.003</td>\n",
       "    </tr>\n",
       "    <tr>\n",
       "      <th id=\"T_bd0cb_level0_row20\" class=\"row_heading level0 row20\" >Polkastarter IDO</th>\n",
       "      <td id=\"T_bd0cb_row20_col0\" class=\"data row20 col0\" >11.000</td>\n",
       "      <td id=\"T_bd0cb_row20_col1\" class=\"data row20 col1\" >0.030</td>\n",
       "      <td id=\"T_bd0cb_row20_col2\" class=\"data row20 col2\" >0.003</td>\n",
       "      <td id=\"T_bd0cb_row20_col3\" class=\"data row20 col3\" >0.003</td>\n",
       "    </tr>\n",
       "  </tbody>\n",
       "</table>\n"
      ],
      "text/plain": [
       "<pandas.io.formats.style.Styler at 0x17ae96aa0>"
      ]
     },
     "execution_count": 195,
     "metadata": {},
     "output_type": "execute_result"
    }
   ],
   "source": [
    "raised_cat = data.groupby('Category')['FundsRaised'].agg(['count', 'sum', 'mean', 'median']).sort_values(by='sum', ascending=False)\n",
    "raised_cat = raised_cat[raised_cat['count'] > 10]\n",
    "raised_cat[raised_cat.index != '--'].style.background_gradient(axis=0, cmap='bone').format(\"{:.3f}\")"
   ]
  },
  {
   "cell_type": "code",
   "execution_count": 194,
   "metadata": {},
   "outputs": [
    {
     "data": {
      "application/vnd.plotly.v1+json": {
       "config": {
        "plotlyServerURL": "https://plot.ly"
       },
       "data": [
        {
         "alignmentgroup": "True",
         "cliponaxis": false,
         "hovertemplate": "Total Funds Raised=%{marker.color}<br>y=%{y}<extra></extra>",
         "legendgroup": "",
         "marker": {
          "color": [
           9.15665,
           1.39796,
           1.232009224,
           1.1944755,
           1.078483365,
           0.47709515,
           0.45835000000000004,
           0.42573,
           0.41254,
           0.406061232,
           0.34489978099999996,
           0.3367,
           0.28141,
           0.251922,
           0.22386,
           0.20236,
           0.17318,
           0.096539978,
           0.072662,
           0.042563000000000004,
           0.03044
          ],
          "coloraxis": "coloraxis",
          "pattern": {
           "shape": ""
          }
         },
         "name": "",
         "offsetgroup": "",
         "orientation": "h",
         "showlegend": false,
         "textangle": 0,
         "textfont": {
          "size": 12
         },
         "textposition": "outside",
         "texttemplate": "%{x:.3f} B",
         "type": "bar",
         "x": [
          9.15665,
          1.39796,
          1.232009224,
          1.1944755,
          1.078483365,
          0.47709515,
          0.45835000000000004,
          0.42573,
          0.41254,
          0.406061232,
          0.34489978099999996,
          0.3367,
          0.28141,
          0.251922,
          0.22386,
          0.20236,
          0.17318,
          0.096539978,
          0.072662,
          0.042563000000000004,
          0.03044
         ],
         "xaxis": "x",
         "y": [
          "Blockchain",
          "CEX",
          "NFT",
          "DeFi",
          "Gaming",
          "Blockchain Service",
          "Media",
          "DEX",
          "Finance",
          "Social",
          "Gate.io Launchpad",
          "Web 3.0",
          "Solana Ecosystem",
          "Play to Earn",
          "Infrastructure",
          "Wallet",
          "Protocol",
          "Oracle",
          "Polygon Ecosystem",
          "Launchpad",
          "Polkastarter IDO"
         ],
         "yaxis": "y"
        }
       ],
       "layout": {
        "autosize": false,
        "barmode": "relative",
        "coloraxis": {
         "colorbar": {
          "title": {
           "text": "Total Funds Raised"
          }
         },
         "colorscale": [
          [
           0,
           "#0d0887"
          ],
          [
           0.1111111111111111,
           "#46039f"
          ],
          [
           0.2222222222222222,
           "#7201a8"
          ],
          [
           0.3333333333333333,
           "#9c179e"
          ],
          [
           0.4444444444444444,
           "#bd3786"
          ],
          [
           0.5555555555555556,
           "#d8576b"
          ],
          [
           0.6666666666666666,
           "#ed7953"
          ],
          [
           0.7777777777777778,
           "#fb9f3a"
          ],
          [
           0.8888888888888888,
           "#fdca26"
          ],
          [
           1,
           "#f0f921"
          ]
         ],
         "showscale": false
        },
        "height": 500,
        "legend": {
         "tracegroupgap": 0
        },
        "margin": {
         "b": 0,
         "l": 0,
         "r": 50,
         "t": 50
        },
        "template": {
         "data": {
          "bar": [
           {
            "error_x": {
             "color": "#f2f5fa"
            },
            "error_y": {
             "color": "#f2f5fa"
            },
            "marker": {
             "line": {
              "color": "rgb(17,17,17)",
              "width": 0.5
             },
             "pattern": {
              "fillmode": "overlay",
              "size": 10,
              "solidity": 0.2
             }
            },
            "type": "bar"
           }
          ],
          "barpolar": [
           {
            "marker": {
             "line": {
              "color": "rgb(17,17,17)",
              "width": 0.5
             },
             "pattern": {
              "fillmode": "overlay",
              "size": 10,
              "solidity": 0.2
             }
            },
            "type": "barpolar"
           }
          ],
          "carpet": [
           {
            "aaxis": {
             "endlinecolor": "#A2B1C6",
             "gridcolor": "#506784",
             "linecolor": "#506784",
             "minorgridcolor": "#506784",
             "startlinecolor": "#A2B1C6"
            },
            "baxis": {
             "endlinecolor": "#A2B1C6",
             "gridcolor": "#506784",
             "linecolor": "#506784",
             "minorgridcolor": "#506784",
             "startlinecolor": "#A2B1C6"
            },
            "type": "carpet"
           }
          ],
          "choropleth": [
           {
            "colorbar": {
             "outlinewidth": 0,
             "ticks": ""
            },
            "type": "choropleth"
           }
          ],
          "contour": [
           {
            "colorbar": {
             "outlinewidth": 0,
             "ticks": ""
            },
            "colorscale": [
             [
              0,
              "#0d0887"
             ],
             [
              0.1111111111111111,
              "#46039f"
             ],
             [
              0.2222222222222222,
              "#7201a8"
             ],
             [
              0.3333333333333333,
              "#9c179e"
             ],
             [
              0.4444444444444444,
              "#bd3786"
             ],
             [
              0.5555555555555556,
              "#d8576b"
             ],
             [
              0.6666666666666666,
              "#ed7953"
             ],
             [
              0.7777777777777778,
              "#fb9f3a"
             ],
             [
              0.8888888888888888,
              "#fdca26"
             ],
             [
              1,
              "#f0f921"
             ]
            ],
            "type": "contour"
           }
          ],
          "contourcarpet": [
           {
            "colorbar": {
             "outlinewidth": 0,
             "ticks": ""
            },
            "type": "contourcarpet"
           }
          ],
          "heatmap": [
           {
            "colorbar": {
             "outlinewidth": 0,
             "ticks": ""
            },
            "colorscale": [
             [
              0,
              "#0d0887"
             ],
             [
              0.1111111111111111,
              "#46039f"
             ],
             [
              0.2222222222222222,
              "#7201a8"
             ],
             [
              0.3333333333333333,
              "#9c179e"
             ],
             [
              0.4444444444444444,
              "#bd3786"
             ],
             [
              0.5555555555555556,
              "#d8576b"
             ],
             [
              0.6666666666666666,
              "#ed7953"
             ],
             [
              0.7777777777777778,
              "#fb9f3a"
             ],
             [
              0.8888888888888888,
              "#fdca26"
             ],
             [
              1,
              "#f0f921"
             ]
            ],
            "type": "heatmap"
           }
          ],
          "heatmapgl": [
           {
            "colorbar": {
             "outlinewidth": 0,
             "ticks": ""
            },
            "colorscale": [
             [
              0,
              "#0d0887"
             ],
             [
              0.1111111111111111,
              "#46039f"
             ],
             [
              0.2222222222222222,
              "#7201a8"
             ],
             [
              0.3333333333333333,
              "#9c179e"
             ],
             [
              0.4444444444444444,
              "#bd3786"
             ],
             [
              0.5555555555555556,
              "#d8576b"
             ],
             [
              0.6666666666666666,
              "#ed7953"
             ],
             [
              0.7777777777777778,
              "#fb9f3a"
             ],
             [
              0.8888888888888888,
              "#fdca26"
             ],
             [
              1,
              "#f0f921"
             ]
            ],
            "type": "heatmapgl"
           }
          ],
          "histogram": [
           {
            "marker": {
             "pattern": {
              "fillmode": "overlay",
              "size": 10,
              "solidity": 0.2
             }
            },
            "type": "histogram"
           }
          ],
          "histogram2d": [
           {
            "colorbar": {
             "outlinewidth": 0,
             "ticks": ""
            },
            "colorscale": [
             [
              0,
              "#0d0887"
             ],
             [
              0.1111111111111111,
              "#46039f"
             ],
             [
              0.2222222222222222,
              "#7201a8"
             ],
             [
              0.3333333333333333,
              "#9c179e"
             ],
             [
              0.4444444444444444,
              "#bd3786"
             ],
             [
              0.5555555555555556,
              "#d8576b"
             ],
             [
              0.6666666666666666,
              "#ed7953"
             ],
             [
              0.7777777777777778,
              "#fb9f3a"
             ],
             [
              0.8888888888888888,
              "#fdca26"
             ],
             [
              1,
              "#f0f921"
             ]
            ],
            "type": "histogram2d"
           }
          ],
          "histogram2dcontour": [
           {
            "colorbar": {
             "outlinewidth": 0,
             "ticks": ""
            },
            "colorscale": [
             [
              0,
              "#0d0887"
             ],
             [
              0.1111111111111111,
              "#46039f"
             ],
             [
              0.2222222222222222,
              "#7201a8"
             ],
             [
              0.3333333333333333,
              "#9c179e"
             ],
             [
              0.4444444444444444,
              "#bd3786"
             ],
             [
              0.5555555555555556,
              "#d8576b"
             ],
             [
              0.6666666666666666,
              "#ed7953"
             ],
             [
              0.7777777777777778,
              "#fb9f3a"
             ],
             [
              0.8888888888888888,
              "#fdca26"
             ],
             [
              1,
              "#f0f921"
             ]
            ],
            "type": "histogram2dcontour"
           }
          ],
          "mesh3d": [
           {
            "colorbar": {
             "outlinewidth": 0,
             "ticks": ""
            },
            "type": "mesh3d"
           }
          ],
          "parcoords": [
           {
            "line": {
             "colorbar": {
              "outlinewidth": 0,
              "ticks": ""
             }
            },
            "type": "parcoords"
           }
          ],
          "pie": [
           {
            "automargin": true,
            "type": "pie"
           }
          ],
          "scatter": [
           {
            "marker": {
             "line": {
              "color": "#283442"
             }
            },
            "type": "scatter"
           }
          ],
          "scatter3d": [
           {
            "line": {
             "colorbar": {
              "outlinewidth": 0,
              "ticks": ""
             }
            },
            "marker": {
             "colorbar": {
              "outlinewidth": 0,
              "ticks": ""
             }
            },
            "type": "scatter3d"
           }
          ],
          "scattercarpet": [
           {
            "marker": {
             "colorbar": {
              "outlinewidth": 0,
              "ticks": ""
             }
            },
            "type": "scattercarpet"
           }
          ],
          "scattergeo": [
           {
            "marker": {
             "colorbar": {
              "outlinewidth": 0,
              "ticks": ""
             }
            },
            "type": "scattergeo"
           }
          ],
          "scattergl": [
           {
            "marker": {
             "line": {
              "color": "#283442"
             }
            },
            "type": "scattergl"
           }
          ],
          "scattermapbox": [
           {
            "marker": {
             "colorbar": {
              "outlinewidth": 0,
              "ticks": ""
             }
            },
            "type": "scattermapbox"
           }
          ],
          "scatterpolar": [
           {
            "marker": {
             "colorbar": {
              "outlinewidth": 0,
              "ticks": ""
             }
            },
            "type": "scatterpolar"
           }
          ],
          "scatterpolargl": [
           {
            "marker": {
             "colorbar": {
              "outlinewidth": 0,
              "ticks": ""
             }
            },
            "type": "scatterpolargl"
           }
          ],
          "scatterternary": [
           {
            "marker": {
             "colorbar": {
              "outlinewidth": 0,
              "ticks": ""
             }
            },
            "type": "scatterternary"
           }
          ],
          "surface": [
           {
            "colorbar": {
             "outlinewidth": 0,
             "ticks": ""
            },
            "colorscale": [
             [
              0,
              "#0d0887"
             ],
             [
              0.1111111111111111,
              "#46039f"
             ],
             [
              0.2222222222222222,
              "#7201a8"
             ],
             [
              0.3333333333333333,
              "#9c179e"
             ],
             [
              0.4444444444444444,
              "#bd3786"
             ],
             [
              0.5555555555555556,
              "#d8576b"
             ],
             [
              0.6666666666666666,
              "#ed7953"
             ],
             [
              0.7777777777777778,
              "#fb9f3a"
             ],
             [
              0.8888888888888888,
              "#fdca26"
             ],
             [
              1,
              "#f0f921"
             ]
            ],
            "type": "surface"
           }
          ],
          "table": [
           {
            "cells": {
             "fill": {
              "color": "#506784"
             },
             "line": {
              "color": "rgb(17,17,17)"
             }
            },
            "header": {
             "fill": {
              "color": "#2a3f5f"
             },
             "line": {
              "color": "rgb(17,17,17)"
             }
            },
            "type": "table"
           }
          ]
         },
         "layout": {
          "annotationdefaults": {
           "arrowcolor": "#f2f5fa",
           "arrowhead": 0,
           "arrowwidth": 1
          },
          "autotypenumbers": "strict",
          "coloraxis": {
           "colorbar": {
            "outlinewidth": 0,
            "ticks": ""
           }
          },
          "colorscale": {
           "diverging": [
            [
             0,
             "#8e0152"
            ],
            [
             0.1,
             "#c51b7d"
            ],
            [
             0.2,
             "#de77ae"
            ],
            [
             0.3,
             "#f1b6da"
            ],
            [
             0.4,
             "#fde0ef"
            ],
            [
             0.5,
             "#f7f7f7"
            ],
            [
             0.6,
             "#e6f5d0"
            ],
            [
             0.7,
             "#b8e186"
            ],
            [
             0.8,
             "#7fbc41"
            ],
            [
             0.9,
             "#4d9221"
            ],
            [
             1,
             "#276419"
            ]
           ],
           "sequential": [
            [
             0,
             "#0d0887"
            ],
            [
             0.1111111111111111,
             "#46039f"
            ],
            [
             0.2222222222222222,
             "#7201a8"
            ],
            [
             0.3333333333333333,
             "#9c179e"
            ],
            [
             0.4444444444444444,
             "#bd3786"
            ],
            [
             0.5555555555555556,
             "#d8576b"
            ],
            [
             0.6666666666666666,
             "#ed7953"
            ],
            [
             0.7777777777777778,
             "#fb9f3a"
            ],
            [
             0.8888888888888888,
             "#fdca26"
            ],
            [
             1,
             "#f0f921"
            ]
           ],
           "sequentialminus": [
            [
             0,
             "#0d0887"
            ],
            [
             0.1111111111111111,
             "#46039f"
            ],
            [
             0.2222222222222222,
             "#7201a8"
            ],
            [
             0.3333333333333333,
             "#9c179e"
            ],
            [
             0.4444444444444444,
             "#bd3786"
            ],
            [
             0.5555555555555556,
             "#d8576b"
            ],
            [
             0.6666666666666666,
             "#ed7953"
            ],
            [
             0.7777777777777778,
             "#fb9f3a"
            ],
            [
             0.8888888888888888,
             "#fdca26"
            ],
            [
             1,
             "#f0f921"
            ]
           ]
          },
          "colorway": [
           "#636efa",
           "#EF553B",
           "#00cc96",
           "#ab63fa",
           "#FFA15A",
           "#19d3f3",
           "#FF6692",
           "#B6E880",
           "#FF97FF",
           "#FECB52"
          ],
          "font": {
           "color": "#f2f5fa"
          },
          "geo": {
           "bgcolor": "rgb(17,17,17)",
           "lakecolor": "rgb(17,17,17)",
           "landcolor": "rgb(17,17,17)",
           "showlakes": true,
           "showland": true,
           "subunitcolor": "#506784"
          },
          "hoverlabel": {
           "align": "left"
          },
          "hovermode": "closest",
          "mapbox": {
           "style": "dark"
          },
          "paper_bgcolor": "rgb(17,17,17)",
          "plot_bgcolor": "rgb(17,17,17)",
          "polar": {
           "angularaxis": {
            "gridcolor": "#506784",
            "linecolor": "#506784",
            "ticks": ""
           },
           "bgcolor": "rgb(17,17,17)",
           "radialaxis": {
            "gridcolor": "#506784",
            "linecolor": "#506784",
            "ticks": ""
           }
          },
          "scene": {
           "xaxis": {
            "backgroundcolor": "rgb(17,17,17)",
            "gridcolor": "#506784",
            "gridwidth": 2,
            "linecolor": "#506784",
            "showbackground": true,
            "ticks": "",
            "zerolinecolor": "#C8D4E3"
           },
           "yaxis": {
            "backgroundcolor": "rgb(17,17,17)",
            "gridcolor": "#506784",
            "gridwidth": 2,
            "linecolor": "#506784",
            "showbackground": true,
            "ticks": "",
            "zerolinecolor": "#C8D4E3"
           },
           "zaxis": {
            "backgroundcolor": "rgb(17,17,17)",
            "gridcolor": "#506784",
            "gridwidth": 2,
            "linecolor": "#506784",
            "showbackground": true,
            "ticks": "",
            "zerolinecolor": "#C8D4E3"
           }
          },
          "shapedefaults": {
           "line": {
            "color": "#f2f5fa"
           }
          },
          "sliderdefaults": {
           "bgcolor": "#C8D4E3",
           "bordercolor": "rgb(17,17,17)",
           "borderwidth": 1,
           "tickwidth": 0
          },
          "ternary": {
           "aaxis": {
            "gridcolor": "#506784",
            "linecolor": "#506784",
            "ticks": ""
           },
           "baxis": {
            "gridcolor": "#506784",
            "linecolor": "#506784",
            "ticks": ""
           },
           "bgcolor": "rgb(17,17,17)",
           "caxis": {
            "gridcolor": "#506784",
            "linecolor": "#506784",
            "ticks": ""
           }
          },
          "title": {
           "x": 0.05
          },
          "updatemenudefaults": {
           "bgcolor": "#506784",
           "borderwidth": 0
          },
          "xaxis": {
           "automargin": true,
           "gridcolor": "#283442",
           "linecolor": "#506784",
           "ticks": "",
           "title": {
            "standoff": 15
           },
           "zerolinecolor": "#283442",
           "zerolinewidth": 2
          },
          "yaxis": {
           "automargin": true,
           "gridcolor": "#283442",
           "linecolor": "#506784",
           "ticks": "",
           "title": {
            "standoff": 15
           },
           "zerolinecolor": "#283442",
           "zerolinewidth": 2
          }
         }
        },
        "title": {
         "text": "Total Funds Raised by Category"
        },
        "width": 800,
        "xaxis": {
         "anchor": "y",
         "domain": [
          0,
          1
         ],
         "title": {
          "text": ""
         }
        },
        "yaxis": {
         "anchor": "x",
         "categoryorder": "total ascending",
         "domain": [
          0,
          1
         ],
         "showgrid": false,
         "showticklabels": true,
         "title": {
          "text": "y"
         },
         "zeroline": false
        }
       }
      }
     },
     "metadata": {},
     "output_type": "display_data"
    }
   ],
   "source": [
    "fig = px.bar(raised_cat[raised_cat.index != '--'],\n",
    "                y=raised_cat[raised_cat.index != '--'].index,\n",
    "                x='sum',\n",
    "                color='sum',\n",
    "                title='Total Funds Raised by Category',\n",
    "                labels={'sum': 'Total Funds Raised', 'index': 'Category'},\n",
    "                text_auto=True)\n",
    "\n",
    "fig.update_traces(textfont_size=12, \n",
    "                  textangle=0, \n",
    "                  textposition=\"outside\", \n",
    "                  cliponaxis=False,\n",
    "                #   hovertemplate='%{y:.3f} B',)\n",
    "                  texttemplate='%{x:.3f} B')\n",
    "fig.update_yaxes(showgrid=False, zeroline=False, showticklabels=True)\n",
    "fig.update_xaxes(title='')\n",
    "fig.update_layout(coloraxis_showscale=False,\n",
    "                  yaxis={'categoryorder':'total ascending'},\n",
    "                  autosize=False, width=800, height=500,\n",
    "                  margin=dict(l=0, r=50, t=50, b=0))\n",
    "fig.show()"
   ]
  }
 ],
 "metadata": {
  "kernelspec": {
   "display_name": "dscience",
   "language": "python",
   "name": "python3"
  },
  "language_info": {
   "codemirror_mode": {
    "name": "ipython",
    "version": 3
   },
   "file_extension": ".py",
   "mimetype": "text/x-python",
   "name": "python",
   "nbconvert_exporter": "python",
   "pygments_lexer": "ipython3",
   "version": "3.10.12"
  }
 },
 "nbformat": 4,
 "nbformat_minor": 2
}
